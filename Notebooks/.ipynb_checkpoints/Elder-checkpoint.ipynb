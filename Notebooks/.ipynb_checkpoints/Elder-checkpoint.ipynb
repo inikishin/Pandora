{
 "cells": [
  {
   "cell_type": "code",
   "execution_count": 56,
   "metadata": {},
   "outputs": [],
   "source": [
    "# Initiation\n",
    "\n",
    "import pandas as pd\n",
    "import numpy as np\n",
    "import talib as ta\n",
    "from plotly.subplots import make_subplots\n",
    "import plotly.graph_objects as go\n",
    "\n",
    "#%matplotlib notebook\n",
    "\n",
    "def DIVERGENCE(high, low, ind, short_range, long_range):\n",
    "    d = pd.DataFrame()\n",
    "    d['high'] = high\n",
    "    d['low'] = low\n",
    "    d['ind'] = ind\n",
    "    d['high_' + str(short_range) + '_max'] = 0.0\n",
    "    d['high_' + str(long_range) + '_max'] = 0.0\n",
    "    d['low_' + str(short_range) + '_min'] = 0.0\n",
    "    d['low_' + str(long_range) + '_min'] = 0.0\n",
    "    d['ind_' + str(short_range) + '_max'] = 0.0\n",
    "    d['ind_' + str(short_range) + '_min'] = 0.0\n",
    "    d['ind_' + str(long_range) + '_max'] = 0.0\n",
    "    d['ind_' + str(long_range) + '_min'] = 0.0\n",
    "    d['ind_div'] = 0\n",
    "    \n",
    "    i = 0\n",
    "    for index, row in d.iterrows():\n",
    "        d.iloc[i, 3] = d['high'][i-short_range+1:i+1].max()\n",
    "        d.iloc[i, 4] = d['high'][i-long_range+1:i+1].max()\n",
    "        d.iloc[i, 5] = d['low'][i-short_range+1:i+1].min()\n",
    "        d.iloc[i, 6] = d['low'][i-long_range+1:i+1].min()\n",
    "        d.iloc[i, 7] = d['ind'][i-short_range+1:i+1].max()\n",
    "        d.iloc[i, 8] = d['ind'][i-short_range+1:i+1].min()\n",
    "        d.iloc[i, 9] = d['ind'][i-long_range+1:i+1].max()\n",
    "        d.iloc[i, 10] = d['ind'][i-long_range+1:i+1].min()\n",
    "        \n",
    "        if d.iloc[i, 3] == d.iloc[i, 4] and d.iloc[i, 7] < d.iloc[i, 9]:\n",
    "            d.iloc[i, 11] = -100\n",
    "        elif d.iloc[i, 5] == d.iloc[i, 6] and d.iloc[i, 8] > d.iloc[i, 10]:\n",
    "            d.iloc[i, 11] = 100\n",
    "        else:\n",
    "            d.iloc[i, 11] = 0\n",
    "        i += 1\n",
    "        \n",
    "    return d.ind_div\n",
    "\n",
    "def DIVBAR(high, low, close):\n",
    "    d = pd.DataFrame()\n",
    "    d['high'] = high\n",
    "    d['low'] = low\n",
    "    d['close'] = close\n",
    "    d['high_3_max'] = 0.0\n",
    "    d['low_3_min'] = 0.0\n",
    "    d['divbar'] = 0\n",
    "    \n",
    "    i = 0\n",
    "    for index, row in d.iterrows():\n",
    "        d.iloc[i, 3] = d['high'][i-3+1:i+1].max()\n",
    "        d.iloc[i, 4] = d['low'][i-3+1:i+1].min()\n",
    "        if d.iloc[i, 3] == d.iloc[i, 0] and (d.iloc[i, 2] < ((d.iloc[i, 0]-d.iloc[i, 1])/3+d.iloc[i, 1])):\n",
    "            d.iloc[i, 5] = -100\n",
    "        if d.iloc[i, 4] == d.iloc[i, 1] and (d.iloc[i, 2] > (d.iloc[i, 0] - (d.iloc[i, 0]-d.iloc[i, 1])/3)):\n",
    "            d.iloc[i, 5] = 100\n",
    "        i += 1\n",
    "    return d.divbar\n",
    "\n",
    "def BBTouch(bbUp, bbDown, high, low, perc):\n",
    "    d = pd.DataFrame()\n",
    "    d['bbUp'] = bbUp\n",
    "    d['bbDown'] = bbDown\n",
    "    d['high'] = high\n",
    "    d['low'] = low\n",
    "    \n",
    "    d['upBorder'] = d.bbUp - (d.bbUp - d.bbDown) * perc\n",
    "    d['downBorder'] = (d.bbUp - d.bbDown) * perc + d.bbDown\n",
    "    \n",
    "    d['upTouch'] = np.where(d['high'] > d['upBorder'], -1, 0)\n",
    "    d['downTouch'] = np.where(d['low'] < d['downBorder'], 1, 0)\n",
    "    \n",
    "    return d['upTouch'] + d['downTouch']\n",
    "    \n",
    "def PrcntChng(close, n):\n",
    "    d = pd.DataFrame()\n",
    "    d['close'] = close\n",
    "    d['prcntChng'] = 0\n",
    "    \n",
    "    i = 0\n",
    "    for index, row in d.iterrows():\n",
    "        d.iloc[i, 1] = d['close'][i] / d['close'][i-n] - 1\n",
    "        i += 1\n",
    "        \n",
    "    return d.prcntChng\n",
    "\n",
    "def OverZonesInd(ind, overB, overS):\n",
    "    if ind > overB:\n",
    "        return -1\n",
    "    elif ind < overS:\n",
    "        return 1\n",
    "    else:\n",
    "        return 0\n",
    "    \n",
    "def RegAngle(data, reg_n):\n",
    "    d = pd.DataFrame()\n",
    "    d['data'] = data\n",
    "    d['angle'] = 0\n",
    "    \n",
    "    i = 0\n",
    "    for index, row in d.iterrows():\n",
    "        if i < reg_n + 1:\n",
    "            d.iloc[i, 1] = 0\n",
    "        else:\n",
    "            z = np.polyfit(range(reg_n), d['data'][i-reg_n+1:i+1], 1)\n",
    "            p = np.poly1d(z)\n",
    "            data_reg = p(range(reg_n))\n",
    "            reg_Angle = np.rad2deg(np.arctan2(data_reg[-1] - data_reg[1], len(data_reg) - 1))\n",
    "            d.iloc[i, 1] = reg_Angle\n",
    "        i += 1\n",
    "        \n",
    "    return d.angle\n",
    "\n",
    "def RegAngleLine(data, reg_n):\n",
    "    z = np.polyfit(range(reg_n), data[-reg_n:], 1)\n",
    "    p = np.poly1d(z)\n",
    "    downsampled_reg = p(range(reg_n))\n",
    "    downsampled_ugol_reg = np.rad2deg(np.arctan2(downsampled_reg[-1] - downsampled_reg[1], len(downsampled_reg) - 1))\n",
    "    return downsampled_reg, downsampled_ugol_reg\n",
    "    \n",
    "def LinRegInterpreter(ugol):\n",
    "    if ugol > 45:\n",
    "        return 2\n",
    "    elif ugol > 5:\n",
    "        return 1\n",
    "    elif ugol < -45:\n",
    "        return -2\n",
    "    elif ugol < -5:\n",
    "        return -1\n",
    "    else:\n",
    "        return 0\n",
    "    \n",
    "def UpperTimeFrameCondition(downsampled_ugol_reg, MACD, MACDchg, MA_fast_price_pos, MA_fast_slow_pos):\n",
    "    d = pd.DataFrame()\n",
    "    d['downsampled_ugol_reg'] = downsampled_ugol_reg\n",
    "    d['MACD'] = MACD\n",
    "    d['MACDchg'] = MACDchg\n",
    "    d['MA_fast_price_pos'] = MA_fast_price_pos\n",
    "    d['MA_fast_slow_pos'] = MA_fast_slow_pos\n",
    "    d['UpperTimeFrameCondition'] = 0\n",
    "    \n",
    "    i = 0\n",
    "    for index, row in d.iterrows():\n",
    "        if LinRegInterpreter(d.iloc[i, 0]) == 2 and d.iloc[i, 1] > 0 and d.iloc[i, 2] == 1 and d.iloc[i, 3] == 1 and d.iloc[i, 4] == 1:\n",
    "            d.iloc[i, 5] = 2\n",
    "        elif LinRegInterpreter(d.iloc[i, 0]) == -2 and d.iloc[i, 1] < 0 and d.iloc[i, 2] == 0 and d.iloc[i, 3] == 0 and d.iloc[i, 4] == 0:\n",
    "            d.iloc[i, 5] = -2       \n",
    "        elif LinRegInterpreter(d.iloc[i, 0]) > 0 and d.iloc[i, 4] == 1:\n",
    "            d.iloc[i, 5] = 1\n",
    "        elif LinRegInterpreter(d.iloc[i, 0]) < 0 and d.iloc[i, 4] == 0:\n",
    "            d.iloc[i, 5] = -1\n",
    "        else:\n",
    "            d.iloc[i, 5] = 0\n",
    "        i += 1\n",
    "        \n",
    "    return d.UpperTimeFrameCondition"
   ]
  },
  {
   "cell_type": "markdown",
   "metadata": {},
   "source": [
    "## Загружаем данные по тикеру и проверяем их на консистентность"
   ]
  },
  {
   "cell_type": "code",
   "execution_count": 58,
   "metadata": {},
   "outputs": [
    {
     "name": "stdout",
     "output_type": "stream",
     "text": [
      "2013-03-25 00:00:00\n",
      "2020-05-08 00:00:00\n",
      "1794\n",
      "open     0\n",
      "low      0\n",
      "high     0\n",
      "close    0\n",
      "vol      0\n",
      "dtype: int64\n"
     ]
    },
    {
     "data": {
      "text/html": [
       "<div>\n",
       "<style scoped>\n",
       "    .dataframe tbody tr th:only-of-type {\n",
       "        vertical-align: middle;\n",
       "    }\n",
       "\n",
       "    .dataframe tbody tr th {\n",
       "        vertical-align: top;\n",
       "    }\n",
       "\n",
       "    .dataframe thead th {\n",
       "        text-align: right;\n",
       "    }\n",
       "</style>\n",
       "<table border=\"1\" class=\"dataframe\">\n",
       "  <thead>\n",
       "    <tr style=\"text-align: right;\">\n",
       "      <th></th>\n",
       "      <th>open</th>\n",
       "      <th>low</th>\n",
       "      <th>high</th>\n",
       "      <th>close</th>\n",
       "      <th>vol</th>\n",
       "    </tr>\n",
       "    <tr>\n",
       "      <th>date_time</th>\n",
       "      <th></th>\n",
       "      <th></th>\n",
       "      <th></th>\n",
       "      <th></th>\n",
       "      <th></th>\n",
       "    </tr>\n",
       "  </thead>\n",
       "  <tbody>\n",
       "    <tr>\n",
       "      <td>2013-03-25</td>\n",
       "      <td>96.00</td>\n",
       "      <td>96.00</td>\n",
       "      <td>101.14</td>\n",
       "      <td>98.79</td>\n",
       "      <td>593680</td>\n",
       "    </tr>\n",
       "    <tr>\n",
       "      <td>2013-03-26</td>\n",
       "      <td>98.58</td>\n",
       "      <td>97.08</td>\n",
       "      <td>99.31</td>\n",
       "      <td>97.20</td>\n",
       "      <td>1283550</td>\n",
       "    </tr>\n",
       "    <tr>\n",
       "      <td>2013-03-27</td>\n",
       "      <td>97.90</td>\n",
       "      <td>95.39</td>\n",
       "      <td>98.00</td>\n",
       "      <td>96.75</td>\n",
       "      <td>1261950</td>\n",
       "    </tr>\n",
       "    <tr>\n",
       "      <td>2013-03-28</td>\n",
       "      <td>96.38</td>\n",
       "      <td>95.72</td>\n",
       "      <td>98.66</td>\n",
       "      <td>98.59</td>\n",
       "      <td>1971410</td>\n",
       "    </tr>\n",
       "    <tr>\n",
       "      <td>2013-03-29</td>\n",
       "      <td>98.60</td>\n",
       "      <td>98.32</td>\n",
       "      <td>99.09</td>\n",
       "      <td>98.76</td>\n",
       "      <td>782000</td>\n",
       "    </tr>\n",
       "  </tbody>\n",
       "</table>\n",
       "</div>"
      ],
      "text/plain": [
       "             open    low    high  close      vol\n",
       "date_time                                       \n",
       "2013-03-25  96.00  96.00  101.14  98.79   593680\n",
       "2013-03-26  98.58  97.08   99.31  97.20  1283550\n",
       "2013-03-27  97.90  95.39   98.00  96.75  1261950\n",
       "2013-03-28  96.38  95.72   98.66  98.59  1971410\n",
       "2013-03-29  98.60  98.32   99.09  98.76   782000"
      ]
     },
     "execution_count": 58,
     "metadata": {},
     "output_type": "execute_result"
    },
    {
     "data": {
      "image/png": "[encoded data removed]",
      "text/plain": [
       "<Figure size 432x288 with 1 Axes>"
      ]
     },
     "metadata": {
      "needs_background": "light"
     },
     "output_type": "display_data"
    }
   ],
   "source": [
    "#ticker = 'MOEX'\n",
    "#ticker = 'GAZP'\n",
    "ticker = 'SBER'\n",
    "df = pd.read_csv('./data/' + ticker + '_data.csv')\n",
    "df.drop(labels=['Unnamed: 0', 'SHORTNAME', 'SECID', 'BOARDID', 'NUMTRADES', 'VALUE', 'LEGALCLOSEPRICE', 'WAPRICE', 'MARKETPRICE2', 'MARKETPRICE3', 'ADMITTEDQUOTE', 'MP2VALTRD', 'MARKETPRICE3TRADESVALUE', 'ADMITTEDVALUE', 'WAVAL'], axis=1, inplace=True)\n",
    "df['TRADEDATE'] = pd.to_datetime(df.TRADEDATE)\n",
    "df.columns = ['date_time', 'open', 'low', 'high', 'close', 'vol' ]\n",
    "df = df.set_index('date_time')\n",
    "print(df.index.min())\n",
    "print(df.index.max())\n",
    "print(len(df))\n",
    "print(df.isna().sum())\n",
    "df.plot(y='close')\n",
    "df.head()"
   ]
  },
  {
   "cell_type": "markdown",
   "metadata": {},
   "source": [
    "## Делаем ресемпл данных для большего таймфрейма"
   ]
  },
  {
   "cell_type": "code",
   "execution_count": 4,
   "metadata": {},
   "outputs": [
    {
     "name": "stdout",
     "output_type": "stream",
     "text": [
      "2013-03-31 00:00:00\n",
      "2020-05-10 00:00:00\n",
      "372\n",
      "open     0\n",
      "high     0\n",
      "low      0\n",
      "close    0\n",
      "vol      0\n",
      "dtype: int64\n"
     ]
    },
    {
     "data": {
      "text/html": [
       "<div>\n",
       "<style scoped>\n",
       "    .dataframe tbody tr th:only-of-type {\n",
       "        vertical-align: middle;\n",
       "    }\n",
       "\n",
       "    .dataframe tbody tr th {\n",
       "        vertical-align: top;\n",
       "    }\n",
       "\n",
       "    .dataframe thead th {\n",
       "        text-align: right;\n",
       "    }\n",
       "</style>\n",
       "<table border=\"1\" class=\"dataframe\">\n",
       "  <thead>\n",
       "    <tr style=\"text-align: right;\">\n",
       "      <th></th>\n",
       "      <th>open</th>\n",
       "      <th>high</th>\n",
       "      <th>low</th>\n",
       "      <th>close</th>\n",
       "      <th>vol</th>\n",
       "    </tr>\n",
       "    <tr>\n",
       "      <th>date_time</th>\n",
       "      <th></th>\n",
       "      <th></th>\n",
       "      <th></th>\n",
       "      <th></th>\n",
       "      <th></th>\n",
       "    </tr>\n",
       "  </thead>\n",
       "  <tbody>\n",
       "    <tr>\n",
       "      <td>2013-03-31</td>\n",
       "      <td>96.00</td>\n",
       "      <td>101.14</td>\n",
       "      <td>95.39</td>\n",
       "      <td>98.76</td>\n",
       "      <td>5892590</td>\n",
       "    </tr>\n",
       "    <tr>\n",
       "      <td>2013-04-07</td>\n",
       "      <td>98.37</td>\n",
       "      <td>101.13</td>\n",
       "      <td>97.55</td>\n",
       "      <td>99.38</td>\n",
       "      <td>19994050</td>\n",
       "    </tr>\n",
       "    <tr>\n",
       "      <td>2013-04-14</td>\n",
       "      <td>99.97</td>\n",
       "      <td>102.79</td>\n",
       "      <td>98.20</td>\n",
       "      <td>98.34</td>\n",
       "      <td>36606020</td>\n",
       "    </tr>\n",
       "    <tr>\n",
       "      <td>2013-04-21</td>\n",
       "      <td>97.68</td>\n",
       "      <td>97.69</td>\n",
       "      <td>93.72</td>\n",
       "      <td>96.22</td>\n",
       "      <td>52434910</td>\n",
       "    </tr>\n",
       "    <tr>\n",
       "      <td>2013-04-28</td>\n",
       "      <td>97.21</td>\n",
       "      <td>99.35</td>\n",
       "      <td>93.00</td>\n",
       "      <td>95.60</td>\n",
       "      <td>59229060</td>\n",
       "    </tr>\n",
       "  </tbody>\n",
       "</table>\n",
       "</div>"
      ],
      "text/plain": [
       "             open    high    low  close       vol\n",
       "date_time                                        \n",
       "2013-03-31  96.00  101.14  95.39  98.76   5892590\n",
       "2013-04-07  98.37  101.13  97.55  99.38  19994050\n",
       "2013-04-14  99.97  102.79  98.20  98.34  36606020\n",
       "2013-04-21  97.68   97.69  93.72  96.22  52434910\n",
       "2013-04-28  97.21   99.35  93.00  95.60  59229060"
      ]
     },
     "execution_count": 4,
     "metadata": {},
     "output_type": "execute_result"
    },
    {
     "data": {
      "image/png": "[encoded data removed]",
      "text/plain": [
       "<Figure size 432x288 with 1 Axes>"
      ]
     },
     "metadata": {
      "needs_background": "light"
     },
     "output_type": "display_data"
    }
   ],
   "source": [
    "conversion = {\n",
    "    'open' : 'first',\n",
    "    'high' : 'max',\n",
    "    'low'  : 'min',\n",
    "    'close': 'last',\n",
    "    'vol'  : 'sum'\n",
    "}\n",
    "\n",
    "downsampled_df = df.resample('W').apply(conversion)\n",
    "print(downsampled_df.index.min())\n",
    "print(downsampled_df.index.max())\n",
    "print(len(downsampled_df.index))\n",
    "print(downsampled_df.isna().sum())\n",
    "downsampled_df.plot(y='close')\n",
    "downsampled_df.head()"
   ]
  },
  {
   "cell_type": "markdown",
   "metadata": {},
   "source": [
    "Наполняем датасет для технического анализа данными"
   ]
  },
  {
   "cell_type": "code",
   "execution_count": 8,
   "metadata": {},
   "outputs": [
    {
     "data": {
      "text/html": [
       "<div>\n",
       "<style scoped>\n",
       "    .dataframe tbody tr th:only-of-type {\n",
       "        vertical-align: middle;\n",
       "    }\n",
       "\n",
       "    .dataframe tbody tr th {\n",
       "        vertical-align: top;\n",
       "    }\n",
       "\n",
       "    .dataframe thead th {\n",
       "        text-align: right;\n",
       "    }\n",
       "</style>\n",
       "<table border=\"1\" class=\"dataframe\">\n",
       "  <thead>\n",
       "    <tr style=\"text-align: right;\">\n",
       "      <th></th>\n",
       "      <th>open</th>\n",
       "      <th>high</th>\n",
       "      <th>low</th>\n",
       "      <th>close</th>\n",
       "      <th>vol</th>\n",
       "      <th>prcntChng_5</th>\n",
       "      <th>prcntChng_15</th>\n",
       "      <th>regAngle_8</th>\n",
       "      <th>regAngleInterpreter_8</th>\n",
       "      <th>MA_fast</th>\n",
       "      <th>...</th>\n",
       "      <th>MACDchg</th>\n",
       "      <th>MACDdiv</th>\n",
       "      <th>WILLR</th>\n",
       "      <th>WILLRoverZones</th>\n",
       "      <th>WILLRdiv_short</th>\n",
       "      <th>WILLRdiv_long</th>\n",
       "      <th>Hummer</th>\n",
       "      <th>ShootingStar</th>\n",
       "      <th>DivBar</th>\n",
       "      <th>UpperTimeFrameCondition</th>\n",
       "    </tr>\n",
       "    <tr>\n",
       "      <th>date_time</th>\n",
       "      <th></th>\n",
       "      <th></th>\n",
       "      <th></th>\n",
       "      <th></th>\n",
       "      <th></th>\n",
       "      <th></th>\n",
       "      <th></th>\n",
       "      <th></th>\n",
       "      <th></th>\n",
       "      <th></th>\n",
       "      <th></th>\n",
       "      <th></th>\n",
       "      <th></th>\n",
       "      <th></th>\n",
       "      <th></th>\n",
       "      <th></th>\n",
       "      <th></th>\n",
       "      <th></th>\n",
       "      <th></th>\n",
       "      <th></th>\n",
       "      <th></th>\n",
       "    </tr>\n",
       "  </thead>\n",
       "  <tbody>\n",
       "    <tr>\n",
       "      <td>2020-03-08</td>\n",
       "      <td>238.93</td>\n",
       "      <td>241.00</td>\n",
       "      <td>216.67</td>\n",
       "      <td>219.99</td>\n",
       "      <td>401445320</td>\n",
       "      <td>-0.127716</td>\n",
       "      <td>-0.055837</td>\n",
       "      <td>-78.098177</td>\n",
       "      <td>-2</td>\n",
       "      <td>242.152734</td>\n",
       "      <td>...</td>\n",
       "      <td>0</td>\n",
       "      <td>0</td>\n",
       "      <td>-93.866617</td>\n",
       "      <td>1</td>\n",
       "      <td>0</td>\n",
       "      <td>0</td>\n",
       "      <td>0</td>\n",
       "      <td>0</td>\n",
       "      <td>0</td>\n",
       "      <td>-2</td>\n",
       "    </tr>\n",
       "    <tr>\n",
       "      <td>2020-03-15</td>\n",
       "      <td>197.99</td>\n",
       "      <td>212.74</td>\n",
       "      <td>173.14</td>\n",
       "      <td>198.60</td>\n",
       "      <td>843856990</td>\n",
       "      <td>-0.219033</td>\n",
       "      <td>-0.143966</td>\n",
       "      <td>-81.951511</td>\n",
       "      <td>-2</td>\n",
       "      <td>232.474349</td>\n",
       "      <td>...</td>\n",
       "      <td>0</td>\n",
       "      <td>0</td>\n",
       "      <td>-73.929961</td>\n",
       "      <td>0</td>\n",
       "      <td>0</td>\n",
       "      <td>100</td>\n",
       "      <td>0</td>\n",
       "      <td>0</td>\n",
       "      <td>0</td>\n",
       "      <td>-2</td>\n",
       "    </tr>\n",
       "    <tr>\n",
       "      <td>2020-03-22</td>\n",
       "      <td>194.00</td>\n",
       "      <td>204.78</td>\n",
       "      <td>172.15</td>\n",
       "      <td>195.69</td>\n",
       "      <td>871440840</td>\n",
       "      <td>-0.222681</td>\n",
       "      <td>-0.141899</td>\n",
       "      <td>-82.899991</td>\n",
       "      <td>-2</td>\n",
       "      <td>224.300049</td>\n",
       "      <td>...</td>\n",
       "      <td>0</td>\n",
       "      <td>0</td>\n",
       "      <td>-73.829906</td>\n",
       "      <td>0</td>\n",
       "      <td>100</td>\n",
       "      <td>100</td>\n",
       "      <td>0</td>\n",
       "      <td>0</td>\n",
       "      <td>100</td>\n",
       "      <td>-2</td>\n",
       "    </tr>\n",
       "    <tr>\n",
       "      <td>2020-03-29</td>\n",
       "      <td>188.00</td>\n",
       "      <td>201.00</td>\n",
       "      <td>180.17</td>\n",
       "      <td>180.38</td>\n",
       "      <td>676631910</td>\n",
       "      <td>-0.280781</td>\n",
       "      <td>-0.190250</td>\n",
       "      <td>-84.217370</td>\n",
       "      <td>-2</td>\n",
       "      <td>214.540038</td>\n",
       "      <td>...</td>\n",
       "      <td>0</td>\n",
       "      <td>0</td>\n",
       "      <td>-90.607167</td>\n",
       "      <td>1</td>\n",
       "      <td>100</td>\n",
       "      <td>100</td>\n",
       "      <td>0</td>\n",
       "      <td>0</td>\n",
       "      <td>0</td>\n",
       "      <td>-2</td>\n",
       "    </tr>\n",
       "    <tr>\n",
       "      <td>2020-04-05</td>\n",
       "      <td>177.00</td>\n",
       "      <td>189.90</td>\n",
       "      <td>174.90</td>\n",
       "      <td>185.64</td>\n",
       "      <td>503685070</td>\n",
       "      <td>-0.204491</td>\n",
       "      <td>-0.193956</td>\n",
       "      <td>-84.105823</td>\n",
       "      <td>-2</td>\n",
       "      <td>208.117807</td>\n",
       "      <td>...</td>\n",
       "      <td>0</td>\n",
       "      <td>0</td>\n",
       "      <td>-84.603972</td>\n",
       "      <td>1</td>\n",
       "      <td>100</td>\n",
       "      <td>100</td>\n",
       "      <td>0</td>\n",
       "      <td>0</td>\n",
       "      <td>0</td>\n",
       "      <td>-2</td>\n",
       "    </tr>\n",
       "    <tr>\n",
       "      <td>2020-04-12</td>\n",
       "      <td>187.52</td>\n",
       "      <td>205.44</td>\n",
       "      <td>186.42</td>\n",
       "      <td>201.99</td>\n",
       "      <td>443007450</td>\n",
       "      <td>-0.081822</td>\n",
       "      <td>-0.142475</td>\n",
       "      <td>-82.052916</td>\n",
       "      <td>-2</td>\n",
       "      <td>206.756072</td>\n",
       "      <td>...</td>\n",
       "      <td>1</td>\n",
       "      <td>0</td>\n",
       "      <td>-63.137739</td>\n",
       "      <td>0</td>\n",
       "      <td>0</td>\n",
       "      <td>100</td>\n",
       "      <td>0</td>\n",
       "      <td>0</td>\n",
       "      <td>0</td>\n",
       "      <td>-1</td>\n",
       "    </tr>\n",
       "    <tr>\n",
       "      <td>2020-04-19</td>\n",
       "      <td>202.00</td>\n",
       "      <td>202.85</td>\n",
       "      <td>183.53</td>\n",
       "      <td>191.80</td>\n",
       "      <td>400571730</td>\n",
       "      <td>-0.034240</td>\n",
       "      <td>-0.200833</td>\n",
       "      <td>-77.307052</td>\n",
       "      <td>-2</td>\n",
       "      <td>203.432501</td>\n",
       "      <td>...</td>\n",
       "      <td>0</td>\n",
       "      <td>0</td>\n",
       "      <td>-75.145459</td>\n",
       "      <td>0</td>\n",
       "      <td>0</td>\n",
       "      <td>100</td>\n",
       "      <td>0</td>\n",
       "      <td>0</td>\n",
       "      <td>0</td>\n",
       "      <td>-2</td>\n",
       "    </tr>\n",
       "    <tr>\n",
       "      <td>2020-04-26</td>\n",
       "      <td>190.60</td>\n",
       "      <td>192.50</td>\n",
       "      <td>183.65</td>\n",
       "      <td>188.91</td>\n",
       "      <td>349982760</td>\n",
       "      <td>-0.034647</td>\n",
       "      <td>-0.200888</td>\n",
       "      <td>-66.685955</td>\n",
       "      <td>-2</td>\n",
       "      <td>200.205278</td>\n",
       "      <td>...</td>\n",
       "      <td>0</td>\n",
       "      <td>0</td>\n",
       "      <td>-75.657226</td>\n",
       "      <td>0</td>\n",
       "      <td>0</td>\n",
       "      <td>0</td>\n",
       "      <td>0</td>\n",
       "      <td>0</td>\n",
       "      <td>0</td>\n",
       "      <td>-2</td>\n",
       "    </tr>\n",
       "    <tr>\n",
       "      <td>2020-05-03</td>\n",
       "      <td>189.98</td>\n",
       "      <td>199.70</td>\n",
       "      <td>188.17</td>\n",
       "      <td>197.25</td>\n",
       "      <td>279337290</td>\n",
       "      <td>0.093525</td>\n",
       "      <td>-0.178707</td>\n",
       "      <td>4.236826</td>\n",
       "      <td>0</td>\n",
       "      <td>199.548550</td>\n",
       "      <td>...</td>\n",
       "      <td>1</td>\n",
       "      <td>0</td>\n",
       "      <td>-38.162109</td>\n",
       "      <td>0</td>\n",
       "      <td>0</td>\n",
       "      <td>0</td>\n",
       "      <td>0</td>\n",
       "      <td>0</td>\n",
       "      <td>0</td>\n",
       "      <td>0</td>\n",
       "    </tr>\n",
       "    <tr>\n",
       "      <td>2020-05-10</td>\n",
       "      <td>195.68</td>\n",
       "      <td>198.15</td>\n",
       "      <td>193.26</td>\n",
       "      <td>196.02</td>\n",
       "      <td>232964200</td>\n",
       "      <td>0.055915</td>\n",
       "      <td>-0.183250</td>\n",
       "      <td>41.360954</td>\n",
       "      <td>1</td>\n",
       "      <td>198.764428</td>\n",
       "      <td>...</td>\n",
       "      <td>1</td>\n",
       "      <td>0</td>\n",
       "      <td>-28.296786</td>\n",
       "      <td>0</td>\n",
       "      <td>0</td>\n",
       "      <td>0</td>\n",
       "      <td>0</td>\n",
       "      <td>0</td>\n",
       "      <td>0</td>\n",
       "      <td>0</td>\n",
       "    </tr>\n",
       "  </tbody>\n",
       "</table>\n",
       "<p>10 rows × 24 columns</p>\n",
       "</div>"
      ],
      "text/plain": [
       "              open    high     low   close        vol  prcntChng_5  \\\n",
       "date_time                                                            \n",
       "2020-03-08  238.93  241.00  216.67  219.99  401445320    -0.127716   \n",
       "2020-03-15  197.99  212.74  173.14  198.60  843856990    -0.219033   \n",
       "2020-03-22  194.00  204.78  172.15  195.69  871440840    -0.222681   \n",
       "2020-03-29  188.00  201.00  180.17  180.38  676631910    -0.280781   \n",
       "2020-04-05  177.00  189.90  174.90  185.64  503685070    -0.204491   \n",
       "2020-04-12  187.52  205.44  186.42  201.99  443007450    -0.081822   \n",
       "2020-04-19  202.00  202.85  183.53  191.80  400571730    -0.034240   \n",
       "2020-04-26  190.60  192.50  183.65  188.91  349982760    -0.034647   \n",
       "2020-05-03  189.98  199.70  188.17  197.25  279337290     0.093525   \n",
       "2020-05-10  195.68  198.15  193.26  196.02  232964200     0.055915   \n",
       "\n",
       "            prcntChng_15  regAngle_8  regAngleInterpreter_8     MA_fast  ...  \\\n",
       "date_time                                                                ...   \n",
       "2020-03-08     -0.055837  -78.098177                     -2  242.152734  ...   \n",
       "2020-03-15     -0.143966  -81.951511                     -2  232.474349  ...   \n",
       "2020-03-22     -0.141899  -82.899991                     -2  224.300049  ...   \n",
       "2020-03-29     -0.190250  -84.217370                     -2  214.540038  ...   \n",
       "2020-04-05     -0.193956  -84.105823                     -2  208.117807  ...   \n",
       "2020-04-12     -0.142475  -82.052916                     -2  206.756072  ...   \n",
       "2020-04-19     -0.200833  -77.307052                     -2  203.432501  ...   \n",
       "2020-04-26     -0.200888  -66.685955                     -2  200.205278  ...   \n",
       "2020-05-03     -0.178707    4.236826                      0  199.548550  ...   \n",
       "2020-05-10     -0.183250   41.360954                      1  198.764428  ...   \n",
       "\n",
       "            MACDchg  MACDdiv      WILLR  WILLRoverZones  WILLRdiv_short  \\\n",
       "date_time                                                                 \n",
       "2020-03-08        0        0 -93.866617               1               0   \n",
       "2020-03-15        0        0 -73.929961               0               0   \n",
       "2020-03-22        0        0 -73.829906               0             100   \n",
       "2020-03-29        0        0 -90.607167               1             100   \n",
       "2020-04-05        0        0 -84.603972               1             100   \n",
       "2020-04-12        1        0 -63.137739               0               0   \n",
       "2020-04-19        0        0 -75.145459               0               0   \n",
       "2020-04-26        0        0 -75.657226               0               0   \n",
       "2020-05-03        1        0 -38.162109               0               0   \n",
       "2020-05-10        1        0 -28.296786               0               0   \n",
       "\n",
       "            WILLRdiv_long  Hummer  ShootingStar  DivBar  \\\n",
       "date_time                                                 \n",
       "2020-03-08              0       0             0       0   \n",
       "2020-03-15            100       0             0       0   \n",
       "2020-03-22            100       0             0     100   \n",
       "2020-03-29            100       0             0       0   \n",
       "2020-04-05            100       0             0       0   \n",
       "2020-04-12            100       0             0       0   \n",
       "2020-04-19            100       0             0       0   \n",
       "2020-04-26              0       0             0       0   \n",
       "2020-05-03              0       0             0       0   \n",
       "2020-05-10              0       0             0       0   \n",
       "\n",
       "            UpperTimeFrameCondition  \n",
       "date_time                            \n",
       "2020-03-08                       -2  \n",
       "2020-03-15                       -2  \n",
       "2020-03-22                       -2  \n",
       "2020-03-29                       -2  \n",
       "2020-04-05                       -2  \n",
       "2020-04-12                       -1  \n",
       "2020-04-19                       -2  \n",
       "2020-04-26                       -2  \n",
       "2020-05-03                        0  \n",
       "2020-05-10                        0  \n",
       "\n",
       "[10 rows x 24 columns]"
      ]
     },
     "execution_count": 8,
     "metadata": {},
     "output_type": "execute_result"
    }
   ],
   "source": [
    "reg_n = 8\n",
    "\n",
    "downsampled_df['prcntChng_5'] = PrcntChng(downsampled_df.close, 5)\n",
    "downsampled_df['prcntChng_15'] = PrcntChng(downsampled_df.close, 25)\n",
    "\n",
    "downsampled_df['regAngle_8'] = RegAngle(downsampled_df.close, reg_n)\n",
    "downsampled_df['regAngleInterpreter_8'] = downsampled_df['regAngle_8'].apply(LinRegInterpreter)\n",
    "\n",
    "downsampled_df['MA_fast'] = ta.EMA(downsampled_df.close, 8)\n",
    "downsampled_df['MA_slow'] = ta.EMA(downsampled_df.close, 13)\n",
    "downsampled_df['MA_fast_price_pos'] = downsampled_df.close - downsampled_df.MA_fast\n",
    "downsampled_df['MA_fast_price_pos'] = downsampled_df.MA_fast_price_pos.apply(lambda x: 1 if x > 0 else 0)\n",
    "downsampled_df['MA_fast_slow_pos'] = downsampled_df.MA_fast - downsampled_df.MA_slow\n",
    "downsampled_df['MA_fast_slow_pos'] = downsampled_df.MA_fast_slow_pos.apply(lambda x: 1 if x > 0 else 0)\n",
    "\n",
    "downsampled_df['MACD'], _, _ = ta.MACD(downsampled_df.close, fastperiod=5, slowperiod=35, signalperiod=3)\n",
    "downsampled_df['MACDchg'] = downsampled_df['MACD'].shift(1)\n",
    "downsampled_df['MACDchg'] = downsampled_df['MACD'] - downsampled_df['MACDchg']\n",
    "downsampled_df['MACDchg'] = downsampled_df['MACDchg'].apply(lambda x: 1 if x>0 else 0)\n",
    "downsampled_df['MACDdiv'] = DIVERGENCE(downsampled_df.high, downsampled_df.low, downsampled_df.MACD, 3, 8)\n",
    "\n",
    "downsampled_df['WILLR'] = ta.WILLR(downsampled_df.high, downsampled_df.low, downsampled_df.close, timeperiod=8)\n",
    "downsampled_df['WILLRoverZones'] = downsampled_df.WILLR.apply(OverZonesInd, args=[-20, -80])\n",
    "downsampled_df['WILLRdiv_short'] = DIVERGENCE(downsampled_df.high, downsampled_df.low, downsampled_df.WILLR, 3, 8)\n",
    "downsampled_df['WILLRdiv_long'] = DIVERGENCE(downsampled_df.high, downsampled_df.low, downsampled_df.WILLR, 5, 35)\n",
    "\n",
    "downsampled_df['Hummer'] = ta.CDLHAMMER(downsampled_df.open, downsampled_df.high, downsampled_df.low, downsampled_df.close)\n",
    "downsampled_df['ShootingStar'] = ta.CDLSHOOTINGSTAR(downsampled_df.open, downsampled_df.high, downsampled_df.low, downsampled_df.close)\n",
    "downsampled_df['DivBar'] = DIVBAR(downsampled_df.high, downsampled_df.low, downsampled_df.close)\n",
    "\n",
    "downsampled_df['UpperTimeFrameCondition'] = UpperTimeFrameCondition(downsampled_df['regAngle_8'], downsampled_df['MACD'], downsampled_df['MACDchg'], downsampled_df['MA_fast_price_pos'], downsampled_df['MA_fast_slow_pos'])\n",
    "\n",
    "downsampled_df.dropna(inplace=True)\n",
    "research_window = 100 # Число баров для анализа\n",
    "downsampled_df = downsampled_df[-research_window:]\n",
    "downsampled_df.tail(10)"
   ]
  },
  {
   "cell_type": "markdown",
   "metadata": {},
   "source": [
    "Рисуем график"
   ]
  },
  {
   "cell_type": "code",
   "execution_count": 9,
   "metadata": {},
   "outputs": [
    {
     "data": {
      "application/vnd.plotly.v1+json": {
       "config": {
        "plotlyServerURL": "https://plot.ly"
       },
       "data": [
        {
         "close": [
          205.25,
          206.54,
          203.95,
          203.55,
          207.7,
          214.42,
          227.5,
          239.5,
          232.6,
          223.18,
          232.52,
          227,
          226.94,
          234.45,
          233.24,
          248.28,
          238.8,
          238.02,
          238.55,
          242.83,
          237.02,
          232.85,
          230.55,
          220.81,
          220.67,
          215.05,
          219.5,
          224.2,
          229.02,
          233,
          232,
          228.05,
          222.76,
          230.31,
          235.55,
          240,
          236.4,
          240.17,
          240,
          238.13,
          233.98,
          235.14,
          241.21,
          244.71,
          252.06,
          255,
          258.19,
          262.5,
          265.49,
          252.2,
          254.3,
          251.75,
          250.8,
          233.36,
          219.99,
          198.6,
          195.69,
          180.38,
          185.64,
          201.99,
          191.8,
          188.91,
          197.25,
          196.02
         ],
         "high": [
          209.73,
          209,
          207.5,
          206.89,
          212.29,
          219.25,
          227.7,
          247.23,
          242.3,
          237.56,
          233,
          234.34,
          231.45,
          237.4,
          237.47,
          249,
          250.65,
          244.99,
          242.44,
          243.9,
          245.5,
          238.59,
          234.65,
          237.55,
          227.6,
          225.75,
          223.1,
          225.2,
          231.2,
          235.9,
          237.2,
          232.17,
          229.56,
          231.2,
          236.03,
          242.78,
          242.33,
          242.95,
          243.74,
          241.23,
          239.75,
          236.37,
          243.25,
          248.4,
          252.95,
          258.19,
          261.76,
          263.22,
          270.8,
          262.1,
          258,
          259.77,
          253.1,
          251.21,
          241,
          212.74,
          204.78,
          201,
          189.9,
          205.44,
          202.85,
          192.5,
          199.7,
          198.15
         ],
         "low": [
          201.1,
          202.9,
          202.25,
          202.56,
          204.11,
          205.55,
          215.01,
          227.9,
          230.84,
          222.08,
          223.05,
          226.11,
          224.15,
          225.1,
          229.21,
          230.35,
          232.55,
          236.36,
          234.2,
          239.7,
          236.37,
          232.25,
          228.52,
          220.3,
          219.45,
          212.88,
          214.06,
          215.61,
          222.05,
          227.1,
          230.72,
          225.3,
          221.87,
          222.41,
          227,
          234.04,
          232.8,
          236.52,
          235.81,
          235.8,
          231.97,
          229.03,
          234.3,
          240.13,
          244.07,
          250.73,
          251.4,
          254.21,
          261.8,
          252.17,
          248.73,
          251.4,
          247.24,
          231,
          216.67,
          173.14,
          172.15,
          180.17,
          174.9,
          186.42,
          183.53,
          183.65,
          188.17,
          193.26
         ],
         "name": "SBER",
         "open": [
          208.83,
          205.5,
          207,
          203.2,
          204.25,
          206.63,
          215.05,
          227.93,
          240.35,
          233.7,
          223.7,
          228.75,
          226.51,
          228.23,
          235.28,
          231.18,
          249.55,
          239,
          239.06,
          240.98,
          242.13,
          237.9,
          233,
          230.75,
          219.72,
          222.38,
          217,
          217.5,
          224.1,
          229.88,
          235,
          231.7,
          228.5,
          223.13,
          230.29,
          236,
          240.5,
          239.6,
          239,
          240.57,
          238.68,
          234.59,
          235.5,
          242.48,
          244.71,
          252.1,
          254.75,
          258.3,
          263.2,
          261,
          251.8,
          254.55,
          252.5,
          247.98,
          238.93,
          197.99,
          194,
          188,
          177,
          187.52,
          202,
          190.6,
          189.98,
          195.68
         ],
         "type": "candlestick",
         "x": [
          "2019-02-24T00:00:00",
          "2019-03-03T00:00:00",
          "2019-03-10T00:00:00",
          "2019-03-17T00:00:00",
          "2019-03-24T00:00:00",
          "2019-03-31T00:00:00",
          "2019-04-07T00:00:00",
          "2019-04-14T00:00:00",
          "2019-04-21T00:00:00",
          "2019-04-28T00:00:00",
          "2019-05-05T00:00:00",
          "2019-05-12T00:00:00",
          "2019-05-19T00:00:00",
          "2019-05-26T00:00:00",
          "2019-06-02T00:00:00",
          "2019-06-09T00:00:00",
          "2019-06-16T00:00:00",
          "2019-06-23T00:00:00",
          "2019-06-30T00:00:00",
          "2019-07-07T00:00:00",
          "2019-07-14T00:00:00",
          "2019-07-21T00:00:00",
          "2019-07-28T00:00:00",
          "2019-08-04T00:00:00",
          "2019-08-11T00:00:00",
          "2019-08-18T00:00:00",
          "2019-08-25T00:00:00",
          "2019-09-01T00:00:00",
          "2019-09-08T00:00:00",
          "2019-09-15T00:00:00",
          "2019-09-22T00:00:00",
          "2019-09-29T00:00:00",
          "2019-10-06T00:00:00",
          "2019-10-13T00:00:00",
          "2019-10-20T00:00:00",
          "2019-10-27T00:00:00",
          "2019-11-03T00:00:00",
          "2019-11-10T00:00:00",
          "2019-11-17T00:00:00",
          "2019-11-24T00:00:00",
          "2019-12-01T00:00:00",
          "2019-12-08T00:00:00",
          "2019-12-15T00:00:00",
          "2019-12-22T00:00:00",
          "2019-12-29T00:00:00",
          "2020-01-05T00:00:00",
          "2020-01-12T00:00:00",
          "2020-01-19T00:00:00",
          "2020-01-26T00:00:00",
          "2020-02-02T00:00:00",
          "2020-02-09T00:00:00",
          "2020-02-16T00:00:00",
          "2020-02-23T00:00:00",
          "2020-03-01T00:00:00",
          "2020-03-08T00:00:00",
          "2020-03-15T00:00:00",
          "2020-03-22T00:00:00",
          "2020-03-29T00:00:00",
          "2020-04-05T00:00:00",
          "2020-04-12T00:00:00",
          "2020-04-19T00:00:00",
          "2020-04-26T00:00:00",
          "2020-05-03T00:00:00",
          "2020-05-10T00:00:00"
         ],
         "xaxis": "x",
         "yaxis": "y"
        },
        {
         "line": {
          "color": "red"
         },
         "name": "MA_fast",
         "opacity": 1,
         "type": "scatter",
         "x": [
          "2019-02-24T00:00:00",
          "2019-03-03T00:00:00",
          "2019-03-10T00:00:00",
          "2019-03-17T00:00:00",
          "2019-03-24T00:00:00",
          "2019-03-31T00:00:00",
          "2019-04-07T00:00:00",
          "2019-04-14T00:00:00",
          "2019-04-21T00:00:00",
          "2019-04-28T00:00:00",
          "2019-05-05T00:00:00",
          "2019-05-12T00:00:00",
          "2019-05-19T00:00:00",
          "2019-05-26T00:00:00",
          "2019-06-02T00:00:00",
          "2019-06-09T00:00:00",
          "2019-06-16T00:00:00",
          "2019-06-23T00:00:00",
          "2019-06-30T00:00:00",
          "2019-07-07T00:00:00",
          "2019-07-14T00:00:00",
          "2019-07-21T00:00:00",
          "2019-07-28T00:00:00",
          "2019-08-04T00:00:00",
          "2019-08-11T00:00:00",
          "2019-08-18T00:00:00",
          "2019-08-25T00:00:00",
          "2019-09-01T00:00:00",
          "2019-09-08T00:00:00",
          "2019-09-15T00:00:00",
          "2019-09-22T00:00:00",
          "2019-09-29T00:00:00",
          "2019-10-06T00:00:00",
          "2019-10-13T00:00:00",
          "2019-10-20T00:00:00",
          "2019-10-27T00:00:00",
          "2019-11-03T00:00:00",
          "2019-11-10T00:00:00",
          "2019-11-17T00:00:00",
          "2019-11-24T00:00:00",
          "2019-12-01T00:00:00",
          "2019-12-08T00:00:00",
          "2019-12-15T00:00:00",
          "2019-12-22T00:00:00",
          "2019-12-29T00:00:00",
          "2020-01-05T00:00:00",
          "2020-01-12T00:00:00",
          "2020-01-19T00:00:00",
          "2020-01-26T00:00:00",
          "2020-02-02T00:00:00",
          "2020-02-09T00:00:00",
          "2020-02-16T00:00:00",
          "2020-02-23T00:00:00",
          "2020-03-01T00:00:00",
          "2020-03-08T00:00:00",
          "2020-03-15T00:00:00",
          "2020-03-22T00:00:00",
          "2020-03-29T00:00:00",
          "2020-04-05T00:00:00",
          "2020-04-12T00:00:00",
          "2020-04-19T00:00:00",
          "2020-04-26T00:00:00",
          "2020-05-03T00:00:00",
          "2020-05-10T00:00:00"
         ],
         "xaxis": "x",
         "y": [
          205.29877356783237,
          205.57460166386963,
          205.2135790718986,
          204.84389483369893,
          205.47858487065471,
          207.4655660105092,
          211.91766245261826,
          218.04707079648088,
          221.28105506392959,
          221.70304282750078,
          224.10681108805616,
          224.749741957377,
          225.23646596684878,
          227.2839179742157,
          228.60749175772332,
          232.97916025600702,
          234.27268019911656,
          235.10541793264622,
          235.8708806142804,
          237.41735158888474,
          237.32905123579926,
          236.33370651673275,
          235.04843840190324,
          231.88434097925807,
          229.3922652060896,
          226.2050951602919,
          224.71507401356038,
          224.60061312165809,
          225.58269909462297,
          227.23098818470675,
          228.29076858810524,
          228.2372644574152,
          227.0200945779896,
          227.7511846717697,
          229.48425474470977,
          231.82108702366315,
          232.8386232406269,
          234.46781807604313,
          235.69719183692243,
          236.23781587316188,
          235.73607901245924,
          235.6036170096905,
          236.84947989642595,
          238.59626214166462,
          241.58820388796138,
          244.56860302396996,
          247.5955801297544,
          250.90767343425344,
          254.1481904488638,
          253.7152592380052,
          253.8452016295596,
          253.37960126743525,
          252.80635654133852,
          248.48494397659664,
          242.15273420401962,
          232.47434882534859,
          224.30004908638224,
          214.5400381782973,
          208.117807472009,
          206.7560724782292,
          203.4325008164005,
          200.20527841275594,
          199.54854987658797,
          198.76442768179064
         ],
         "yaxis": "y"
        },
        {
         "line": {
          "color": "blue"
         },
         "name": "MA_slow",
         "opacity": 1,
         "type": "scatter",
         "x": [
          "2019-02-24T00:00:00",
          "2019-03-03T00:00:00",
          "2019-03-10T00:00:00",
          "2019-03-17T00:00:00",
          "2019-03-24T00:00:00",
          "2019-03-31T00:00:00",
          "2019-04-07T00:00:00",
          "2019-04-14T00:00:00",
          "2019-04-21T00:00:00",
          "2019-04-28T00:00:00",
          "2019-05-05T00:00:00",
          "2019-05-12T00:00:00",
          "2019-05-19T00:00:00",
          "2019-05-26T00:00:00",
          "2019-06-02T00:00:00",
          "2019-06-09T00:00:00",
          "2019-06-16T00:00:00",
          "2019-06-23T00:00:00",
          "2019-06-30T00:00:00",
          "2019-07-07T00:00:00",
          "2019-07-14T00:00:00",
          "2019-07-21T00:00:00",
          "2019-07-28T00:00:00",
          "2019-08-04T00:00:00",
          "2019-08-11T00:00:00",
          "2019-08-18T00:00:00",
          "2019-08-25T00:00:00",
          "2019-09-01T00:00:00",
          "2019-09-08T00:00:00",
          "2019-09-15T00:00:00",
          "2019-09-22T00:00:00",
          "2019-09-29T00:00:00",
          "2019-10-06T00:00:00",
          "2019-10-13T00:00:00",
          "2019-10-20T00:00:00",
          "2019-10-27T00:00:00",
          "2019-11-03T00:00:00",
          "2019-11-10T00:00:00",
          "2019-11-17T00:00:00",
          "2019-11-24T00:00:00",
          "2019-12-01T00:00:00",
          "2019-12-08T00:00:00",
          "2019-12-15T00:00:00",
          "2019-12-22T00:00:00",
          "2019-12-29T00:00:00",
          "2020-01-05T00:00:00",
          "2020-01-12T00:00:00",
          "2020-01-19T00:00:00",
          "2020-01-26T00:00:00",
          "2020-02-02T00:00:00",
          "2020-02-09T00:00:00",
          "2020-02-16T00:00:00",
          "2020-02-23T00:00:00",
          "2020-03-01T00:00:00",
          "2020-03-08T00:00:00",
          "2020-03-15T00:00:00",
          "2020-03-22T00:00:00",
          "2020-03-29T00:00:00",
          "2020-04-05T00:00:00",
          "2020-04-12T00:00:00",
          "2020-04-19T00:00:00",
          "2020-04-26T00:00:00",
          "2020-05-03T00:00:00",
          "2020-05-10T00:00:00"
         ],
         "xaxis": "x",
         "y": [
          202.6757610204923,
          203.22779516042198,
          203.3309672803617,
          203.36225766888145,
          203.98193514475554,
          205.4730872669333,
          208.61978908594284,
          213.031247787951,
          215.8267838182437,
          216.87724327278033,
          219.11192280524028,
          220.23879097592024,
          221.19610655078878,
          223.0895199006761,
          224.5395884862938,
          227.9310758453947,
          229.4837792960526,
          230.7032393966165,
          231.82420519709987,
          233.3964615975142,
          233.91410994072646,
          233.7620942349084,
          233.3032236299215,
          231.51847739707557,
          229.96869491177907,
          227.83745278152492,
          226.64638809844993,
          226.29690408438566,
          226.68591778661627,
          227.58792953138538,
          228.21822531261606,
          228.19419312509947,
          227.41787982151382,
          227.83103984701185,
          228.9337484402959,
          230.5146415202536,
          231.35540701736022,
          232.61463458630877,
          233.66968678826467,
          234.30687438994116,
          234.260178048521,
          234.38586689873227,
          235.36074305605624,
          236.69635119090535,
          238.89115816363315,
          241.19242128311413,
          243.62064681409782,
          246.3176972692267,
          249.05659765933717,
          249.50565513657472,
          250.19056154563546,
          250.41333846768754,
          250.46857582944645,
          248.02449356809697,
          244.0195659155117,
          237.53105649901002,
          231.55376271343715,
          224.24322518294613,
          218.72847872823954,
          216.33726748134816,
          212.83194355544128,
          209.4145230475211,
          207.67673404073238,
          206.01148632062777
         ],
         "yaxis": "y"
        },
        {
         "line": {
          "color": "green"
         },
         "name": "Reg_line: 41.0 deg",
         "opacity": 1,
         "type": "scatter",
         "x": [
          "2020-03-22T00:00:00",
          "2020-03-29T00:00:00",
          "2020-04-05T00:00:00",
          "2020-04-12T00:00:00",
          "2020-04-19T00:00:00",
          "2020-04-26T00:00:00",
          "2020-05-03T00:00:00",
          "2020-05-10T00:00:00"
         ],
         "xaxis": "x",
         "y": [
          188.615,
          189.64214285714286,
          190.6692857142857,
          191.69642857142856,
          192.7235714285714,
          193.75071428571425,
          194.7778571428571,
          195.80499999999995
         ],
         "yaxis": "y"
        },
        {
         "name": "MACD",
         "type": "bar",
         "x": [
          "2019-02-24T00:00:00",
          "2019-03-03T00:00:00",
          "2019-03-10T00:00:00",
          "2019-03-17T00:00:00",
          "2019-03-24T00:00:00",
          "2019-03-31T00:00:00",
          "2019-04-07T00:00:00",
          "2019-04-14T00:00:00",
          "2019-04-21T00:00:00",
          "2019-04-28T00:00:00",
          "2019-05-05T00:00:00",
          "2019-05-12T00:00:00",
          "2019-05-19T00:00:00",
          "2019-05-26T00:00:00",
          "2019-06-02T00:00:00",
          "2019-06-09T00:00:00",
          "2019-06-16T00:00:00",
          "2019-06-23T00:00:00",
          "2019-06-30T00:00:00",
          "2019-07-07T00:00:00",
          "2019-07-14T00:00:00",
          "2019-07-21T00:00:00",
          "2019-07-28T00:00:00",
          "2019-08-04T00:00:00",
          "2019-08-11T00:00:00",
          "2019-08-18T00:00:00",
          "2019-08-25T00:00:00",
          "2019-09-01T00:00:00",
          "2019-09-08T00:00:00",
          "2019-09-15T00:00:00",
          "2019-09-22T00:00:00",
          "2019-09-29T00:00:00",
          "2019-10-06T00:00:00",
          "2019-10-13T00:00:00",
          "2019-10-20T00:00:00",
          "2019-10-27T00:00:00",
          "2019-11-03T00:00:00",
          "2019-11-10T00:00:00",
          "2019-11-17T00:00:00",
          "2019-11-24T00:00:00",
          "2019-12-01T00:00:00",
          "2019-12-08T00:00:00",
          "2019-12-15T00:00:00",
          "2019-12-22T00:00:00",
          "2019-12-29T00:00:00",
          "2020-01-05T00:00:00",
          "2020-01-12T00:00:00",
          "2020-01-19T00:00:00",
          "2020-01-26T00:00:00",
          "2020-02-02T00:00:00",
          "2020-02-09T00:00:00",
          "2020-02-16T00:00:00",
          "2020-02-23T00:00:00",
          "2020-03-01T00:00:00",
          "2020-03-08T00:00:00",
          "2020-03-15T00:00:00",
          "2020-03-22T00:00:00",
          "2020-03-29T00:00:00",
          "2020-04-05T00:00:00",
          "2020-04-12T00:00:00",
          "2020-04-19T00:00:00",
          "2020-04-26T00:00:00",
          "2020-05-03T00:00:00",
          "2020-05-10T00:00:00"
         ],
         "xaxis": "x2",
         "y": [
          8.686259259259202,
          7.954985596707758,
          6.627795038865969,
          5.558308483208805,
          5.934774198476362,
          7.928571608117494,
          12.670433465889374,
          18.75474586771074,
          20.321632456492495,
          18.315197485420043,
          19.307160698348127,
          18.040856782444536,
          16.892797709793314,
          17.943227224979694,
          17.936215674819636,
          21.777426630740706,
          21.159347850566206,
          20.161680695445853,
          19.30737765897291,
          19.600828012694166,
          17.808725864802113,
          15.192240700114468,
          12.624597435309028,
          8.068588760518395,
          5.011683506751723,
          1.4330453190698904,
          0.3894019172133767,
          1.0306375175775315,
          2.7541814600739087,
          4.89392798942211,
          5.872769730318737,
          5.283100275877388,
          3.3445472809350747,
          4.159263038176306,
          6.050764384621232,
          8.36576959563061,
          8.668443810050775,
          9.745711948573614,
          10.19629351822553,
          9.771728330261453,
          8.17067379839034,
          7.333515874649436,
          8.356721702763508,
          9.818430525969347,
          12.598609590099528,
          14.932451786216689,
          17.011492209953104,
          19.20271225063985,
          21.057319086430766,
          18.143417481439286,
          16.55608281382544,
          14.541722415442166,
          12.740241379137075,
          6.525600701109141,
          -1.222054553595683,
          -12.019243888898785,
          -19.403228953924838,
          -27.945863458683363,
          -31.345932156889035,
          -28.364569260261334,
          -28.792700598305714,
          -29.33184439266131,
          -26.811456329984082,
          -25.069703543669107
         ],
         "yaxis": "y2"
        },
        {
         "name": "%Willams",
         "type": "scatter",
         "x": [
          "2019-02-24T00:00:00",
          "2019-03-03T00:00:00",
          "2019-03-10T00:00:00",
          "2019-03-17T00:00:00",
          "2019-03-24T00:00:00",
          "2019-03-31T00:00:00",
          "2019-04-07T00:00:00",
          "2019-04-14T00:00:00",
          "2019-04-21T00:00:00",
          "2019-04-28T00:00:00",
          "2019-05-05T00:00:00",
          "2019-05-12T00:00:00",
          "2019-05-19T00:00:00",
          "2019-05-26T00:00:00",
          "2019-06-02T00:00:00",
          "2019-06-09T00:00:00",
          "2019-06-16T00:00:00",
          "2019-06-23T00:00:00",
          "2019-06-30T00:00:00",
          "2019-07-07T00:00:00",
          "2019-07-14T00:00:00",
          "2019-07-21T00:00:00",
          "2019-07-28T00:00:00",
          "2019-08-04T00:00:00",
          "2019-08-11T00:00:00",
          "2019-08-18T00:00:00",
          "2019-08-25T00:00:00",
          "2019-09-01T00:00:00",
          "2019-09-08T00:00:00",
          "2019-09-15T00:00:00",
          "2019-09-22T00:00:00",
          "2019-09-29T00:00:00",
          "2019-10-06T00:00:00",
          "2019-10-13T00:00:00",
          "2019-10-20T00:00:00",
          "2019-10-27T00:00:00",
          "2019-11-03T00:00:00",
          "2019-11-10T00:00:00",
          "2019-11-17T00:00:00",
          "2019-11-24T00:00:00",
          "2019-12-01T00:00:00",
          "2019-12-08T00:00:00",
          "2019-12-15T00:00:00",
          "2019-12-22T00:00:00",
          "2019-12-29T00:00:00",
          "2020-01-05T00:00:00",
          "2020-01-12T00:00:00",
          "2020-01-19T00:00:00",
          "2020-01-26T00:00:00",
          "2020-02-02T00:00:00",
          "2020-02-09T00:00:00",
          "2020-02-16T00:00:00",
          "2020-02-23T00:00:00",
          "2020-03-01T00:00:00",
          "2020-03-08T00:00:00",
          "2020-03-15T00:00:00",
          "2020-03-22T00:00:00",
          "2020-03-29T00:00:00",
          "2020-04-05T00:00:00",
          "2020-04-12T00:00:00",
          "2020-04-19T00:00:00",
          "2020-04-26T00:00:00",
          "2020-05-03T00:00:00",
          "2020-05-10T00:00:00"
         ],
         "xaxis": "x3",
         "y": [
          -44.52449567723341,
          -46.686449060336315,
          -62.73408239700377,
          -87.4999999999999,
          -66.32653061224491,
          -32.040816326530624,
          -0.7518796992480776,
          -16.75699111207455,
          -32.525566918630496,
          -53.46820809248552,
          -32.93037832997534,
          -46.91558441558442,
          -48.68042226487525,
          -39.66480446927375,
          -55.62624254473158,
          -2.6745913818722107,
          -41.47707385369267,
          -45.760869565217384,
          -45.66037735849054,
          -29.509433962264122,
          -53.346379647749465,
          -83.02238805970156,
          -90.82693176683236,
          -98.31960461285011,
          -95.31669865642995,
          -93.34763948497849,
          -79.70570202329858,
          -65.29736358062542,
          -37.22287047841303,
          -18.443453587353094,
          -22.496959870287828,
          -37.62335526315781,
          -59.37500000000001,
          -29.775280898876364,
          -7.642427049559885,
          -13.295074127211869,
          -30.511716881874687,
          -13.187855787476296,
          -17.10105166895294,
          -25.651577503429415,
          -45.757149554617975,
          -51.373954599761156,
          -17.19918422841604,
          -19.05007743933917,
          -3.720735785953122,
          -10.939643347050747,
          -10.90742438130154,
          -2.10587891196264,
          -12.712473066794352,
          -50.958904109589106,
          -53.798500163025736,
          -71.26823793490459,
          -84.88964346349744,
          -94.07035175879393,
          -93.86661740254938,
          -73.92996108949416,
          -73.82990550305726,
          -90.60716731339878,
          -84.60397169595984,
          -63.13773934527485,
          -75.1454591449532,
          -75.6572258533043,
          -38.16210889381623,
          -28.296785821568008
         ],
         "yaxis": "y3"
        }
       ],
       "layout": {
        "height": 800,
        "template": {
         "data": {
          "bar": [
           {
            "error_x": {
             "color": "#2a3f5f"
            },
            "error_y": {
             "color": "#2a3f5f"
            },
            "marker": {
             "line": {
              "color": "#E5ECF6",
              "width": 0.5
             }
            },
            "type": "bar"
           }
          ],
          "barpolar": [
           {
            "marker": {
             "line": {
              "color": "#E5ECF6",
              "width": 0.5
             }
            },
            "type": "barpolar"
           }
          ],
          "carpet": [
           {
            "aaxis": {
             "endlinecolor": "#2a3f5f",
             "gridcolor": "white",
             "linecolor": "white",
             "minorgridcolor": "white",
             "startlinecolor": "#2a3f5f"
            },
            "baxis": {
             "endlinecolor": "#2a3f5f",
             "gridcolor": "white",
             "linecolor": "white",
             "minorgridcolor": "white",
             "startlinecolor": "#2a3f5f"
            },
            "type": "carpet"
           }
          ],
          "choropleth": [
           {
            "colorbar": {
             "outlinewidth": 0,
             "ticks": ""
            },
            "type": "choropleth"
           }
          ],
          "contour": [
           {
            "colorbar": {
             "outlinewidth": 0,
             "ticks": ""
            },
            "colorscale": [
             [
              0,
              "#0d0887"
             ],
             [
              0.1111111111111111,
              "#46039f"
             ],
             [
              0.2222222222222222,
              "#7201a8"
             ],
             [
              0.3333333333333333,
              "#9c179e"
             ],
             [
              0.4444444444444444,
              "#bd3786"
             ],
             [
              0.5555555555555556,
              "#d8576b"
             ],
             [
              0.6666666666666666,
              "#ed7953"
             ],
             [
              0.7777777777777778,
              "#fb9f3a"
             ],
             [
              0.8888888888888888,
              "#fdca26"
             ],
             [
              1,
              "#f0f921"
             ]
            ],
            "type": "contour"
           }
          ],
          "contourcarpet": [
           {
            "colorbar": {
             "outlinewidth": 0,
             "ticks": ""
            },
            "type": "contourcarpet"
           }
          ],
          "heatmap": [
           {
            "colorbar": {
             "outlinewidth": 0,
             "ticks": ""
            },
            "colorscale": [
             [
              0,
              "#0d0887"
             ],
             [
              0.1111111111111111,
              "#46039f"
             ],
             [
              0.2222222222222222,
              "#7201a8"
             ],
             [
              0.3333333333333333,
              "#9c179e"
             ],
             [
              0.4444444444444444,
              "#bd3786"
             ],
             [
              0.5555555555555556,
              "#d8576b"
             ],
             [
              0.6666666666666666,
              "#ed7953"
             ],
             [
              0.7777777777777778,
              "#fb9f3a"
             ],
             [
              0.8888888888888888,
              "#fdca26"
             ],
             [
              1,
              "#f0f921"
             ]
            ],
            "type": "heatmap"
           }
          ],
          "heatmapgl": [
           {
            "colorbar": {
             "outlinewidth": 0,
             "ticks": ""
            },
            "colorscale": [
             [
              0,
              "#0d0887"
             ],
             [
              0.1111111111111111,
              "#46039f"
             ],
             [
              0.2222222222222222,
              "#7201a8"
             ],
             [
              0.3333333333333333,
              "#9c179e"
             ],
             [
              0.4444444444444444,
              "#bd3786"
             ],
             [
              0.5555555555555556,
              "#d8576b"
             ],
             [
              0.6666666666666666,
              "#ed7953"
             ],
             [
              0.7777777777777778,
              "#fb9f3a"
             ],
             [
              0.8888888888888888,
              "#fdca26"
             ],
             [
              1,
              "#f0f921"
             ]
            ],
            "type": "heatmapgl"
           }
          ],
          "histogram": [
           {
            "marker": {
             "colorbar": {
              "outlinewidth": 0,
              "ticks": ""
             }
            },
            "type": "histogram"
           }
          ],
          "histogram2d": [
           {
            "colorbar": {
             "outlinewidth": 0,
             "ticks": ""
            },
            "colorscale": [
             [
              0,
              "#0d0887"
             ],
             [
              0.1111111111111111,
              "#46039f"
             ],
             [
              0.2222222222222222,
              "#7201a8"
             ],
             [
              0.3333333333333333,
              "#9c179e"
             ],
             [
              0.4444444444444444,
              "#bd3786"
             ],
             [
              0.5555555555555556,
              "#d8576b"
             ],
             [
              0.6666666666666666,
              "#ed7953"
             ],
             [
              0.7777777777777778,
              "#fb9f3a"
             ],
             [
              0.8888888888888888,
              "#fdca26"
             ],
             [
              1,
              "#f0f921"
             ]
            ],
            "type": "histogram2d"
           }
          ],
          "histogram2dcontour": [
           {
            "colorbar": {
             "outlinewidth": 0,
             "ticks": ""
            },
            "colorscale": [
             [
              0,
              "#0d0887"
             ],
             [
              0.1111111111111111,
              "#46039f"
             ],
             [
              0.2222222222222222,
              "#7201a8"
             ],
             [
              0.3333333333333333,
              "#9c179e"
             ],
             [
              0.4444444444444444,
              "#bd3786"
             ],
             [
              0.5555555555555556,
              "#d8576b"
             ],
             [
              0.6666666666666666,
              "#ed7953"
             ],
             [
              0.7777777777777778,
              "#fb9f3a"
             ],
             [
              0.8888888888888888,
              "#fdca26"
             ],
             [
              1,
              "#f0f921"
             ]
            ],
            "type": "histogram2dcontour"
           }
          ],
          "mesh3d": [
           {
            "colorbar": {
             "outlinewidth": 0,
             "ticks": ""
            },
            "type": "mesh3d"
           }
          ],
          "parcoords": [
           {
            "line": {
             "colorbar": {
              "outlinewidth": 0,
              "ticks": ""
             }
            },
            "type": "parcoords"
           }
          ],
          "pie": [
           {
            "automargin": true,
            "type": "pie"
           }
          ],
          "scatter": [
           {
            "marker": {
             "colorbar": {
              "outlinewidth": 0,
              "ticks": ""
             }
            },
            "type": "scatter"
           }
          ],
          "scatter3d": [
           {
            "line": {
             "colorbar": {
              "outlinewidth": 0,
              "ticks": ""
             }
            },
            "marker": {
             "colorbar": {
              "outlinewidth": 0,
              "ticks": ""
             }
            },
            "type": "scatter3d"
           }
          ],
          "scattercarpet": [
           {
            "marker": {
             "colorbar": {
              "outlinewidth": 0,
              "ticks": ""
             }
            },
            "type": "scattercarpet"
           }
          ],
          "scattergeo": [
           {
            "marker": {
             "colorbar": {
              "outlinewidth": 0,
              "ticks": ""
             }
            },
            "type": "scattergeo"
           }
          ],
          "scattergl": [
           {
            "marker": {
             "colorbar": {
              "outlinewidth": 0,
              "ticks": ""
             }
            },
            "type": "scattergl"
           }
          ],
          "scattermapbox": [
           {
            "marker": {
             "colorbar": {
              "outlinewidth": 0,
              "ticks": ""
             }
            },
            "type": "scattermapbox"
           }
          ],
          "scatterpolar": [
           {
            "marker": {
             "colorbar": {
              "outlinewidth": 0,
              "ticks": ""
             }
            },
            "type": "scatterpolar"
           }
          ],
          "scatterpolargl": [
           {
            "marker": {
             "colorbar": {
              "outlinewidth": 0,
              "ticks": ""
             }
            },
            "type": "scatterpolargl"
           }
          ],
          "scatterternary": [
           {
            "marker": {
             "colorbar": {
              "outlinewidth": 0,
              "ticks": ""
             }
            },
            "type": "scatterternary"
           }
          ],
          "surface": [
           {
            "colorbar": {
             "outlinewidth": 0,
             "ticks": ""
            },
            "colorscale": [
             [
              0,
              "#0d0887"
             ],
             [
              0.1111111111111111,
              "#46039f"
             ],
             [
              0.2222222222222222,
              "#7201a8"
             ],
             [
              0.3333333333333333,
              "#9c179e"
             ],
             [
              0.4444444444444444,
              "#bd3786"
             ],
             [
              0.5555555555555556,
              "#d8576b"
             ],
             [
              0.6666666666666666,
              "#ed7953"
             ],
             [
              0.7777777777777778,
              "#fb9f3a"
             ],
             [
              0.8888888888888888,
              "#fdca26"
             ],
             [
              1,
              "#f0f921"
             ]
            ],
            "type": "surface"
           }
          ],
          "table": [
           {
            "cells": {
             "fill": {
              "color": "#EBF0F8"
             },
             "line": {
              "color": "white"
             }
            },
            "header": {
             "fill": {
              "color": "#C8D4E3"
             },
             "line": {
              "color": "white"
             }
            },
            "type": "table"
           }
          ]
         },
         "layout": {
          "annotationdefaults": {
           "arrowcolor": "#2a3f5f",
           "arrowhead": 0,
           "arrowwidth": 1
          },
          "coloraxis": {
           "colorbar": {
            "outlinewidth": 0,
            "ticks": ""
           }
          },
          "colorscale": {
           "diverging": [
            [
             0,
             "#8e0152"
            ],
            [
             0.1,
             "#c51b7d"
            ],
            [
             0.2,
             "#de77ae"
            ],
            [
             0.3,
             "#f1b6da"
            ],
            [
             0.4,
             "#fde0ef"
            ],
            [
             0.5,
             "#f7f7f7"
            ],
            [
             0.6,
             "#e6f5d0"
            ],
            [
             0.7,
             "#b8e186"
            ],
            [
             0.8,
             "#7fbc41"
            ],
            [
             0.9,
             "#4d9221"
            ],
            [
             1,
             "#276419"
            ]
           ],
           "sequential": [
            [
             0,
             "#0d0887"
            ],
            [
             0.1111111111111111,
             "#46039f"
            ],
            [
             0.2222222222222222,
             "#7201a8"
            ],
            [
             0.3333333333333333,
             "#9c179e"
            ],
            [
             0.4444444444444444,
             "#bd3786"
            ],
            [
             0.5555555555555556,
             "#d8576b"
            ],
            [
             0.6666666666666666,
             "#ed7953"
            ],
            [
             0.7777777777777778,
             "#fb9f3a"
            ],
            [
             0.8888888888888888,
             "#fdca26"
            ],
            [
             1,
             "#f0f921"
            ]
           ],
           "sequentialminus": [
            [
             0,
             "#0d0887"
            ],
            [
             0.1111111111111111,
             "#46039f"
            ],
            [
             0.2222222222222222,
             "#7201a8"
            ],
            [
             0.3333333333333333,
             "#9c179e"
            ],
            [
             0.4444444444444444,
             "#bd3786"
            ],
            [
             0.5555555555555556,
             "#d8576b"
            ],
            [
             0.6666666666666666,
             "#ed7953"
            ],
            [
             0.7777777777777778,
             "#fb9f3a"
            ],
            [
             0.8888888888888888,
             "#fdca26"
            ],
            [
             1,
             "#f0f921"
            ]
           ]
          },
          "colorway": [
           "#636efa",
           "#EF553B",
           "#00cc96",
           "#ab63fa",
           "#FFA15A",
           "#19d3f3",
           "#FF6692",
           "#B6E880",
           "#FF97FF",
           "#FECB52"
          ],
          "font": {
           "color": "#2a3f5f"
          },
          "geo": {
           "bgcolor": "white",
           "lakecolor": "white",
           "landcolor": "#E5ECF6",
           "showlakes": true,
           "showland": true,
           "subunitcolor": "white"
          },
          "hoverlabel": {
           "align": "left"
          },
          "hovermode": "closest",
          "mapbox": {
           "style": "light"
          },
          "paper_bgcolor": "white",
          "plot_bgcolor": "#E5ECF6",
          "polar": {
           "angularaxis": {
            "gridcolor": "white",
            "linecolor": "white",
            "ticks": ""
           },
           "bgcolor": "#E5ECF6",
           "radialaxis": {
            "gridcolor": "white",
            "linecolor": "white",
            "ticks": ""
           }
          },
          "scene": {
           "xaxis": {
            "backgroundcolor": "#E5ECF6",
            "gridcolor": "white",
            "gridwidth": 2,
            "linecolor": "white",
            "showbackground": true,
            "ticks": "",
            "zerolinecolor": "white"
           },
           "yaxis": {
            "backgroundcolor": "#E5ECF6",
            "gridcolor": "white",
            "gridwidth": 2,
            "linecolor": "white",
            "showbackground": true,
            "ticks": "",
            "zerolinecolor": "white"
           },
           "zaxis": {
            "backgroundcolor": "#E5ECF6",
            "gridcolor": "white",
            "gridwidth": 2,
            "linecolor": "white",
            "showbackground": true,
            "ticks": "",
            "zerolinecolor": "white"
           }
          },
          "shapedefaults": {
           "line": {
            "color": "#2a3f5f"
           }
          },
          "ternary": {
           "aaxis": {
            "gridcolor": "white",
            "linecolor": "white",
            "ticks": ""
           },
           "baxis": {
            "gridcolor": "white",
            "linecolor": "white",
            "ticks": ""
           },
           "bgcolor": "#E5ECF6",
           "caxis": {
            "gridcolor": "white",
            "linecolor": "white",
            "ticks": ""
           }
          },
          "title": {
           "x": 0.05
          },
          "xaxis": {
           "automargin": true,
           "gridcolor": "white",
           "linecolor": "white",
           "ticks": "",
           "title": {
            "standoff": 15
           },
           "zerolinecolor": "white",
           "zerolinewidth": 2
          },
          "yaxis": {
           "automargin": true,
           "gridcolor": "white",
           "linecolor": "white",
           "ticks": "",
           "title": {
            "standoff": 15
           },
           "zerolinecolor": "white",
           "zerolinewidth": 2
          }
         }
        },
        "title": {
         "text": "График тикера SBER"
        },
        "width": 1000,
        "xaxis": {
         "anchor": "y",
         "domain": [
          0,
          1
         ],
         "matches": "x3",
         "rangeslider": {
          "visible": false
         },
         "showticklabels": false
        },
        "xaxis2": {
         "anchor": "y2",
         "domain": [
          0,
          1
         ],
         "matches": "x3",
         "showticklabels": false
        },
        "xaxis3": {
         "anchor": "y3",
         "domain": [
          0,
          1
         ]
        },
        "yaxis": {
         "anchor": "x",
         "domain": [
          0.424,
          1
         ],
         "title": {
          "text": "Цена"
         }
        },
        "yaxis2": {
         "anchor": "x2",
         "domain": [
          0.212,
          0.404
         ],
         "title": {
          "text": "MACD"
         }
        },
        "yaxis3": {
         "anchor": "x3",
         "domain": [
          0,
          0.192
         ],
         "title": {
          "text": "%Willams"
         }
        }
       }
      },
      "text/html": [
       "<div>\n",
       "        \n",
       "        \n",
       "            <div id=\"889d32b7-6d54-4546-b1ae-5c439cddc088\" class=\"plotly-graph-div\" style=\"height:800px; width:1000px;\"></div>\n",
       "            <script type=\"text/javascript\">\n",
       "                require([\"plotly\"], function(Plotly) {\n",
       "                    window.PLOTLYENV=window.PLOTLYENV || {};\n",
       "                    \n",
       "                if (document.getElementById(\"889d32b7-6d54-4546-b1ae-5c439cddc088\")) {\n",
       "                    Plotly.newPlot(\n",
       "                        '889d32b7-6d54-4546-b1ae-5c439cddc088',\n",
       "                        [{\"close\": [205.25, 206.54, 203.95, 203.55, 207.7, 214.42, 227.5, 239.5, 232.6, 223.18, 232.52, 227.0, 226.94, 234.45, 233.24, 248.28, 238.8, 238.02, 238.55, 242.83, 237.02, 232.85, 230.55, 220.81, 220.67, 215.05, 219.5, 224.2, 229.02, 233.0, 232.0, 228.05, 222.76, 230.31, 235.55, 240.0, 236.4, 240.17, 240.0, 238.13, 233.98, 235.14, 241.21, 244.71, 252.06, 255.0, 258.19, 262.5, 265.49, 252.2, 254.3, 251.75, 250.8, 233.36, 219.99, 198.6, 195.69, 180.38, 185.64, 201.99, 191.8, 188.91, 197.25, 196.02], \"high\": [209.73, 209.0, 207.5, 206.89, 212.29, 219.25, 227.7, 247.23, 242.3, 237.56, 233.0, 234.34, 231.45, 237.4, 237.47, 249.0, 250.65, 244.99, 242.44, 243.9, 245.5, 238.59, 234.65, 237.55, 227.6, 225.75, 223.1, 225.2, 231.2, 235.9, 237.2, 232.17, 229.56, 231.2, 236.03, 242.78, 242.33, 242.95, 243.74, 241.23, 239.75, 236.37, 243.25, 248.4, 252.95, 258.19, 261.76, 263.22, 270.8, 262.1, 258.0, 259.77, 253.1, 251.21, 241.0, 212.74, 204.78, 201.0, 189.9, 205.44, 202.85, 192.5, 199.7, 198.15], \"low\": [201.1, 202.9, 202.25, 202.56, 204.11, 205.55, 215.01, 227.9, 230.84, 222.08, 223.05, 226.11, 224.15, 225.1, 229.21, 230.35, 232.55, 236.36, 234.2, 239.7, 236.37, 232.25, 228.52, 220.3, 219.45, 212.88, 214.06, 215.61, 222.05, 227.1, 230.72, 225.3, 221.87, 222.41, 227.0, 234.04, 232.8, 236.52, 235.81, 235.8, 231.97, 229.03, 234.3, 240.13, 244.07, 250.73, 251.4, 254.21, 261.8, 252.17, 248.73, 251.4, 247.24, 231.0, 216.67, 173.14, 172.15, 180.17, 174.9, 186.42, 183.53, 183.65, 188.17, 193.26], \"name\": \"SBER\", \"open\": [208.83, 205.5, 207.0, 203.2, 204.25, 206.63, 215.05, 227.93, 240.35, 233.7, 223.7, 228.75, 226.51, 228.23, 235.28, 231.18, 249.55, 239.0, 239.06, 240.98, 242.13, 237.9, 233.0, 230.75, 219.72, 222.38, 217.0, 217.5, 224.1, 229.88, 235.0, 231.7, 228.5, 223.13, 230.29, 236.0, 240.5, 239.6, 239.0, 240.57, 238.68, 234.59, 235.5, 242.48, 244.71, 252.1, 254.75, 258.3, 263.2, 261.0, 251.8, 254.55, 252.5, 247.98, 238.93, 197.99, 194.0, 188.0, 177.0, 187.52, 202.0, 190.6, 189.98, 195.68], \"type\": \"candlestick\", \"x\": [\"2019-02-24T00:00:00\", \"2019-03-03T00:00:00\", \"2019-03-10T00:00:00\", \"2019-03-17T00:00:00\", \"2019-03-24T00:00:00\", \"2019-03-31T00:00:00\", \"2019-04-07T00:00:00\", \"2019-04-14T00:00:00\", \"2019-04-21T00:00:00\", \"2019-04-28T00:00:00\", \"2019-05-05T00:00:00\", \"2019-05-12T00:00:00\", \"2019-05-19T00:00:00\", \"2019-05-26T00:00:00\", \"2019-06-02T00:00:00\", \"2019-06-09T00:00:00\", \"2019-06-16T00:00:00\", \"2019-06-23T00:00:00\", \"2019-06-30T00:00:00\", \"2019-07-07T00:00:00\", \"2019-07-14T00:00:00\", \"2019-07-21T00:00:00\", \"2019-07-28T00:00:00\", \"2019-08-04T00:00:00\", \"2019-08-11T00:00:00\", \"2019-08-18T00:00:00\", \"2019-08-25T00:00:00\", \"2019-09-01T00:00:00\", \"2019-09-08T00:00:00\", \"2019-09-15T00:00:00\", \"2019-09-22T00:00:00\", \"2019-09-29T00:00:00\", \"2019-10-06T00:00:00\", \"2019-10-13T00:00:00\", \"2019-10-20T00:00:00\", \"2019-10-27T00:00:00\", \"2019-11-03T00:00:00\", \"2019-11-10T00:00:00\", \"2019-11-17T00:00:00\", \"2019-11-24T00:00:00\", \"2019-12-01T00:00:00\", \"2019-12-08T00:00:00\", \"2019-12-15T00:00:00\", \"2019-12-22T00:00:00\", \"2019-12-29T00:00:00\", \"2020-01-05T00:00:00\", \"2020-01-12T00:00:00\", \"2020-01-19T00:00:00\", \"2020-01-26T00:00:00\", \"2020-02-02T00:00:00\", \"2020-02-09T00:00:00\", \"2020-02-16T00:00:00\", \"2020-02-23T00:00:00\", \"2020-03-01T00:00:00\", \"2020-03-08T00:00:00\", \"2020-03-15T00:00:00\", \"2020-03-22T00:00:00\", \"2020-03-29T00:00:00\", \"2020-04-05T00:00:00\", \"2020-04-12T00:00:00\", \"2020-04-19T00:00:00\", \"2020-04-26T00:00:00\", \"2020-05-03T00:00:00\", \"2020-05-10T00:00:00\"], \"xaxis\": \"x\", \"yaxis\": \"y\"}, {\"line\": {\"color\": \"red\"}, \"name\": \"MA_fast\", \"opacity\": 1, \"type\": \"scatter\", \"x\": [\"2019-02-24T00:00:00\", \"2019-03-03T00:00:00\", \"2019-03-10T00:00:00\", \"2019-03-17T00:00:00\", \"2019-03-24T00:00:00\", \"2019-03-31T00:00:00\", \"2019-04-07T00:00:00\", \"2019-04-14T00:00:00\", \"2019-04-21T00:00:00\", \"2019-04-28T00:00:00\", \"2019-05-05T00:00:00\", \"2019-05-12T00:00:00\", \"2019-05-19T00:00:00\", \"2019-05-26T00:00:00\", \"2019-06-02T00:00:00\", \"2019-06-09T00:00:00\", \"2019-06-16T00:00:00\", \"2019-06-23T00:00:00\", \"2019-06-30T00:00:00\", \"2019-07-07T00:00:00\", \"2019-07-14T00:00:00\", \"2019-07-21T00:00:00\", \"2019-07-28T00:00:00\", \"2019-08-04T00:00:00\", \"2019-08-11T00:00:00\", \"2019-08-18T00:00:00\", \"2019-08-25T00:00:00\", \"2019-09-01T00:00:00\", \"2019-09-08T00:00:00\", \"2019-09-15T00:00:00\", \"2019-09-22T00:00:00\", \"2019-09-29T00:00:00\", \"2019-10-06T00:00:00\", \"2019-10-13T00:00:00\", \"2019-10-20T00:00:00\", \"2019-10-27T00:00:00\", \"2019-11-03T00:00:00\", \"2019-11-10T00:00:00\", \"2019-11-17T00:00:00\", \"2019-11-24T00:00:00\", \"2019-12-01T00:00:00\", \"2019-12-08T00:00:00\", \"2019-12-15T00:00:00\", \"2019-12-22T00:00:00\", \"2019-12-29T00:00:00\", \"2020-01-05T00:00:00\", \"2020-01-12T00:00:00\", \"2020-01-19T00:00:00\", \"2020-01-26T00:00:00\", \"2020-02-02T00:00:00\", \"2020-02-09T00:00:00\", \"2020-02-16T00:00:00\", \"2020-02-23T00:00:00\", \"2020-03-01T00:00:00\", \"2020-03-08T00:00:00\", \"2020-03-15T00:00:00\", \"2020-03-22T00:00:00\", \"2020-03-29T00:00:00\", \"2020-04-05T00:00:00\", \"2020-04-12T00:00:00\", \"2020-04-19T00:00:00\", \"2020-04-26T00:00:00\", \"2020-05-03T00:00:00\", \"2020-05-10T00:00:00\"], \"xaxis\": \"x\", \"y\": [205.29877356783237, 205.57460166386963, 205.2135790718986, 204.84389483369893, 205.47858487065471, 207.4655660105092, 211.91766245261826, 218.04707079648088, 221.28105506392959, 221.70304282750078, 224.10681108805616, 224.749741957377, 225.23646596684878, 227.2839179742157, 228.60749175772332, 232.97916025600702, 234.27268019911656, 235.10541793264622, 235.8708806142804, 237.41735158888474, 237.32905123579926, 236.33370651673275, 235.04843840190324, 231.88434097925807, 229.3922652060896, 226.2050951602919, 224.71507401356038, 224.60061312165809, 225.58269909462297, 227.23098818470675, 228.29076858810524, 228.2372644574152, 227.0200945779896, 227.7511846717697, 229.48425474470977, 231.82108702366315, 232.8386232406269, 234.46781807604313, 235.69719183692243, 236.23781587316188, 235.73607901245924, 235.6036170096905, 236.84947989642595, 238.59626214166462, 241.58820388796138, 244.56860302396996, 247.5955801297544, 250.90767343425344, 254.1481904488638, 253.7152592380052, 253.8452016295596, 253.37960126743525, 252.80635654133852, 248.48494397659664, 242.15273420401962, 232.47434882534859, 224.30004908638224, 214.5400381782973, 208.117807472009, 206.7560724782292, 203.4325008164005, 200.20527841275594, 199.54854987658797, 198.76442768179064], \"yaxis\": \"y\"}, {\"line\": {\"color\": \"blue\"}, \"name\": \"MA_slow\", \"opacity\": 1, \"type\": \"scatter\", \"x\": [\"2019-02-24T00:00:00\", \"2019-03-03T00:00:00\", \"2019-03-10T00:00:00\", \"2019-03-17T00:00:00\", \"2019-03-24T00:00:00\", \"2019-03-31T00:00:00\", \"2019-04-07T00:00:00\", \"2019-04-14T00:00:00\", \"2019-04-21T00:00:00\", \"2019-04-28T00:00:00\", \"2019-05-05T00:00:00\", \"2019-05-12T00:00:00\", \"2019-05-19T00:00:00\", \"2019-05-26T00:00:00\", \"2019-06-02T00:00:00\", \"2019-06-09T00:00:00\", \"2019-06-16T00:00:00\", \"2019-06-23T00:00:00\", \"2019-06-30T00:00:00\", \"2019-07-07T00:00:00\", \"2019-07-14T00:00:00\", \"2019-07-21T00:00:00\", \"2019-07-28T00:00:00\", \"2019-08-04T00:00:00\", \"2019-08-11T00:00:00\", \"2019-08-18T00:00:00\", \"2019-08-25T00:00:00\", \"2019-09-01T00:00:00\", \"2019-09-08T00:00:00\", \"2019-09-15T00:00:00\", \"2019-09-22T00:00:00\", \"2019-09-29T00:00:00\", \"2019-10-06T00:00:00\", \"2019-10-13T00:00:00\", \"2019-10-20T00:00:00\", \"2019-10-27T00:00:00\", \"2019-11-03T00:00:00\", \"2019-11-10T00:00:00\", \"2019-11-17T00:00:00\", \"2019-11-24T00:00:00\", \"2019-12-01T00:00:00\", \"2019-12-08T00:00:00\", \"2019-12-15T00:00:00\", \"2019-12-22T00:00:00\", \"2019-12-29T00:00:00\", \"2020-01-05T00:00:00\", \"2020-01-12T00:00:00\", \"2020-01-19T00:00:00\", \"2020-01-26T00:00:00\", \"2020-02-02T00:00:00\", \"2020-02-09T00:00:00\", \"2020-02-16T00:00:00\", \"2020-02-23T00:00:00\", \"2020-03-01T00:00:00\", \"2020-03-08T00:00:00\", \"2020-03-15T00:00:00\", \"2020-03-22T00:00:00\", \"2020-03-29T00:00:00\", \"2020-04-05T00:00:00\", \"2020-04-12T00:00:00\", \"2020-04-19T00:00:00\", \"2020-04-26T00:00:00\", \"2020-05-03T00:00:00\", \"2020-05-10T00:00:00\"], \"xaxis\": \"x\", \"y\": [202.6757610204923, 203.22779516042198, 203.3309672803617, 203.36225766888145, 203.98193514475554, 205.4730872669333, 208.61978908594284, 213.031247787951, 215.8267838182437, 216.87724327278033, 219.11192280524028, 220.23879097592024, 221.19610655078878, 223.0895199006761, 224.5395884862938, 227.9310758453947, 229.4837792960526, 230.7032393966165, 231.82420519709987, 233.3964615975142, 233.91410994072646, 233.7620942349084, 233.3032236299215, 231.51847739707557, 229.96869491177907, 227.83745278152492, 226.64638809844993, 226.29690408438566, 226.68591778661627, 227.58792953138538, 228.21822531261606, 228.19419312509947, 227.41787982151382, 227.83103984701185, 228.9337484402959, 230.5146415202536, 231.35540701736022, 232.61463458630877, 233.66968678826467, 234.30687438994116, 234.260178048521, 234.38586689873227, 235.36074305605624, 236.69635119090535, 238.89115816363315, 241.19242128311413, 243.62064681409782, 246.3176972692267, 249.05659765933717, 249.50565513657472, 250.19056154563546, 250.41333846768754, 250.46857582944645, 248.02449356809697, 244.0195659155117, 237.53105649901002, 231.55376271343715, 224.24322518294613, 218.72847872823954, 216.33726748134816, 212.83194355544128, 209.4145230475211, 207.67673404073238, 206.01148632062777], \"yaxis\": \"y\"}, {\"line\": {\"color\": \"green\"}, \"name\": \"Reg_line: 41.0 deg\", \"opacity\": 1, \"type\": \"scatter\", \"x\": [\"2020-03-22T00:00:00\", \"2020-03-29T00:00:00\", \"2020-04-05T00:00:00\", \"2020-04-12T00:00:00\", \"2020-04-19T00:00:00\", \"2020-04-26T00:00:00\", \"2020-05-03T00:00:00\", \"2020-05-10T00:00:00\"], \"xaxis\": \"x\", \"y\": [188.615, 189.64214285714286, 190.6692857142857, 191.69642857142856, 192.7235714285714, 193.75071428571425, 194.7778571428571, 195.80499999999995], \"yaxis\": \"y\"}, {\"name\": \"MACD\", \"type\": \"bar\", \"x\": [\"2019-02-24T00:00:00\", \"2019-03-03T00:00:00\", \"2019-03-10T00:00:00\", \"2019-03-17T00:00:00\", \"2019-03-24T00:00:00\", \"2019-03-31T00:00:00\", \"2019-04-07T00:00:00\", \"2019-04-14T00:00:00\", \"2019-04-21T00:00:00\", \"2019-04-28T00:00:00\", \"2019-05-05T00:00:00\", \"2019-05-12T00:00:00\", \"2019-05-19T00:00:00\", \"2019-05-26T00:00:00\", \"2019-06-02T00:00:00\", \"2019-06-09T00:00:00\", \"2019-06-16T00:00:00\", \"2019-06-23T00:00:00\", \"2019-06-30T00:00:00\", \"2019-07-07T00:00:00\", \"2019-07-14T00:00:00\", \"2019-07-21T00:00:00\", \"2019-07-28T00:00:00\", \"2019-08-04T00:00:00\", \"2019-08-11T00:00:00\", \"2019-08-18T00:00:00\", \"2019-08-25T00:00:00\", \"2019-09-01T00:00:00\", \"2019-09-08T00:00:00\", \"2019-09-15T00:00:00\", \"2019-09-22T00:00:00\", \"2019-09-29T00:00:00\", \"2019-10-06T00:00:00\", \"2019-10-13T00:00:00\", \"2019-10-20T00:00:00\", \"2019-10-27T00:00:00\", \"2019-11-03T00:00:00\", \"2019-11-10T00:00:00\", \"2019-11-17T00:00:00\", \"2019-11-24T00:00:00\", \"2019-12-01T00:00:00\", \"2019-12-08T00:00:00\", \"2019-12-15T00:00:00\", \"2019-12-22T00:00:00\", \"2019-12-29T00:00:00\", \"2020-01-05T00:00:00\", \"2020-01-12T00:00:00\", \"2020-01-19T00:00:00\", \"2020-01-26T00:00:00\", \"2020-02-02T00:00:00\", \"2020-02-09T00:00:00\", \"2020-02-16T00:00:00\", \"2020-02-23T00:00:00\", \"2020-03-01T00:00:00\", \"2020-03-08T00:00:00\", \"2020-03-15T00:00:00\", \"2020-03-22T00:00:00\", \"2020-03-29T00:00:00\", \"2020-04-05T00:00:00\", \"2020-04-12T00:00:00\", \"2020-04-19T00:00:00\", \"2020-04-26T00:00:00\", \"2020-05-03T00:00:00\", \"2020-05-10T00:00:00\"], \"xaxis\": \"x2\", \"y\": [8.686259259259202, 7.954985596707758, 6.627795038865969, 5.558308483208805, 5.934774198476362, 7.928571608117494, 12.670433465889374, 18.75474586771074, 20.321632456492495, 18.315197485420043, 19.307160698348127, 18.040856782444536, 16.892797709793314, 17.943227224979694, 17.936215674819636, 21.777426630740706, 21.159347850566206, 20.161680695445853, 19.30737765897291, 19.600828012694166, 17.808725864802113, 15.192240700114468, 12.624597435309028, 8.068588760518395, 5.011683506751723, 1.4330453190698904, 0.3894019172133767, 1.0306375175775315, 2.7541814600739087, 4.89392798942211, 5.872769730318737, 5.283100275877388, 3.3445472809350747, 4.159263038176306, 6.050764384621232, 8.36576959563061, 8.668443810050775, 9.745711948573614, 10.19629351822553, 9.771728330261453, 8.17067379839034, 7.333515874649436, 8.356721702763508, 9.818430525969347, 12.598609590099528, 14.932451786216689, 17.011492209953104, 19.20271225063985, 21.057319086430766, 18.143417481439286, 16.55608281382544, 14.541722415442166, 12.740241379137075, 6.525600701109141, -1.222054553595683, -12.019243888898785, -19.403228953924838, -27.945863458683363, -31.345932156889035, -28.364569260261334, -28.792700598305714, -29.33184439266131, -26.811456329984082, -25.069703543669107], \"yaxis\": \"y2\"}, {\"name\": \"%Willams\", \"type\": \"scatter\", \"x\": [\"2019-02-24T00:00:00\", \"2019-03-03T00:00:00\", \"2019-03-10T00:00:00\", \"2019-03-17T00:00:00\", \"2019-03-24T00:00:00\", \"2019-03-31T00:00:00\", \"2019-04-07T00:00:00\", \"2019-04-14T00:00:00\", \"2019-04-21T00:00:00\", \"2019-04-28T00:00:00\", \"2019-05-05T00:00:00\", \"2019-05-12T00:00:00\", \"2019-05-19T00:00:00\", \"2019-05-26T00:00:00\", \"2019-06-02T00:00:00\", \"2019-06-09T00:00:00\", \"2019-06-16T00:00:00\", \"2019-06-23T00:00:00\", \"2019-06-30T00:00:00\", \"2019-07-07T00:00:00\", \"2019-07-14T00:00:00\", \"2019-07-21T00:00:00\", \"2019-07-28T00:00:00\", \"2019-08-04T00:00:00\", \"2019-08-11T00:00:00\", \"2019-08-18T00:00:00\", \"2019-08-25T00:00:00\", \"2019-09-01T00:00:00\", \"2019-09-08T00:00:00\", \"2019-09-15T00:00:00\", \"2019-09-22T00:00:00\", \"2019-09-29T00:00:00\", \"2019-10-06T00:00:00\", \"2019-10-13T00:00:00\", \"2019-10-20T00:00:00\", \"2019-10-27T00:00:00\", \"2019-11-03T00:00:00\", \"2019-11-10T00:00:00\", \"2019-11-17T00:00:00\", \"2019-11-24T00:00:00\", \"2019-12-01T00:00:00\", \"2019-12-08T00:00:00\", \"2019-12-15T00:00:00\", \"2019-12-22T00:00:00\", \"2019-12-29T00:00:00\", \"2020-01-05T00:00:00\", \"2020-01-12T00:00:00\", \"2020-01-19T00:00:00\", \"2020-01-26T00:00:00\", \"2020-02-02T00:00:00\", \"2020-02-09T00:00:00\", \"2020-02-16T00:00:00\", \"2020-02-23T00:00:00\", \"2020-03-01T00:00:00\", \"2020-03-08T00:00:00\", \"2020-03-15T00:00:00\", \"2020-03-22T00:00:00\", \"2020-03-29T00:00:00\", \"2020-04-05T00:00:00\", \"2020-04-12T00:00:00\", \"2020-04-19T00:00:00\", \"2020-04-26T00:00:00\", \"2020-05-03T00:00:00\", \"2020-05-10T00:00:00\"], \"xaxis\": \"x3\", \"y\": [-44.52449567723341, -46.686449060336315, -62.73408239700377, -87.4999999999999, -66.32653061224491, -32.040816326530624, -0.7518796992480776, -16.75699111207455, -32.525566918630496, -53.46820809248552, -32.93037832997534, -46.91558441558442, -48.68042226487525, -39.66480446927375, -55.62624254473158, -2.6745913818722107, -41.47707385369267, -45.760869565217384, -45.66037735849054, -29.509433962264122, -53.346379647749465, -83.02238805970156, -90.82693176683236, -98.31960461285011, -95.31669865642995, -93.34763948497849, -79.70570202329858, -65.29736358062542, -37.22287047841303, -18.443453587353094, -22.496959870287828, -37.62335526315781, -59.37500000000001, -29.775280898876364, -7.642427049559885, -13.295074127211869, -30.511716881874687, -13.187855787476296, -17.10105166895294, -25.651577503429415, -45.757149554617975, -51.373954599761156, -17.19918422841604, -19.05007743933917, -3.720735785953122, -10.939643347050747, -10.90742438130154, -2.10587891196264, -12.712473066794352, -50.958904109589106, -53.798500163025736, -71.26823793490459, -84.88964346349744, -94.07035175879393, -93.86661740254938, -73.92996108949416, -73.82990550305726, -90.60716731339878, -84.60397169595984, -63.13773934527485, -75.1454591449532, -75.6572258533043, -38.16210889381623, -28.296785821568008], \"yaxis\": \"y3\"}],\n",
       "                        {\"height\": 800, \"template\": {\"data\": {\"bar\": [{\"error_x\": {\"color\": \"#2a3f5f\"}, \"error_y\": {\"color\": \"#2a3f5f\"}, \"marker\": {\"line\": {\"color\": \"#E5ECF6\", \"width\": 0.5}}, \"type\": \"bar\"}], \"barpolar\": [{\"marker\": {\"line\": {\"color\": \"#E5ECF6\", \"width\": 0.5}}, \"type\": \"barpolar\"}], \"carpet\": [{\"aaxis\": {\"endlinecolor\": \"#2a3f5f\", \"gridcolor\": \"white\", \"linecolor\": \"white\", \"minorgridcolor\": \"white\", \"startlinecolor\": \"#2a3f5f\"}, \"baxis\": {\"endlinecolor\": \"#2a3f5f\", \"gridcolor\": \"white\", \"linecolor\": \"white\", \"minorgridcolor\": \"white\", \"startlinecolor\": \"#2a3f5f\"}, \"type\": \"carpet\"}], \"choropleth\": [{\"colorbar\": {\"outlinewidth\": 0, \"ticks\": \"\"}, \"type\": \"choropleth\"}], \"contour\": [{\"colorbar\": {\"outlinewidth\": 0, \"ticks\": \"\"}, \"colorscale\": [[0.0, \"#0d0887\"], [0.1111111111111111, \"#46039f\"], [0.2222222222222222, \"#7201a8\"], [0.3333333333333333, \"#9c179e\"], [0.4444444444444444, \"#bd3786\"], [0.5555555555555556, \"#d8576b\"], [0.6666666666666666, \"#ed7953\"], [0.7777777777777778, \"#fb9f3a\"], [0.8888888888888888, \"#fdca26\"], [1.0, \"#f0f921\"]], \"type\": \"contour\"}], \"contourcarpet\": [{\"colorbar\": {\"outlinewidth\": 0, \"ticks\": \"\"}, \"type\": \"contourcarpet\"}], \"heatmap\": [{\"colorbar\": {\"outlinewidth\": 0, \"ticks\": \"\"}, \"colorscale\": [[0.0, \"#0d0887\"], [0.1111111111111111, \"#46039f\"], [0.2222222222222222, \"#7201a8\"], [0.3333333333333333, \"#9c179e\"], [0.4444444444444444, \"#bd3786\"], [0.5555555555555556, \"#d8576b\"], [0.6666666666666666, \"#ed7953\"], [0.7777777777777778, \"#fb9f3a\"], [0.8888888888888888, \"#fdca26\"], [1.0, \"#f0f921\"]], \"type\": \"heatmap\"}], \"heatmapgl\": [{\"colorbar\": {\"outlinewidth\": 0, \"ticks\": \"\"}, \"colorscale\": [[0.0, \"#0d0887\"], [0.1111111111111111, \"#46039f\"], [0.2222222222222222, \"#7201a8\"], [0.3333333333333333, \"#9c179e\"], [0.4444444444444444, \"#bd3786\"], [0.5555555555555556, \"#d8576b\"], [0.6666666666666666, \"#ed7953\"], [0.7777777777777778, \"#fb9f3a\"], [0.8888888888888888, \"#fdca26\"], [1.0, \"#f0f921\"]], \"type\": \"heatmapgl\"}], \"histogram\": [{\"marker\": {\"colorbar\": {\"outlinewidth\": 0, \"ticks\": \"\"}}, \"type\": \"histogram\"}], \"histogram2d\": [{\"colorbar\": {\"outlinewidth\": 0, \"ticks\": \"\"}, \"colorscale\": [[0.0, \"#0d0887\"], [0.1111111111111111, \"#46039f\"], [0.2222222222222222, \"#7201a8\"], [0.3333333333333333, \"#9c179e\"], [0.4444444444444444, \"#bd3786\"], [0.5555555555555556, \"#d8576b\"], [0.6666666666666666, \"#ed7953\"], [0.7777777777777778, \"#fb9f3a\"], [0.8888888888888888, \"#fdca26\"], [1.0, \"#f0f921\"]], \"type\": \"histogram2d\"}], \"histogram2dcontour\": [{\"colorbar\": {\"outlinewidth\": 0, \"ticks\": \"\"}, \"colorscale\": [[0.0, \"#0d0887\"], [0.1111111111111111, \"#46039f\"], [0.2222222222222222, \"#7201a8\"], [0.3333333333333333, \"#9c179e\"], [0.4444444444444444, \"#bd3786\"], [0.5555555555555556, \"#d8576b\"], [0.6666666666666666, \"#ed7953\"], [0.7777777777777778, \"#fb9f3a\"], [0.8888888888888888, \"#fdca26\"], [1.0, \"#f0f921\"]], \"type\": \"histogram2dcontour\"}], \"mesh3d\": [{\"colorbar\": {\"outlinewidth\": 0, \"ticks\": \"\"}, \"type\": \"mesh3d\"}], \"parcoords\": [{\"line\": {\"colorbar\": {\"outlinewidth\": 0, \"ticks\": \"\"}}, \"type\": \"parcoords\"}], \"pie\": [{\"automargin\": true, \"type\": \"pie\"}], \"scatter\": [{\"marker\": {\"colorbar\": {\"outlinewidth\": 0, \"ticks\": \"\"}}, \"type\": \"scatter\"}], \"scatter3d\": [{\"line\": {\"colorbar\": {\"outlinewidth\": 0, \"ticks\": \"\"}}, \"marker\": {\"colorbar\": {\"outlinewidth\": 0, \"ticks\": \"\"}}, \"type\": \"scatter3d\"}], \"scattercarpet\": [{\"marker\": {\"colorbar\": {\"outlinewidth\": 0, \"ticks\": \"\"}}, \"type\": \"scattercarpet\"}], \"scattergeo\": [{\"marker\": {\"colorbar\": {\"outlinewidth\": 0, \"ticks\": \"\"}}, \"type\": \"scattergeo\"}], \"scattergl\": [{\"marker\": {\"colorbar\": {\"outlinewidth\": 0, \"ticks\": \"\"}}, \"type\": \"scattergl\"}], \"scattermapbox\": [{\"marker\": {\"colorbar\": {\"outlinewidth\": 0, \"ticks\": \"\"}}, \"type\": \"scattermapbox\"}], \"scatterpolar\": [{\"marker\": {\"colorbar\": {\"outlinewidth\": 0, \"ticks\": \"\"}}, \"type\": \"scatterpolar\"}], \"scatterpolargl\": [{\"marker\": {\"colorbar\": {\"outlinewidth\": 0, \"ticks\": \"\"}}, \"type\": \"scatterpolargl\"}], \"scatterternary\": [{\"marker\": {\"colorbar\": {\"outlinewidth\": 0, \"ticks\": \"\"}}, \"type\": \"scatterternary\"}], \"surface\": [{\"colorbar\": {\"outlinewidth\": 0, \"ticks\": \"\"}, \"colorscale\": [[0.0, \"#0d0887\"], [0.1111111111111111, \"#46039f\"], [0.2222222222222222, \"#7201a8\"], [0.3333333333333333, \"#9c179e\"], [0.4444444444444444, \"#bd3786\"], [0.5555555555555556, \"#d8576b\"], [0.6666666666666666, \"#ed7953\"], [0.7777777777777778, \"#fb9f3a\"], [0.8888888888888888, \"#fdca26\"], [1.0, \"#f0f921\"]], \"type\": \"surface\"}], \"table\": [{\"cells\": {\"fill\": {\"color\": \"#EBF0F8\"}, \"line\": {\"color\": \"white\"}}, \"header\": {\"fill\": {\"color\": \"#C8D4E3\"}, \"line\": {\"color\": \"white\"}}, \"type\": \"table\"}]}, \"layout\": {\"annotationdefaults\": {\"arrowcolor\": \"#2a3f5f\", \"arrowhead\": 0, \"arrowwidth\": 1}, \"coloraxis\": {\"colorbar\": {\"outlinewidth\": 0, \"ticks\": \"\"}}, \"colorscale\": {\"diverging\": [[0, \"#8e0152\"], [0.1, \"#c51b7d\"], [0.2, \"#de77ae\"], [0.3, \"#f1b6da\"], [0.4, \"#fde0ef\"], [0.5, \"#f7f7f7\"], [0.6, \"#e6f5d0\"], [0.7, \"#b8e186\"], [0.8, \"#7fbc41\"], [0.9, \"#4d9221\"], [1, \"#276419\"]], \"sequential\": [[0.0, \"#0d0887\"], [0.1111111111111111, \"#46039f\"], [0.2222222222222222, \"#7201a8\"], [0.3333333333333333, \"#9c179e\"], [0.4444444444444444, \"#bd3786\"], [0.5555555555555556, \"#d8576b\"], [0.6666666666666666, \"#ed7953\"], [0.7777777777777778, \"#fb9f3a\"], [0.8888888888888888, \"#fdca26\"], [1.0, \"#f0f921\"]], \"sequentialminus\": [[0.0, \"#0d0887\"], [0.1111111111111111, \"#46039f\"], [0.2222222222222222, \"#7201a8\"], [0.3333333333333333, \"#9c179e\"], [0.4444444444444444, \"#bd3786\"], [0.5555555555555556, \"#d8576b\"], [0.6666666666666666, \"#ed7953\"], [0.7777777777777778, \"#fb9f3a\"], [0.8888888888888888, \"#fdca26\"], [1.0, \"#f0f921\"]]}, \"colorway\": [\"#636efa\", \"#EF553B\", \"#00cc96\", \"#ab63fa\", \"#FFA15A\", \"#19d3f3\", \"#FF6692\", \"#B6E880\", \"#FF97FF\", \"#FECB52\"], \"font\": {\"color\": \"#2a3f5f\"}, \"geo\": {\"bgcolor\": \"white\", \"lakecolor\": \"white\", \"landcolor\": \"#E5ECF6\", \"showlakes\": true, \"showland\": true, \"subunitcolor\": \"white\"}, \"hoverlabel\": {\"align\": \"left\"}, \"hovermode\": \"closest\", \"mapbox\": {\"style\": \"light\"}, \"paper_bgcolor\": \"white\", \"plot_bgcolor\": \"#E5ECF6\", \"polar\": {\"angularaxis\": {\"gridcolor\": \"white\", \"linecolor\": \"white\", \"ticks\": \"\"}, \"bgcolor\": \"#E5ECF6\", \"radialaxis\": {\"gridcolor\": \"white\", \"linecolor\": \"white\", \"ticks\": \"\"}}, \"scene\": {\"xaxis\": {\"backgroundcolor\": \"#E5ECF6\", \"gridcolor\": \"white\", \"gridwidth\": 2, \"linecolor\": \"white\", \"showbackground\": true, \"ticks\": \"\", \"zerolinecolor\": \"white\"}, \"yaxis\": {\"backgroundcolor\": \"#E5ECF6\", \"gridcolor\": \"white\", \"gridwidth\": 2, \"linecolor\": \"white\", \"showbackground\": true, \"ticks\": \"\", \"zerolinecolor\": \"white\"}, \"zaxis\": {\"backgroundcolor\": \"#E5ECF6\", \"gridcolor\": \"white\", \"gridwidth\": 2, \"linecolor\": \"white\", \"showbackground\": true, \"ticks\": \"\", \"zerolinecolor\": \"white\"}}, \"shapedefaults\": {\"line\": {\"color\": \"#2a3f5f\"}}, \"ternary\": {\"aaxis\": {\"gridcolor\": \"white\", \"linecolor\": \"white\", \"ticks\": \"\"}, \"baxis\": {\"gridcolor\": \"white\", \"linecolor\": \"white\", \"ticks\": \"\"}, \"bgcolor\": \"#E5ECF6\", \"caxis\": {\"gridcolor\": \"white\", \"linecolor\": \"white\", \"ticks\": \"\"}}, \"title\": {\"x\": 0.05}, \"xaxis\": {\"automargin\": true, \"gridcolor\": \"white\", \"linecolor\": \"white\", \"ticks\": \"\", \"title\": {\"standoff\": 15}, \"zerolinecolor\": \"white\", \"zerolinewidth\": 2}, \"yaxis\": {\"automargin\": true, \"gridcolor\": \"white\", \"linecolor\": \"white\", \"ticks\": \"\", \"title\": {\"standoff\": 15}, \"zerolinecolor\": \"white\", \"zerolinewidth\": 2}}}, \"title\": {\"text\": \"\\u0413\\u0440\\u0430\\u0444\\u0438\\u043a \\u0442\\u0438\\u043a\\u0435\\u0440\\u0430 SBER\"}, \"width\": 1000, \"xaxis\": {\"anchor\": \"y\", \"domain\": [0.0, 1.0], \"matches\": \"x3\", \"rangeslider\": {\"visible\": false}, \"showticklabels\": false}, \"xaxis2\": {\"anchor\": \"y2\", \"domain\": [0.0, 1.0], \"matches\": \"x3\", \"showticklabels\": false}, \"xaxis3\": {\"anchor\": \"y3\", \"domain\": [0.0, 1.0]}, \"yaxis\": {\"anchor\": \"x\", \"domain\": [0.424, 1.0], \"title\": {\"text\": \"\\u0426\\u0435\\u043d\\u0430\"}}, \"yaxis2\": {\"anchor\": \"x2\", \"domain\": [0.212, 0.404], \"title\": {\"text\": \"MACD\"}}, \"yaxis3\": {\"anchor\": \"x3\", \"domain\": [0.0, 0.192], \"title\": {\"text\": \"%Willams\"}}},\n",
       "                        {\"responsive\": true}\n",
       "                    ).then(function(){\n",
       "                            \n",
       "var gd = document.getElementById('889d32b7-6d54-4546-b1ae-5c439cddc088');\n",
       "var x = new MutationObserver(function (mutations, observer) {{\n",
       "        var display = window.getComputedStyle(gd).display;\n",
       "        if (!display || display === 'none') {{\n",
       "            console.log([gd, 'removed!']);\n",
       "            Plotly.purge(gd);\n",
       "            observer.disconnect();\n",
       "        }}\n",
       "}});\n",
       "\n",
       "// Listen for the removal of the full notebook cells\n",
       "var notebookContainer = gd.closest('#notebook-container');\n",
       "if (notebookContainer) {{\n",
       "    x.observe(notebookContainer, {childList: true});\n",
       "}}\n",
       "\n",
       "// Listen for the clearing of the current output cell\n",
       "var outputEl = gd.closest('.output');\n",
       "if (outputEl) {{\n",
       "    x.observe(outputEl, {childList: true});\n",
       "}}\n",
       "\n",
       "                        })\n",
       "                };\n",
       "                });\n",
       "            </script>\n",
       "        </div>"
      ]
     },
     "metadata": {},
     "output_type": "display_data"
    }
   ],
   "source": [
    "# Расчет линии регрессии за последние 8 баров\n",
    "downsampled_reg, downsampled_ugol_reg = RegAngleLine(downsampled_df.close, reg_n)\n",
    "\n",
    "fig = make_subplots(rows=3, cols=1, shared_xaxes=True, vertical_spacing=0.02, row_heights=[0.6, 0.2, 0.2])\n",
    "\n",
    "fig.add_trace(go.Candlestick(x=downsampled_df.index,\n",
    "                             open=downsampled_df['open'],\n",
    "                             high=downsampled_df['high'],\n",
    "                             low=downsampled_df['low'],\n",
    "                             close=downsampled_df['close'],\n",
    "                             name=ticker),\n",
    "              row=1, col=1)\n",
    "# **********************************************************************************************************\n",
    "fig.add_trace(go.Scatter(\n",
    "                x=downsampled_df.index,\n",
    "                y=downsampled_df['MA_fast'],\n",
    "                name=\"MA_fast\",\n",
    "                line_color='red',\n",
    "                opacity=1),\n",
    "             row=1, col=1)\n",
    "\n",
    "fig.add_trace(go.Scatter(\n",
    "                x=downsampled_df.index,\n",
    "                y=downsampled_df['MA_slow'],\n",
    "                name=\"MA_slow\",\n",
    "                line_color='blue',\n",
    "                opacity=1),\n",
    "             row=1, col=1)\n",
    "# **********************************************************************************************************\n",
    "if downsampled_reg[-1] < downsampled_reg[-2]:\n",
    "    reg_col = 'red'\n",
    "else:\n",
    "    reg_col = 'green'    \n",
    "fig.add_trace(go.Scatter(\n",
    "                x=downsampled_df.index[-reg_n:],\n",
    "                y=downsampled_reg,\n",
    "                name=\"Reg_line: \" + str(round(downsampled_ugol_reg,0)) + ' deg',\n",
    "                line_color=reg_col,\n",
    "                opacity=1),\n",
    "             row=1, col=1)\n",
    "# **********************************************************************************************************\n",
    "fig.add_trace(go.Bar(x=downsampled_df.index,\n",
    "                         y=downsampled_df.MACD,\n",
    "                         name=\"MACD\"), \n",
    "              row=2, col=1)\n",
    "# **********************************************************************************************************\n",
    "fig.add_trace(go.Scatter(x=downsampled_df.index,\n",
    "                         y=downsampled_df.WILLR,\n",
    "                         name=\"%Willams\"), \n",
    "              row=3, col=1)\n",
    "# **********************************************************************************************************\n",
    "fig.update_yaxes(title_text=\"Цена\", row=1, col=1)\n",
    "fig.update_yaxes(title_text=\"MACD\", row=2, col=1)\n",
    "fig.update_yaxes(title_text=\"%Willams\", row=3, col=1)\n",
    "fig.update_layout(height = 800, width=1000, title_text=\"График тикера \" + ticker, xaxis_rangeslider_visible=False)\n",
    "fig.show()\n",
    "\n",
    "fig.write_image(ticker + \"_fig.png\")"
   ]
  },
  {
   "cell_type": "code",
   "execution_count": 59,
   "metadata": {
    "scrolled": true
   },
   "outputs": [
    {
     "name": "stdout",
     "output_type": "stream",
     "text": [
      "Анализ верхнеуровневого таймфрейма:\n",
      "За последние 5 баров изменение цены составило 5.59%, т.е. цены растут. Долгосрочное изменение цены составлет -18.32% (за 15 баров). \n",
      "Линия регрессии, построенная за последние 8 баров, направлена вверх. Угол наклона составляет 41.4 градусов.\n",
      "Цена находится ниже быстрой MA. Быстрая MA, в свою очередь, находится ниже медленной MA. Все это может говорить нам о том, что сейчас на рынке наблюдается сильный нисходящий тренд. \n",
      "!!!!Доделать параметры MA, взять голубую и красную линии аллигатора. И подумать, нужно ли их смещать!!!!\n",
      "MACD находится ниже нулевой линии. Значения инидикатора MACD повышаются.\n",
      "Значение индикатора %Williams равно -28.0. Индикатор %Williams не находится на текущий момент в экстремальных зонах. \n",
      "!!!!Доделать вывод лейблов к последним барам, если они являются паттернами!!!!\n",
      "\n",
      "Итоги:\n",
      "Горизонтальное или разнонаправленное направление движдения рынка (флет). Общие рекомендации, торговать внутрь канала и ждать прорыва волатильности. Предпочтительные стратегии: система канала, дивергентный бар, прорыв волатильности.\n"
     ]
    }
   ],
   "source": [
    "print('Анализ верхнеуровневого таймфрейма:')\n",
    "\n",
    "# Цена. Процент изменения цены и линия регрессии\n",
    "annot_str = 'За последние 5 баров изменение цены составило ' + str(round(downsampled_df.prcntChng_5[-1] * 100, 2)) + '%, т.е. цены ' + ('растут. ' if downsampled_df.prcntChng_5[-1]>0 else 'падают. ')\n",
    "annot_str = annot_str + 'Долгосрочное изменение цены составлет '+ str(round(downsampled_df.prcntChng_15[-1] * 100, 2)) + '% (за 15 баров). '\n",
    "print(annot_str)\n",
    "\n",
    "annot_str = 'Линия регрессии, построенная за последние 8 баров, направлена ' + ('вниз' if downsampled_reg[-1] < downsampled_reg[-2] else 'вверх') + '. ' \n",
    "annot_str = annot_str + 'Угол наклона составляет ' + str(round(downsampled_ugol_reg, 1)) + ' градусов.'\n",
    "print(annot_str)\n",
    "\n",
    "# MA\n",
    "annot_str = 'Цена находится ' + ('выше' if downsampled_df.MA_fast_price_pos[-1] == 1 else 'ниже') + ' быстрой MA. '\n",
    "annot_str = annot_str + 'Быстрая MA, в свою очередь, находится ' + ('выше' if downsampled_df.MA_fast_slow_pos[-1] == 1 else 'ниже') + ' медленной MA. '\n",
    "annot_str = annot_str + 'Все это может говорить нам о том, что сейчас на рынке наблюдается '\n",
    "if downsampled_df.MA_fast_price_pos[-1] == 1 and downsampled_df.MA_fast_slow_pos[-1] == 1:\n",
    "    annot_str = annot_str + 'сильный восходящий тренд. '\n",
    "elif downsampled_df.MA_fast_price_pos[-1] == 0 and downsampled_df.MA_fast_slow_pos[-1] == 0:\n",
    "    annot_str = annot_str + 'сильный нисходящий тренд. '\n",
    "else:\n",
    "    annot_str = annot_str + 'разнонаправленное горизонтальное движение рынка (флет) или наблюдается смена тренда. '\n",
    "print(annot_str)\n",
    "print('!!!!Доделать параметры MA, взять голубую и красную линии аллигатора. И подумать, нужно ли их смещать!!!!')\n",
    "\n",
    "# MACD\n",
    "annot_str = 'MACD находится ' + ('выше' if downsampled_df.MACD[-1] > 0 else 'ниже') + ' нулевой линии. '\n",
    "annot_str = annot_str + 'Значения инидикатора MACD ' + ('снижаются.' if downsampled_df.MACDchg[-1] == 0 else 'повышаются.')\n",
    "if downsampled_df.MACDdiv[-1] > 0:\n",
    "    annot_str = annot_str + 'Также присутствует бычье расхождение между ценой и индикатором MACD.'\n",
    "if downsampled_df.MACDdiv[-1] < 0:\n",
    "    annot_str = annot_str + 'Также присутствует медвежье расхождение между ценой и индикатором MACD.'\n",
    "print(annot_str)\n",
    "\n",
    "# Осцилляторы\n",
    "annot_str = 'Значение индикатора %Williams равно ' + str(round(downsampled_df.WILLR[-1], 0)) + '. '\n",
    "\n",
    "if downsampled_df.WILLRoverZones[-1] > 0:\n",
    "    annot_str = annot_str + 'Индикатор %Williams находится в зоне перепроданности. '\n",
    "elif downsampled_df.WILLRoverZones[-1] < 0:\n",
    "    annot_str = annot_str + 'Индикатор %Williams находится в зоне перекупленности. '\n",
    "else:\n",
    "    annot_str = annot_str + 'Индикатор %Williams не находится на текущий момент в экстремальных зонах. '\n",
    "    \n",
    "if downsampled_df.WILLRdiv_short[-1] > 0:\n",
    "    annot_str = annot_str + 'Также присутствует краткосрочное бычье расхождение между ценой и индикатором %Williams. Что может говорить о скором появлении восходящего движения цены.'\n",
    "if downsampled_df.WILLRdiv_short[-1] < 0:\n",
    "    annot_str = annot_str + 'Также присутствует краткосрочное медвежье расхождение между ценой и индикатором %Williams. Что может говорить о скором появлении нисходящего движения цены.'\n",
    "\n",
    "if downsampled_df.WILLRdiv_long[-1] > 0:\n",
    "    annot_str = annot_str + 'Также присутствует среднесрочное бычье расхождение между ценой и индикатором %Williams. Что может говорить о скором появлении восходящего движения цены.'\n",
    "if downsampled_df.WILLRdiv_long[-1] < 0:\n",
    "    annot_str = annot_str + 'Также присутствует среднесрочное медвежье расхождение между ценой и индикатором %Williams. Что может говорить о скором появлении нисходящего движения цены.'    \n",
    "print(annot_str)\n",
    "\n",
    "# Свечные паттерны\n",
    "annot_str = ''\n",
    "if downsampled_df.Hummer[-3:-1].max() > 0:\n",
    "    annot_str = annot_str + 'Один из трех последних баров представляет собой свечной паттерн Hummer, что может являтся сигналом разворота.'\n",
    "if downsampled_df.ShootingStar[-3:-1].min() < 0:\n",
    "    annot_str = annot_str + 'Один из трех последних баров представляет собой свечной паттерн ShootingStar, что может являтся сигналом разворота.'\n",
    "if downsampled_df.DivBar[-3:-1].max() > 0:\n",
    "    annot_str = annot_str + 'Один из трех последних баров представляет собой дивергентный бар на покупку, что может являтся сигналом разворота.'\n",
    "if downsampled_df.DivBar[-3:-1].min() < 0:\n",
    "    annot_str = annot_str + 'Один из трех последних баров представляет собой дивергентный бар на продажу, что может являтся сигналом разворота.'\n",
    "print('!!!!Доделать вывод лейблов к последним барам, если они являются паттернами!!!!')\n",
    "print(annot_str)\n",
    "\n",
    "print('Итоги:')\n",
    "if downsampled_df.UpperTimeFrameCondition[-1] == 2:\n",
    "    print('Краткосрочный сильный тренд вверх. Общие рекомендации, покупать или оставаться вне рынка. Предпочтительные стратегии: три экрана.')\n",
    "elif downsampled_df.UpperTimeFrameCondition[-1] == -2:\n",
    "    print('Краткосрочный сильный тренд вниз. Общие рекомендации, продавать или оставаться вне рынка. Предпочитаемые стратегии: три экрана.')          \n",
    "elif downsampled_df.UpperTimeFrameCondition[-1] == 1:\n",
    "    print('Краткосрочный тренд вверх. Общие рекомендации, покупать, торговать на разворот при сильных сигналах или оставаться вне рынка. Предпочтительные стратегии: три экрана, система канала (с осторожностью), дивергентный бар (с осторожностью), прорыв волатильности.')\n",
    "elif downsampled_df.UpperTimeFrameCondition[-1] == -1:\n",
    "    print('Краткосрочный тренд вниз. Общие рекомендации, продавать, торговать на разворот при сильных сигналах или оставаться вне рынка. Предпочтительные стратегии: три экрана, система канала (с осторожностью), дивергентный бар (с осторожностью), прорыв волатильности.') \n",
    "else:\n",
    "    print('Горизонтальное или разнонаправленное направление движдения рынка (флет). Общие рекомендации, торговать внутрь канала и ждать прорыва волатильности. Предпочтительные стратегии: система канала, дивергентный бар, прорыв волатильности.')"
   ]
  },
  {
   "cell_type": "markdown",
   "metadata": {},
   "source": [
    "## Анализруем рабочий таймфрейм"
   ]
  },
  {
   "cell_type": "code",
   "execution_count": 60,
   "metadata": {},
   "outputs": [
    {
     "data": {
      "text/html": [
       "<div>\n",
       "<style scoped>\n",
       "    .dataframe tbody tr th:only-of-type {\n",
       "        vertical-align: middle;\n",
       "    }\n",
       "\n",
       "    .dataframe tbody tr th {\n",
       "        vertical-align: top;\n",
       "    }\n",
       "\n",
       "    .dataframe thead th {\n",
       "        text-align: right;\n",
       "    }\n",
       "</style>\n",
       "<table border=\"1\" class=\"dataframe\">\n",
       "  <thead>\n",
       "    <tr style=\"text-align: right;\">\n",
       "      <th></th>\n",
       "      <th>open</th>\n",
       "      <th>low</th>\n",
       "      <th>high</th>\n",
       "      <th>close</th>\n",
       "      <th>vol</th>\n",
       "      <th>regAngle_8</th>\n",
       "      <th>regAngleInterpreter_8</th>\n",
       "      <th>regAngle_35</th>\n",
       "      <th>regAngleInterpreter_35</th>\n",
       "      <th>MA_fast</th>\n",
       "      <th>...</th>\n",
       "      <th>w1_MACDchg</th>\n",
       "      <th>w1_MACDdiv</th>\n",
       "      <th>w1_WILLR</th>\n",
       "      <th>w1_WILLRoverZones</th>\n",
       "      <th>w1_WILLRdiv_short</th>\n",
       "      <th>w1_WILLRdiv_long</th>\n",
       "      <th>w1_Hummer</th>\n",
       "      <th>w1_ShootingStar</th>\n",
       "      <th>w1_DivBar</th>\n",
       "      <th>w1_UpperTimeFrameCondition</th>\n",
       "    </tr>\n",
       "    <tr>\n",
       "      <th>date_time</th>\n",
       "      <th></th>\n",
       "      <th></th>\n",
       "      <th></th>\n",
       "      <th></th>\n",
       "      <th></th>\n",
       "      <th></th>\n",
       "      <th></th>\n",
       "      <th></th>\n",
       "      <th></th>\n",
       "      <th></th>\n",
       "      <th></th>\n",
       "      <th></th>\n",
       "      <th></th>\n",
       "      <th></th>\n",
       "      <th></th>\n",
       "      <th></th>\n",
       "      <th></th>\n",
       "      <th></th>\n",
       "      <th></th>\n",
       "      <th></th>\n",
       "      <th></th>\n",
       "    </tr>\n",
       "  </thead>\n",
       "  <tbody>\n",
       "    <tr>\n",
       "      <td>2020-05-04</td>\n",
       "      <td>195.68</td>\n",
       "      <td>193.26</td>\n",
       "      <td>195.68</td>\n",
       "      <td>193.69</td>\n",
       "      <td>56398200</td>\n",
       "      <td>39.418111</td>\n",
       "      <td>1</td>\n",
       "      <td>11.705305</td>\n",
       "      <td>1</td>\n",
       "      <td>193.136854</td>\n",
       "      <td>...</td>\n",
       "      <td>1.0</td>\n",
       "      <td>0.0</td>\n",
       "      <td>-28.296786</td>\n",
       "      <td>0.0</td>\n",
       "      <td>0.0</td>\n",
       "      <td>0.0</td>\n",
       "      <td>0.0</td>\n",
       "      <td>0.0</td>\n",
       "      <td>0.0</td>\n",
       "      <td>0.0</td>\n",
       "    </tr>\n",
       "    <tr>\n",
       "      <td>2020-05-05</td>\n",
       "      <td>195.51</td>\n",
       "      <td>194.00</td>\n",
       "      <td>196.46</td>\n",
       "      <td>194.75</td>\n",
       "      <td>35439260</td>\n",
       "      <td>38.738151</td>\n",
       "      <td>1</td>\n",
       "      <td>14.168768</td>\n",
       "      <td>1</td>\n",
       "      <td>193.495331</td>\n",
       "      <td>...</td>\n",
       "      <td>1.0</td>\n",
       "      <td>0.0</td>\n",
       "      <td>-28.296786</td>\n",
       "      <td>0.0</td>\n",
       "      <td>0.0</td>\n",
       "      <td>0.0</td>\n",
       "      <td>0.0</td>\n",
       "      <td>0.0</td>\n",
       "      <td>0.0</td>\n",
       "      <td>0.0</td>\n",
       "    </tr>\n",
       "    <tr>\n",
       "      <td>2020-05-06</td>\n",
       "      <td>195.00</td>\n",
       "      <td>194.30</td>\n",
       "      <td>197.23</td>\n",
       "      <td>195.70</td>\n",
       "      <td>49561410</td>\n",
       "      <td>39.540021</td>\n",
       "      <td>1</td>\n",
       "      <td>13.738163</td>\n",
       "      <td>1</td>\n",
       "      <td>193.985258</td>\n",
       "      <td>...</td>\n",
       "      <td>1.0</td>\n",
       "      <td>0.0</td>\n",
       "      <td>-28.296786</td>\n",
       "      <td>0.0</td>\n",
       "      <td>0.0</td>\n",
       "      <td>0.0</td>\n",
       "      <td>0.0</td>\n",
       "      <td>0.0</td>\n",
       "      <td>0.0</td>\n",
       "      <td>0.0</td>\n",
       "    </tr>\n",
       "    <tr>\n",
       "      <td>2020-05-07</td>\n",
       "      <td>196.00</td>\n",
       "      <td>195.06</td>\n",
       "      <td>198.15</td>\n",
       "      <td>195.51</td>\n",
       "      <td>57728990</td>\n",
       "      <td>28.882563</td>\n",
       "      <td>1</td>\n",
       "      <td>10.468963</td>\n",
       "      <td>1</td>\n",
       "      <td>194.324089</td>\n",
       "      <td>...</td>\n",
       "      <td>1.0</td>\n",
       "      <td>0.0</td>\n",
       "      <td>-28.296786</td>\n",
       "      <td>0.0</td>\n",
       "      <td>0.0</td>\n",
       "      <td>0.0</td>\n",
       "      <td>0.0</td>\n",
       "      <td>0.0</td>\n",
       "      <td>0.0</td>\n",
       "      <td>0.0</td>\n",
       "    </tr>\n",
       "    <tr>\n",
       "      <td>2020-05-08</td>\n",
       "      <td>196.00</td>\n",
       "      <td>194.60</td>\n",
       "      <td>196.25</td>\n",
       "      <td>196.02</td>\n",
       "      <td>33836340</td>\n",
       "      <td>10.124672</td>\n",
       "      <td>1</td>\n",
       "      <td>11.102691</td>\n",
       "      <td>1</td>\n",
       "      <td>194.700958</td>\n",
       "      <td>...</td>\n",
       "      <td>1.0</td>\n",
       "      <td>0.0</td>\n",
       "      <td>-28.296786</td>\n",
       "      <td>0.0</td>\n",
       "      <td>0.0</td>\n",
       "      <td>0.0</td>\n",
       "      <td>0.0</td>\n",
       "      <td>0.0</td>\n",
       "      <td>0.0</td>\n",
       "      <td>0.0</td>\n",
       "    </tr>\n",
       "  </tbody>\n",
       "</table>\n",
       "<p>5 rows × 56 columns</p>\n",
       "</div>"
      ],
      "text/plain": [
       "              open     low    high   close       vol  regAngle_8  \\\n",
       "date_time                                                          \n",
       "2020-05-04  195.68  193.26  195.68  193.69  56398200   39.418111   \n",
       "2020-05-05  195.51  194.00  196.46  194.75  35439260   38.738151   \n",
       "2020-05-06  195.00  194.30  197.23  195.70  49561410   39.540021   \n",
       "2020-05-07  196.00  195.06  198.15  195.51  57728990   28.882563   \n",
       "2020-05-08  196.00  194.60  196.25  196.02  33836340   10.124672   \n",
       "\n",
       "            regAngleInterpreter_8  regAngle_35  regAngleInterpreter_35  \\\n",
       "date_time                                                                \n",
       "2020-05-04                      1    11.705305                       1   \n",
       "2020-05-05                      1    14.168768                       1   \n",
       "2020-05-06                      1    13.738163                       1   \n",
       "2020-05-07                      1    10.468963                       1   \n",
       "2020-05-08                      1    11.102691                       1   \n",
       "\n",
       "               MA_fast  ...  w1_MACDchg  w1_MACDdiv   w1_WILLR  \\\n",
       "date_time               ...                                      \n",
       "2020-05-04  193.136854  ...         1.0         0.0 -28.296786   \n",
       "2020-05-05  193.495331  ...         1.0         0.0 -28.296786   \n",
       "2020-05-06  193.985258  ...         1.0         0.0 -28.296786   \n",
       "2020-05-07  194.324089  ...         1.0         0.0 -28.296786   \n",
       "2020-05-08  194.700958  ...         1.0         0.0 -28.296786   \n",
       "\n",
       "            w1_WILLRoverZones  w1_WILLRdiv_short  w1_WILLRdiv_long  w1_Hummer  \\\n",
       "date_time                                                                       \n",
       "2020-05-04                0.0                0.0               0.0        0.0   \n",
       "2020-05-05                0.0                0.0               0.0        0.0   \n",
       "2020-05-06                0.0                0.0               0.0        0.0   \n",
       "2020-05-07                0.0                0.0               0.0        0.0   \n",
       "2020-05-08                0.0                0.0               0.0        0.0   \n",
       "\n",
       "            w1_ShootingStar  w1_DivBar  w1_UpperTimeFrameCondition  \n",
       "date_time                                                           \n",
       "2020-05-04              0.0        0.0                         0.0  \n",
       "2020-05-05              0.0        0.0                         0.0  \n",
       "2020-05-06              0.0        0.0                         0.0  \n",
       "2020-05-07              0.0        0.0                         0.0  \n",
       "2020-05-08              0.0        0.0                         0.0  \n",
       "\n",
       "[5 rows x 56 columns]"
      ]
     },
     "execution_count": 60,
     "metadata": {},
     "output_type": "execute_result"
    }
   ],
   "source": [
    "df['regAngle_8'] = RegAngle(df.close, 8)\n",
    "df['regAngleInterpreter_8'] = df['regAngle_8'].apply(LinRegInterpreter)\n",
    "df['regAngle_35'] = RegAngle(df.close, 35)\n",
    "df['regAngleInterpreter_35'] = df['regAngle_35'].apply(LinRegInterpreter)\n",
    "\n",
    "df['MA_fast'] = ta.EMA(df.close, 8)\n",
    "df['MA_slow'] = ta.EMA(df.close, 13)\n",
    "df['MA_fast_price_pos'] = df.close - df.MA_fast\n",
    "df['MA_fast_price_pos'] = df.MA_fast_price_pos.apply(lambda x: 1 if x > 0 else 0)\n",
    "df['MA_fast_slow_pos'] = df.MA_fast - df.MA_slow\n",
    "df['MA_fast_slow_pos'] = df.MA_fast_slow_pos.apply(lambda x: 1 if x > 0 else 0)\n",
    "\n",
    "df['MACD'], _, _ = ta.MACD(df.close, fastperiod=5, slowperiod=35, signalperiod=3)\n",
    "df['MACDchg'] = df['MACD'].shift(1)\n",
    "df['MACDchg'] = df['MACD'] - df['MACDchg']\n",
    "df['MACDchg'] = df['MACDchg'].apply(lambda x: 1 if x>0 else 0)\n",
    "df['MACDdiv_short'] = DIVERGENCE(df.high, df.low, df.MACD, 3, 8)\n",
    "df['MACDdiv_long'] = DIVERGENCE(df.high, df.low, df.MACD, 5, 35)\n",
    "\n",
    "df['WILLR'] = ta.WILLR(df.high, df.low, df.close, timeperiod=8)\n",
    "df['WILLRoverZones'] = df.WILLR.apply(OverZonesInd, args=[-20, -80])\n",
    "df['WILLRdiv_short'] = DIVERGENCE(df.high, df.low, df.WILLR, 3, 8)\n",
    "df['WILLRdiv_long'] = DIVERGENCE(df.high, df.low, df.WILLR, 5, 35)\n",
    "\n",
    "df['CCI'] = ta.CCI(df.high, df.low, df.close, timeperiod=12)\n",
    "df['CCIoverZones'] = df.CCI.apply(OverZonesInd, args=[100, -100])\n",
    "df['CCIdiv_short'] = DIVERGENCE(df.high, df.low, df.CCI, 3, 8)\n",
    "df['CCIdiv_long'] = DIVERGENCE(df.high, df.low, df.CCI, 5, 35)\n",
    "\n",
    "df['upBB'], df['midBB'], df['lowBB'] = ta.BBANDS(df.close, timeperiod=5, nbdevup=2, nbdevdn=2, matype=0)\n",
    "df['BBTouch'] = BBTouch(df['upBB'], df['midBB'], df.high, df.low, 0.1)\n",
    "\n",
    "df['Hummer'] = ta.CDLHAMMER(df.open, df.high, df.low, df.close)\n",
    "df['ShootingStar'] = ta.CDLSHOOTINGSTAR(df.open, df.high, df.low, df.close)\n",
    "df['DivBar'] = DIVBAR(df.high, df.low, df.close)\n",
    "\n",
    "# добавляем данные с недельного ТФ\n",
    "resample_bfill = downsampled_df.resample('D').bfill()\n",
    "new_list = []\n",
    "for c in resample_bfill.columns:\n",
    "    new_list.append('w1_' + c)\n",
    "resample_bfill.columns = new_list\n",
    "df = df.merge(right=resample_bfill, how='left', on='date_time')\n",
    "\n",
    "research_window = 100 # Число баров для анализа\n",
    "df_short = df[-research_window:]\n",
    "df_short.tail()"
   ]
  },
  {
   "cell_type": "code",
   "execution_count": 30,
   "metadata": {},
   "outputs": [
    {
     "data": {
      "application/vnd.plotly.v1+json": {
       "config": {
        "plotlyServerURL": "https://plot.ly"
       },
       "data": [
        {
         "close": [
          241.05,
          241.21,
          241.45,
          241.6,
          246.2,
          244,
          244.71,
          248.8,
          248.67,
          248.04,
          248.24,
          252.06,
          254.75,
          255,
          253.9,
          259.15,
          257.99,
          258.19,
          262.4,
          259.05,
          256.31,
          257.51,
          262.5,
          266.28,
          268.06,
          266.54,
          263.73,
          265.49,
          255.32,
          257.7,
          259.94,
          257.31,
          252.2,
          253.99,
          255.4,
          255.2,
          252.11,
          254.3,
          252.26,
          254.5,
          254.5,
          253.89,
          251.75,
          251.36,
          249.2,
          249.7,
          250.15,
          250.8,
          245.19,
          250.8,
          242.88,
          233.36,
          228.17,
          236.63,
          235.27,
          232.33,
          219.99,
          201.2,
          194.53,
          175.91,
          198.6,
          195.85,
          184.01,
          174.27,
          189.51,
          195.69,
          183.37,
          192.64,
          188.08,
          188.07,
          180.38,
          183,
          187.21,
          184.78,
          186.95,
          185.64,
          190.7,
          197.63,
          200.29,
          203.61,
          201.99,
          198.26,
          197.37,
          186.07,
          188.5,
          191.8,
          189.32,
          186.05,
          190.2,
          190.94,
          188.91,
          188.9,
          192.8,
          195.8,
          197.25,
          193.69,
          194.75,
          195.7,
          195.51,
          196.02
         ],
         "high": [
          242.3,
          243.25,
          242.48,
          242.96,
          246.25,
          248.4,
          245.4,
          249.19,
          249.89,
          249.3,
          249.24,
          252.95,
          256,
          258.19,
          254.84,
          259.15,
          261.76,
          259.25,
          262.4,
          263.22,
          258.91,
          259.51,
          262.82,
          266.97,
          268.9,
          270.8,
          266.89,
          267.5,
          262.1,
          258.84,
          261.57,
          258.69,
          259.2,
          254.96,
          257.38,
          257.66,
          258,
          254.3,
          255.73,
          259.77,
          255.49,
          255.18,
          254.4,
          253.1,
          250.44,
          250.68,
          252.17,
          251.49,
          249,
          251.21,
          248.98,
          239,
          241,
          239,
          236.7,
          238.72,
          229.2,
          212.74,
          204.33,
          187.87,
          199.52,
          196.7,
          204.78,
          182.2,
          190.15,
          201.86,
          190.99,
          195,
          201,
          191.2,
          188.97,
          183.2,
          188.77,
          185.47,
          189.9,
          187.49,
          192.02,
          200.54,
          200.29,
          205.44,
          202.75,
          202.16,
          202.85,
          196.25,
          191.67,
          192.7,
          192.23,
          187.5,
          191.94,
          192.5,
          191.65,
          190.5,
          194.22,
          195.8,
          199.7,
          195.68,
          196.46,
          197.23,
          198.15,
          196.25
         ],
         "low": [
          240.09,
          241.1,
          240.13,
          241,
          240.36,
          243.1,
          243.72,
          244.07,
          247.27,
          247.11,
          246.71,
          248.55,
          250.73,
          253.7,
          251.4,
          253.03,
          257.01,
          256.88,
          257.15,
          258.62,
          254.21,
          256.1,
          257.75,
          261.8,
          263.02,
          265.5,
          262.24,
          264.21,
          255.32,
          254.1,
          257.61,
          255.27,
          252.17,
          251.1,
          252.9,
          253.14,
          251.86,
          248.73,
          252.07,
          253,
          252.31,
          252.5,
          251.4,
          250.13,
          247.57,
          247.95,
          249.13,
          247.24,
          245.17,
          243.22,
          242,
          231,
          218.86,
          232.28,
          232.62,
          230.64,
          216.67,
          184.86,
          192.05,
          173.14,
          174.3,
          186,
          183.8,
          172.15,
          173.06,
          192.05,
          182.1,
          189.1,
          182.32,
          182.8,
          180.17,
          174.9,
          184.25,
          182,
          182,
          184.28,
          186.42,
          193.02,
          195.12,
          199.3,
          200.7,
          197.32,
          196.1,
          186.06,
          183.53,
          188.28,
          187.31,
          183.65,
          184.5,
          188.68,
          187.7,
          188.43,
          188.17,
          192.86,
          195.46,
          193.26,
          194,
          194.3,
          195.06,
          194.6
         ],
         "name": "SBER",
         "open": [
          242,
          242,
          242.48,
          241.8,
          241.3,
          246.2,
          244.6,
          244.71,
          248.8,
          248.99,
          248.2,
          248.55,
          252.1,
          255.99,
          254.75,
          253.57,
          259.4,
          257.86,
          258.3,
          262.5,
          258.49,
          257.11,
          258.2,
          263.2,
          265.5,
          268.72,
          264.64,
          264.5,
          261,
          257,
          258.4,
          258,
          258.5,
          251.8,
          255.3,
          255.89,
          256.5,
          253.1,
          254.55,
          253.75,
          255.4,
          253.62,
          254.4,
          252.5,
          250.07,
          250.37,
          250.03,
          248.35,
          247.98,
          244.75,
          247.5,
          235,
          238.93,
          233,
          234.13,
          237,
          228,
          197.99,
          202,
          185.15,
          175,
          194,
          195,
          179,
          178.5,
          198.62,
          188,
          193.3,
          196.38,
          187.69,
          188.05,
          177,
          186,
          183.2,
          188.3,
          186.6,
          187.52,
          193.02,
          196.02,
          202.4,
          201.85,
          202,
          199.99,
          196,
          187.22,
          192.5,
          190.6,
          185.54,
          185.01,
          191.99,
          189.73,
          189.98,
          188.5,
          194.46,
          196.51,
          195.68,
          195.51,
          195,
          196,
          196
         ],
         "type": "candlestick",
         "x": [
          "2019-12-12T00:00:00",
          "2019-12-13T00:00:00",
          "2019-12-16T00:00:00",
          "2019-12-17T00:00:00",
          "2019-12-18T00:00:00",
          "2019-12-19T00:00:00",
          "2019-12-20T00:00:00",
          "2019-12-23T00:00:00",
          "2019-12-24T00:00:00",
          "2019-12-25T00:00:00",
          "2019-12-26T00:00:00",
          "2019-12-27T00:00:00",
          "2019-12-30T00:00:00",
          "2020-01-03T00:00:00",
          "2020-01-06T00:00:00",
          "2020-01-08T00:00:00",
          "2020-01-09T00:00:00",
          "2020-01-10T00:00:00",
          "2020-01-13T00:00:00",
          "2020-01-14T00:00:00",
          "2020-01-15T00:00:00",
          "2020-01-16T00:00:00",
          "2020-01-17T00:00:00",
          "2020-01-20T00:00:00",
          "2020-01-21T00:00:00",
          "2020-01-22T00:00:00",
          "2020-01-23T00:00:00",
          "2020-01-24T00:00:00",
          "2020-01-27T00:00:00",
          "2020-01-28T00:00:00",
          "2020-01-29T00:00:00",
          "2020-01-30T00:00:00",
          "2020-01-31T00:00:00",
          "2020-02-03T00:00:00",
          "2020-02-04T00:00:00",
          "2020-02-05T00:00:00",
          "2020-02-06T00:00:00",
          "2020-02-07T00:00:00",
          "2020-02-10T00:00:00",
          "2020-02-11T00:00:00",
          "2020-02-12T00:00:00",
          "2020-02-13T00:00:00",
          "2020-02-14T00:00:00",
          "2020-02-17T00:00:00",
          "2020-02-18T00:00:00",
          "2020-02-19T00:00:00",
          "2020-02-20T00:00:00",
          "2020-02-21T00:00:00",
          "2020-02-25T00:00:00",
          "2020-02-26T00:00:00",
          "2020-02-27T00:00:00",
          "2020-02-28T00:00:00",
          "2020-03-02T00:00:00",
          "2020-03-03T00:00:00",
          "2020-03-04T00:00:00",
          "2020-03-05T00:00:00",
          "2020-03-06T00:00:00",
          "2020-03-10T00:00:00",
          "2020-03-11T00:00:00",
          "2020-03-12T00:00:00",
          "2020-03-13T00:00:00",
          "2020-03-16T00:00:00",
          "2020-03-17T00:00:00",
          "2020-03-18T00:00:00",
          "2020-03-19T00:00:00",
          "2020-03-20T00:00:00",
          "2020-03-23T00:00:00",
          "2020-03-24T00:00:00",
          "2020-03-25T00:00:00",
          "2020-03-26T00:00:00",
          "2020-03-27T00:00:00",
          "2020-03-30T00:00:00",
          "2020-03-31T00:00:00",
          "2020-04-01T00:00:00",
          "2020-04-02T00:00:00",
          "2020-04-03T00:00:00",
          "2020-04-06T00:00:00",
          "2020-04-07T00:00:00",
          "2020-04-08T00:00:00",
          "2020-04-09T00:00:00",
          "2020-04-10T00:00:00",
          "2020-04-13T00:00:00",
          "2020-04-14T00:00:00",
          "2020-04-15T00:00:00",
          "2020-04-16T00:00:00",
          "2020-04-17T00:00:00",
          "2020-04-20T00:00:00",
          "2020-04-21T00:00:00",
          "2020-04-22T00:00:00",
          "2020-04-23T00:00:00",
          "2020-04-24T00:00:00",
          "2020-04-27T00:00:00",
          "2020-04-28T00:00:00",
          "2020-04-29T00:00:00",
          "2020-04-30T00:00:00",
          "2020-05-04T00:00:00",
          "2020-05-05T00:00:00",
          "2020-05-06T00:00:00",
          "2020-05-07T00:00:00",
          "2020-05-08T00:00:00"
         ],
         "xaxis": "x",
         "yaxis": "y"
        },
        {
         "line": {
          "color": "red"
         },
         "name": "MA_fast",
         "opacity": 1,
         "type": "scatter",
         "x": [
          "2019-12-12T00:00:00",
          "2019-12-13T00:00:00",
          "2019-12-16T00:00:00",
          "2019-12-17T00:00:00",
          "2019-12-18T00:00:00",
          "2019-12-19T00:00:00",
          "2019-12-20T00:00:00",
          "2019-12-23T00:00:00",
          "2019-12-24T00:00:00",
          "2019-12-25T00:00:00",
          "2019-12-26T00:00:00",
          "2019-12-27T00:00:00",
          "2019-12-30T00:00:00",
          "2020-01-03T00:00:00",
          "2020-01-06T00:00:00",
          "2020-01-08T00:00:00",
          "2020-01-09T00:00:00",
          "2020-01-10T00:00:00",
          "2020-01-13T00:00:00",
          "2020-01-14T00:00:00",
          "2020-01-15T00:00:00",
          "2020-01-16T00:00:00",
          "2020-01-17T00:00:00",
          "2020-01-20T00:00:00",
          "2020-01-21T00:00:00",
          "2020-01-22T00:00:00",
          "2020-01-23T00:00:00",
          "2020-01-24T00:00:00",
          "2020-01-27T00:00:00",
          "2020-01-28T00:00:00",
          "2020-01-29T00:00:00",
          "2020-01-30T00:00:00",
          "2020-01-31T00:00:00",
          "2020-02-03T00:00:00",
          "2020-02-04T00:00:00",
          "2020-02-05T00:00:00",
          "2020-02-06T00:00:00",
          "2020-02-07T00:00:00",
          "2020-02-10T00:00:00",
          "2020-02-11T00:00:00",
          "2020-02-12T00:00:00",
          "2020-02-13T00:00:00",
          "2020-02-14T00:00:00",
          "2020-02-17T00:00:00",
          "2020-02-18T00:00:00",
          "2020-02-19T00:00:00",
          "2020-02-20T00:00:00",
          "2020-02-21T00:00:00",
          "2020-02-25T00:00:00",
          "2020-02-26T00:00:00",
          "2020-02-27T00:00:00",
          "2020-02-28T00:00:00",
          "2020-03-02T00:00:00",
          "2020-03-03T00:00:00",
          "2020-03-04T00:00:00",
          "2020-03-05T00:00:00",
          "2020-03-06T00:00:00",
          "2020-03-10T00:00:00",
          "2020-03-11T00:00:00",
          "2020-03-12T00:00:00",
          "2020-03-13T00:00:00",
          "2020-03-16T00:00:00",
          "2020-03-17T00:00:00",
          "2020-03-18T00:00:00",
          "2020-03-19T00:00:00",
          "2020-03-20T00:00:00",
          "2020-03-23T00:00:00",
          "2020-03-24T00:00:00",
          "2020-03-25T00:00:00",
          "2020-03-26T00:00:00",
          "2020-03-27T00:00:00",
          "2020-03-30T00:00:00",
          "2020-03-31T00:00:00",
          "2020-04-01T00:00:00",
          "2020-04-02T00:00:00",
          "2020-04-03T00:00:00",
          "2020-04-06T00:00:00",
          "2020-04-07T00:00:00",
          "2020-04-08T00:00:00",
          "2020-04-09T00:00:00",
          "2020-04-10T00:00:00",
          "2020-04-13T00:00:00",
          "2020-04-14T00:00:00",
          "2020-04-15T00:00:00",
          "2020-04-16T00:00:00",
          "2020-04-17T00:00:00",
          "2020-04-20T00:00:00",
          "2020-04-21T00:00:00",
          "2020-04-22T00:00:00",
          "2020-04-23T00:00:00",
          "2020-04-24T00:00:00",
          "2020-04-27T00:00:00",
          "2020-04-28T00:00:00",
          "2020-04-29T00:00:00",
          "2020-04-30T00:00:00",
          "2020-05-04T00:00:00",
          "2020-05-05T00:00:00",
          "2020-05-06T00:00:00",
          "2020-05-07T00:00:00",
          "2020-05-08T00:00:00"
         ],
         "xaxis": "x",
         "y": [
          237.39178475313165,
          238.2402770302135,
          238.95354880127715,
          239.54164906766002,
          241.02128260818,
          241.68321980636222,
          242.35583762717062,
          243.7878737100216,
          244.87279066335012,
          245.5766149603834,
          246.16847830252044,
          247.47770534640478,
          249.0937708249815,
          250.40626619720783,
          251.1826514867172,
          252.9531733785578,
          254.07246818332274,
          254.98747525369546,
          256.63470297509645,
          257.17143564729724,
          256.9800055034534,
          257.09778205824153,
          258.2982749341879,
          260.0719916154795,
          261.8471045898174,
          262.8899702365246,
          263.07664351729693,
          263.61294495789764,
          261.77006830058707,
          260.86560867823437,
          260.65991786084896,
          259.91549166954917,
          258.2009379652049,
          257.26517397293713,
          256.85069086784,
          256.4838706749867,
          255.51189941387855,
          255.24258843301666,
          254.57979100345742,
          254.56205966935576,
          254.54826863172116,
          254.4019867135609,
          253.8126563327696,
          253.26762159215414,
          252.36370568278656,
          251.77177108661178,
          251.41137751180915,
          251.27551584251822,
          249.92317898862527,
          250.1180281022641,
          248.5095774128721,
          245.14300465445606,
          241.3712258423547,
          240.3176200996092,
          239.19592674414048,
          237.6701652454426,
          233.74123963534424,
          226.50985304971218,
          219.40321903866501,
          209.73805925229502,
          207.26293497400724,
          204.72672720200563,
          200.12301004600437,
          194.37789670244786,
          193.29614187968167,
          193.8281103508635,
          191.5040858284494,
          191.75651119990508,
          190.9395087110373,
          190.30184010858457,
          188.09698675112134,
          186.96432302864991,
          187.01891791117217,
          186.52138059757834,
          186.61662935367204,
          186.3996006084116,
          187.35524491765347,
          189.63852382484157,
          192.00551853043234,
          194.58429219033627,
          196.23000503692822,
          196.68111502872193,
          196.83420057789485,
          194.44215600502932,
          193.1216768928006,
          192.8279709166227,
          192.04842182403988,
          190.71543919647547,
          190.60089715281424,
          190.67625334107774,
          190.28375259861602,
          189.9762520211458,
          190.6037515720023,
          191.75847344489068,
          192.9788126793594,
          193.13685430616843,
          193.49533112701988,
          193.98525754323768,
          194.32408920029596,
          194.70095826689686
         ],
         "yaxis": "y"
        },
        {
         "line": {
          "color": "green"
         },
         "name": "MA_slow",
         "opacity": 1,
         "type": "scatter",
         "x": [
          "2019-12-12T00:00:00",
          "2019-12-13T00:00:00",
          "2019-12-16T00:00:00",
          "2019-12-17T00:00:00",
          "2019-12-18T00:00:00",
          "2019-12-19T00:00:00",
          "2019-12-20T00:00:00",
          "2019-12-23T00:00:00",
          "2019-12-24T00:00:00",
          "2019-12-25T00:00:00",
          "2019-12-26T00:00:00",
          "2019-12-27T00:00:00",
          "2019-12-30T00:00:00",
          "2020-01-03T00:00:00",
          "2020-01-06T00:00:00",
          "2020-01-08T00:00:00",
          "2020-01-09T00:00:00",
          "2020-01-10T00:00:00",
          "2020-01-13T00:00:00",
          "2020-01-14T00:00:00",
          "2020-01-15T00:00:00",
          "2020-01-16T00:00:00",
          "2020-01-17T00:00:00",
          "2020-01-20T00:00:00",
          "2020-01-21T00:00:00",
          "2020-01-22T00:00:00",
          "2020-01-23T00:00:00",
          "2020-01-24T00:00:00",
          "2020-01-27T00:00:00",
          "2020-01-28T00:00:00",
          "2020-01-29T00:00:00",
          "2020-01-30T00:00:00",
          "2020-01-31T00:00:00",
          "2020-02-03T00:00:00",
          "2020-02-04T00:00:00",
          "2020-02-05T00:00:00",
          "2020-02-06T00:00:00",
          "2020-02-07T00:00:00",
          "2020-02-10T00:00:00",
          "2020-02-11T00:00:00",
          "2020-02-12T00:00:00",
          "2020-02-13T00:00:00",
          "2020-02-14T00:00:00",
          "2020-02-17T00:00:00",
          "2020-02-18T00:00:00",
          "2020-02-19T00:00:00",
          "2020-02-20T00:00:00",
          "2020-02-21T00:00:00",
          "2020-02-25T00:00:00",
          "2020-02-26T00:00:00",
          "2020-02-27T00:00:00",
          "2020-02-28T00:00:00",
          "2020-03-02T00:00:00",
          "2020-03-03T00:00:00",
          "2020-03-04T00:00:00",
          "2020-03-05T00:00:00",
          "2020-03-06T00:00:00",
          "2020-03-10T00:00:00",
          "2020-03-11T00:00:00",
          "2020-03-12T00:00:00",
          "2020-03-13T00:00:00",
          "2020-03-16T00:00:00",
          "2020-03-17T00:00:00",
          "2020-03-18T00:00:00",
          "2020-03-19T00:00:00",
          "2020-03-20T00:00:00",
          "2020-03-23T00:00:00",
          "2020-03-24T00:00:00",
          "2020-03-25T00:00:00",
          "2020-03-26T00:00:00",
          "2020-03-27T00:00:00",
          "2020-03-30T00:00:00",
          "2020-03-31T00:00:00",
          "2020-04-01T00:00:00",
          "2020-04-02T00:00:00",
          "2020-04-03T00:00:00",
          "2020-04-06T00:00:00",
          "2020-04-07T00:00:00",
          "2020-04-08T00:00:00",
          "2020-04-09T00:00:00",
          "2020-04-10T00:00:00",
          "2020-04-13T00:00:00",
          "2020-04-14T00:00:00",
          "2020-04-15T00:00:00",
          "2020-04-16T00:00:00",
          "2020-04-17T00:00:00",
          "2020-04-20T00:00:00",
          "2020-04-21T00:00:00",
          "2020-04-22T00:00:00",
          "2020-04-23T00:00:00",
          "2020-04-24T00:00:00",
          "2020-04-27T00:00:00",
          "2020-04-28T00:00:00",
          "2020-04-29T00:00:00",
          "2020-04-30T00:00:00",
          "2020-05-04T00:00:00",
          "2020-05-05T00:00:00",
          "2020-05-06T00:00:00",
          "2020-05-07T00:00:00",
          "2020-05-08T00:00:00"
         ],
         "xaxis": "x",
         "y": [
          236.72669154091795,
          237.36716417792968,
          237.95042643822543,
          238.47179408990752,
          239.57582350563501,
          240.20784871911573,
          240.8510131878135,
          241.98658273241156,
          242.94135662778135,
          243.66973425238402,
          244.3226293591863,
          245.4279680221597,
          246.75968687613687,
          247.93687446526016,
          248.78874954165155,
          250.26892817855847,
          251.3719384387644,
          252.34594723322664,
          253.78224048562282,
          254.53477755910527,
          254.78838076494736,
          255.17718351281204,
          256.22330015383886,
          257.6599715604333,
          259.1456899089428,
          260.202019921951,
          260.70601707595796,
          261.38944320796395,
          260.5223798925405,
          260.11918276503474,
          260.09358522717264,
          259.6959301947194,
          258.6250830240452,
          257.96292830632444,
          257.59679569113524,
          257.25439630668734,
          256.51948254858917,
          256.20241361307643,
          255.63921166835124,
          255.47646714430107,
          255.33697183797236,
          255.1302615754049,
          254.64736706463276,
          254.17774319825665,
          253.46663702707713,
          252.92854602320895,
          252.53161087703626,
          252.2842378946025,
          251.27077533823072,
          251.20352171848347,
          250.01444718727154,
          247.63524044623276,
          244.85449181105665,
          243.67956440947714,
          242.47819806526613,
          241.0284554845138,
          238.02296184386898,
          232.76253872331628,
          227.30074747712825,
          219.9592121232528,
          216.90789610564525,
          213.8996252334102,
          209.62967877149447,
          204.57829608985242,
          202.42568236273064,
          201.46344202519768,
          198.87866459302657,
          197.98742679402278,
          196.57208010916239,
          195.3574972364249,
          193.2178547740785,
          191.75816123492442,
          191.1084239156495,
          190.204363356271,
          189.73945430537512,
          189.1538179760358,
          189.3747011223164,
          190.55402953341405,
          191.94488245721203,
          193.61132782046747,
          194.80828098897211,
          195.30138370483323,
          195.59690031842848,
          194.23591455865298,
          193.41649819313113,
          193.1855698798267,
          192.63334561128002,
          191.69286766681145,
          191.47960085726695,
          191.40251502051453,
          191.0464414461553,
          190.73980695384742,
          191.03412024615494,
          191.71496021098994,
          192.50568018084851,
          192.6748687264416,
          192.97131605123565,
          193.36112804391627,
          193.66810975192823,
          194.00409407308135
         ],
         "yaxis": "y"
        },
        {
         "line": {
          "color": "blue"
         },
         "name": "upBB",
         "opacity": 0.5,
         "type": "scatter",
         "x": [
          "2019-12-12T00:00:00",
          "2019-12-13T00:00:00",
          "2019-12-16T00:00:00",
          "2019-12-17T00:00:00",
          "2019-12-18T00:00:00",
          "2019-12-19T00:00:00",
          "2019-12-20T00:00:00",
          "2019-12-23T00:00:00",
          "2019-12-24T00:00:00",
          "2019-12-25T00:00:00",
          "2019-12-26T00:00:00",
          "2019-12-27T00:00:00",
          "2019-12-30T00:00:00",
          "2020-01-03T00:00:00",
          "2020-01-06T00:00:00",
          "2020-01-08T00:00:00",
          "2020-01-09T00:00:00",
          "2020-01-10T00:00:00",
          "2020-01-13T00:00:00",
          "2020-01-14T00:00:00",
          "2020-01-15T00:00:00",
          "2020-01-16T00:00:00",
          "2020-01-17T00:00:00",
          "2020-01-20T00:00:00",
          "2020-01-21T00:00:00",
          "2020-01-22T00:00:00",
          "2020-01-23T00:00:00",
          "2020-01-24T00:00:00",
          "2020-01-27T00:00:00",
          "2020-01-28T00:00:00",
          "2020-01-29T00:00:00",
          "2020-01-30T00:00:00",
          "2020-01-31T00:00:00",
          "2020-02-03T00:00:00",
          "2020-02-04T00:00:00",
          "2020-02-05T00:00:00",
          "2020-02-06T00:00:00",
          "2020-02-07T00:00:00",
          "2020-02-10T00:00:00",
          "2020-02-11T00:00:00",
          "2020-02-12T00:00:00",
          "2020-02-13T00:00:00",
          "2020-02-14T00:00:00",
          "2020-02-17T00:00:00",
          "2020-02-18T00:00:00",
          "2020-02-19T00:00:00",
          "2020-02-20T00:00:00",
          "2020-02-21T00:00:00",
          "2020-02-25T00:00:00",
          "2020-02-26T00:00:00",
          "2020-02-27T00:00:00",
          "2020-02-28T00:00:00",
          "2020-03-02T00:00:00",
          "2020-03-03T00:00:00",
          "2020-03-04T00:00:00",
          "2020-03-05T00:00:00",
          "2020-03-06T00:00:00",
          "2020-03-10T00:00:00",
          "2020-03-11T00:00:00",
          "2020-03-12T00:00:00",
          "2020-03-13T00:00:00",
          "2020-03-16T00:00:00",
          "2020-03-17T00:00:00",
          "2020-03-18T00:00:00",
          "2020-03-19T00:00:00",
          "2020-03-20T00:00:00",
          "2020-03-23T00:00:00",
          "2020-03-24T00:00:00",
          "2020-03-25T00:00:00",
          "2020-03-26T00:00:00",
          "2020-03-27T00:00:00",
          "2020-03-30T00:00:00",
          "2020-03-31T00:00:00",
          "2020-04-01T00:00:00",
          "2020-04-02T00:00:00",
          "2020-04-03T00:00:00",
          "2020-04-06T00:00:00",
          "2020-04-07T00:00:00",
          "2020-04-08T00:00:00",
          "2020-04-09T00:00:00",
          "2020-04-10T00:00:00",
          "2020-04-13T00:00:00",
          "2020-04-14T00:00:00",
          "2020-04-15T00:00:00",
          "2020-04-16T00:00:00",
          "2020-04-17T00:00:00",
          "2020-04-20T00:00:00",
          "2020-04-21T00:00:00",
          "2020-04-22T00:00:00",
          "2020-04-23T00:00:00",
          "2020-04-24T00:00:00",
          "2020-04-27T00:00:00",
          "2020-04-28T00:00:00",
          "2020-04-29T00:00:00",
          "2020-04-30T00:00:00",
          "2020-05-04T00:00:00",
          "2020-05-05T00:00:00",
          "2020-05-06T00:00:00",
          "2020-05-07T00:00:00",
          "2020-05-08T00:00:00"
         ],
         "xaxis": "x",
         "y": [
          242.6156910158149,
          242.92108652895638,
          242.9782710283351,
          242.01689617813295,
          246.2184351137378,
          246.76480570131613,
          247.25525319902124,
          249.8373433384572,
          250.4297445542375,
          250.9654482891584,
          250.72487058744122,
          252.1123193047899,
          255.63553518017483,
          257.66155392134385,
          257.7854539333467,
          259.6311570053165,
          260.2303732638629,
          260.8966908053076,
          263.76639116242956,
          262.53436687628295,
          262.8129303099889,
          262.8102986778849,
          264.59258075259095,
          267.5887932881738,
          271.41601120208236,
          271.78564247322487,
          269.456459567323,
          268.85190395324,
          272.7911548017642,
          270.63741069877346,
          267.93525436295045,
          266.1363642516834,
          261.6949168422731,
          261.7669443037636,
          261.1204334652782,
          258.1945162616715,
          256.6042096239928,
          256.5430236875218,
          256.6800389240577,
          256.1797246457522,
          255.74378188977943,
          255.57978105102242,
          255.69174393053953,
          255.93411045869254,
          255.93854709070985,
          254.50411792815572,
          252.3775549337804,
          251.7780416662231,
          252.96863429268262,
          253.54896481866862,
          254.56136432225054,
          257.4597596056744,
          256.472120058138,
          254.03995405814067,
          244.80430496266248,
          238.9569413434093,
          242.46350057362523,
          251.70674997066257,
          249.30407745089437,
          244.20470536261575,
          226.24753924877754,
          211.12652043024087,
          206.81806561791538,
          205.70345854293117,
          205.8765301732639,
          204.0494957904761,
          199.58834308210177,
          202.29625052426266,
          198.2068097355443,
          198.04534778049424,
          194.98912634031294,
          195.0290460150237,
          191.57916554107965,
          190.28907703932052,
          189.57421878204053,
          188.5901919263965,
          191.105584670097,
          198.5450794786812,
          203.8271725925998,
          208.6425980885592,
          207.89945228027116,
          204.8359214279205,
          204.91344421815862,
          209.7473463367943,
          206.62061975111948,
          201.97828377113098,
          198.29790814415117,
          192.67043264844105,
          192.98802884103927,
          193.62757990718706,
          192.4284066738823,
          192.33756797688406,
          193.25505765869943,
          196.6820782803391,
          199.60929481703195,
          199.40547356796583,
          197.98469538017054,
          197.8064391485534,
          197.72421841993238,
          196.80236926377978
         ],
         "yaxis": "y"
        },
        {
         "line": {
          "color": "blue"
         },
         "name": "lowBB",
         "opacity": 0.5,
         "type": "scatter",
         "x": [
          "2019-12-12T00:00:00",
          "2019-12-13T00:00:00",
          "2019-12-16T00:00:00",
          "2019-12-17T00:00:00",
          "2019-12-18T00:00:00",
          "2019-12-19T00:00:00",
          "2019-12-20T00:00:00",
          "2019-12-23T00:00:00",
          "2019-12-24T00:00:00",
          "2019-12-25T00:00:00",
          "2019-12-26T00:00:00",
          "2019-12-27T00:00:00",
          "2019-12-30T00:00:00",
          "2020-01-03T00:00:00",
          "2020-01-06T00:00:00",
          "2020-01-08T00:00:00",
          "2020-01-09T00:00:00",
          "2020-01-10T00:00:00",
          "2020-01-13T00:00:00",
          "2020-01-14T00:00:00",
          "2020-01-15T00:00:00",
          "2020-01-16T00:00:00",
          "2020-01-17T00:00:00",
          "2020-01-20T00:00:00",
          "2020-01-21T00:00:00",
          "2020-01-22T00:00:00",
          "2020-01-23T00:00:00",
          "2020-01-24T00:00:00",
          "2020-01-27T00:00:00",
          "2020-01-28T00:00:00",
          "2020-01-29T00:00:00",
          "2020-01-30T00:00:00",
          "2020-01-31T00:00:00",
          "2020-02-03T00:00:00",
          "2020-02-04T00:00:00",
          "2020-02-05T00:00:00",
          "2020-02-06T00:00:00",
          "2020-02-07T00:00:00",
          "2020-02-10T00:00:00",
          "2020-02-11T00:00:00",
          "2020-02-12T00:00:00",
          "2020-02-13T00:00:00",
          "2020-02-14T00:00:00",
          "2020-02-17T00:00:00",
          "2020-02-18T00:00:00",
          "2020-02-19T00:00:00",
          "2020-02-20T00:00:00",
          "2020-02-21T00:00:00",
          "2020-02-25T00:00:00",
          "2020-02-26T00:00:00",
          "2020-02-27T00:00:00",
          "2020-02-28T00:00:00",
          "2020-03-02T00:00:00",
          "2020-03-03T00:00:00",
          "2020-03-04T00:00:00",
          "2020-03-05T00:00:00",
          "2020-03-06T00:00:00",
          "2020-03-10T00:00:00",
          "2020-03-11T00:00:00",
          "2020-03-12T00:00:00",
          "2020-03-13T00:00:00",
          "2020-03-16T00:00:00",
          "2020-03-17T00:00:00",
          "2020-03-18T00:00:00",
          "2020-03-19T00:00:00",
          "2020-03-20T00:00:00",
          "2020-03-23T00:00:00",
          "2020-03-24T00:00:00",
          "2020-03-25T00:00:00",
          "2020-03-26T00:00:00",
          "2020-03-27T00:00:00",
          "2020-03-30T00:00:00",
          "2020-03-31T00:00:00",
          "2020-04-01T00:00:00",
          "2020-04-02T00:00:00",
          "2020-04-03T00:00:00",
          "2020-04-06T00:00:00",
          "2020-04-07T00:00:00",
          "2020-04-08T00:00:00",
          "2020-04-09T00:00:00",
          "2020-04-10T00:00:00",
          "2020-04-13T00:00:00",
          "2020-04-14T00:00:00",
          "2020-04-15T00:00:00",
          "2020-04-16T00:00:00",
          "2020-04-17T00:00:00",
          "2020-04-20T00:00:00",
          "2020-04-21T00:00:00",
          "2020-04-22T00:00:00",
          "2020-04-23T00:00:00",
          "2020-04-24T00:00:00",
          "2020-04-27T00:00:00",
          "2020-04-28T00:00:00",
          "2020-04-29T00:00:00",
          "2020-04-30T00:00:00",
          "2020-05-04T00:00:00",
          "2020-05-05T00:00:00",
          "2020-05-06T00:00:00",
          "2020-05-07T00:00:00",
          "2020-05-08T00:00:00"
         ],
         "xaxis": "x",
         "y": [
          233.9683089841854,
          236.0909134710439,
          237.7977289716652,
          240.23510382186734,
          238.38556488626259,
          239.01919429868425,
          239.92874680097913,
          240.28665666154316,
          242.52225544576285,
          242.72255171084188,
          244.65912941255908,
          246.21168069521033,
          245.06846481982546,
          245.5744460786564,
          247.7945460666536,
          250.31284299468376,
          252.0856267361374,
          252.79530919469258,
          252.8856088375707,
          256.17763312371727,
          254.76306969001138,
          254.57370132211537,
          254.51541924740923,
          253.07120671182625,
          252.84798879791776,
          256.57035752677524,
          261.38754043267716,
          263.18809604676017,
          254.864845198236,
          252.8745893012267,
          252.9367456370497,
          252.16763574831677,
          251.2930831577271,
          250.6890556962367,
          250.41556653472202,
          251.44548373832876,
          250.9557903760074,
          251.8569763124784,
          251.02796107594247,
          251.16827535424792,
          251.32421811022067,
          252.20021894897766,
          251.06825606946057,
          250.46588954130766,
          248.34145290929035,
          247.85588207184452,
          248.4864450662198,
          248.70595833377712,
          245.04736570731757,
          245.1070351813315,
          241.3666356777495,
          231.75224039432572,
          223.68787994186215,
          222.69604594185938,
          225.71969503733757,
          227.34705865659078,
          218.4924994263749,
          198.46125002933755,
          184.02392254910578,
          165.37929463738442,
          169.8444607512226,
          175.30947956975928,
          172.74193438208474,
          165.75254145706896,
          171.01946982673624,
          171.68250420952404,
          171.15165691789835,
          171.89574947573746,
          181.50919026445587,
          181.09465221950592,
          178.0268736596872,
          177.8389539849764,
          179.1168344589205,
          179.08692296067957,
          179.35378121795964,
          182.44180807360365,
          183.0064153299032,
          179.73492052131894,
          180.65682740740036,
          182.505401911441,
          189.78854771972905,
          195.87607857207965,
          195.69455578184156,
          185.1726536632059,
          182.25538024888067,
          182.8217162288692,
          182.926091855849,
          184.02556735155915,
          185.35997115896097,
          185.69642009281318,
          185.73959332611793,
          185.66243202311617,
          187.44494234130073,
          186.25792171966106,
          185.85470518296816,
          187.97052643203426,
          191.7313046198296,
          193.06956085144668,
          193.03578158006772,
          193.46563073622036
         ],
         "yaxis": "y"
        },
        {
         "line": {
          "color": "blue"
         },
         "name": "CCI",
         "opacity": 1,
         "type": "scatter",
         "x": [
          "2019-12-12T00:00:00",
          "2019-12-13T00:00:00",
          "2019-12-16T00:00:00",
          "2019-12-17T00:00:00",
          "2019-12-18T00:00:00",
          "2019-12-19T00:00:00",
          "2019-12-20T00:00:00",
          "2019-12-23T00:00:00",
          "2019-12-24T00:00:00",
          "2019-12-25T00:00:00",
          "2019-12-26T00:00:00",
          "2019-12-27T00:00:00",
          "2019-12-30T00:00:00",
          "2020-01-03T00:00:00",
          "2020-01-06T00:00:00",
          "2020-01-08T00:00:00",
          "2020-01-09T00:00:00",
          "2020-01-10T00:00:00",
          "2020-01-13T00:00:00",
          "2020-01-14T00:00:00",
          "2020-01-15T00:00:00",
          "2020-01-16T00:00:00",
          "2020-01-17T00:00:00",
          "2020-01-20T00:00:00",
          "2020-01-21T00:00:00",
          "2020-01-22T00:00:00",
          "2020-01-23T00:00:00",
          "2020-01-24T00:00:00",
          "2020-01-27T00:00:00",
          "2020-01-28T00:00:00",
          "2020-01-29T00:00:00",
          "2020-01-30T00:00:00",
          "2020-01-31T00:00:00",
          "2020-02-03T00:00:00",
          "2020-02-04T00:00:00",
          "2020-02-05T00:00:00",
          "2020-02-06T00:00:00",
          "2020-02-07T00:00:00",
          "2020-02-10T00:00:00",
          "2020-02-11T00:00:00",
          "2020-02-12T00:00:00",
          "2020-02-13T00:00:00",
          "2020-02-14T00:00:00",
          "2020-02-17T00:00:00",
          "2020-02-18T00:00:00",
          "2020-02-19T00:00:00",
          "2020-02-20T00:00:00",
          "2020-02-21T00:00:00",
          "2020-02-25T00:00:00",
          "2020-02-26T00:00:00",
          "2020-02-27T00:00:00",
          "2020-02-28T00:00:00",
          "2020-03-02T00:00:00",
          "2020-03-03T00:00:00",
          "2020-03-04T00:00:00",
          "2020-03-05T00:00:00",
          "2020-03-06T00:00:00",
          "2020-03-10T00:00:00",
          "2020-03-11T00:00:00",
          "2020-03-12T00:00:00",
          "2020-03-13T00:00:00",
          "2020-03-16T00:00:00",
          "2020-03-17T00:00:00",
          "2020-03-18T00:00:00",
          "2020-03-19T00:00:00",
          "2020-03-20T00:00:00",
          "2020-03-23T00:00:00",
          "2020-03-24T00:00:00",
          "2020-03-25T00:00:00",
          "2020-03-26T00:00:00",
          "2020-03-27T00:00:00",
          "2020-03-30T00:00:00",
          "2020-03-31T00:00:00",
          "2020-04-01T00:00:00",
          "2020-04-02T00:00:00",
          "2020-04-03T00:00:00",
          "2020-04-06T00:00:00",
          "2020-04-07T00:00:00",
          "2020-04-08T00:00:00",
          "2020-04-09T00:00:00",
          "2020-04-10T00:00:00",
          "2020-04-13T00:00:00",
          "2020-04-14T00:00:00",
          "2020-04-15T00:00:00",
          "2020-04-16T00:00:00",
          "2020-04-17T00:00:00",
          "2020-04-20T00:00:00",
          "2020-04-21T00:00:00",
          "2020-04-22T00:00:00",
          "2020-04-23T00:00:00",
          "2020-04-24T00:00:00",
          "2020-04-27T00:00:00",
          "2020-04-28T00:00:00",
          "2020-04-29T00:00:00",
          "2020-04-30T00:00:00",
          "2020-05-04T00:00:00",
          "2020-05-05T00:00:00",
          "2020-05-06T00:00:00",
          "2020-05-07T00:00:00",
          "2020-05-08T00:00:00"
         ],
         "xaxis": "x2",
         "y": [
          164.82322292519498,
          133.1601169210788,
          98.11874443221674,
          88.48912059133049,
          108.57025603611355,
          106.81762702407376,
          90.02700437657168,
          138.6921930964524,
          139.54904385881358,
          108.21003771395357,
          93.67514183652038,
          139.6569055583925,
          156.88986141502542,
          159.05803012998217,
          96.98880132724966,
          131.87082266225096,
          131.71633171633152,
          98.41269841269796,
          121.84327485380092,
          97.73317425784346,
          25.105438110129306,
          39.913095500488105,
          109.28422251756213,
          182.18283409498838,
          170.3269872173362,
          148.97202561509957,
          66.07655782871379,
          77.41881556400739,
          -81.61970972069761,
          -91.01558884584355,
          -35.04399968849671,
          -74.31587177482382,
          -112.57518930012077,
          -116.2207321571952,
          -73.12430011198191,
          -62.85564579512624,
          -75.57043183103819,
          -101.87653140500855,
          -74.4715966565522,
          13.040284761851058,
          -45.898842169410344,
          -48.01851316170165,
          -110.19881229021324,
          -154.34478904722047,
          -215.36111111111003,
          -140.744352348448,
          -83.16589592303148,
          -88.68437565362909,
          -162.4388308424824,
          -82.44355263691261,
          -154.6623852876247,
          -272.0978243608074,
          -217.89756847400736,
          -101.39479399259827,
          -88.00099507988323,
          -78.20600472720862,
          -145.98632109431242,
          -238.17977589655095,
          -177.31015422507977,
          -178.20989297694476,
          -102.67096148912485,
          -76.68195195400713,
          -69.37492778740598,
          -100.71397441192372,
          -66.00814723353777,
          -14.373057972470047,
          -57.97005463963862,
          0.16385851173735053,
          10.302748947176351,
          -16.00695954762968,
          -58.430005524125285,
          -100.92695587689958,
          -6.917231464366278,
          -37.86084057207977,
          3.202623836395972,
          -23.047696983867567,
          48.27517589368212,
          194.3144373080152,
          157.39013491822493,
          168.9795418565392,
          118.02787992816233,
          73.96601226041705,
          57.89802940256477,
          -40.97805788982224,
          -59.277365450424156,
          -36.398017736045695,
          -57.82897104951954,
          -105.60920484898324,
          -65.12492815363257,
          -36.649241361723575,
          -45.60411866359451,
          -41.59008870517803,
          17.995181041025642,
          121.00290987363816,
          211.7250247696918,
          90.30307610913572,
          90.34247175264979,
          86.28475461839703,
          80.37383177569994,
          57.796618826293134
         ],
         "yaxis": "y2"
        },
        {
         "line": {
          "color": "black"
         },
         "name": "%Willams",
         "opacity": 1,
         "type": "scatter",
         "x": [
          "2019-12-12T00:00:00",
          "2019-12-13T00:00:00",
          "2019-12-16T00:00:00",
          "2019-12-17T00:00:00",
          "2019-12-18T00:00:00",
          "2019-12-19T00:00:00",
          "2019-12-20T00:00:00",
          "2019-12-23T00:00:00",
          "2019-12-24T00:00:00",
          "2019-12-25T00:00:00",
          "2019-12-26T00:00:00",
          "2019-12-27T00:00:00",
          "2019-12-30T00:00:00",
          "2020-01-03T00:00:00",
          "2020-01-06T00:00:00",
          "2020-01-08T00:00:00",
          "2020-01-09T00:00:00",
          "2020-01-10T00:00:00",
          "2020-01-13T00:00:00",
          "2020-01-14T00:00:00",
          "2020-01-15T00:00:00",
          "2020-01-16T00:00:00",
          "2020-01-17T00:00:00",
          "2020-01-20T00:00:00",
          "2020-01-21T00:00:00",
          "2020-01-22T00:00:00",
          "2020-01-23T00:00:00",
          "2020-01-24T00:00:00",
          "2020-01-27T00:00:00",
          "2020-01-28T00:00:00",
          "2020-01-29T00:00:00",
          "2020-01-30T00:00:00",
          "2020-01-31T00:00:00",
          "2020-02-03T00:00:00",
          "2020-02-04T00:00:00",
          "2020-02-05T00:00:00",
          "2020-02-06T00:00:00",
          "2020-02-07T00:00:00",
          "2020-02-10T00:00:00",
          "2020-02-11T00:00:00",
          "2020-02-12T00:00:00",
          "2020-02-13T00:00:00",
          "2020-02-14T00:00:00",
          "2020-02-17T00:00:00",
          "2020-02-18T00:00:00",
          "2020-02-19T00:00:00",
          "2020-02-20T00:00:00",
          "2020-02-21T00:00:00",
          "2020-02-25T00:00:00",
          "2020-02-26T00:00:00",
          "2020-02-27T00:00:00",
          "2020-02-28T00:00:00",
          "2020-03-02T00:00:00",
          "2020-03-03T00:00:00",
          "2020-03-04T00:00:00",
          "2020-03-05T00:00:00",
          "2020-03-06T00:00:00",
          "2020-03-10T00:00:00",
          "2020-03-11T00:00:00",
          "2020-03-12T00:00:00",
          "2020-03-13T00:00:00",
          "2020-03-16T00:00:00",
          "2020-03-17T00:00:00",
          "2020-03-18T00:00:00",
          "2020-03-19T00:00:00",
          "2020-03-20T00:00:00",
          "2020-03-23T00:00:00",
          "2020-03-24T00:00:00",
          "2020-03-25T00:00:00",
          "2020-03-26T00:00:00",
          "2020-03-27T00:00:00",
          "2020-03-30T00:00:00",
          "2020-03-31T00:00:00",
          "2020-04-01T00:00:00",
          "2020-04-02T00:00:00",
          "2020-04-03T00:00:00",
          "2020-04-06T00:00:00",
          "2020-04-07T00:00:00",
          "2020-04-08T00:00:00",
          "2020-04-09T00:00:00",
          "2020-04-10T00:00:00",
          "2020-04-13T00:00:00",
          "2020-04-14T00:00:00",
          "2020-04-15T00:00:00",
          "2020-04-16T00:00:00",
          "2020-04-17T00:00:00",
          "2020-04-20T00:00:00",
          "2020-04-21T00:00:00",
          "2020-04-22T00:00:00",
          "2020-04-23T00:00:00",
          "2020-04-24T00:00:00",
          "2020-04-27T00:00:00",
          "2020-04-28T00:00:00",
          "2020-04-29T00:00:00",
          "2020-04-30T00:00:00",
          "2020-05-04T00:00:00",
          "2020-05-05T00:00:00",
          "2020-05-06T00:00:00",
          "2020-05-07T00:00:00",
          "2020-05-08T00:00:00"
         ],
         "xaxis": "x3",
         "y": [
          -9.419743782969096,
          -14.34599156118138,
          -12.658227848101346,
          -14.102564102564166,
          -0.4184100418410997,
          -35.483870967741964,
          -34.48598130841114,
          -4.285714285714138,
          -12.5,
          -18.954918032786846,
          -17.313746065057522,
          -7.069102462271549,
          -9.689922480620151,
          -22.045611610228043,
          -30.382436260623162,
          0,
          -25.049833887043096,
          -23.72093023255812,
          0,
          -33.38670936749402,
          -58.46023688663293,
          -48.30795262267365,
          -7.065750736015951,
          -5.407523510972207,
          -5.718175629679896,
          -25.678119349005364,
          -42.61603375527421,
          -32.00723327305606,
          -100,
          -78.44311377245515,
          -65.0299401197605,
          -80.77844311377243,
          -99.83896940418678,
          -82.37804878048772,
          -73.78048780487799,
          -62.727272727272876,
          -90.3533906399234,
          -56.61993769470389,
          -66.28462273161412,
          -47.735507246376685,
          -47.735507246376685,
          -53.26086956521739,
          -72.64492753623178,
          -76.17753623188383,
          -86.63934426229511,
          -82.5409836065574,
          -78.85245901639333,
          -56.848484848484816,
          -99.8001998001997,
          -32.20035778175306,
          -92.0720720720721,
          -88.85214926783176,
          -72.05043530471336,
          -46.65265685980187,
          -49.70885688017162,
          -58.361669242658415,
          -90.38795599305148,
          -74.5165315034311,
          -82.77520484503029,
          -95.91806660772177,
          -61.34224111752201,
          -65.37053979871911,
          -83.42482464165903,
          -96.28396143733566,
          -57.23084503572312,
          -27.857799570946995,
          -65.61446521605883,
          -37.205026049647614,
          -51.179895801409714,
          -51.210542445602236,
          -72.2988892628745,
          -65.48611111111114,
          -54.33976261127597,
          -62.145593869731805,
          -53.83141762452112,
          -58.85057471264374,
          -7.7102803738319,
          -11.34945397815912,
          -0.975039001560063,
          -7.807167235494814,
          -14.718430034129646,
          -30.631399317406178,
          -38.13799621928164,
          -99.94840041279674,
          -77.31629392971246,
          -62.25467822911907,
          -73.57371063441354,
          -86.95652173913038,
          -65.47619047619052,
          -61.64596273291926,
          -57.70440251572331,
          -41.43947655398024,
          -13.434247871333854,
          0,
          -15.264797507788106,
          -39.5394736842105,
          -41.24999999999991,
          -33.333333333333336,
          -36.3399826539462,
          -31.91673894189053
         ],
         "yaxis": "y3"
        },
        {
         "name": "MACD",
         "type": "bar",
         "x": [
          "2019-12-12T00:00:00",
          "2019-12-13T00:00:00",
          "2019-12-16T00:00:00",
          "2019-12-17T00:00:00",
          "2019-12-18T00:00:00",
          "2019-12-19T00:00:00",
          "2019-12-20T00:00:00",
          "2019-12-23T00:00:00",
          "2019-12-24T00:00:00",
          "2019-12-25T00:00:00",
          "2019-12-26T00:00:00",
          "2019-12-27T00:00:00",
          "2019-12-30T00:00:00",
          "2020-01-03T00:00:00",
          "2020-01-06T00:00:00",
          "2020-01-08T00:00:00",
          "2020-01-09T00:00:00",
          "2020-01-10T00:00:00",
          "2020-01-13T00:00:00",
          "2020-01-14T00:00:00",
          "2020-01-15T00:00:00",
          "2020-01-16T00:00:00",
          "2020-01-17T00:00:00",
          "2020-01-20T00:00:00",
          "2020-01-21T00:00:00",
          "2020-01-22T00:00:00",
          "2020-01-23T00:00:00",
          "2020-01-24T00:00:00",
          "2020-01-27T00:00:00",
          "2020-01-28T00:00:00",
          "2020-01-29T00:00:00",
          "2020-01-30T00:00:00",
          "2020-01-31T00:00:00",
          "2020-02-03T00:00:00",
          "2020-02-04T00:00:00",
          "2020-02-05T00:00:00",
          "2020-02-06T00:00:00",
          "2020-02-07T00:00:00",
          "2020-02-10T00:00:00",
          "2020-02-11T00:00:00",
          "2020-02-12T00:00:00",
          "2020-02-13T00:00:00",
          "2020-02-14T00:00:00",
          "2020-02-17T00:00:00",
          "2020-02-18T00:00:00",
          "2020-02-19T00:00:00",
          "2020-02-20T00:00:00",
          "2020-02-21T00:00:00",
          "2020-02-25T00:00:00",
          "2020-02-26T00:00:00",
          "2020-02-27T00:00:00",
          "2020-02-28T00:00:00",
          "2020-03-02T00:00:00",
          "2020-03-03T00:00:00",
          "2020-03-04T00:00:00",
          "2020-03-05T00:00:00",
          "2020-03-06T00:00:00",
          "2020-03-10T00:00:00",
          "2020-03-11T00:00:00",
          "2020-03-12T00:00:00",
          "2020-03-13T00:00:00",
          "2020-03-16T00:00:00",
          "2020-03-17T00:00:00",
          "2020-03-18T00:00:00",
          "2020-03-19T00:00:00",
          "2020-03-20T00:00:00",
          "2020-03-23T00:00:00",
          "2020-03-24T00:00:00",
          "2020-03-25T00:00:00",
          "2020-03-26T00:00:00",
          "2020-03-27T00:00:00",
          "2020-03-30T00:00:00",
          "2020-03-31T00:00:00",
          "2020-04-01T00:00:00",
          "2020-04-02T00:00:00",
          "2020-04-03T00:00:00",
          "2020-04-06T00:00:00",
          "2020-04-07T00:00:00",
          "2020-04-08T00:00:00",
          "2020-04-09T00:00:00",
          "2020-04-10T00:00:00",
          "2020-04-13T00:00:00",
          "2020-04-14T00:00:00",
          "2020-04-15T00:00:00",
          "2020-04-16T00:00:00",
          "2020-04-17T00:00:00",
          "2020-04-20T00:00:00",
          "2020-04-21T00:00:00",
          "2020-04-22T00:00:00",
          "2020-04-23T00:00:00",
          "2020-04-24T00:00:00",
          "2020-04-27T00:00:00",
          "2020-04-28T00:00:00",
          "2020-04-29T00:00:00",
          "2020-04-30T00:00:00",
          "2020-05-04T00:00:00",
          "2020-05-05T00:00:00",
          "2020-05-06T00:00:00",
          "2020-05-07T00:00:00",
          "2020-05-08T00:00:00"
         ],
         "xaxis": "x4",
         "y": [
          2.544184431424128,
          3.155426472028836,
          3.5485154147794162,
          3.7719692784598067,
          5.120588946731544,
          5.263783016629816,
          5.453687004776327,
          6.608373089817178,
          7.17690927132773,
          7.226970769476452,
          7.180213735542765,
          8.078918311667053,
          9.24238196493664,
          9.873222376903868,
          9.782025184866512,
          11.001789449419505,
          11.24383010766735,
          11.243562557162875,
          12.204624422453321,
          11.653170329813008,
          10.329047932042954,
          9.637395905075806,
          10.409552112076597,
          11.752955055149727,
          12.875598481248545,
          12.921788814695077,
          11.931023676222622,
          11.575152595032108,
          8.311730940300492,
          6.764174140278669,
          6.286746263593102,
          5.139166743761592,
          2.902002476760998,
          1.936899003524303,
          1.6850394277174132,
          1.4397011868812797,
          0.400234494745888,
          0.3466770497949767,
          -0.2601309164666077,
          -0.01515573010414073,
          0.1393685674223093,
          0.06463629980149221,
          -0.5780587631412573,
          -1.080347159009989,
          -1.976596386797553,
          -2.3654089304638433,
          -2.4414129592451275,
          -2.263500441084375,
          -3.667898106666769,
          -2.9258911163544497,
          -4.604518361040107,
          -8.220607397304434,
          -11.78683739426151,
          -11.46396669985927,
          -11.426159842275297,
          -12.007426638569143,
          -15.57882746144736,
          -22.758434878417944,
          -28.71025371728058,
          -37.0982460655037,
          -35.38979224650524,
          -34.42262146701535,
          -36.46509502313256,
          -39.781372909889086,
          -36.899374303219304,
          -32.68479417488612,
          -32.84811790565993,
          -29.767652886042328,
          -28.543514672097132,
          -27.246955154574295,
          -28.06214073327149,
          -27.32795867664987,
          -25.190178146987193,
          -24.0526834033665,
          -22.288285168431884,
          -21.128510628502085,
          -18.60145794357402,
          -14.740879254108677,
          -11.29827638936922,
          -7.99926205991531,
          -6.2239704069273785,
          -6.027046580843745,
          -6.038667753664356,
          -9.073046496668724,
          -10.140561881214666,
          -9.70824634775812,
          -9.94515422766031,
          -10.81848225893836,
          -10.015235421984954,
          -9.118464535347897,
          -8.948859448662574,
          -8.679129219107665,
          -7.265241126071118,
          -5.407140454046811,
          -3.7343152076972785,
          -3.6007897709642975,
          -3.15559246318864,
          -2.552957260826389,
          -2.1790210730274566,
          -1.7615608608387276
         ],
         "yaxis": "y4"
        },
        {
         "line": {
          "color": "green"
         },
         "name": "Reg_line_8: 10.0 deg",
         "opacity": 1,
         "type": "scatter",
         "x": [
          "2020-04-28T00:00:00",
          "2020-04-29T00:00:00",
          "2020-04-30T00:00:00",
          "2020-05-04T00:00:00",
          "2020-05-05T00:00:00",
          "2020-05-06T00:00:00",
          "2020-05-07T00:00:00",
          "2020-05-08T00:00:00"
         ],
         "xaxis": "x",
         "y": [
          194.46083333333323,
          194.66916666666657,
          194.8774999999999,
          195.08583333333323,
          195.29416666666657,
          195.5024999999999,
          195.71083333333326,
          195.91916666666657
         ],
         "yaxis": "y"
        },
        {
         "line": {
          "color": "green"
         },
         "name": "Reg_line_35: 11.0 deg",
         "opacity": 1,
         "type": "scatter",
         "x": [
          "2020-03-20T00:00:00",
          "2020-03-23T00:00:00",
          "2020-03-24T00:00:00",
          "2020-03-25T00:00:00",
          "2020-03-26T00:00:00",
          "2020-03-27T00:00:00",
          "2020-03-30T00:00:00",
          "2020-03-31T00:00:00",
          "2020-04-01T00:00:00",
          "2020-04-02T00:00:00",
          "2020-04-03T00:00:00",
          "2020-04-06T00:00:00",
          "2020-04-07T00:00:00",
          "2020-04-08T00:00:00",
          "2020-04-09T00:00:00",
          "2020-04-10T00:00:00",
          "2020-04-13T00:00:00",
          "2020-04-14T00:00:00",
          "2020-04-15T00:00:00",
          "2020-04-16T00:00:00",
          "2020-04-17T00:00:00",
          "2020-04-20T00:00:00",
          "2020-04-21T00:00:00",
          "2020-04-22T00:00:00",
          "2020-04-23T00:00:00",
          "2020-04-24T00:00:00",
          "2020-04-27T00:00:00",
          "2020-04-28T00:00:00",
          "2020-04-29T00:00:00",
          "2020-04-30T00:00:00",
          "2020-05-04T00:00:00",
          "2020-05-05T00:00:00",
          "2020-05-06T00:00:00",
          "2020-05-07T00:00:00",
          "2020-05-08T00:00:00"
         ],
         "xaxis": "x",
         "y": [
          188.21623809523794,
          188.41842577030798,
          188.620613445378,
          188.82280112044802,
          189.02498879551806,
          189.2271764705881,
          189.42936414565813,
          189.63155182072816,
          189.83373949579817,
          190.0359271708682,
          190.23811484593824,
          190.44030252100828,
          190.6424901960783,
          190.84467787114835,
          191.04686554621836,
          191.2490532212884,
          191.45124089635843,
          191.65342857142846,
          191.8556162464985,
          192.0578039215685,
          192.25999159663854,
          192.46217927170858,
          192.6643669467786,
          192.86655462184865,
          193.06874229691869,
          193.2709299719887,
          193.47311764705873,
          193.67530532212876,
          193.8774929971988,
          194.07968067226884,
          194.28186834733884,
          194.48405602240888,
          194.68624369747891,
          194.88843137254895,
          195.090619047619
         ],
         "yaxis": "y"
        }
       ],
       "layout": {
        "annotations": [
         {
          "showarrow": true,
          "text": "Hummer",
          "x": "2019-12-16T00:00:00",
          "xanchor": "right",
          "xref": "x",
          "y": 242.48,
          "yref": "y"
         },
         {
          "showarrow": true,
          "text": "Hummer",
          "x": "2020-01-06T00:00:00",
          "xanchor": "right",
          "xref": "x",
          "y": 254.84,
          "yref": "y"
         },
         {
          "showarrow": true,
          "text": "Hummer",
          "x": "2020-02-18T00:00:00",
          "xanchor": "right",
          "xref": "x",
          "y": 250.44,
          "yref": "y"
         }
        ],
        "height": 800,
        "template": {
         "data": {
          "bar": [
           {
            "error_x": {
             "color": "#2a3f5f"
            },
            "error_y": {
             "color": "#2a3f5f"
            },
            "marker": {
             "line": {
              "color": "#E5ECF6",
              "width": 0.5
             }
            },
            "type": "bar"
           }
          ],
          "barpolar": [
           {
            "marker": {
             "line": {
              "color": "#E5ECF6",
              "width": 0.5
             }
            },
            "type": "barpolar"
           }
          ],
          "carpet": [
           {
            "aaxis": {
             "endlinecolor": "#2a3f5f",
             "gridcolor": "white",
             "linecolor": "white",
             "minorgridcolor": "white",
             "startlinecolor": "#2a3f5f"
            },
            "baxis": {
             "endlinecolor": "#2a3f5f",
             "gridcolor": "white",
             "linecolor": "white",
             "minorgridcolor": "white",
             "startlinecolor": "#2a3f5f"
            },
            "type": "carpet"
           }
          ],
          "choropleth": [
           {
            "colorbar": {
             "outlinewidth": 0,
             "ticks": ""
            },
            "type": "choropleth"
           }
          ],
          "contour": [
           {
            "colorbar": {
             "outlinewidth": 0,
             "ticks": ""
            },
            "colorscale": [
             [
              0,
              "#0d0887"
             ],
             [
              0.1111111111111111,
              "#46039f"
             ],
             [
              0.2222222222222222,
              "#7201a8"
             ],
             [
              0.3333333333333333,
              "#9c179e"
             ],
             [
              0.4444444444444444,
              "#bd3786"
             ],
             [
              0.5555555555555556,
              "#d8576b"
             ],
             [
              0.6666666666666666,
              "#ed7953"
             ],
             [
              0.7777777777777778,
              "#fb9f3a"
             ],
             [
              0.8888888888888888,
              "#fdca26"
             ],
             [
              1,
              "#f0f921"
             ]
            ],
            "type": "contour"
           }
          ],
          "contourcarpet": [
           {
            "colorbar": {
             "outlinewidth": 0,
             "ticks": ""
            },
            "type": "contourcarpet"
           }
          ],
          "heatmap": [
           {
            "colorbar": {
             "outlinewidth": 0,
             "ticks": ""
            },
            "colorscale": [
             [
              0,
              "#0d0887"
             ],
             [
              0.1111111111111111,
              "#46039f"
             ],
             [
              0.2222222222222222,
              "#7201a8"
             ],
             [
              0.3333333333333333,
              "#9c179e"
             ],
             [
              0.4444444444444444,
              "#bd3786"
             ],
             [
              0.5555555555555556,
              "#d8576b"
             ],
             [
              0.6666666666666666,
              "#ed7953"
             ],
             [
              0.7777777777777778,
              "#fb9f3a"
             ],
             [
              0.8888888888888888,
              "#fdca26"
             ],
             [
              1,
              "#f0f921"
             ]
            ],
            "type": "heatmap"
           }
          ],
          "heatmapgl": [
           {
            "colorbar": {
             "outlinewidth": 0,
             "ticks": ""
            },
            "colorscale": [
             [
              0,
              "#0d0887"
             ],
             [
              0.1111111111111111,
              "#46039f"
             ],
             [
              0.2222222222222222,
              "#7201a8"
             ],
             [
              0.3333333333333333,
              "#9c179e"
             ],
             [
              0.4444444444444444,
              "#bd3786"
             ],
             [
              0.5555555555555556,
              "#d8576b"
             ],
             [
              0.6666666666666666,
              "#ed7953"
             ],
             [
              0.7777777777777778,
              "#fb9f3a"
             ],
             [
              0.8888888888888888,
              "#fdca26"
             ],
             [
              1,
              "#f0f921"
             ]
            ],
            "type": "heatmapgl"
           }
          ],
          "histogram": [
           {
            "marker": {
             "colorbar": {
              "outlinewidth": 0,
              "ticks": ""
             }
            },
            "type": "histogram"
           }
          ],
          "histogram2d": [
           {
            "colorbar": {
             "outlinewidth": 0,
             "ticks": ""
            },
            "colorscale": [
             [
              0,
              "#0d0887"
             ],
             [
              0.1111111111111111,
              "#46039f"
             ],
             [
              0.2222222222222222,
              "#7201a8"
             ],
             [
              0.3333333333333333,
              "#9c179e"
             ],
             [
              0.4444444444444444,
              "#bd3786"
             ],
             [
              0.5555555555555556,
              "#d8576b"
             ],
             [
              0.6666666666666666,
              "#ed7953"
             ],
             [
              0.7777777777777778,
              "#fb9f3a"
             ],
             [
              0.8888888888888888,
              "#fdca26"
             ],
             [
              1,
              "#f0f921"
             ]
            ],
            "type": "histogram2d"
           }
          ],
          "histogram2dcontour": [
           {
            "colorbar": {
             "outlinewidth": 0,
             "ticks": ""
            },
            "colorscale": [
             [
              0,
              "#0d0887"
             ],
             [
              0.1111111111111111,
              "#46039f"
             ],
             [
              0.2222222222222222,
              "#7201a8"
             ],
             [
              0.3333333333333333,
              "#9c179e"
             ],
             [
              0.4444444444444444,
              "#bd3786"
             ],
             [
              0.5555555555555556,
              "#d8576b"
             ],
             [
              0.6666666666666666,
              "#ed7953"
             ],
             [
              0.7777777777777778,
              "#fb9f3a"
             ],
             [
              0.8888888888888888,
              "#fdca26"
             ],
             [
              1,
              "#f0f921"
             ]
            ],
            "type": "histogram2dcontour"
           }
          ],
          "mesh3d": [
           {
            "colorbar": {
             "outlinewidth": 0,
             "ticks": ""
            },
            "type": "mesh3d"
           }
          ],
          "parcoords": [
           {
            "line": {
             "colorbar": {
              "outlinewidth": 0,
              "ticks": ""
             }
            },
            "type": "parcoords"
           }
          ],
          "pie": [
           {
            "automargin": true,
            "type": "pie"
           }
          ],
          "scatter": [
           {
            "marker": {
             "colorbar": {
              "outlinewidth": 0,
              "ticks": ""
             }
            },
            "type": "scatter"
           }
          ],
          "scatter3d": [
           {
            "line": {
             "colorbar": {
              "outlinewidth": 0,
              "ticks": ""
             }
            },
            "marker": {
             "colorbar": {
              "outlinewidth": 0,
              "ticks": ""
             }
            },
            "type": "scatter3d"
           }
          ],
          "scattercarpet": [
           {
            "marker": {
             "colorbar": {
              "outlinewidth": 0,
              "ticks": ""
             }
            },
            "type": "scattercarpet"
           }
          ],
          "scattergeo": [
           {
            "marker": {
             "colorbar": {
              "outlinewidth": 0,
              "ticks": ""
             }
            },
            "type": "scattergeo"
           }
          ],
          "scattergl": [
           {
            "marker": {
             "colorbar": {
              "outlinewidth": 0,
              "ticks": ""
             }
            },
            "type": "scattergl"
           }
          ],
          "scattermapbox": [
           {
            "marker": {
             "colorbar": {
              "outlinewidth": 0,
              "ticks": ""
             }
            },
            "type": "scattermapbox"
           }
          ],
          "scatterpolar": [
           {
            "marker": {
             "colorbar": {
              "outlinewidth": 0,
              "ticks": ""
             }
            },
            "type": "scatterpolar"
           }
          ],
          "scatterpolargl": [
           {
            "marker": {
             "colorbar": {
              "outlinewidth": 0,
              "ticks": ""
             }
            },
            "type": "scatterpolargl"
           }
          ],
          "scatterternary": [
           {
            "marker": {
             "colorbar": {
              "outlinewidth": 0,
              "ticks": ""
             }
            },
            "type": "scatterternary"
           }
          ],
          "surface": [
           {
            "colorbar": {
             "outlinewidth": 0,
             "ticks": ""
            },
            "colorscale": [
             [
              0,
              "#0d0887"
             ],
             [
              0.1111111111111111,
              "#46039f"
             ],
             [
              0.2222222222222222,
              "#7201a8"
             ],
             [
              0.3333333333333333,
              "#9c179e"
             ],
             [
              0.4444444444444444,
              "#bd3786"
             ],
             [
              0.5555555555555556,
              "#d8576b"
             ],
             [
              0.6666666666666666,
              "#ed7953"
             ],
             [
              0.7777777777777778,
              "#fb9f3a"
             ],
             [
              0.8888888888888888,
              "#fdca26"
             ],
             [
              1,
              "#f0f921"
             ]
            ],
            "type": "surface"
           }
          ],
          "table": [
           {
            "cells": {
             "fill": {
              "color": "#EBF0F8"
             },
             "line": {
              "color": "white"
             }
            },
            "header": {
             "fill": {
              "color": "#C8D4E3"
             },
             "line": {
              "color": "white"
             }
            },
            "type": "table"
           }
          ]
         },
         "layout": {
          "annotationdefaults": {
           "arrowcolor": "#2a3f5f",
           "arrowhead": 0,
           "arrowwidth": 1
          },
          "coloraxis": {
           "colorbar": {
            "outlinewidth": 0,
            "ticks": ""
           }
          },
          "colorscale": {
           "diverging": [
            [
             0,
             "#8e0152"
            ],
            [
             0.1,
             "#c51b7d"
            ],
            [
             0.2,
             "#de77ae"
            ],
            [
             0.3,
             "#f1b6da"
            ],
            [
             0.4,
             "#fde0ef"
            ],
            [
             0.5,
             "#f7f7f7"
            ],
            [
             0.6,
             "#e6f5d0"
            ],
            [
             0.7,
             "#b8e186"
            ],
            [
             0.8,
             "#7fbc41"
            ],
            [
             0.9,
             "#4d9221"
            ],
            [
             1,
             "#276419"
            ]
           ],
           "sequential": [
            [
             0,
             "#0d0887"
            ],
            [
             0.1111111111111111,
             "#46039f"
            ],
            [
             0.2222222222222222,
             "#7201a8"
            ],
            [
             0.3333333333333333,
             "#9c179e"
            ],
            [
             0.4444444444444444,
             "#bd3786"
            ],
            [
             0.5555555555555556,
             "#d8576b"
            ],
            [
             0.6666666666666666,
             "#ed7953"
            ],
            [
             0.7777777777777778,
             "#fb9f3a"
            ],
            [
             0.8888888888888888,
             "#fdca26"
            ],
            [
             1,
             "#f0f921"
            ]
           ],
           "sequentialminus": [
            [
             0,
             "#0d0887"
            ],
            [
             0.1111111111111111,
             "#46039f"
            ],
            [
             0.2222222222222222,
             "#7201a8"
            ],
            [
             0.3333333333333333,
             "#9c179e"
            ],
            [
             0.4444444444444444,
             "#bd3786"
            ],
            [
             0.5555555555555556,
             "#d8576b"
            ],
            [
             0.6666666666666666,
             "#ed7953"
            ],
            [
             0.7777777777777778,
             "#fb9f3a"
            ],
            [
             0.8888888888888888,
             "#fdca26"
            ],
            [
             1,
             "#f0f921"
            ]
           ]
          },
          "colorway": [
           "#636efa",
           "#EF553B",
           "#00cc96",
           "#ab63fa",
           "#FFA15A",
           "#19d3f3",
           "#FF6692",
           "#B6E880",
           "#FF97FF",
           "#FECB52"
          ],
          "font": {
           "color": "#2a3f5f"
          },
          "geo": {
           "bgcolor": "white",
           "lakecolor": "white",
           "landcolor": "#E5ECF6",
           "showlakes": true,
           "showland": true,
           "subunitcolor": "white"
          },
          "hoverlabel": {
           "align": "left"
          },
          "hovermode": "closest",
          "mapbox": {
           "style": "light"
          },
          "paper_bgcolor": "white",
          "plot_bgcolor": "#E5ECF6",
          "polar": {
           "angularaxis": {
            "gridcolor": "white",
            "linecolor": "white",
            "ticks": ""
           },
           "bgcolor": "#E5ECF6",
           "radialaxis": {
            "gridcolor": "white",
            "linecolor": "white",
            "ticks": ""
           }
          },
          "scene": {
           "xaxis": {
            "backgroundcolor": "#E5ECF6",
            "gridcolor": "white",
            "gridwidth": 2,
            "linecolor": "white",
            "showbackground": true,
            "ticks": "",
            "zerolinecolor": "white"
           },
           "yaxis": {
            "backgroundcolor": "#E5ECF6",
            "gridcolor": "white",
            "gridwidth": 2,
            "linecolor": "white",
            "showbackground": true,
            "ticks": "",
            "zerolinecolor": "white"
           },
           "zaxis": {
            "backgroundcolor": "#E5ECF6",
            "gridcolor": "white",
            "gridwidth": 2,
            "linecolor": "white",
            "showbackground": true,
            "ticks": "",
            "zerolinecolor": "white"
           }
          },
          "shapedefaults": {
           "line": {
            "color": "#2a3f5f"
           }
          },
          "ternary": {
           "aaxis": {
            "gridcolor": "white",
            "linecolor": "white",
            "ticks": ""
           },
           "baxis": {
            "gridcolor": "white",
            "linecolor": "white",
            "ticks": ""
           },
           "bgcolor": "#E5ECF6",
           "caxis": {
            "gridcolor": "white",
            "linecolor": "white",
            "ticks": ""
           }
          },
          "title": {
           "x": 0.05
          },
          "xaxis": {
           "automargin": true,
           "gridcolor": "white",
           "linecolor": "white",
           "ticks": "",
           "title": {
            "standoff": 15
           },
           "zerolinecolor": "white",
           "zerolinewidth": 2
          },
          "yaxis": {
           "automargin": true,
           "gridcolor": "white",
           "linecolor": "white",
           "ticks": "",
           "title": {
            "standoff": 15
           },
           "zerolinecolor": "white",
           "zerolinewidth": 2
          }
         }
        },
        "title": {
         "text": "График тикера SBER"
        },
        "width": 1000,
        "xaxis": {
         "anchor": "y",
         "domain": [
          0,
          1
         ],
         "matches": "x4",
         "rangeslider": {
          "visible": false
         },
         "showticklabels": false
        },
        "xaxis2": {
         "anchor": "y2",
         "domain": [
          0,
          1
         ],
         "matches": "x4",
         "showticklabels": false
        },
        "xaxis3": {
         "anchor": "y3",
         "domain": [
          0,
          1
         ],
         "matches": "x4",
         "showticklabels": false
        },
        "xaxis4": {
         "anchor": "y4",
         "domain": [
          0,
          1
         ]
        },
        "yaxis": {
         "anchor": "x",
         "domain": [
          0.53,
          1
         ],
         "title": {
          "text": "Цена"
         }
        },
        "yaxis2": {
         "anchor": "x2",
         "domain": [
          0.322,
          0.51
         ],
         "title": {
          "text": "CCI"
         }
        },
        "yaxis3": {
         "anchor": "x3",
         "domain": [
          0.11400000000000002,
          0.30200000000000005
         ],
         "title": {
          "text": "%Williams"
         }
        },
        "yaxis4": {
         "anchor": "x4",
         "domain": [
          0,
          0.09400000000000001
         ],
         "title": {
          "text": "MACD"
         }
        }
       }
      },
      "text/html": [
       "<div>\n",
       "        \n",
       "        \n",
       "            <div id=\"8e9c667a-b08b-4084-81fb-29e639df58d5\" class=\"plotly-graph-div\" style=\"height:800px; width:1000px;\"></div>\n",
       "            <script type=\"text/javascript\">\n",
       "                require([\"plotly\"], function(Plotly) {\n",
       "                    window.PLOTLYENV=window.PLOTLYENV || {};\n",
       "                    \n",
       "                if (document.getElementById(\"8e9c667a-b08b-4084-81fb-29e639df58d5\")) {\n",
       "                    Plotly.newPlot(\n",
       "                        '8e9c667a-b08b-4084-81fb-29e639df58d5',\n",
       "                        [{\"close\": [241.05, 241.21, 241.45, 241.6, 246.2, 244.0, 244.71, 248.8, 248.67, 248.04, 248.24, 252.06, 254.75, 255.0, 253.9, 259.15, 257.99, 258.19, 262.4, 259.05, 256.31, 257.51, 262.5, 266.28, 268.06, 266.54, 263.73, 265.49, 255.32, 257.7, 259.94, 257.31, 252.2, 253.99, 255.4, 255.2, 252.11, 254.3, 252.26, 254.5, 254.5, 253.89, 251.75, 251.36, 249.2, 249.7, 250.15, 250.8, 245.19, 250.8, 242.88, 233.36, 228.17, 236.63, 235.27, 232.33, 219.99, 201.2, 194.53, 175.91, 198.6, 195.85, 184.01, 174.27, 189.51, 195.69, 183.37, 192.64, 188.08, 188.07, 180.38, 183.0, 187.21, 184.78, 186.95, 185.64, 190.7, 197.63, 200.29, 203.61, 201.99, 198.26, 197.37, 186.07, 188.5, 191.8, 189.32, 186.05, 190.2, 190.94, 188.91, 188.9, 192.8, 195.8, 197.25, 193.69, 194.75, 195.7, 195.51, 196.02], \"high\": [242.3, 243.25, 242.48, 242.96, 246.25, 248.4, 245.4, 249.19, 249.89, 249.3, 249.24, 252.95, 256.0, 258.19, 254.84, 259.15, 261.76, 259.25, 262.4, 263.22, 258.91, 259.51, 262.82, 266.97, 268.9, 270.8, 266.89, 267.5, 262.1, 258.84, 261.57, 258.69, 259.2, 254.96, 257.38, 257.66, 258.0, 254.3, 255.73, 259.77, 255.49, 255.18, 254.4, 253.1, 250.44, 250.68, 252.17, 251.49, 249.0, 251.21, 248.98, 239.0, 241.0, 239.0, 236.7, 238.72, 229.2, 212.74, 204.33, 187.87, 199.52, 196.7, 204.78, 182.2, 190.15, 201.86, 190.99, 195.0, 201.0, 191.2, 188.97, 183.2, 188.77, 185.47, 189.9, 187.49, 192.02, 200.54, 200.29, 205.44, 202.75, 202.16, 202.85, 196.25, 191.67, 192.7, 192.23, 187.5, 191.94, 192.5, 191.65, 190.5, 194.22, 195.8, 199.7, 195.68, 196.46, 197.23, 198.15, 196.25], \"low\": [240.09, 241.1, 240.13, 241.0, 240.36, 243.1, 243.72, 244.07, 247.27, 247.11, 246.71, 248.55, 250.73, 253.7, 251.4, 253.03, 257.01, 256.88, 257.15, 258.62, 254.21, 256.1, 257.75, 261.8, 263.02, 265.5, 262.24, 264.21, 255.32, 254.1, 257.61, 255.27, 252.17, 251.1, 252.9, 253.14, 251.86, 248.73, 252.07, 253.0, 252.31, 252.5, 251.4, 250.13, 247.57, 247.95, 249.13, 247.24, 245.17, 243.22, 242.0, 231.0, 218.86, 232.28, 232.62, 230.64, 216.67, 184.86, 192.05, 173.14, 174.3, 186.0, 183.8, 172.15, 173.06, 192.05, 182.1, 189.1, 182.32, 182.8, 180.17, 174.9, 184.25, 182.0, 182.0, 184.28, 186.42, 193.02, 195.12, 199.3, 200.7, 197.32, 196.1, 186.06, 183.53, 188.28, 187.31, 183.65, 184.5, 188.68, 187.7, 188.43, 188.17, 192.86, 195.46, 193.26, 194.0, 194.3, 195.06, 194.6], \"name\": \"SBER\", \"open\": [242.0, 242.0, 242.48, 241.8, 241.3, 246.2, 244.6, 244.71, 248.8, 248.99, 248.2, 248.55, 252.1, 255.99, 254.75, 253.57, 259.4, 257.86, 258.3, 262.5, 258.49, 257.11, 258.2, 263.2, 265.5, 268.72, 264.64, 264.5, 261.0, 257.0, 258.4, 258.0, 258.5, 251.8, 255.3, 255.89, 256.5, 253.1, 254.55, 253.75, 255.4, 253.62, 254.4, 252.5, 250.07, 250.37, 250.03, 248.35, 247.98, 244.75, 247.5, 235.0, 238.93, 233.0, 234.13, 237.0, 228.0, 197.99, 202.0, 185.15, 175.0, 194.0, 195.0, 179.0, 178.5, 198.62, 188.0, 193.3, 196.38, 187.69, 188.05, 177.0, 186.0, 183.2, 188.3, 186.6, 187.52, 193.02, 196.02, 202.4, 201.85, 202.0, 199.99, 196.0, 187.22, 192.5, 190.6, 185.54, 185.01, 191.99, 189.73, 189.98, 188.5, 194.46, 196.51, 195.68, 195.51, 195.0, 196.0, 196.0], \"type\": \"candlestick\", \"x\": [\"2019-12-12T00:00:00\", \"2019-12-13T00:00:00\", \"2019-12-16T00:00:00\", \"2019-12-17T00:00:00\", \"2019-12-18T00:00:00\", \"2019-12-19T00:00:00\", \"2019-12-20T00:00:00\", \"2019-12-23T00:00:00\", \"2019-12-24T00:00:00\", \"2019-12-25T00:00:00\", \"2019-12-26T00:00:00\", \"2019-12-27T00:00:00\", \"2019-12-30T00:00:00\", \"2020-01-03T00:00:00\", \"2020-01-06T00:00:00\", \"2020-01-08T00:00:00\", \"2020-01-09T00:00:00\", \"2020-01-10T00:00:00\", \"2020-01-13T00:00:00\", \"2020-01-14T00:00:00\", \"2020-01-15T00:00:00\", \"2020-01-16T00:00:00\", \"2020-01-17T00:00:00\", \"2020-01-20T00:00:00\", \"2020-01-21T00:00:00\", \"2020-01-22T00:00:00\", \"2020-01-23T00:00:00\", \"2020-01-24T00:00:00\", \"2020-01-27T00:00:00\", \"2020-01-28T00:00:00\", \"2020-01-29T00:00:00\", \"2020-01-30T00:00:00\", \"2020-01-31T00:00:00\", \"2020-02-03T00:00:00\", \"2020-02-04T00:00:00\", \"2020-02-05T00:00:00\", \"2020-02-06T00:00:00\", \"2020-02-07T00:00:00\", \"2020-02-10T00:00:00\", \"2020-02-11T00:00:00\", \"2020-02-12T00:00:00\", \"2020-02-13T00:00:00\", \"2020-02-14T00:00:00\", \"2020-02-17T00:00:00\", \"2020-02-18T00:00:00\", \"2020-02-19T00:00:00\", \"2020-02-20T00:00:00\", \"2020-02-21T00:00:00\", \"2020-02-25T00:00:00\", \"2020-02-26T00:00:00\", \"2020-02-27T00:00:00\", \"2020-02-28T00:00:00\", \"2020-03-02T00:00:00\", \"2020-03-03T00:00:00\", \"2020-03-04T00:00:00\", \"2020-03-05T00:00:00\", \"2020-03-06T00:00:00\", \"2020-03-10T00:00:00\", \"2020-03-11T00:00:00\", \"2020-03-12T00:00:00\", \"2020-03-13T00:00:00\", \"2020-03-16T00:00:00\", \"2020-03-17T00:00:00\", \"2020-03-18T00:00:00\", \"2020-03-19T00:00:00\", \"2020-03-20T00:00:00\", \"2020-03-23T00:00:00\", \"2020-03-24T00:00:00\", \"2020-03-25T00:00:00\", \"2020-03-26T00:00:00\", \"2020-03-27T00:00:00\", \"2020-03-30T00:00:00\", \"2020-03-31T00:00:00\", \"2020-04-01T00:00:00\", \"2020-04-02T00:00:00\", \"2020-04-03T00:00:00\", \"2020-04-06T00:00:00\", \"2020-04-07T00:00:00\", \"2020-04-08T00:00:00\", \"2020-04-09T00:00:00\", \"2020-04-10T00:00:00\", \"2020-04-13T00:00:00\", \"2020-04-14T00:00:00\", \"2020-04-15T00:00:00\", \"2020-04-16T00:00:00\", \"2020-04-17T00:00:00\", \"2020-04-20T00:00:00\", \"2020-04-21T00:00:00\", \"2020-04-22T00:00:00\", \"2020-04-23T00:00:00\", \"2020-04-24T00:00:00\", \"2020-04-27T00:00:00\", \"2020-04-28T00:00:00\", \"2020-04-29T00:00:00\", \"2020-04-30T00:00:00\", \"2020-05-04T00:00:00\", \"2020-05-05T00:00:00\", \"2020-05-06T00:00:00\", \"2020-05-07T00:00:00\", \"2020-05-08T00:00:00\"], \"xaxis\": \"x\", \"yaxis\": \"y\"}, {\"line\": {\"color\": \"red\"}, \"name\": \"MA_fast\", \"opacity\": 1, \"type\": \"scatter\", \"x\": [\"2019-12-12T00:00:00\", \"2019-12-13T00:00:00\", \"2019-12-16T00:00:00\", \"2019-12-17T00:00:00\", \"2019-12-18T00:00:00\", \"2019-12-19T00:00:00\", \"2019-12-20T00:00:00\", \"2019-12-23T00:00:00\", \"2019-12-24T00:00:00\", \"2019-12-25T00:00:00\", \"2019-12-26T00:00:00\", \"2019-12-27T00:00:00\", \"2019-12-30T00:00:00\", \"2020-01-03T00:00:00\", \"2020-01-06T00:00:00\", \"2020-01-08T00:00:00\", \"2020-01-09T00:00:00\", \"2020-01-10T00:00:00\", \"2020-01-13T00:00:00\", \"2020-01-14T00:00:00\", \"2020-01-15T00:00:00\", \"2020-01-16T00:00:00\", \"2020-01-17T00:00:00\", \"2020-01-20T00:00:00\", \"2020-01-21T00:00:00\", \"2020-01-22T00:00:00\", \"2020-01-23T00:00:00\", \"2020-01-24T00:00:00\", \"2020-01-27T00:00:00\", \"2020-01-28T00:00:00\", \"2020-01-29T00:00:00\", \"2020-01-30T00:00:00\", \"2020-01-31T00:00:00\", \"2020-02-03T00:00:00\", \"2020-02-04T00:00:00\", \"2020-02-05T00:00:00\", \"2020-02-06T00:00:00\", \"2020-02-07T00:00:00\", \"2020-02-10T00:00:00\", \"2020-02-11T00:00:00\", \"2020-02-12T00:00:00\", \"2020-02-13T00:00:00\", \"2020-02-14T00:00:00\", \"2020-02-17T00:00:00\", \"2020-02-18T00:00:00\", \"2020-02-19T00:00:00\", \"2020-02-20T00:00:00\", \"2020-02-21T00:00:00\", \"2020-02-25T00:00:00\", \"2020-02-26T00:00:00\", \"2020-02-27T00:00:00\", \"2020-02-28T00:00:00\", \"2020-03-02T00:00:00\", \"2020-03-03T00:00:00\", \"2020-03-04T00:00:00\", \"2020-03-05T00:00:00\", \"2020-03-06T00:00:00\", \"2020-03-10T00:00:00\", \"2020-03-11T00:00:00\", \"2020-03-12T00:00:00\", \"2020-03-13T00:00:00\", \"2020-03-16T00:00:00\", \"2020-03-17T00:00:00\", \"2020-03-18T00:00:00\", \"2020-03-19T00:00:00\", \"2020-03-20T00:00:00\", \"2020-03-23T00:00:00\", \"2020-03-24T00:00:00\", \"2020-03-25T00:00:00\", \"2020-03-26T00:00:00\", \"2020-03-27T00:00:00\", \"2020-03-30T00:00:00\", \"2020-03-31T00:00:00\", \"2020-04-01T00:00:00\", \"2020-04-02T00:00:00\", \"2020-04-03T00:00:00\", \"2020-04-06T00:00:00\", \"2020-04-07T00:00:00\", \"2020-04-08T00:00:00\", \"2020-04-09T00:00:00\", \"2020-04-10T00:00:00\", \"2020-04-13T00:00:00\", \"2020-04-14T00:00:00\", \"2020-04-15T00:00:00\", \"2020-04-16T00:00:00\", \"2020-04-17T00:00:00\", \"2020-04-20T00:00:00\", \"2020-04-21T00:00:00\", \"2020-04-22T00:00:00\", \"2020-04-23T00:00:00\", \"2020-04-24T00:00:00\", \"2020-04-27T00:00:00\", \"2020-04-28T00:00:00\", \"2020-04-29T00:00:00\", \"2020-04-30T00:00:00\", \"2020-05-04T00:00:00\", \"2020-05-05T00:00:00\", \"2020-05-06T00:00:00\", \"2020-05-07T00:00:00\", \"2020-05-08T00:00:00\"], \"xaxis\": \"x\", \"y\": [237.39178475313165, 238.2402770302135, 238.95354880127715, 239.54164906766002, 241.02128260818, 241.68321980636222, 242.35583762717062, 243.7878737100216, 244.87279066335012, 245.5766149603834, 246.16847830252044, 247.47770534640478, 249.0937708249815, 250.40626619720783, 251.1826514867172, 252.9531733785578, 254.07246818332274, 254.98747525369546, 256.63470297509645, 257.17143564729724, 256.9800055034534, 257.09778205824153, 258.2982749341879, 260.0719916154795, 261.8471045898174, 262.8899702365246, 263.07664351729693, 263.61294495789764, 261.77006830058707, 260.86560867823437, 260.65991786084896, 259.91549166954917, 258.2009379652049, 257.26517397293713, 256.85069086784, 256.4838706749867, 255.51189941387855, 255.24258843301666, 254.57979100345742, 254.56205966935576, 254.54826863172116, 254.4019867135609, 253.8126563327696, 253.26762159215414, 252.36370568278656, 251.77177108661178, 251.41137751180915, 251.27551584251822, 249.92317898862527, 250.1180281022641, 248.5095774128721, 245.14300465445606, 241.3712258423547, 240.3176200996092, 239.19592674414048, 237.6701652454426, 233.74123963534424, 226.50985304971218, 219.40321903866501, 209.73805925229502, 207.26293497400724, 204.72672720200563, 200.12301004600437, 194.37789670244786, 193.29614187968167, 193.8281103508635, 191.5040858284494, 191.75651119990508, 190.9395087110373, 190.30184010858457, 188.09698675112134, 186.96432302864991, 187.01891791117217, 186.52138059757834, 186.61662935367204, 186.3996006084116, 187.35524491765347, 189.63852382484157, 192.00551853043234, 194.58429219033627, 196.23000503692822, 196.68111502872193, 196.83420057789485, 194.44215600502932, 193.1216768928006, 192.8279709166227, 192.04842182403988, 190.71543919647547, 190.60089715281424, 190.67625334107774, 190.28375259861602, 189.9762520211458, 190.6037515720023, 191.75847344489068, 192.9788126793594, 193.13685430616843, 193.49533112701988, 193.98525754323768, 194.32408920029596, 194.70095826689686], \"yaxis\": \"y\"}, {\"line\": {\"color\": \"green\"}, \"name\": \"MA_slow\", \"opacity\": 1, \"type\": \"scatter\", \"x\": [\"2019-12-12T00:00:00\", \"2019-12-13T00:00:00\", \"2019-12-16T00:00:00\", \"2019-12-17T00:00:00\", \"2019-12-18T00:00:00\", \"2019-12-19T00:00:00\", \"2019-12-20T00:00:00\", \"2019-12-23T00:00:00\", \"2019-12-24T00:00:00\", \"2019-12-25T00:00:00\", \"2019-12-26T00:00:00\", \"2019-12-27T00:00:00\", \"2019-12-30T00:00:00\", \"2020-01-03T00:00:00\", \"2020-01-06T00:00:00\", \"2020-01-08T00:00:00\", \"2020-01-09T00:00:00\", \"2020-01-10T00:00:00\", \"2020-01-13T00:00:00\", \"2020-01-14T00:00:00\", \"2020-01-15T00:00:00\", \"2020-01-16T00:00:00\", \"2020-01-17T00:00:00\", \"2020-01-20T00:00:00\", \"2020-01-21T00:00:00\", \"2020-01-22T00:00:00\", \"2020-01-23T00:00:00\", \"2020-01-24T00:00:00\", \"2020-01-27T00:00:00\", \"2020-01-28T00:00:00\", \"2020-01-29T00:00:00\", \"2020-01-30T00:00:00\", \"2020-01-31T00:00:00\", \"2020-02-03T00:00:00\", \"2020-02-04T00:00:00\", \"2020-02-05T00:00:00\", \"2020-02-06T00:00:00\", \"2020-02-07T00:00:00\", \"2020-02-10T00:00:00\", \"2020-02-11T00:00:00\", \"2020-02-12T00:00:00\", \"2020-02-13T00:00:00\", \"2020-02-14T00:00:00\", \"2020-02-17T00:00:00\", \"2020-02-18T00:00:00\", \"2020-02-19T00:00:00\", \"2020-02-20T00:00:00\", \"2020-02-21T00:00:00\", \"2020-02-25T00:00:00\", \"2020-02-26T00:00:00\", \"2020-02-27T00:00:00\", \"2020-02-28T00:00:00\", \"2020-03-02T00:00:00\", \"2020-03-03T00:00:00\", \"2020-03-04T00:00:00\", \"2020-03-05T00:00:00\", \"2020-03-06T00:00:00\", \"2020-03-10T00:00:00\", \"2020-03-11T00:00:00\", \"2020-03-12T00:00:00\", \"2020-03-13T00:00:00\", \"2020-03-16T00:00:00\", \"2020-03-17T00:00:00\", \"2020-03-18T00:00:00\", \"2020-03-19T00:00:00\", \"2020-03-20T00:00:00\", \"2020-03-23T00:00:00\", \"2020-03-24T00:00:00\", \"2020-03-25T00:00:00\", \"2020-03-26T00:00:00\", \"2020-03-27T00:00:00\", \"2020-03-30T00:00:00\", \"2020-03-31T00:00:00\", \"2020-04-01T00:00:00\", \"2020-04-02T00:00:00\", \"2020-04-03T00:00:00\", \"2020-04-06T00:00:00\", \"2020-04-07T00:00:00\", \"2020-04-08T00:00:00\", \"2020-04-09T00:00:00\", \"2020-04-10T00:00:00\", \"2020-04-13T00:00:00\", \"2020-04-14T00:00:00\", \"2020-04-15T00:00:00\", \"2020-04-16T00:00:00\", \"2020-04-17T00:00:00\", \"2020-04-20T00:00:00\", \"2020-04-21T00:00:00\", \"2020-04-22T00:00:00\", \"2020-04-23T00:00:00\", \"2020-04-24T00:00:00\", \"2020-04-27T00:00:00\", \"2020-04-28T00:00:00\", \"2020-04-29T00:00:00\", \"2020-04-30T00:00:00\", \"2020-05-04T00:00:00\", \"2020-05-05T00:00:00\", \"2020-05-06T00:00:00\", \"2020-05-07T00:00:00\", \"2020-05-08T00:00:00\"], \"xaxis\": \"x\", \"y\": [236.72669154091795, 237.36716417792968, 237.95042643822543, 238.47179408990752, 239.57582350563501, 240.20784871911573, 240.8510131878135, 241.98658273241156, 242.94135662778135, 243.66973425238402, 244.3226293591863, 245.4279680221597, 246.75968687613687, 247.93687446526016, 248.78874954165155, 250.26892817855847, 251.3719384387644, 252.34594723322664, 253.78224048562282, 254.53477755910527, 254.78838076494736, 255.17718351281204, 256.22330015383886, 257.6599715604333, 259.1456899089428, 260.202019921951, 260.70601707595796, 261.38944320796395, 260.5223798925405, 260.11918276503474, 260.09358522717264, 259.6959301947194, 258.6250830240452, 257.96292830632444, 257.59679569113524, 257.25439630668734, 256.51948254858917, 256.20241361307643, 255.63921166835124, 255.47646714430107, 255.33697183797236, 255.1302615754049, 254.64736706463276, 254.17774319825665, 253.46663702707713, 252.92854602320895, 252.53161087703626, 252.2842378946025, 251.27077533823072, 251.20352171848347, 250.01444718727154, 247.63524044623276, 244.85449181105665, 243.67956440947714, 242.47819806526613, 241.0284554845138, 238.02296184386898, 232.76253872331628, 227.30074747712825, 219.9592121232528, 216.90789610564525, 213.8996252334102, 209.62967877149447, 204.57829608985242, 202.42568236273064, 201.46344202519768, 198.87866459302657, 197.98742679402278, 196.57208010916239, 195.3574972364249, 193.2178547740785, 191.75816123492442, 191.1084239156495, 190.204363356271, 189.73945430537512, 189.1538179760358, 189.3747011223164, 190.55402953341405, 191.94488245721203, 193.61132782046747, 194.80828098897211, 195.30138370483323, 195.59690031842848, 194.23591455865298, 193.41649819313113, 193.1855698798267, 192.63334561128002, 191.69286766681145, 191.47960085726695, 191.40251502051453, 191.0464414461553, 190.73980695384742, 191.03412024615494, 191.71496021098994, 192.50568018084851, 192.6748687264416, 192.97131605123565, 193.36112804391627, 193.66810975192823, 194.00409407308135], \"yaxis\": \"y\"}, {\"line\": {\"color\": \"blue\"}, \"name\": \"upBB\", \"opacity\": 0.5, \"type\": \"scatter\", \"x\": [\"2019-12-12T00:00:00\", \"2019-12-13T00:00:00\", \"2019-12-16T00:00:00\", \"2019-12-17T00:00:00\", \"2019-12-18T00:00:00\", \"2019-12-19T00:00:00\", \"2019-12-20T00:00:00\", \"2019-12-23T00:00:00\", \"2019-12-24T00:00:00\", \"2019-12-25T00:00:00\", \"2019-12-26T00:00:00\", \"2019-12-27T00:00:00\", \"2019-12-30T00:00:00\", \"2020-01-03T00:00:00\", \"2020-01-06T00:00:00\", \"2020-01-08T00:00:00\", \"2020-01-09T00:00:00\", \"2020-01-10T00:00:00\", \"2020-01-13T00:00:00\", \"2020-01-14T00:00:00\", \"2020-01-15T00:00:00\", \"2020-01-16T00:00:00\", \"2020-01-17T00:00:00\", \"2020-01-20T00:00:00\", \"2020-01-21T00:00:00\", \"2020-01-22T00:00:00\", \"2020-01-23T00:00:00\", \"2020-01-24T00:00:00\", \"2020-01-27T00:00:00\", \"2020-01-28T00:00:00\", \"2020-01-29T00:00:00\", \"2020-01-30T00:00:00\", \"2020-01-31T00:00:00\", \"2020-02-03T00:00:00\", \"2020-02-04T00:00:00\", \"2020-02-05T00:00:00\", \"2020-02-06T00:00:00\", \"2020-02-07T00:00:00\", \"2020-02-10T00:00:00\", \"2020-02-11T00:00:00\", \"2020-02-12T00:00:00\", \"2020-02-13T00:00:00\", \"2020-02-14T00:00:00\", \"2020-02-17T00:00:00\", \"2020-02-18T00:00:00\", \"2020-02-19T00:00:00\", \"2020-02-20T00:00:00\", \"2020-02-21T00:00:00\", \"2020-02-25T00:00:00\", \"2020-02-26T00:00:00\", \"2020-02-27T00:00:00\", \"2020-02-28T00:00:00\", \"2020-03-02T00:00:00\", \"2020-03-03T00:00:00\", \"2020-03-04T00:00:00\", \"2020-03-05T00:00:00\", \"2020-03-06T00:00:00\", \"2020-03-10T00:00:00\", \"2020-03-11T00:00:00\", \"2020-03-12T00:00:00\", \"2020-03-13T00:00:00\", \"2020-03-16T00:00:00\", \"2020-03-17T00:00:00\", \"2020-03-18T00:00:00\", \"2020-03-19T00:00:00\", \"2020-03-20T00:00:00\", \"2020-03-23T00:00:00\", \"2020-03-24T00:00:00\", \"2020-03-25T00:00:00\", \"2020-03-26T00:00:00\", \"2020-03-27T00:00:00\", \"2020-03-30T00:00:00\", \"2020-03-31T00:00:00\", \"2020-04-01T00:00:00\", \"2020-04-02T00:00:00\", \"2020-04-03T00:00:00\", \"2020-04-06T00:00:00\", \"2020-04-07T00:00:00\", \"2020-04-08T00:00:00\", \"2020-04-09T00:00:00\", \"2020-04-10T00:00:00\", \"2020-04-13T00:00:00\", \"2020-04-14T00:00:00\", \"2020-04-15T00:00:00\", \"2020-04-16T00:00:00\", \"2020-04-17T00:00:00\", \"2020-04-20T00:00:00\", \"2020-04-21T00:00:00\", \"2020-04-22T00:00:00\", \"2020-04-23T00:00:00\", \"2020-04-24T00:00:00\", \"2020-04-27T00:00:00\", \"2020-04-28T00:00:00\", \"2020-04-29T00:00:00\", \"2020-04-30T00:00:00\", \"2020-05-04T00:00:00\", \"2020-05-05T00:00:00\", \"2020-05-06T00:00:00\", \"2020-05-07T00:00:00\", \"2020-05-08T00:00:00\"], \"xaxis\": \"x\", \"y\": [242.6156910158149, 242.92108652895638, 242.9782710283351, 242.01689617813295, 246.2184351137378, 246.76480570131613, 247.25525319902124, 249.8373433384572, 250.4297445542375, 250.9654482891584, 250.72487058744122, 252.1123193047899, 255.63553518017483, 257.66155392134385, 257.7854539333467, 259.6311570053165, 260.2303732638629, 260.8966908053076, 263.76639116242956, 262.53436687628295, 262.8129303099889, 262.8102986778849, 264.59258075259095, 267.5887932881738, 271.41601120208236, 271.78564247322487, 269.456459567323, 268.85190395324, 272.7911548017642, 270.63741069877346, 267.93525436295045, 266.1363642516834, 261.6949168422731, 261.7669443037636, 261.1204334652782, 258.1945162616715, 256.6042096239928, 256.5430236875218, 256.6800389240577, 256.1797246457522, 255.74378188977943, 255.57978105102242, 255.69174393053953, 255.93411045869254, 255.93854709070985, 254.50411792815572, 252.3775549337804, 251.7780416662231, 252.96863429268262, 253.54896481866862, 254.56136432225054, 257.4597596056744, 256.472120058138, 254.03995405814067, 244.80430496266248, 238.9569413434093, 242.46350057362523, 251.70674997066257, 249.30407745089437, 244.20470536261575, 226.24753924877754, 211.12652043024087, 206.81806561791538, 205.70345854293117, 205.8765301732639, 204.0494957904761, 199.58834308210177, 202.29625052426266, 198.2068097355443, 198.04534778049424, 194.98912634031294, 195.0290460150237, 191.57916554107965, 190.28907703932052, 189.57421878204053, 188.5901919263965, 191.105584670097, 198.5450794786812, 203.8271725925998, 208.6425980885592, 207.89945228027116, 204.8359214279205, 204.91344421815862, 209.7473463367943, 206.62061975111948, 201.97828377113098, 198.29790814415117, 192.67043264844105, 192.98802884103927, 193.62757990718706, 192.4284066738823, 192.33756797688406, 193.25505765869943, 196.6820782803391, 199.60929481703195, 199.40547356796583, 197.98469538017054, 197.8064391485534, 197.72421841993238, 196.80236926377978], \"yaxis\": \"y\"}, {\"line\": {\"color\": \"blue\"}, \"name\": \"lowBB\", \"opacity\": 0.5, \"type\": \"scatter\", \"x\": [\"2019-12-12T00:00:00\", \"2019-12-13T00:00:00\", \"2019-12-16T00:00:00\", \"2019-12-17T00:00:00\", \"2019-12-18T00:00:00\", \"2019-12-19T00:00:00\", \"2019-12-20T00:00:00\", \"2019-12-23T00:00:00\", \"2019-12-24T00:00:00\", \"2019-12-25T00:00:00\", \"2019-12-26T00:00:00\", \"2019-12-27T00:00:00\", \"2019-12-30T00:00:00\", \"2020-01-03T00:00:00\", \"2020-01-06T00:00:00\", \"2020-01-08T00:00:00\", \"2020-01-09T00:00:00\", \"2020-01-10T00:00:00\", \"2020-01-13T00:00:00\", \"2020-01-14T00:00:00\", \"2020-01-15T00:00:00\", \"2020-01-16T00:00:00\", \"2020-01-17T00:00:00\", \"2020-01-20T00:00:00\", \"2020-01-21T00:00:00\", \"2020-01-22T00:00:00\", \"2020-01-23T00:00:00\", \"2020-01-24T00:00:00\", \"2020-01-27T00:00:00\", \"2020-01-28T00:00:00\", \"2020-01-29T00:00:00\", \"2020-01-30T00:00:00\", \"2020-01-31T00:00:00\", \"2020-02-03T00:00:00\", \"2020-02-04T00:00:00\", \"2020-02-05T00:00:00\", \"2020-02-06T00:00:00\", \"2020-02-07T00:00:00\", \"2020-02-10T00:00:00\", \"2020-02-11T00:00:00\", \"2020-02-12T00:00:00\", \"2020-02-13T00:00:00\", \"2020-02-14T00:00:00\", \"2020-02-17T00:00:00\", \"2020-02-18T00:00:00\", \"2020-02-19T00:00:00\", \"2020-02-20T00:00:00\", \"2020-02-21T00:00:00\", \"2020-02-25T00:00:00\", \"2020-02-26T00:00:00\", \"2020-02-27T00:00:00\", \"2020-02-28T00:00:00\", \"2020-03-02T00:00:00\", \"2020-03-03T00:00:00\", \"2020-03-04T00:00:00\", \"2020-03-05T00:00:00\", \"2020-03-06T00:00:00\", \"2020-03-10T00:00:00\", \"2020-03-11T00:00:00\", \"2020-03-12T00:00:00\", \"2020-03-13T00:00:00\", \"2020-03-16T00:00:00\", \"2020-03-17T00:00:00\", \"2020-03-18T00:00:00\", \"2020-03-19T00:00:00\", \"2020-03-20T00:00:00\", \"2020-03-23T00:00:00\", \"2020-03-24T00:00:00\", \"2020-03-25T00:00:00\", \"2020-03-26T00:00:00\", \"2020-03-27T00:00:00\", \"2020-03-30T00:00:00\", \"2020-03-31T00:00:00\", \"2020-04-01T00:00:00\", \"2020-04-02T00:00:00\", \"2020-04-03T00:00:00\", \"2020-04-06T00:00:00\", \"2020-04-07T00:00:00\", \"2020-04-08T00:00:00\", \"2020-04-09T00:00:00\", \"2020-04-10T00:00:00\", \"2020-04-13T00:00:00\", \"2020-04-14T00:00:00\", \"2020-04-15T00:00:00\", \"2020-04-16T00:00:00\", \"2020-04-17T00:00:00\", \"2020-04-20T00:00:00\", \"2020-04-21T00:00:00\", \"2020-04-22T00:00:00\", \"2020-04-23T00:00:00\", \"2020-04-24T00:00:00\", \"2020-04-27T00:00:00\", \"2020-04-28T00:00:00\", \"2020-04-29T00:00:00\", \"2020-04-30T00:00:00\", \"2020-05-04T00:00:00\", \"2020-05-05T00:00:00\", \"2020-05-06T00:00:00\", \"2020-05-07T00:00:00\", \"2020-05-08T00:00:00\"], \"xaxis\": \"x\", \"y\": [233.9683089841854, 236.0909134710439, 237.7977289716652, 240.23510382186734, 238.38556488626259, 239.01919429868425, 239.92874680097913, 240.28665666154316, 242.52225544576285, 242.72255171084188, 244.65912941255908, 246.21168069521033, 245.06846481982546, 245.5744460786564, 247.7945460666536, 250.31284299468376, 252.0856267361374, 252.79530919469258, 252.8856088375707, 256.17763312371727, 254.76306969001138, 254.57370132211537, 254.51541924740923, 253.07120671182625, 252.84798879791776, 256.57035752677524, 261.38754043267716, 263.18809604676017, 254.864845198236, 252.8745893012267, 252.9367456370497, 252.16763574831677, 251.2930831577271, 250.6890556962367, 250.41556653472202, 251.44548373832876, 250.9557903760074, 251.8569763124784, 251.02796107594247, 251.16827535424792, 251.32421811022067, 252.20021894897766, 251.06825606946057, 250.46588954130766, 248.34145290929035, 247.85588207184452, 248.4864450662198, 248.70595833377712, 245.04736570731757, 245.1070351813315, 241.3666356777495, 231.75224039432572, 223.68787994186215, 222.69604594185938, 225.71969503733757, 227.34705865659078, 218.4924994263749, 198.46125002933755, 184.02392254910578, 165.37929463738442, 169.8444607512226, 175.30947956975928, 172.74193438208474, 165.75254145706896, 171.01946982673624, 171.68250420952404, 171.15165691789835, 171.89574947573746, 181.50919026445587, 181.09465221950592, 178.0268736596872, 177.8389539849764, 179.1168344589205, 179.08692296067957, 179.35378121795964, 182.44180807360365, 183.0064153299032, 179.73492052131894, 180.65682740740036, 182.505401911441, 189.78854771972905, 195.87607857207965, 195.69455578184156, 185.1726536632059, 182.25538024888067, 182.8217162288692, 182.926091855849, 184.02556735155915, 185.35997115896097, 185.69642009281318, 185.73959332611793, 185.66243202311617, 187.44494234130073, 186.25792171966106, 185.85470518296816, 187.97052643203426, 191.7313046198296, 193.06956085144668, 193.03578158006772, 193.46563073622036], \"yaxis\": \"y\"}, {\"line\": {\"color\": \"blue\"}, \"name\": \"CCI\", \"opacity\": 1, \"type\": \"scatter\", \"x\": [\"2019-12-12T00:00:00\", \"2019-12-13T00:00:00\", \"2019-12-16T00:00:00\", \"2019-12-17T00:00:00\", \"2019-12-18T00:00:00\", \"2019-12-19T00:00:00\", \"2019-12-20T00:00:00\", \"2019-12-23T00:00:00\", \"2019-12-24T00:00:00\", \"2019-12-25T00:00:00\", \"2019-12-26T00:00:00\", \"2019-12-27T00:00:00\", \"2019-12-30T00:00:00\", \"2020-01-03T00:00:00\", \"2020-01-06T00:00:00\", \"2020-01-08T00:00:00\", \"2020-01-09T00:00:00\", \"2020-01-10T00:00:00\", \"2020-01-13T00:00:00\", \"2020-01-14T00:00:00\", \"2020-01-15T00:00:00\", \"2020-01-16T00:00:00\", \"2020-01-17T00:00:00\", \"2020-01-20T00:00:00\", \"2020-01-21T00:00:00\", \"2020-01-22T00:00:00\", \"2020-01-23T00:00:00\", \"2020-01-24T00:00:00\", \"2020-01-27T00:00:00\", \"2020-01-28T00:00:00\", \"2020-01-29T00:00:00\", \"2020-01-30T00:00:00\", \"2020-01-31T00:00:00\", \"2020-02-03T00:00:00\", \"2020-02-04T00:00:00\", \"2020-02-05T00:00:00\", \"2020-02-06T00:00:00\", \"2020-02-07T00:00:00\", \"2020-02-10T00:00:00\", \"2020-02-11T00:00:00\", \"2020-02-12T00:00:00\", \"2020-02-13T00:00:00\", \"2020-02-14T00:00:00\", \"2020-02-17T00:00:00\", \"2020-02-18T00:00:00\", \"2020-02-19T00:00:00\", \"2020-02-20T00:00:00\", \"2020-02-21T00:00:00\", \"2020-02-25T00:00:00\", \"2020-02-26T00:00:00\", \"2020-02-27T00:00:00\", \"2020-02-28T00:00:00\", \"2020-03-02T00:00:00\", \"2020-03-03T00:00:00\", \"2020-03-04T00:00:00\", \"2020-03-05T00:00:00\", \"2020-03-06T00:00:00\", \"2020-03-10T00:00:00\", \"2020-03-11T00:00:00\", \"2020-03-12T00:00:00\", \"2020-03-13T00:00:00\", \"2020-03-16T00:00:00\", \"2020-03-17T00:00:00\", \"2020-03-18T00:00:00\", \"2020-03-19T00:00:00\", \"2020-03-20T00:00:00\", \"2020-03-23T00:00:00\", \"2020-03-24T00:00:00\", \"2020-03-25T00:00:00\", \"2020-03-26T00:00:00\", \"2020-03-27T00:00:00\", \"2020-03-30T00:00:00\", \"2020-03-31T00:00:00\", \"2020-04-01T00:00:00\", \"2020-04-02T00:00:00\", \"2020-04-03T00:00:00\", \"2020-04-06T00:00:00\", \"2020-04-07T00:00:00\", \"2020-04-08T00:00:00\", \"2020-04-09T00:00:00\", \"2020-04-10T00:00:00\", \"2020-04-13T00:00:00\", \"2020-04-14T00:00:00\", \"2020-04-15T00:00:00\", \"2020-04-16T00:00:00\", \"2020-04-17T00:00:00\", \"2020-04-20T00:00:00\", \"2020-04-21T00:00:00\", \"2020-04-22T00:00:00\", \"2020-04-23T00:00:00\", \"2020-04-24T00:00:00\", \"2020-04-27T00:00:00\", \"2020-04-28T00:00:00\", \"2020-04-29T00:00:00\", \"2020-04-30T00:00:00\", \"2020-05-04T00:00:00\", \"2020-05-05T00:00:00\", \"2020-05-06T00:00:00\", \"2020-05-07T00:00:00\", \"2020-05-08T00:00:00\"], \"xaxis\": \"x2\", \"y\": [164.82322292519498, 133.1601169210788, 98.11874443221674, 88.48912059133049, 108.57025603611355, 106.81762702407376, 90.02700437657168, 138.6921930964524, 139.54904385881358, 108.21003771395357, 93.67514183652038, 139.6569055583925, 156.88986141502542, 159.05803012998217, 96.98880132724966, 131.87082266225096, 131.71633171633152, 98.41269841269796, 121.84327485380092, 97.73317425784346, 25.105438110129306, 39.913095500488105, 109.28422251756213, 182.18283409498838, 170.3269872173362, 148.97202561509957, 66.07655782871379, 77.41881556400739, -81.61970972069761, -91.01558884584355, -35.04399968849671, -74.31587177482382, -112.57518930012077, -116.2207321571952, -73.12430011198191, -62.85564579512624, -75.57043183103819, -101.87653140500855, -74.4715966565522, 13.040284761851058, -45.898842169410344, -48.01851316170165, -110.19881229021324, -154.34478904722047, -215.36111111111003, -140.744352348448, -83.16589592303148, -88.68437565362909, -162.4388308424824, -82.44355263691261, -154.6623852876247, -272.0978243608074, -217.89756847400736, -101.39479399259827, -88.00099507988323, -78.20600472720862, -145.98632109431242, -238.17977589655095, -177.31015422507977, -178.20989297694476, -102.67096148912485, -76.68195195400713, -69.37492778740598, -100.71397441192372, -66.00814723353777, -14.373057972470047, -57.97005463963862, 0.16385851173735053, 10.302748947176351, -16.00695954762968, -58.430005524125285, -100.92695587689958, -6.917231464366278, -37.86084057207977, 3.202623836395972, -23.047696983867567, 48.27517589368212, 194.3144373080152, 157.39013491822493, 168.9795418565392, 118.02787992816233, 73.96601226041705, 57.89802940256477, -40.97805788982224, -59.277365450424156, -36.398017736045695, -57.82897104951954, -105.60920484898324, -65.12492815363257, -36.649241361723575, -45.60411866359451, -41.59008870517803, 17.995181041025642, 121.00290987363816, 211.7250247696918, 90.30307610913572, 90.34247175264979, 86.28475461839703, 80.37383177569994, 57.796618826293134], \"yaxis\": \"y2\"}, {\"line\": {\"color\": \"black\"}, \"name\": \"%Willams\", \"opacity\": 1, \"type\": \"scatter\", \"x\": [\"2019-12-12T00:00:00\", \"2019-12-13T00:00:00\", \"2019-12-16T00:00:00\", \"2019-12-17T00:00:00\", \"2019-12-18T00:00:00\", \"2019-12-19T00:00:00\", \"2019-12-20T00:00:00\", \"2019-12-23T00:00:00\", \"2019-12-24T00:00:00\", \"2019-12-25T00:00:00\", \"2019-12-26T00:00:00\", \"2019-12-27T00:00:00\", \"2019-12-30T00:00:00\", \"2020-01-03T00:00:00\", \"2020-01-06T00:00:00\", \"2020-01-08T00:00:00\", \"2020-01-09T00:00:00\", \"2020-01-10T00:00:00\", \"2020-01-13T00:00:00\", \"2020-01-14T00:00:00\", \"2020-01-15T00:00:00\", \"2020-01-16T00:00:00\", \"2020-01-17T00:00:00\", \"2020-01-20T00:00:00\", \"2020-01-21T00:00:00\", \"2020-01-22T00:00:00\", \"2020-01-23T00:00:00\", \"2020-01-24T00:00:00\", \"2020-01-27T00:00:00\", \"2020-01-28T00:00:00\", \"2020-01-29T00:00:00\", \"2020-01-30T00:00:00\", \"2020-01-31T00:00:00\", \"2020-02-03T00:00:00\", \"2020-02-04T00:00:00\", \"2020-02-05T00:00:00\", \"2020-02-06T00:00:00\", \"2020-02-07T00:00:00\", \"2020-02-10T00:00:00\", \"2020-02-11T00:00:00\", \"2020-02-12T00:00:00\", \"2020-02-13T00:00:00\", \"2020-02-14T00:00:00\", \"2020-02-17T00:00:00\", \"2020-02-18T00:00:00\", \"2020-02-19T00:00:00\", \"2020-02-20T00:00:00\", \"2020-02-21T00:00:00\", \"2020-02-25T00:00:00\", \"2020-02-26T00:00:00\", \"2020-02-27T00:00:00\", \"2020-02-28T00:00:00\", \"2020-03-02T00:00:00\", \"2020-03-03T00:00:00\", \"2020-03-04T00:00:00\", \"2020-03-05T00:00:00\", \"2020-03-06T00:00:00\", \"2020-03-10T00:00:00\", \"2020-03-11T00:00:00\", \"2020-03-12T00:00:00\", \"2020-03-13T00:00:00\", \"2020-03-16T00:00:00\", \"2020-03-17T00:00:00\", \"2020-03-18T00:00:00\", \"2020-03-19T00:00:00\", \"2020-03-20T00:00:00\", \"2020-03-23T00:00:00\", \"2020-03-24T00:00:00\", \"2020-03-25T00:00:00\", \"2020-03-26T00:00:00\", \"2020-03-27T00:00:00\", \"2020-03-30T00:00:00\", \"2020-03-31T00:00:00\", \"2020-04-01T00:00:00\", \"2020-04-02T00:00:00\", \"2020-04-03T00:00:00\", \"2020-04-06T00:00:00\", \"2020-04-07T00:00:00\", \"2020-04-08T00:00:00\", \"2020-04-09T00:00:00\", \"2020-04-10T00:00:00\", \"2020-04-13T00:00:00\", \"2020-04-14T00:00:00\", \"2020-04-15T00:00:00\", \"2020-04-16T00:00:00\", \"2020-04-17T00:00:00\", \"2020-04-20T00:00:00\", \"2020-04-21T00:00:00\", \"2020-04-22T00:00:00\", \"2020-04-23T00:00:00\", \"2020-04-24T00:00:00\", \"2020-04-27T00:00:00\", \"2020-04-28T00:00:00\", \"2020-04-29T00:00:00\", \"2020-04-30T00:00:00\", \"2020-05-04T00:00:00\", \"2020-05-05T00:00:00\", \"2020-05-06T00:00:00\", \"2020-05-07T00:00:00\", \"2020-05-08T00:00:00\"], \"xaxis\": \"x3\", \"y\": [-9.419743782969096, -14.34599156118138, -12.658227848101346, -14.102564102564166, -0.4184100418410997, -35.483870967741964, -34.48598130841114, -4.285714285714138, -12.5, -18.954918032786846, -17.313746065057522, -7.069102462271549, -9.689922480620151, -22.045611610228043, -30.382436260623162, -0.0, -25.049833887043096, -23.72093023255812, -0.0, -33.38670936749402, -58.46023688663293, -48.30795262267365, -7.065750736015951, -5.407523510972207, -5.718175629679896, -25.678119349005364, -42.61603375527421, -32.00723327305606, -100.0, -78.44311377245515, -65.0299401197605, -80.77844311377243, -99.83896940418678, -82.37804878048772, -73.78048780487799, -62.727272727272876, -90.3533906399234, -56.61993769470389, -66.28462273161412, -47.735507246376685, -47.735507246376685, -53.26086956521739, -72.64492753623178, -76.17753623188383, -86.63934426229511, -82.5409836065574, -78.85245901639333, -56.848484848484816, -99.8001998001997, -32.20035778175306, -92.0720720720721, -88.85214926783176, -72.05043530471336, -46.65265685980187, -49.70885688017162, -58.361669242658415, -90.38795599305148, -74.5165315034311, -82.77520484503029, -95.91806660772177, -61.34224111752201, -65.37053979871911, -83.42482464165903, -96.28396143733566, -57.23084503572312, -27.857799570946995, -65.61446521605883, -37.205026049647614, -51.179895801409714, -51.210542445602236, -72.2988892628745, -65.48611111111114, -54.33976261127597, -62.145593869731805, -53.83141762452112, -58.85057471264374, -7.7102803738319, -11.34945397815912, -0.975039001560063, -7.807167235494814, -14.718430034129646, -30.631399317406178, -38.13799621928164, -99.94840041279674, -77.31629392971246, -62.25467822911907, -73.57371063441354, -86.95652173913038, -65.47619047619052, -61.64596273291926, -57.70440251572331, -41.43947655398024, -13.434247871333854, -0.0, -15.264797507788106, -39.5394736842105, -41.24999999999991, -33.333333333333336, -36.3399826539462, -31.91673894189053], \"yaxis\": \"y3\"}, {\"name\": \"MACD\", \"type\": \"bar\", \"x\": [\"2019-12-12T00:00:00\", \"2019-12-13T00:00:00\", \"2019-12-16T00:00:00\", \"2019-12-17T00:00:00\", \"2019-12-18T00:00:00\", \"2019-12-19T00:00:00\", \"2019-12-20T00:00:00\", \"2019-12-23T00:00:00\", \"2019-12-24T00:00:00\", \"2019-12-25T00:00:00\", \"2019-12-26T00:00:00\", \"2019-12-27T00:00:00\", \"2019-12-30T00:00:00\", \"2020-01-03T00:00:00\", \"2020-01-06T00:00:00\", \"2020-01-08T00:00:00\", \"2020-01-09T00:00:00\", \"2020-01-10T00:00:00\", \"2020-01-13T00:00:00\", \"2020-01-14T00:00:00\", \"2020-01-15T00:00:00\", \"2020-01-16T00:00:00\", \"2020-01-17T00:00:00\", \"2020-01-20T00:00:00\", \"2020-01-21T00:00:00\", \"2020-01-22T00:00:00\", \"2020-01-23T00:00:00\", \"2020-01-24T00:00:00\", \"2020-01-27T00:00:00\", \"2020-01-28T00:00:00\", \"2020-01-29T00:00:00\", \"2020-01-30T00:00:00\", \"2020-01-31T00:00:00\", \"2020-02-03T00:00:00\", \"2020-02-04T00:00:00\", \"2020-02-05T00:00:00\", \"2020-02-06T00:00:00\", \"2020-02-07T00:00:00\", \"2020-02-10T00:00:00\", \"2020-02-11T00:00:00\", \"2020-02-12T00:00:00\", \"2020-02-13T00:00:00\", \"2020-02-14T00:00:00\", \"2020-02-17T00:00:00\", \"2020-02-18T00:00:00\", \"2020-02-19T00:00:00\", \"2020-02-20T00:00:00\", \"2020-02-21T00:00:00\", \"2020-02-25T00:00:00\", \"2020-02-26T00:00:00\", \"2020-02-27T00:00:00\", \"2020-02-28T00:00:00\", \"2020-03-02T00:00:00\", \"2020-03-03T00:00:00\", \"2020-03-04T00:00:00\", \"2020-03-05T00:00:00\", \"2020-03-06T00:00:00\", \"2020-03-10T00:00:00\", \"2020-03-11T00:00:00\", \"2020-03-12T00:00:00\", \"2020-03-13T00:00:00\", \"2020-03-16T00:00:00\", \"2020-03-17T00:00:00\", \"2020-03-18T00:00:00\", \"2020-03-19T00:00:00\", \"2020-03-20T00:00:00\", \"2020-03-23T00:00:00\", \"2020-03-24T00:00:00\", \"2020-03-25T00:00:00\", \"2020-03-26T00:00:00\", \"2020-03-27T00:00:00\", \"2020-03-30T00:00:00\", \"2020-03-31T00:00:00\", \"2020-04-01T00:00:00\", \"2020-04-02T00:00:00\", \"2020-04-03T00:00:00\", \"2020-04-06T00:00:00\", \"2020-04-07T00:00:00\", \"2020-04-08T00:00:00\", \"2020-04-09T00:00:00\", \"2020-04-10T00:00:00\", \"2020-04-13T00:00:00\", \"2020-04-14T00:00:00\", \"2020-04-15T00:00:00\", \"2020-04-16T00:00:00\", \"2020-04-17T00:00:00\", \"2020-04-20T00:00:00\", \"2020-04-21T00:00:00\", \"2020-04-22T00:00:00\", \"2020-04-23T00:00:00\", \"2020-04-24T00:00:00\", \"2020-04-27T00:00:00\", \"2020-04-28T00:00:00\", \"2020-04-29T00:00:00\", \"2020-04-30T00:00:00\", \"2020-05-04T00:00:00\", \"2020-05-05T00:00:00\", \"2020-05-06T00:00:00\", \"2020-05-07T00:00:00\", \"2020-05-08T00:00:00\"], \"xaxis\": \"x4\", \"y\": [2.544184431424128, 3.155426472028836, 3.5485154147794162, 3.7719692784598067, 5.120588946731544, 5.263783016629816, 5.453687004776327, 6.608373089817178, 7.17690927132773, 7.226970769476452, 7.180213735542765, 8.078918311667053, 9.24238196493664, 9.873222376903868, 9.782025184866512, 11.001789449419505, 11.24383010766735, 11.243562557162875, 12.204624422453321, 11.653170329813008, 10.329047932042954, 9.637395905075806, 10.409552112076597, 11.752955055149727, 12.875598481248545, 12.921788814695077, 11.931023676222622, 11.575152595032108, 8.311730940300492, 6.764174140278669, 6.286746263593102, 5.139166743761592, 2.902002476760998, 1.936899003524303, 1.6850394277174132, 1.4397011868812797, 0.400234494745888, 0.3466770497949767, -0.2601309164666077, -0.01515573010414073, 0.1393685674223093, 0.06463629980149221, -0.5780587631412573, -1.080347159009989, -1.976596386797553, -2.3654089304638433, -2.4414129592451275, -2.263500441084375, -3.667898106666769, -2.9258911163544497, -4.604518361040107, -8.220607397304434, -11.78683739426151, -11.46396669985927, -11.426159842275297, -12.007426638569143, -15.57882746144736, -22.758434878417944, -28.71025371728058, -37.0982460655037, -35.38979224650524, -34.42262146701535, -36.46509502313256, -39.781372909889086, -36.899374303219304, -32.68479417488612, -32.84811790565993, -29.767652886042328, -28.543514672097132, -27.246955154574295, -28.06214073327149, -27.32795867664987, -25.190178146987193, -24.0526834033665, -22.288285168431884, -21.128510628502085, -18.60145794357402, -14.740879254108677, -11.29827638936922, -7.99926205991531, -6.2239704069273785, -6.027046580843745, -6.038667753664356, -9.073046496668724, -10.140561881214666, -9.70824634775812, -9.94515422766031, -10.81848225893836, -10.015235421984954, -9.118464535347897, -8.948859448662574, -8.679129219107665, -7.265241126071118, -5.407140454046811, -3.7343152076972785, -3.6007897709642975, -3.15559246318864, -2.552957260826389, -2.1790210730274566, -1.7615608608387276], \"yaxis\": \"y4\"}, {\"line\": {\"color\": \"green\"}, \"name\": \"Reg_line_8: 10.0 deg\", \"opacity\": 1, \"type\": \"scatter\", \"x\": [\"2020-04-28T00:00:00\", \"2020-04-29T00:00:00\", \"2020-04-30T00:00:00\", \"2020-05-04T00:00:00\", \"2020-05-05T00:00:00\", \"2020-05-06T00:00:00\", \"2020-05-07T00:00:00\", \"2020-05-08T00:00:00\"], \"xaxis\": \"x\", \"y\": [194.46083333333323, 194.66916666666657, 194.8774999999999, 195.08583333333323, 195.29416666666657, 195.5024999999999, 195.71083333333326, 195.91916666666657], \"yaxis\": \"y\"}, {\"line\": {\"color\": \"green\"}, \"name\": \"Reg_line_35: 11.0 deg\", \"opacity\": 1, \"type\": \"scatter\", \"x\": [\"2020-03-20T00:00:00\", \"2020-03-23T00:00:00\", \"2020-03-24T00:00:00\", \"2020-03-25T00:00:00\", \"2020-03-26T00:00:00\", \"2020-03-27T00:00:00\", \"2020-03-30T00:00:00\", \"2020-03-31T00:00:00\", \"2020-04-01T00:00:00\", \"2020-04-02T00:00:00\", \"2020-04-03T00:00:00\", \"2020-04-06T00:00:00\", \"2020-04-07T00:00:00\", \"2020-04-08T00:00:00\", \"2020-04-09T00:00:00\", \"2020-04-10T00:00:00\", \"2020-04-13T00:00:00\", \"2020-04-14T00:00:00\", \"2020-04-15T00:00:00\", \"2020-04-16T00:00:00\", \"2020-04-17T00:00:00\", \"2020-04-20T00:00:00\", \"2020-04-21T00:00:00\", \"2020-04-22T00:00:00\", \"2020-04-23T00:00:00\", \"2020-04-24T00:00:00\", \"2020-04-27T00:00:00\", \"2020-04-28T00:00:00\", \"2020-04-29T00:00:00\", \"2020-04-30T00:00:00\", \"2020-05-04T00:00:00\", \"2020-05-05T00:00:00\", \"2020-05-06T00:00:00\", \"2020-05-07T00:00:00\", \"2020-05-08T00:00:00\"], \"xaxis\": \"x\", \"y\": [188.21623809523794, 188.41842577030798, 188.620613445378, 188.82280112044802, 189.02498879551806, 189.2271764705881, 189.42936414565813, 189.63155182072816, 189.83373949579817, 190.0359271708682, 190.23811484593824, 190.44030252100828, 190.6424901960783, 190.84467787114835, 191.04686554621836, 191.2490532212884, 191.45124089635843, 191.65342857142846, 191.8556162464985, 192.0578039215685, 192.25999159663854, 192.46217927170858, 192.6643669467786, 192.86655462184865, 193.06874229691869, 193.2709299719887, 193.47311764705873, 193.67530532212876, 193.8774929971988, 194.07968067226884, 194.28186834733884, 194.48405602240888, 194.68624369747891, 194.88843137254895, 195.090619047619], \"yaxis\": \"y\"}],\n",
       "                        {\"annotations\": [{\"showarrow\": true, \"text\": \"Hummer\", \"x\": \"2019-12-16T00:00:00\", \"xanchor\": \"right\", \"xref\": \"x\", \"y\": 242.48, \"yref\": \"y\"}, {\"showarrow\": true, \"text\": \"Hummer\", \"x\": \"2020-01-06T00:00:00\", \"xanchor\": \"right\", \"xref\": \"x\", \"y\": 254.84, \"yref\": \"y\"}, {\"showarrow\": true, \"text\": \"Hummer\", \"x\": \"2020-02-18T00:00:00\", \"xanchor\": \"right\", \"xref\": \"x\", \"y\": 250.44, \"yref\": \"y\"}], \"height\": 800, \"template\": {\"data\": {\"bar\": [{\"error_x\": {\"color\": \"#2a3f5f\"}, \"error_y\": {\"color\": \"#2a3f5f\"}, \"marker\": {\"line\": {\"color\": \"#E5ECF6\", \"width\": 0.5}}, \"type\": \"bar\"}], \"barpolar\": [{\"marker\": {\"line\": {\"color\": \"#E5ECF6\", \"width\": 0.5}}, \"type\": \"barpolar\"}], \"carpet\": [{\"aaxis\": {\"endlinecolor\": \"#2a3f5f\", \"gridcolor\": \"white\", \"linecolor\": \"white\", \"minorgridcolor\": \"white\", \"startlinecolor\": \"#2a3f5f\"}, \"baxis\": {\"endlinecolor\": \"#2a3f5f\", \"gridcolor\": \"white\", \"linecolor\": \"white\", \"minorgridcolor\": \"white\", \"startlinecolor\": \"#2a3f5f\"}, \"type\": \"carpet\"}], \"choropleth\": [{\"colorbar\": {\"outlinewidth\": 0, \"ticks\": \"\"}, \"type\": \"choropleth\"}], \"contour\": [{\"colorbar\": {\"outlinewidth\": 0, \"ticks\": \"\"}, \"colorscale\": [[0.0, \"#0d0887\"], [0.1111111111111111, \"#46039f\"], [0.2222222222222222, \"#7201a8\"], [0.3333333333333333, \"#9c179e\"], [0.4444444444444444, \"#bd3786\"], [0.5555555555555556, \"#d8576b\"], [0.6666666666666666, \"#ed7953\"], [0.7777777777777778, \"#fb9f3a\"], [0.8888888888888888, \"#fdca26\"], [1.0, \"#f0f921\"]], \"type\": \"contour\"}], \"contourcarpet\": [{\"colorbar\": {\"outlinewidth\": 0, \"ticks\": \"\"}, \"type\": \"contourcarpet\"}], \"heatmap\": [{\"colorbar\": {\"outlinewidth\": 0, \"ticks\": \"\"}, \"colorscale\": [[0.0, \"#0d0887\"], [0.1111111111111111, \"#46039f\"], [0.2222222222222222, \"#7201a8\"], [0.3333333333333333, \"#9c179e\"], [0.4444444444444444, \"#bd3786\"], [0.5555555555555556, \"#d8576b\"], [0.6666666666666666, \"#ed7953\"], [0.7777777777777778, \"#fb9f3a\"], [0.8888888888888888, \"#fdca26\"], [1.0, \"#f0f921\"]], \"type\": \"heatmap\"}], \"heatmapgl\": [{\"colorbar\": {\"outlinewidth\": 0, \"ticks\": \"\"}, \"colorscale\": [[0.0, \"#0d0887\"], [0.1111111111111111, \"#46039f\"], [0.2222222222222222, \"#7201a8\"], [0.3333333333333333, \"#9c179e\"], [0.4444444444444444, \"#bd3786\"], [0.5555555555555556, \"#d8576b\"], [0.6666666666666666, \"#ed7953\"], [0.7777777777777778, \"#fb9f3a\"], [0.8888888888888888, \"#fdca26\"], [1.0, \"#f0f921\"]], \"type\": \"heatmapgl\"}], \"histogram\": [{\"marker\": {\"colorbar\": {\"outlinewidth\": 0, \"ticks\": \"\"}}, \"type\": \"histogram\"}], \"histogram2d\": [{\"colorbar\": {\"outlinewidth\": 0, \"ticks\": \"\"}, \"colorscale\": [[0.0, \"#0d0887\"], [0.1111111111111111, \"#46039f\"], [0.2222222222222222, \"#7201a8\"], [0.3333333333333333, \"#9c179e\"], [0.4444444444444444, \"#bd3786\"], [0.5555555555555556, \"#d8576b\"], [0.6666666666666666, \"#ed7953\"], [0.7777777777777778, \"#fb9f3a\"], [0.8888888888888888, \"#fdca26\"], [1.0, \"#f0f921\"]], \"type\": \"histogram2d\"}], \"histogram2dcontour\": [{\"colorbar\": {\"outlinewidth\": 0, \"ticks\": \"\"}, \"colorscale\": [[0.0, \"#0d0887\"], [0.1111111111111111, \"#46039f\"], [0.2222222222222222, \"#7201a8\"], [0.3333333333333333, \"#9c179e\"], [0.4444444444444444, \"#bd3786\"], [0.5555555555555556, \"#d8576b\"], [0.6666666666666666, \"#ed7953\"], [0.7777777777777778, \"#fb9f3a\"], [0.8888888888888888, \"#fdca26\"], [1.0, \"#f0f921\"]], \"type\": \"histogram2dcontour\"}], \"mesh3d\": [{\"colorbar\": {\"outlinewidth\": 0, \"ticks\": \"\"}, \"type\": \"mesh3d\"}], \"parcoords\": [{\"line\": {\"colorbar\": {\"outlinewidth\": 0, \"ticks\": \"\"}}, \"type\": \"parcoords\"}], \"pie\": [{\"automargin\": true, \"type\": \"pie\"}], \"scatter\": [{\"marker\": {\"colorbar\": {\"outlinewidth\": 0, \"ticks\": \"\"}}, \"type\": \"scatter\"}], \"scatter3d\": [{\"line\": {\"colorbar\": {\"outlinewidth\": 0, \"ticks\": \"\"}}, \"marker\": {\"colorbar\": {\"outlinewidth\": 0, \"ticks\": \"\"}}, \"type\": \"scatter3d\"}], \"scattercarpet\": [{\"marker\": {\"colorbar\": {\"outlinewidth\": 0, \"ticks\": \"\"}}, \"type\": \"scattercarpet\"}], \"scattergeo\": [{\"marker\": {\"colorbar\": {\"outlinewidth\": 0, \"ticks\": \"\"}}, \"type\": \"scattergeo\"}], \"scattergl\": [{\"marker\": {\"colorbar\": {\"outlinewidth\": 0, \"ticks\": \"\"}}, \"type\": \"scattergl\"}], \"scattermapbox\": [{\"marker\": {\"colorbar\": {\"outlinewidth\": 0, \"ticks\": \"\"}}, \"type\": \"scattermapbox\"}], \"scatterpolar\": [{\"marker\": {\"colorbar\": {\"outlinewidth\": 0, \"ticks\": \"\"}}, \"type\": \"scatterpolar\"}], \"scatterpolargl\": [{\"marker\": {\"colorbar\": {\"outlinewidth\": 0, \"ticks\": \"\"}}, \"type\": \"scatterpolargl\"}], \"scatterternary\": [{\"marker\": {\"colorbar\": {\"outlinewidth\": 0, \"ticks\": \"\"}}, \"type\": \"scatterternary\"}], \"surface\": [{\"colorbar\": {\"outlinewidth\": 0, \"ticks\": \"\"}, \"colorscale\": [[0.0, \"#0d0887\"], [0.1111111111111111, \"#46039f\"], [0.2222222222222222, \"#7201a8\"], [0.3333333333333333, \"#9c179e\"], [0.4444444444444444, \"#bd3786\"], [0.5555555555555556, \"#d8576b\"], [0.6666666666666666, \"#ed7953\"], [0.7777777777777778, \"#fb9f3a\"], [0.8888888888888888, \"#fdca26\"], [1.0, \"#f0f921\"]], \"type\": \"surface\"}], \"table\": [{\"cells\": {\"fill\": {\"color\": \"#EBF0F8\"}, \"line\": {\"color\": \"white\"}}, \"header\": {\"fill\": {\"color\": \"#C8D4E3\"}, \"line\": {\"color\": \"white\"}}, \"type\": \"table\"}]}, \"layout\": {\"annotationdefaults\": {\"arrowcolor\": \"#2a3f5f\", \"arrowhead\": 0, \"arrowwidth\": 1}, \"coloraxis\": {\"colorbar\": {\"outlinewidth\": 0, \"ticks\": \"\"}}, \"colorscale\": {\"diverging\": [[0, \"#8e0152\"], [0.1, \"#c51b7d\"], [0.2, \"#de77ae\"], [0.3, \"#f1b6da\"], [0.4, \"#fde0ef\"], [0.5, \"#f7f7f7\"], [0.6, \"#e6f5d0\"], [0.7, \"#b8e186\"], [0.8, \"#7fbc41\"], [0.9, \"#4d9221\"], [1, \"#276419\"]], \"sequential\": [[0.0, \"#0d0887\"], [0.1111111111111111, \"#46039f\"], [0.2222222222222222, \"#7201a8\"], [0.3333333333333333, \"#9c179e\"], [0.4444444444444444, \"#bd3786\"], [0.5555555555555556, \"#d8576b\"], [0.6666666666666666, \"#ed7953\"], [0.7777777777777778, \"#fb9f3a\"], [0.8888888888888888, \"#fdca26\"], [1.0, \"#f0f921\"]], \"sequentialminus\": [[0.0, \"#0d0887\"], [0.1111111111111111, \"#46039f\"], [0.2222222222222222, \"#7201a8\"], [0.3333333333333333, \"#9c179e\"], [0.4444444444444444, \"#bd3786\"], [0.5555555555555556, \"#d8576b\"], [0.6666666666666666, \"#ed7953\"], [0.7777777777777778, \"#fb9f3a\"], [0.8888888888888888, \"#fdca26\"], [1.0, \"#f0f921\"]]}, \"colorway\": [\"#636efa\", \"#EF553B\", \"#00cc96\", \"#ab63fa\", \"#FFA15A\", \"#19d3f3\", \"#FF6692\", \"#B6E880\", \"#FF97FF\", \"#FECB52\"], \"font\": {\"color\": \"#2a3f5f\"}, \"geo\": {\"bgcolor\": \"white\", \"lakecolor\": \"white\", \"landcolor\": \"#E5ECF6\", \"showlakes\": true, \"showland\": true, \"subunitcolor\": \"white\"}, \"hoverlabel\": {\"align\": \"left\"}, \"hovermode\": \"closest\", \"mapbox\": {\"style\": \"light\"}, \"paper_bgcolor\": \"white\", \"plot_bgcolor\": \"#E5ECF6\", \"polar\": {\"angularaxis\": {\"gridcolor\": \"white\", \"linecolor\": \"white\", \"ticks\": \"\"}, \"bgcolor\": \"#E5ECF6\", \"radialaxis\": {\"gridcolor\": \"white\", \"linecolor\": \"white\", \"ticks\": \"\"}}, \"scene\": {\"xaxis\": {\"backgroundcolor\": \"#E5ECF6\", \"gridcolor\": \"white\", \"gridwidth\": 2, \"linecolor\": \"white\", \"showbackground\": true, \"ticks\": \"\", \"zerolinecolor\": \"white\"}, \"yaxis\": {\"backgroundcolor\": \"#E5ECF6\", \"gridcolor\": \"white\", \"gridwidth\": 2, \"linecolor\": \"white\", \"showbackground\": true, \"ticks\": \"\", \"zerolinecolor\": \"white\"}, \"zaxis\": {\"backgroundcolor\": \"#E5ECF6\", \"gridcolor\": \"white\", \"gridwidth\": 2, \"linecolor\": \"white\", \"showbackground\": true, \"ticks\": \"\", \"zerolinecolor\": \"white\"}}, \"shapedefaults\": {\"line\": {\"color\": \"#2a3f5f\"}}, \"ternary\": {\"aaxis\": {\"gridcolor\": \"white\", \"linecolor\": \"white\", \"ticks\": \"\"}, \"baxis\": {\"gridcolor\": \"white\", \"linecolor\": \"white\", \"ticks\": \"\"}, \"bgcolor\": \"#E5ECF6\", \"caxis\": {\"gridcolor\": \"white\", \"linecolor\": \"white\", \"ticks\": \"\"}}, \"title\": {\"x\": 0.05}, \"xaxis\": {\"automargin\": true, \"gridcolor\": \"white\", \"linecolor\": \"white\", \"ticks\": \"\", \"title\": {\"standoff\": 15}, \"zerolinecolor\": \"white\", \"zerolinewidth\": 2}, \"yaxis\": {\"automargin\": true, \"gridcolor\": \"white\", \"linecolor\": \"white\", \"ticks\": \"\", \"title\": {\"standoff\": 15}, \"zerolinecolor\": \"white\", \"zerolinewidth\": 2}}}, \"title\": {\"text\": \"\\u0413\\u0440\\u0430\\u0444\\u0438\\u043a \\u0442\\u0438\\u043a\\u0435\\u0440\\u0430 SBER\"}, \"width\": 1000, \"xaxis\": {\"anchor\": \"y\", \"domain\": [0.0, 1.0], \"matches\": \"x4\", \"rangeslider\": {\"visible\": false}, \"showticklabels\": false}, \"xaxis2\": {\"anchor\": \"y2\", \"domain\": [0.0, 1.0], \"matches\": \"x4\", \"showticklabels\": false}, \"xaxis3\": {\"anchor\": \"y3\", \"domain\": [0.0, 1.0], \"matches\": \"x4\", \"showticklabels\": false}, \"xaxis4\": {\"anchor\": \"y4\", \"domain\": [0.0, 1.0]}, \"yaxis\": {\"anchor\": \"x\", \"domain\": [0.53, 1.0], \"title\": {\"text\": \"\\u0426\\u0435\\u043d\\u0430\"}}, \"yaxis2\": {\"anchor\": \"x2\", \"domain\": [0.322, 0.51], \"title\": {\"text\": \"CCI\"}}, \"yaxis3\": {\"anchor\": \"x3\", \"domain\": [0.11400000000000002, 0.30200000000000005], \"title\": {\"text\": \"%Williams\"}}, \"yaxis4\": {\"anchor\": \"x4\", \"domain\": [0.0, 0.09400000000000001], \"title\": {\"text\": \"MACD\"}}},\n",
       "                        {\"responsive\": true}\n",
       "                    ).then(function(){\n",
       "                            \n",
       "var gd = document.getElementById('8e9c667a-b08b-4084-81fb-29e639df58d5');\n",
       "var x = new MutationObserver(function (mutations, observer) {{\n",
       "        var display = window.getComputedStyle(gd).display;\n",
       "        if (!display || display === 'none') {{\n",
       "            console.log([gd, 'removed!']);\n",
       "            Plotly.purge(gd);\n",
       "            observer.disconnect();\n",
       "        }}\n",
       "}});\n",
       "\n",
       "// Listen for the removal of the full notebook cells\n",
       "var notebookContainer = gd.closest('#notebook-container');\n",
       "if (notebookContainer) {{\n",
       "    x.observe(notebookContainer, {childList: true});\n",
       "}}\n",
       "\n",
       "// Listen for the clearing of the current output cell\n",
       "var outputEl = gd.closest('.output');\n",
       "if (outputEl) {{\n",
       "    x.observe(outputEl, {childList: true});\n",
       "}}\n",
       "\n",
       "                        })\n",
       "                };\n",
       "                });\n",
       "            </script>\n",
       "        </div>"
      ]
     },
     "metadata": {},
     "output_type": "display_data"
    }
   ],
   "source": [
    "df_short_reg_8, df_short_ugol_8 = RegAngleLine(df_short.close, 8)\n",
    "df_short_reg_35, df_short_ugol_35 = RegAngleLine(df_short.close, 35)\n",
    "\n",
    "fig = make_subplots(rows=4, cols=1, shared_xaxes=True, vertical_spacing=0.02, row_heights=[0.5, 0.2, 0.2, 0.1])\n",
    "\n",
    "fig.add_trace(go.Candlestick(x=df_short.index,\n",
    "                             open=df_short['open'],\n",
    "                             high=df_short['high'],\n",
    "                             low=df_short['low'],\n",
    "                             close=df_short['close'],\n",
    "                             name=ticker),\n",
    "              row=1, col=1)\n",
    "\n",
    "fig.add_trace(go.Scatter(\n",
    "                x=df_short.index,\n",
    "                y=df_short['MA_fast'],\n",
    "                name=\"MA_fast\",\n",
    "                line_color='red',\n",
    "                opacity=1),\n",
    "             row=1, col=1)\n",
    "\n",
    "fig.add_trace(go.Scatter(\n",
    "                x=df_short.index,\n",
    "                y=df_short['MA_slow'],\n",
    "                name=\"MA_slow\",\n",
    "                line_color='green',\n",
    "                opacity=1),\n",
    "             row=1, col=1)\n",
    "\n",
    "fig.add_trace(go.Scatter(\n",
    "                x=df_short.index,\n",
    "                y=df_short['upBB'],\n",
    "                name=\"upBB\",\n",
    "                line_color='blue',\n",
    "                opacity=0.5),\n",
    "             row=1, col=1)\n",
    "\n",
    "fig.add_trace(go.Scatter(\n",
    "                x=df_short.index,\n",
    "                y=df_short['lowBB'],\n",
    "                name=\"lowBB\",\n",
    "                line_color='blue',\n",
    "                opacity=0.5),\n",
    "             row=1, col=1)\n",
    "\n",
    "fig.add_trace(go.Scatter(\n",
    "                x=df_short.index,\n",
    "                y=df_short['CCI'],\n",
    "                name=\"CCI\",\n",
    "                line_color='blue',\n",
    "                opacity=1),\n",
    "             row=2, col=1)\n",
    "\n",
    "fig.add_trace(go.Scatter(\n",
    "                x=df_short.index,\n",
    "                y=df_short['WILLR'],\n",
    "                name=\"%Willams\",\n",
    "                line_color='black',\n",
    "                opacity=1),\n",
    "             row=3, col=1)\n",
    "\n",
    "fig.add_trace(go.Bar(x=df_short.index,\n",
    "                         y=df_short.MACD,\n",
    "                         name=\"MACD\"), \n",
    "              row=4, col=1)\n",
    "\n",
    "# ******************************\n",
    "if df_short_reg_8[-1] < df_short_reg_8[-2]:\n",
    "    reg_col = 'red'\n",
    "else:\n",
    "    reg_col = 'green'    \n",
    "fig.add_trace(go.Scatter(\n",
    "                x=df_short.index[-8:],\n",
    "                y=df_short_reg_8,\n",
    "                name=\"Reg_line_8: \" + str(round(df_short_ugol_8,0)) + ' deg',\n",
    "                line_color=reg_col,\n",
    "                opacity=1),\n",
    "             row=1, col=1)\n",
    "\n",
    "if df_short_reg_35[-1] < df_short_reg_35[-2]:\n",
    "    reg_col = 'red'\n",
    "else:\n",
    "    reg_col = 'green'    \n",
    "fig.add_trace(go.Scatter(\n",
    "                x=df_short.index[-35:],\n",
    "                y=df_short_reg_35,\n",
    "                name=\"Reg_line_35: \" + str(round(df_short_ugol_35,0)) + ' deg',\n",
    "                line_color=reg_col,\n",
    "                opacity=1),\n",
    "             row=1, col=1)\n",
    "\n",
    "# ********************************\n",
    "# отмечаем интересные зоны на графике\n",
    "annotations = []\n",
    "for index, row in df_short[df_short['ShootingStar']<0].iterrows():\n",
    "    annotations.append(dict(x=index, y=row['low'], xref='x', yref='y',showarrow=True, xanchor='left', text='ShootingStar'))\n",
    "for index, row in df_short[df_short['Hummer']>0].iterrows():\n",
    "    annotations.append(dict(x=index, y=row['high'], xref='x', yref='y',showarrow=True, xanchor='right', text='Hummer'))\n",
    "fig.update_layout(annotations=annotations)\n",
    "\n",
    "# ********************************\n",
    "# финальная настройка layout\n",
    "fig.update_yaxes(title_text=\"Цена\", row=1, col=1)\n",
    "fig.update_yaxes(title_text=\"CCI\", row=2, col=1)\n",
    "fig.update_yaxes(title_text=\"%Williams\", row=3, col=1)\n",
    "fig.update_yaxes(title_text=\"MACD\", row=4, col=1)\n",
    "fig.update_layout(height = 800, width=1000, title_text=\"График тикера \" + ticker, xaxis_rangeslider_visible=False)\n",
    "\n",
    "#fig.update_xaxes(rangebreaks=[\n",
    "#                        dict(bounds=[\"sat\", \"sun\"]), #hide weekends\n",
    "#                        dict(values=[\"2020-01-01\"])  # hide New Year's\n",
    "#                            ])\n",
    "\n",
    "fig.show()"
   ]
  },
  {
   "cell_type": "code",
   "execution_count": 31,
   "metadata": {},
   "outputs": [
    {
     "name": "stdout",
     "output_type": "stream",
     "text": [
      "Анализ рабочего таймфрейма:\n",
      "На более высоком таймфрейме горизонтальное или разнонаправленное направление движдения рынка (флет). Общие рекомендации, торговать внутрь канала и ждать прорыва волатильности. Предпочтительные стратегии: система канала, дивергентный бар, прорыв волатильности.\n",
      "Линия регрессии, построенная за последние 8 баров, направлена вверх. Угол наклона составляет 10.1 градусов. Линия регрессии, построенная за последние 35 баров, направлена вверх. Угол наклона составляет 11.1 градусов.\n",
      "Цена находится выше быстрой MA. Быстрая MA, в свою очередь, находится выше медленной MA. Все это может говорить нам о том, что сейчас на рынке наблюдается сильный восходящий тренд. \n",
      "!!!!Доделать параметры MA, взять голубую и красную линии аллигатора. И подумать, нужно ли их смещать!!!!\n",
      "MACD находится ниже нулевой линии. Значения инидикатора MACD повышаются.\n",
      "Значение индикатора %Williams равно -32.0. Индикатор %Williams не находится на текущий момент в экстремальных зонах. \n",
      "Значение индикатора CCI равно 58.0. Индикатор CCI не находится на текущий момент в экстремальных зонах. \n",
      "!!!!Доделать вывод лейблов к последним барам, если они являются паттернами!!!!\n",
      "Один из трех последних баров представляет собой дивергентный бар на продажу, что может являтся сигналом разворота.\n"
     ]
    }
   ],
   "source": [
    "print('Анализ рабочего таймфрейма:')\n",
    "\n",
    "if df_short.w1_UpperTimeFrameCondition[-1] == 2:\n",
    "    print('На более высоком таймфрейме краткосрочный сильный тренд вверх. Общие рекомендации, покупать или оставаться вне рынка. Предпочтительные стратегии: три экрана.')\n",
    "elif df_short.w1_UpperTimeFrameCondition[-1] == -2:\n",
    "    print('На более высоком таймфрейме краткосрочный сильный тренд вниз. Общие рекомендации, продавать или оставаться вне рынка. Предпочитаемые стратегии: три экрана.')          \n",
    "elif df_short.w1_UpperTimeFrameCondition[-1] == 1:\n",
    "    print('На более высоком таймфрейме краткосрочный тренд вверх. Общие рекомендации, покупать, торговать на разворот при сильных сигналах или оставаться вне рынка. Предпочтительные стратегии: три экрана, система канала (с осторожностью), дивергентный бар (с осторожностью), прорыв волатильности.')\n",
    "elif df_short.w1_UpperTimeFrameCondition[-1] == -1:\n",
    "    print('На более высоком таймфрейме краткосрочный тренд вниз. Общие рекомендации, продавать, торговать на разворот при сильных сигналах или оставаться вне рынка. Предпочтительные стратегии: три экрана, система канала (с осторожностью), дивергентный бар (с осторожностью), прорыв волатильности.') \n",
    "else:\n",
    "    print('На более высоком таймфрейме горизонтальное или разнонаправленное направление движдения рынка (флет). Общие рекомендации, торговать внутрь канала и ждать прорыва волатильности. Предпочтительные стратегии: система канала, дивергентный бар, прорыв волатильности.')\n",
    "    \n",
    "# Цена. Линия регрессии\n",
    "annot_str = 'Линия регрессии, построенная за последние 8 баров, направлена ' + ('вниз' if df_short_reg_8[-1] < df_short_reg_8[-2] else 'вверх') + '. ' \n",
    "annot_str = annot_str + 'Угол наклона составляет ' + str(round(df_short_ugol_8, 1)) + ' градусов. '\n",
    "annot_str = annot_str + 'Линия регрессии, построенная за последние 35 баров, направлена ' + ('вниз' if df_short_reg_35[-1] < df_short_reg_35[-2] else 'вверх') + '. ' \n",
    "annot_str = annot_str + 'Угол наклона составляет ' + str(round(df_short_ugol_35, 1)) + ' градусов.'\n",
    "print(annot_str)\n",
    "    \n",
    "# MA\n",
    "annot_str = 'Цена находится ' + ('выше' if df_short.MA_fast_price_pos[-1] == 1 else 'ниже') + ' быстрой MA. '\n",
    "annot_str = annot_str + 'Быстрая MA, в свою очередь, находится ' + ('выше' if df_short.MA_fast_slow_pos[-1] == 1 else 'ниже') + ' медленной MA. '\n",
    "annot_str = annot_str + 'Все это может говорить нам о том, что сейчас на рынке наблюдается '\n",
    "if df_short.MA_fast_price_pos[-1] == 1 and df_short.MA_fast_slow_pos[-1] == 1:\n",
    "    annot_str = annot_str + 'сильный восходящий тренд. '\n",
    "elif df_short.MA_fast_price_pos[-1] == 0 and df_short.MA_fast_slow_pos[-1] == 0:\n",
    "    annot_str = annot_str + 'сильный нисходящий тренд. '\n",
    "else:\n",
    "    annot_str = annot_str + 'разнонаправленное горизонтальное движение рынка (флет) или наблюдается смена тренда. '\n",
    "print(annot_str)\n",
    "print('!!!!Доделать параметры MA, взять голубую и красную линии аллигатора. И подумать, нужно ли их смещать!!!!')\n",
    "    \n",
    "# MACD\n",
    "annot_str = 'MACD находится ' + ('выше' if df_short.MACD[-1] > 0 else 'ниже') + ' нулевой линии. '\n",
    "annot_str = annot_str + 'Значения инидикатора MACD ' + ('снижаются.' if df_short.MACDchg[-1] == 0 else 'повышаются.')\n",
    "if df_short.MACDdiv_short[-1] > 0:\n",
    "    annot_str = annot_str + 'Также присутствует краткосрочное бычье расхождение между ценой и индикатором MACD.'\n",
    "if df_short.MACDdiv_short[-1] < 0:\n",
    "    annot_str = annot_str + 'Также присутствует краткосрочное медвежье расхождение между ценой и индикатором MACD.'\n",
    "if df_short.MACDdiv_long[-1] > 0:\n",
    "    annot_str = annot_str + 'Также присутствует долгосрочное бычье расхождение между ценой и индикатором MACD.'\n",
    "if df_short.MACDdiv_long[-1] < 0:\n",
    "    annot_str = annot_str + 'Также присутствует долгосрочное медвежье расхождение между ценой и индикатором MACD.'\n",
    "print(annot_str)\n",
    "\n",
    "# Осцилляторы\n",
    "annot_str = 'Значение индикатора %Williams равно ' + str(round(df_short.WILLR[-1], 0)) + '. '\n",
    "if df_short.WILLRoverZones[-1] > 0:\n",
    "    annot_str = annot_str + 'Индикатор %Williams находится в зоне перепроданности. '\n",
    "elif df_short.WILLRoverZones[-1] < 0:\n",
    "    annot_str = annot_str + 'Индикатор %Williams находится в зоне перекупленности. '\n",
    "else:\n",
    "    annot_str = annot_str + 'Индикатор %Williams не находится на текущий момент в экстремальных зонах. '\n",
    "    \n",
    "if df_short.WILLRdiv_short[-1] > 0:\n",
    "    annot_str = annot_str + 'Также присутствует краткосрочное бычье расхождение между ценой и индикатором %Williams. Что может говорить о скором появлении восходящего движения цены.'\n",
    "if df_short.WILLRdiv_short[-1] < 0:\n",
    "    annot_str = annot_str + 'Также присутствует краткосрочное медвежье расхождение между ценой и индикатором %Williams. Что может говорить о скором появлении нисходящего движения цены.'\n",
    "\n",
    "if df_short.WILLRdiv_long[-1] > 0:\n",
    "    annot_str = annot_str + 'Также присутствует среднесрочное бычье расхождение между ценой и индикатором %Williams. Что может говорить о скором появлении восходящего движения цены.'\n",
    "if df_short.WILLRdiv_long[-1] < 0:\n",
    "    annot_str = annot_str + 'Также присутствует среднесрочное медвежье расхождение между ценой и индикатором %Williams. Что может говорить о скором появлении нисходящего движения цены.'    \n",
    "print(annot_str)\n",
    "\n",
    "annot_str = 'Значение индикатора CCI равно ' + str(round(df_short.CCI[-1], 0)) + '. '\n",
    "if df_short.CCIoverZones[-1] > 0:\n",
    "    annot_str = annot_str + 'Индикатор CCI находится в зоне перепроданности. '\n",
    "elif df_short.CCIoverZones[-1] < 0:\n",
    "    annot_str = annot_str + 'Индикатор CCI находится в зоне перекупленности. '\n",
    "else:\n",
    "    annot_str = annot_str + 'Индикатор CCI не находится на текущий момент в экстремальных зонах. '\n",
    "    \n",
    "if df_short.CCIdiv_short[-1] > 0:\n",
    "    annot_str = annot_str + 'Также присутствует краткосрочное бычье расхождение между ценой и индикатором CCI. Что может говорить о скором появлении восходящего движения цены.'\n",
    "if df_short.CCIdiv_short[-1] < 0:\n",
    "    annot_str = annot_str + 'Также присутствует краткосрочное медвежье расхождение между ценой и индикатором CCI. Что может говорить о скором появлении нисходящего движения цены.'\n",
    "\n",
    "if df_short.CCIdiv_long[-1] > 0:\n",
    "    annot_str = annot_str + 'Также присутствует среднесрочное бычье расхождение между ценой и индикатором CCI. Что может говорить о скором появлении восходящего движения цены.'\n",
    "if df_short.CCIdiv_long[-1] < 0:\n",
    "    annot_str = annot_str + 'Также присутствует среднесрочное медвежье расхождение между ценой и индикатором CCI. Что может говорить о скором появлении нисходящего движения цены.'    \n",
    "print(annot_str)\n",
    "\n",
    "\n",
    "# Свечные паттерны\n",
    "annot_str = ''\n",
    "if df_short.Hummer[-3:-1].max() > 0:\n",
    "    annot_str = annot_str + 'Один из трех последних баров представляет собой свечной паттерн Hummer, что может являтся сигналом разворота.'\n",
    "if df_short.ShootingStar[-3:-1].min() < 0:\n",
    "    annot_str = annot_str + 'Один из трех последних баров представляет собой свечной паттерн ShootingStar, что может являтся сигналом разворота.'\n",
    "if df_short.DivBar[-3:-1].max() > 0:\n",
    "    annot_str = annot_str + 'Один из трех последних баров представляет собой дивергентный бар на покупку, что может являтся сигналом разворота.'\n",
    "if df_short.DivBar[-3:-1].min() < 0:\n",
    "    annot_str = annot_str + 'Один из трех последних баров представляет собой дивергентный бар на продажу, что может являтся сигналом разворота.'\n",
    "print('!!!!Доделать вывод лейблов к последним барам, если они являются паттернами!!!!')\n",
    "print(annot_str)"
   ]
  },
  {
   "cell_type": "markdown",
   "metadata": {},
   "source": [
    "## Стратегии"
   ]
  },
  {
   "cell_type": "markdown",
   "metadata": {},
   "source": [
    "## Три экрана Элдера\n",
    "\n",
    "\"Первый экран\": выявляем долгосрочную тенденцию с помощью индикатора тенденции на недельном графике и открываем позицию только в ее направлении.\n",
    "Наклон гистограммы MACD определяется соотношением двух последних столбиков. При недельной восходящей тенденции можно играть либо на повышение, либо воздержаться от сделок. При недельной нисходящей тенденции можно либо играть на понижение, либо воздержаться от сделок.\n",
    "Поворот вверх недельной гистограммы MACD подает сигнал к покупке. Самые сильные сигналы к покупке поступают, когда индикатор поворачивает вверх ниже нулевой линии. И наоборот. Выявив тенденцию. недельной гистограммы, можно переходить к дневным графикам для поиска сделок в том же направлении.\n",
    "\n",
    "\"Второй экран\": анализируем дневной график с помощью осциллятора. Для покупки при недельных восходящих тенденциях ориентируемся на дневные спады, а для короткой продажи при недельных нисходящих тенденциях, используем дневные подъемы.\n",
    "Стохастический осциллятор подает сигналы на вход, когда его линии вступают в зоны покупки или продажи. Если недельная гистограмма MACD возрастает, а дневной стохастический осциллятор падает ниже 30, то он выявляет область перепроданности, т.е. возможность выгодной покупки. Если же недельная гистограмма MACD падает, а стохастический осциллятор поднимается выше 70, то он выявляет область перекупленности, т.е. возможность выгодной короткой продажи.\n",
    "\n",
    "\"Третий экран\": внутридневный прорыв. Он помогает выбрать моменты для открытия позиций. Если недельная тенденция восходящая, а дневная нисходящая, то скользящие стоп-приказы о покупке улавливают момент прорыва вверх. Если недельная тенденция нисходящая, а дневная восходящая, то скользящие стоп-приказы о продаже улавливают момент прорыва вниз. В первом случае, разместите стоп-приказ о покупке на один тик выше максимума предыдущего дня. При подъеме цен приказ будет исполнен автоматически. Если снижение продолжиться, то на следующий день потребуется переместить стоп приказ на максимум следующего дня и т.д. до тех пор, пока приказ не исполнится или тенденция на недельном графике не развернется. Для продажи все наоборот. "
   ]
  },
  {
   "cell_type": "code",
   "execution_count": 34,
   "metadata": {},
   "outputs": [
    {
     "data": {
      "application/vnd.plotly.v1+json": {
       "config": {
        "plotlyServerURL": "https://plot.ly"
       },
       "data": [
        {
         "close": [
          241.05,
          241.21,
          241.45,
          241.6,
          246.2,
          244,
          244.71,
          248.8,
          248.67,
          248.04,
          248.24,
          252.06,
          254.75,
          255,
          253.9,
          259.15,
          257.99,
          258.19,
          262.4,
          259.05,
          256.31,
          257.51,
          262.5,
          266.28,
          268.06,
          266.54,
          263.73,
          265.49,
          255.32,
          257.7,
          259.94,
          257.31,
          252.2,
          253.99,
          255.4,
          255.2,
          252.11,
          254.3,
          252.26,
          254.5,
          254.5,
          253.89,
          251.75,
          251.36,
          249.2,
          249.7,
          250.15,
          250.8,
          245.19,
          250.8,
          242.88,
          233.36,
          228.17,
          236.63,
          235.27,
          232.33,
          219.99,
          201.2,
          194.53,
          175.91,
          198.6,
          195.85,
          184.01,
          174.27,
          189.51,
          195.69,
          183.37,
          192.64,
          188.08,
          188.07,
          180.38,
          183,
          187.21,
          184.78,
          186.95,
          185.64,
          190.7,
          197.63,
          200.29,
          203.61,
          201.99,
          198.26,
          197.37,
          186.07,
          188.5,
          191.8,
          189.32,
          186.05,
          190.2,
          190.94,
          188.91,
          188.9,
          192.8,
          195.8,
          197.25,
          193.69,
          194.75,
          195.7,
          195.51,
          196.02
         ],
         "high": [
          242.3,
          243.25,
          242.48,
          242.96,
          246.25,
          248.4,
          245.4,
          249.19,
          249.89,
          249.3,
          249.24,
          252.95,
          256,
          258.19,
          254.84,
          259.15,
          261.76,
          259.25,
          262.4,
          263.22,
          258.91,
          259.51,
          262.82,
          266.97,
          268.9,
          270.8,
          266.89,
          267.5,
          262.1,
          258.84,
          261.57,
          258.69,
          259.2,
          254.96,
          257.38,
          257.66,
          258,
          254.3,
          255.73,
          259.77,
          255.49,
          255.18,
          254.4,
          253.1,
          250.44,
          250.68,
          252.17,
          251.49,
          249,
          251.21,
          248.98,
          239,
          241,
          239,
          236.7,
          238.72,
          229.2,
          212.74,
          204.33,
          187.87,
          199.52,
          196.7,
          204.78,
          182.2,
          190.15,
          201.86,
          190.99,
          195,
          201,
          191.2,
          188.97,
          183.2,
          188.77,
          185.47,
          189.9,
          187.49,
          192.02,
          200.54,
          200.29,
          205.44,
          202.75,
          202.16,
          202.85,
          196.25,
          191.67,
          192.7,
          192.23,
          187.5,
          191.94,
          192.5,
          191.65,
          190.5,
          194.22,
          195.8,
          199.7,
          195.68,
          196.46,
          197.23,
          198.15,
          196.25
         ],
         "low": [
          240.09,
          241.1,
          240.13,
          241,
          240.36,
          243.1,
          243.72,
          244.07,
          247.27,
          247.11,
          246.71,
          248.55,
          250.73,
          253.7,
          251.4,
          253.03,
          257.01,
          256.88,
          257.15,
          258.62,
          254.21,
          256.1,
          257.75,
          261.8,
          263.02,
          265.5,
          262.24,
          264.21,
          255.32,
          254.1,
          257.61,
          255.27,
          252.17,
          251.1,
          252.9,
          253.14,
          251.86,
          248.73,
          252.07,
          253,
          252.31,
          252.5,
          251.4,
          250.13,
          247.57,
          247.95,
          249.13,
          247.24,
          245.17,
          243.22,
          242,
          231,
          218.86,
          232.28,
          232.62,
          230.64,
          216.67,
          184.86,
          192.05,
          173.14,
          174.3,
          186,
          183.8,
          172.15,
          173.06,
          192.05,
          182.1,
          189.1,
          182.32,
          182.8,
          180.17,
          174.9,
          184.25,
          182,
          182,
          184.28,
          186.42,
          193.02,
          195.12,
          199.3,
          200.7,
          197.32,
          196.1,
          186.06,
          183.53,
          188.28,
          187.31,
          183.65,
          184.5,
          188.68,
          187.7,
          188.43,
          188.17,
          192.86,
          195.46,
          193.26,
          194,
          194.3,
          195.06,
          194.6
         ],
         "name": "SBER",
         "open": [
          242,
          242,
          242.48,
          241.8,
          241.3,
          246.2,
          244.6,
          244.71,
          248.8,
          248.99,
          248.2,
          248.55,
          252.1,
          255.99,
          254.75,
          253.57,
          259.4,
          257.86,
          258.3,
          262.5,
          258.49,
          257.11,
          258.2,
          263.2,
          265.5,
          268.72,
          264.64,
          264.5,
          261,
          257,
          258.4,
          258,
          258.5,
          251.8,
          255.3,
          255.89,
          256.5,
          253.1,
          254.55,
          253.75,
          255.4,
          253.62,
          254.4,
          252.5,
          250.07,
          250.37,
          250.03,
          248.35,
          247.98,
          244.75,
          247.5,
          235,
          238.93,
          233,
          234.13,
          237,
          228,
          197.99,
          202,
          185.15,
          175,
          194,
          195,
          179,
          178.5,
          198.62,
          188,
          193.3,
          196.38,
          187.69,
          188.05,
          177,
          186,
          183.2,
          188.3,
          186.6,
          187.52,
          193.02,
          196.02,
          202.4,
          201.85,
          202,
          199.99,
          196,
          187.22,
          192.5,
          190.6,
          185.54,
          185.01,
          191.99,
          189.73,
          189.98,
          188.5,
          194.46,
          196.51,
          195.68,
          195.51,
          195,
          196,
          196
         ],
         "type": "candlestick",
         "x": [
          "2019-12-12T00:00:00",
          "2019-12-13T00:00:00",
          "2019-12-16T00:00:00",
          "2019-12-17T00:00:00",
          "2019-12-18T00:00:00",
          "2019-12-19T00:00:00",
          "2019-12-20T00:00:00",
          "2019-12-23T00:00:00",
          "2019-12-24T00:00:00",
          "2019-12-25T00:00:00",
          "2019-12-26T00:00:00",
          "2019-12-27T00:00:00",
          "2019-12-30T00:00:00",
          "2020-01-03T00:00:00",
          "2020-01-06T00:00:00",
          "2020-01-08T00:00:00",
          "2020-01-09T00:00:00",
          "2020-01-10T00:00:00",
          "2020-01-13T00:00:00",
          "2020-01-14T00:00:00",
          "2020-01-15T00:00:00",
          "2020-01-16T00:00:00",
          "2020-01-17T00:00:00",
          "2020-01-20T00:00:00",
          "2020-01-21T00:00:00",
          "2020-01-22T00:00:00",
          "2020-01-23T00:00:00",
          "2020-01-24T00:00:00",
          "2020-01-27T00:00:00",
          "2020-01-28T00:00:00",
          "2020-01-29T00:00:00",
          "2020-01-30T00:00:00",
          "2020-01-31T00:00:00",
          "2020-02-03T00:00:00",
          "2020-02-04T00:00:00",
          "2020-02-05T00:00:00",
          "2020-02-06T00:00:00",
          "2020-02-07T00:00:00",
          "2020-02-10T00:00:00",
          "2020-02-11T00:00:00",
          "2020-02-12T00:00:00",
          "2020-02-13T00:00:00",
          "2020-02-14T00:00:00",
          "2020-02-17T00:00:00",
          "2020-02-18T00:00:00",
          "2020-02-19T00:00:00",
          "2020-02-20T00:00:00",
          "2020-02-21T00:00:00",
          "2020-02-25T00:00:00",
          "2020-02-26T00:00:00",
          "2020-02-27T00:00:00",
          "2020-02-28T00:00:00",
          "2020-03-02T00:00:00",
          "2020-03-03T00:00:00",
          "2020-03-04T00:00:00",
          "2020-03-05T00:00:00",
          "2020-03-06T00:00:00",
          "2020-03-10T00:00:00",
          "2020-03-11T00:00:00",
          "2020-03-12T00:00:00",
          "2020-03-13T00:00:00",
          "2020-03-16T00:00:00",
          "2020-03-17T00:00:00",
          "2020-03-18T00:00:00",
          "2020-03-19T00:00:00",
          "2020-03-20T00:00:00",
          "2020-03-23T00:00:00",
          "2020-03-24T00:00:00",
          "2020-03-25T00:00:00",
          "2020-03-26T00:00:00",
          "2020-03-27T00:00:00",
          "2020-03-30T00:00:00",
          "2020-03-31T00:00:00",
          "2020-04-01T00:00:00",
          "2020-04-02T00:00:00",
          "2020-04-03T00:00:00",
          "2020-04-06T00:00:00",
          "2020-04-07T00:00:00",
          "2020-04-08T00:00:00",
          "2020-04-09T00:00:00",
          "2020-04-10T00:00:00",
          "2020-04-13T00:00:00",
          "2020-04-14T00:00:00",
          "2020-04-15T00:00:00",
          "2020-04-16T00:00:00",
          "2020-04-17T00:00:00",
          "2020-04-20T00:00:00",
          "2020-04-21T00:00:00",
          "2020-04-22T00:00:00",
          "2020-04-23T00:00:00",
          "2020-04-24T00:00:00",
          "2020-04-27T00:00:00",
          "2020-04-28T00:00:00",
          "2020-04-29T00:00:00",
          "2020-04-30T00:00:00",
          "2020-05-04T00:00:00",
          "2020-05-05T00:00:00",
          "2020-05-06T00:00:00",
          "2020-05-07T00:00:00",
          "2020-05-08T00:00:00"
         ],
         "xaxis": "x",
         "yaxis": "y"
        },
        {
         "line": {
          "color": "black"
         },
         "name": "%Willams",
         "opacity": 1,
         "type": "scatter",
         "x": [
          "2019-12-12T00:00:00",
          "2019-12-13T00:00:00",
          "2019-12-16T00:00:00",
          "2019-12-17T00:00:00",
          "2019-12-18T00:00:00",
          "2019-12-19T00:00:00",
          "2019-12-20T00:00:00",
          "2019-12-23T00:00:00",
          "2019-12-24T00:00:00",
          "2019-12-25T00:00:00",
          "2019-12-26T00:00:00",
          "2019-12-27T00:00:00",
          "2019-12-30T00:00:00",
          "2020-01-03T00:00:00",
          "2020-01-06T00:00:00",
          "2020-01-08T00:00:00",
          "2020-01-09T00:00:00",
          "2020-01-10T00:00:00",
          "2020-01-13T00:00:00",
          "2020-01-14T00:00:00",
          "2020-01-15T00:00:00",
          "2020-01-16T00:00:00",
          "2020-01-17T00:00:00",
          "2020-01-20T00:00:00",
          "2020-01-21T00:00:00",
          "2020-01-22T00:00:00",
          "2020-01-23T00:00:00",
          "2020-01-24T00:00:00",
          "2020-01-27T00:00:00",
          "2020-01-28T00:00:00",
          "2020-01-29T00:00:00",
          "2020-01-30T00:00:00",
          "2020-01-31T00:00:00",
          "2020-02-03T00:00:00",
          "2020-02-04T00:00:00",
          "2020-02-05T00:00:00",
          "2020-02-06T00:00:00",
          "2020-02-07T00:00:00",
          "2020-02-10T00:00:00",
          "2020-02-11T00:00:00",
          "2020-02-12T00:00:00",
          "2020-02-13T00:00:00",
          "2020-02-14T00:00:00",
          "2020-02-17T00:00:00",
          "2020-02-18T00:00:00",
          "2020-02-19T00:00:00",
          "2020-02-20T00:00:00",
          "2020-02-21T00:00:00",
          "2020-02-25T00:00:00",
          "2020-02-26T00:00:00",
          "2020-02-27T00:00:00",
          "2020-02-28T00:00:00",
          "2020-03-02T00:00:00",
          "2020-03-03T00:00:00",
          "2020-03-04T00:00:00",
          "2020-03-05T00:00:00",
          "2020-03-06T00:00:00",
          "2020-03-10T00:00:00",
          "2020-03-11T00:00:00",
          "2020-03-12T00:00:00",
          "2020-03-13T00:00:00",
          "2020-03-16T00:00:00",
          "2020-03-17T00:00:00",
          "2020-03-18T00:00:00",
          "2020-03-19T00:00:00",
          "2020-03-20T00:00:00",
          "2020-03-23T00:00:00",
          "2020-03-24T00:00:00",
          "2020-03-25T00:00:00",
          "2020-03-26T00:00:00",
          "2020-03-27T00:00:00",
          "2020-03-30T00:00:00",
          "2020-03-31T00:00:00",
          "2020-04-01T00:00:00",
          "2020-04-02T00:00:00",
          "2020-04-03T00:00:00",
          "2020-04-06T00:00:00",
          "2020-04-07T00:00:00",
          "2020-04-08T00:00:00",
          "2020-04-09T00:00:00",
          "2020-04-10T00:00:00",
          "2020-04-13T00:00:00",
          "2020-04-14T00:00:00",
          "2020-04-15T00:00:00",
          "2020-04-16T00:00:00",
          "2020-04-17T00:00:00",
          "2020-04-20T00:00:00",
          "2020-04-21T00:00:00",
          "2020-04-22T00:00:00",
          "2020-04-23T00:00:00",
          "2020-04-24T00:00:00",
          "2020-04-27T00:00:00",
          "2020-04-28T00:00:00",
          "2020-04-29T00:00:00",
          "2020-04-30T00:00:00",
          "2020-05-04T00:00:00",
          "2020-05-05T00:00:00",
          "2020-05-06T00:00:00",
          "2020-05-07T00:00:00",
          "2020-05-08T00:00:00"
         ],
         "xaxis": "x2",
         "y": [
          -9.419743782969096,
          -14.34599156118138,
          -12.658227848101346,
          -14.102564102564166,
          -0.4184100418410997,
          -35.483870967741964,
          -34.48598130841114,
          -4.285714285714138,
          -12.5,
          -18.954918032786846,
          -17.313746065057522,
          -7.069102462271549,
          -9.689922480620151,
          -22.045611610228043,
          -30.382436260623162,
          0,
          -25.049833887043096,
          -23.72093023255812,
          0,
          -33.38670936749402,
          -58.46023688663293,
          -48.30795262267365,
          -7.065750736015951,
          -5.407523510972207,
          -5.718175629679896,
          -25.678119349005364,
          -42.61603375527421,
          -32.00723327305606,
          -100,
          -78.44311377245515,
          -65.0299401197605,
          -80.77844311377243,
          -99.83896940418678,
          -82.37804878048772,
          -73.78048780487799,
          -62.727272727272876,
          -90.3533906399234,
          -56.61993769470389,
          -66.28462273161412,
          -47.735507246376685,
          -47.735507246376685,
          -53.26086956521739,
          -72.64492753623178,
          -76.17753623188383,
          -86.63934426229511,
          -82.5409836065574,
          -78.85245901639333,
          -56.848484848484816,
          -99.8001998001997,
          -32.20035778175306,
          -92.0720720720721,
          -88.85214926783176,
          -72.05043530471336,
          -46.65265685980187,
          -49.70885688017162,
          -58.361669242658415,
          -90.38795599305148,
          -74.5165315034311,
          -82.77520484503029,
          -95.91806660772177,
          -61.34224111752201,
          -65.37053979871911,
          -83.42482464165903,
          -96.28396143733566,
          -57.23084503572312,
          -27.857799570946995,
          -65.61446521605883,
          -37.205026049647614,
          -51.179895801409714,
          -51.210542445602236,
          -72.2988892628745,
          -65.48611111111114,
          -54.33976261127597,
          -62.145593869731805,
          -53.83141762452112,
          -58.85057471264374,
          -7.7102803738319,
          -11.34945397815912,
          -0.975039001560063,
          -7.807167235494814,
          -14.718430034129646,
          -30.631399317406178,
          -38.13799621928164,
          -99.94840041279674,
          -77.31629392971246,
          -62.25467822911907,
          -73.57371063441354,
          -86.95652173913038,
          -65.47619047619052,
          -61.64596273291926,
          -57.70440251572331,
          -41.43947655398024,
          -13.434247871333854,
          0,
          -15.264797507788106,
          -39.5394736842105,
          -41.24999999999991,
          -33.333333333333336,
          -36.3399826539462,
          -31.91673894189053
         ],
         "yaxis": "y2"
        }
       ],
       "layout": {
        "height": 800,
        "template": {
         "data": {
          "bar": [
           {
            "error_x": {
             "color": "#2a3f5f"
            },
            "error_y": {
             "color": "#2a3f5f"
            },
            "marker": {
             "line": {
              "color": "#E5ECF6",
              "width": 0.5
             }
            },
            "type": "bar"
           }
          ],
          "barpolar": [
           {
            "marker": {
             "line": {
              "color": "#E5ECF6",
              "width": 0.5
             }
            },
            "type": "barpolar"
           }
          ],
          "carpet": [
           {
            "aaxis": {
             "endlinecolor": "#2a3f5f",
             "gridcolor": "white",
             "linecolor": "white",
             "minorgridcolor": "white",
             "startlinecolor": "#2a3f5f"
            },
            "baxis": {
             "endlinecolor": "#2a3f5f",
             "gridcolor": "white",
             "linecolor": "white",
             "minorgridcolor": "white",
             "startlinecolor": "#2a3f5f"
            },
            "type": "carpet"
           }
          ],
          "choropleth": [
           {
            "colorbar": {
             "outlinewidth": 0,
             "ticks": ""
            },
            "type": "choropleth"
           }
          ],
          "contour": [
           {
            "colorbar": {
             "outlinewidth": 0,
             "ticks": ""
            },
            "colorscale": [
             [
              0,
              "#0d0887"
             ],
             [
              0.1111111111111111,
              "#46039f"
             ],
             [
              0.2222222222222222,
              "#7201a8"
             ],
             [
              0.3333333333333333,
              "#9c179e"
             ],
             [
              0.4444444444444444,
              "#bd3786"
             ],
             [
              0.5555555555555556,
              "#d8576b"
             ],
             [
              0.6666666666666666,
              "#ed7953"
             ],
             [
              0.7777777777777778,
              "#fb9f3a"
             ],
             [
              0.8888888888888888,
              "#fdca26"
             ],
             [
              1,
              "#f0f921"
             ]
            ],
            "type": "contour"
           }
          ],
          "contourcarpet": [
           {
            "colorbar": {
             "outlinewidth": 0,
             "ticks": ""
            },
            "type": "contourcarpet"
           }
          ],
          "heatmap": [
           {
            "colorbar": {
             "outlinewidth": 0,
             "ticks": ""
            },
            "colorscale": [
             [
              0,
              "#0d0887"
             ],
             [
              0.1111111111111111,
              "#46039f"
             ],
             [
              0.2222222222222222,
              "#7201a8"
             ],
             [
              0.3333333333333333,
              "#9c179e"
             ],
             [
              0.4444444444444444,
              "#bd3786"
             ],
             [
              0.5555555555555556,
              "#d8576b"
             ],
             [
              0.6666666666666666,
              "#ed7953"
             ],
             [
              0.7777777777777778,
              "#fb9f3a"
             ],
             [
              0.8888888888888888,
              "#fdca26"
             ],
             [
              1,
              "#f0f921"
             ]
            ],
            "type": "heatmap"
           }
          ],
          "heatmapgl": [
           {
            "colorbar": {
             "outlinewidth": 0,
             "ticks": ""
            },
            "colorscale": [
             [
              0,
              "#0d0887"
             ],
             [
              0.1111111111111111,
              "#46039f"
             ],
             [
              0.2222222222222222,
              "#7201a8"
             ],
             [
              0.3333333333333333,
              "#9c179e"
             ],
             [
              0.4444444444444444,
              "#bd3786"
             ],
             [
              0.5555555555555556,
              "#d8576b"
             ],
             [
              0.6666666666666666,
              "#ed7953"
             ],
             [
              0.7777777777777778,
              "#fb9f3a"
             ],
             [
              0.8888888888888888,
              "#fdca26"
             ],
             [
              1,
              "#f0f921"
             ]
            ],
            "type": "heatmapgl"
           }
          ],
          "histogram": [
           {
            "marker": {
             "colorbar": {
              "outlinewidth": 0,
              "ticks": ""
             }
            },
            "type": "histogram"
           }
          ],
          "histogram2d": [
           {
            "colorbar": {
             "outlinewidth": 0,
             "ticks": ""
            },
            "colorscale": [
             [
              0,
              "#0d0887"
             ],
             [
              0.1111111111111111,
              "#46039f"
             ],
             [
              0.2222222222222222,
              "#7201a8"
             ],
             [
              0.3333333333333333,
              "#9c179e"
             ],
             [
              0.4444444444444444,
              "#bd3786"
             ],
             [
              0.5555555555555556,
              "#d8576b"
             ],
             [
              0.6666666666666666,
              "#ed7953"
             ],
             [
              0.7777777777777778,
              "#fb9f3a"
             ],
             [
              0.8888888888888888,
              "#fdca26"
             ],
             [
              1,
              "#f0f921"
             ]
            ],
            "type": "histogram2d"
           }
          ],
          "histogram2dcontour": [
           {
            "colorbar": {
             "outlinewidth": 0,
             "ticks": ""
            },
            "colorscale": [
             [
              0,
              "#0d0887"
             ],
             [
              0.1111111111111111,
              "#46039f"
             ],
             [
              0.2222222222222222,
              "#7201a8"
             ],
             [
              0.3333333333333333,
              "#9c179e"
             ],
             [
              0.4444444444444444,
              "#bd3786"
             ],
             [
              0.5555555555555556,
              "#d8576b"
             ],
             [
              0.6666666666666666,
              "#ed7953"
             ],
             [
              0.7777777777777778,
              "#fb9f3a"
             ],
             [
              0.8888888888888888,
              "#fdca26"
             ],
             [
              1,
              "#f0f921"
             ]
            ],
            "type": "histogram2dcontour"
           }
          ],
          "mesh3d": [
           {
            "colorbar": {
             "outlinewidth": 0,
             "ticks": ""
            },
            "type": "mesh3d"
           }
          ],
          "parcoords": [
           {
            "line": {
             "colorbar": {
              "outlinewidth": 0,
              "ticks": ""
             }
            },
            "type": "parcoords"
           }
          ],
          "pie": [
           {
            "automargin": true,
            "type": "pie"
           }
          ],
          "scatter": [
           {
            "marker": {
             "colorbar": {
              "outlinewidth": 0,
              "ticks": ""
             }
            },
            "type": "scatter"
           }
          ],
          "scatter3d": [
           {
            "line": {
             "colorbar": {
              "outlinewidth": 0,
              "ticks": ""
             }
            },
            "marker": {
             "colorbar": {
              "outlinewidth": 0,
              "ticks": ""
             }
            },
            "type": "scatter3d"
           }
          ],
          "scattercarpet": [
           {
            "marker": {
             "colorbar": {
              "outlinewidth": 0,
              "ticks": ""
             }
            },
            "type": "scattercarpet"
           }
          ],
          "scattergeo": [
           {
            "marker": {
             "colorbar": {
              "outlinewidth": 0,
              "ticks": ""
             }
            },
            "type": "scattergeo"
           }
          ],
          "scattergl": [
           {
            "marker": {
             "colorbar": {
              "outlinewidth": 0,
              "ticks": ""
             }
            },
            "type": "scattergl"
           }
          ],
          "scattermapbox": [
           {
            "marker": {
             "colorbar": {
              "outlinewidth": 0,
              "ticks": ""
             }
            },
            "type": "scattermapbox"
           }
          ],
          "scatterpolar": [
           {
            "marker": {
             "colorbar": {
              "outlinewidth": 0,
              "ticks": ""
             }
            },
            "type": "scatterpolar"
           }
          ],
          "scatterpolargl": [
           {
            "marker": {
             "colorbar": {
              "outlinewidth": 0,
              "ticks": ""
             }
            },
            "type": "scatterpolargl"
           }
          ],
          "scatterternary": [
           {
            "marker": {
             "colorbar": {
              "outlinewidth": 0,
              "ticks": ""
             }
            },
            "type": "scatterternary"
           }
          ],
          "surface": [
           {
            "colorbar": {
             "outlinewidth": 0,
             "ticks": ""
            },
            "colorscale": [
             [
              0,
              "#0d0887"
             ],
             [
              0.1111111111111111,
              "#46039f"
             ],
             [
              0.2222222222222222,
              "#7201a8"
             ],
             [
              0.3333333333333333,
              "#9c179e"
             ],
             [
              0.4444444444444444,
              "#bd3786"
             ],
             [
              0.5555555555555556,
              "#d8576b"
             ],
             [
              0.6666666666666666,
              "#ed7953"
             ],
             [
              0.7777777777777778,
              "#fb9f3a"
             ],
             [
              0.8888888888888888,
              "#fdca26"
             ],
             [
              1,
              "#f0f921"
             ]
            ],
            "type": "surface"
           }
          ],
          "table": [
           {
            "cells": {
             "fill": {
              "color": "#EBF0F8"
             },
             "line": {
              "color": "white"
             }
            },
            "header": {
             "fill": {
              "color": "#C8D4E3"
             },
             "line": {
              "color": "white"
             }
            },
            "type": "table"
           }
          ]
         },
         "layout": {
          "annotationdefaults": {
           "arrowcolor": "#2a3f5f",
           "arrowhead": 0,
           "arrowwidth": 1
          },
          "coloraxis": {
           "colorbar": {
            "outlinewidth": 0,
            "ticks": ""
           }
          },
          "colorscale": {
           "diverging": [
            [
             0,
             "#8e0152"
            ],
            [
             0.1,
             "#c51b7d"
            ],
            [
             0.2,
             "#de77ae"
            ],
            [
             0.3,
             "#f1b6da"
            ],
            [
             0.4,
             "#fde0ef"
            ],
            [
             0.5,
             "#f7f7f7"
            ],
            [
             0.6,
             "#e6f5d0"
            ],
            [
             0.7,
             "#b8e186"
            ],
            [
             0.8,
             "#7fbc41"
            ],
            [
             0.9,
             "#4d9221"
            ],
            [
             1,
             "#276419"
            ]
           ],
           "sequential": [
            [
             0,
             "#0d0887"
            ],
            [
             0.1111111111111111,
             "#46039f"
            ],
            [
             0.2222222222222222,
             "#7201a8"
            ],
            [
             0.3333333333333333,
             "#9c179e"
            ],
            [
             0.4444444444444444,
             "#bd3786"
            ],
            [
             0.5555555555555556,
             "#d8576b"
            ],
            [
             0.6666666666666666,
             "#ed7953"
            ],
            [
             0.7777777777777778,
             "#fb9f3a"
            ],
            [
             0.8888888888888888,
             "#fdca26"
            ],
            [
             1,
             "#f0f921"
            ]
           ],
           "sequentialminus": [
            [
             0,
             "#0d0887"
            ],
            [
             0.1111111111111111,
             "#46039f"
            ],
            [
             0.2222222222222222,
             "#7201a8"
            ],
            [
             0.3333333333333333,
             "#9c179e"
            ],
            [
             0.4444444444444444,
             "#bd3786"
            ],
            [
             0.5555555555555556,
             "#d8576b"
            ],
            [
             0.6666666666666666,
             "#ed7953"
            ],
            [
             0.7777777777777778,
             "#fb9f3a"
            ],
            [
             0.8888888888888888,
             "#fdca26"
            ],
            [
             1,
             "#f0f921"
            ]
           ]
          },
          "colorway": [
           "#636efa",
           "#EF553B",
           "#00cc96",
           "#ab63fa",
           "#FFA15A",
           "#19d3f3",
           "#FF6692",
           "#B6E880",
           "#FF97FF",
           "#FECB52"
          ],
          "font": {
           "color": "#2a3f5f"
          },
          "geo": {
           "bgcolor": "white",
           "lakecolor": "white",
           "landcolor": "#E5ECF6",
           "showlakes": true,
           "showland": true,
           "subunitcolor": "white"
          },
          "hoverlabel": {
           "align": "left"
          },
          "hovermode": "closest",
          "mapbox": {
           "style": "light"
          },
          "paper_bgcolor": "white",
          "plot_bgcolor": "#E5ECF6",
          "polar": {
           "angularaxis": {
            "gridcolor": "white",
            "linecolor": "white",
            "ticks": ""
           },
           "bgcolor": "#E5ECF6",
           "radialaxis": {
            "gridcolor": "white",
            "linecolor": "white",
            "ticks": ""
           }
          },
          "scene": {
           "xaxis": {
            "backgroundcolor": "#E5ECF6",
            "gridcolor": "white",
            "gridwidth": 2,
            "linecolor": "white",
            "showbackground": true,
            "ticks": "",
            "zerolinecolor": "white"
           },
           "yaxis": {
            "backgroundcolor": "#E5ECF6",
            "gridcolor": "white",
            "gridwidth": 2,
            "linecolor": "white",
            "showbackground": true,
            "ticks": "",
            "zerolinecolor": "white"
           },
           "zaxis": {
            "backgroundcolor": "#E5ECF6",
            "gridcolor": "white",
            "gridwidth": 2,
            "linecolor": "white",
            "showbackground": true,
            "ticks": "",
            "zerolinecolor": "white"
           }
          },
          "shapedefaults": {
           "line": {
            "color": "#2a3f5f"
           }
          },
          "ternary": {
           "aaxis": {
            "gridcolor": "white",
            "linecolor": "white",
            "ticks": ""
           },
           "baxis": {
            "gridcolor": "white",
            "linecolor": "white",
            "ticks": ""
           },
           "bgcolor": "#E5ECF6",
           "caxis": {
            "gridcolor": "white",
            "linecolor": "white",
            "ticks": ""
           }
          },
          "title": {
           "x": 0.05
          },
          "xaxis": {
           "automargin": true,
           "gridcolor": "white",
           "linecolor": "white",
           "ticks": "",
           "title": {
            "standoff": 15
           },
           "zerolinecolor": "white",
           "zerolinewidth": 2
          },
          "yaxis": {
           "automargin": true,
           "gridcolor": "white",
           "linecolor": "white",
           "ticks": "",
           "title": {
            "standoff": 15
           },
           "zerolinecolor": "white",
           "zerolinewidth": 2
          }
         }
        },
        "title": {
         "text": "График тикера SBER"
        },
        "width": 1000,
        "xaxis": {
         "anchor": "y",
         "domain": [
          0,
          1
         ],
         "matches": "x2",
         "rangeslider": {
          "visible": false
         },
         "showticklabels": false
        },
        "xaxis2": {
         "anchor": "y2",
         "domain": [
          0,
          1
         ]
        },
        "yaxis": {
         "anchor": "x",
         "domain": [
          0.41200000000000003,
          1
         ],
         "title": {
          "text": "Цена"
         }
        },
        "yaxis2": {
         "anchor": "x2",
         "domain": [
          0,
          0.392
         ],
         "title": {
          "text": "%Williams"
         }
        }
       }
      },
      "text/html": [
       "<div>\n",
       "        \n",
       "        \n",
       "            <div id=\"78d68fa0-7b02-400b-91f0-9f714a836541\" class=\"plotly-graph-div\" style=\"height:800px; width:1000px;\"></div>\n",
       "            <script type=\"text/javascript\">\n",
       "                require([\"plotly\"], function(Plotly) {\n",
       "                    window.PLOTLYENV=window.PLOTLYENV || {};\n",
       "                    \n",
       "                if (document.getElementById(\"78d68fa0-7b02-400b-91f0-9f714a836541\")) {\n",
       "                    Plotly.newPlot(\n",
       "                        '78d68fa0-7b02-400b-91f0-9f714a836541',\n",
       "                        [{\"close\": [241.05, 241.21, 241.45, 241.6, 246.2, 244.0, 244.71, 248.8, 248.67, 248.04, 248.24, 252.06, 254.75, 255.0, 253.9, 259.15, 257.99, 258.19, 262.4, 259.05, 256.31, 257.51, 262.5, 266.28, 268.06, 266.54, 263.73, 265.49, 255.32, 257.7, 259.94, 257.31, 252.2, 253.99, 255.4, 255.2, 252.11, 254.3, 252.26, 254.5, 254.5, 253.89, 251.75, 251.36, 249.2, 249.7, 250.15, 250.8, 245.19, 250.8, 242.88, 233.36, 228.17, 236.63, 235.27, 232.33, 219.99, 201.2, 194.53, 175.91, 198.6, 195.85, 184.01, 174.27, 189.51, 195.69, 183.37, 192.64, 188.08, 188.07, 180.38, 183.0, 187.21, 184.78, 186.95, 185.64, 190.7, 197.63, 200.29, 203.61, 201.99, 198.26, 197.37, 186.07, 188.5, 191.8, 189.32, 186.05, 190.2, 190.94, 188.91, 188.9, 192.8, 195.8, 197.25, 193.69, 194.75, 195.7, 195.51, 196.02], \"high\": [242.3, 243.25, 242.48, 242.96, 246.25, 248.4, 245.4, 249.19, 249.89, 249.3, 249.24, 252.95, 256.0, 258.19, 254.84, 259.15, 261.76, 259.25, 262.4, 263.22, 258.91, 259.51, 262.82, 266.97, 268.9, 270.8, 266.89, 267.5, 262.1, 258.84, 261.57, 258.69, 259.2, 254.96, 257.38, 257.66, 258.0, 254.3, 255.73, 259.77, 255.49, 255.18, 254.4, 253.1, 250.44, 250.68, 252.17, 251.49, 249.0, 251.21, 248.98, 239.0, 241.0, 239.0, 236.7, 238.72, 229.2, 212.74, 204.33, 187.87, 199.52, 196.7, 204.78, 182.2, 190.15, 201.86, 190.99, 195.0, 201.0, 191.2, 188.97, 183.2, 188.77, 185.47, 189.9, 187.49, 192.02, 200.54, 200.29, 205.44, 202.75, 202.16, 202.85, 196.25, 191.67, 192.7, 192.23, 187.5, 191.94, 192.5, 191.65, 190.5, 194.22, 195.8, 199.7, 195.68, 196.46, 197.23, 198.15, 196.25], \"low\": [240.09, 241.1, 240.13, 241.0, 240.36, 243.1, 243.72, 244.07, 247.27, 247.11, 246.71, 248.55, 250.73, 253.7, 251.4, 253.03, 257.01, 256.88, 257.15, 258.62, 254.21, 256.1, 257.75, 261.8, 263.02, 265.5, 262.24, 264.21, 255.32, 254.1, 257.61, 255.27, 252.17, 251.1, 252.9, 253.14, 251.86, 248.73, 252.07, 253.0, 252.31, 252.5, 251.4, 250.13, 247.57, 247.95, 249.13, 247.24, 245.17, 243.22, 242.0, 231.0, 218.86, 232.28, 232.62, 230.64, 216.67, 184.86, 192.05, 173.14, 174.3, 186.0, 183.8, 172.15, 173.06, 192.05, 182.1, 189.1, 182.32, 182.8, 180.17, 174.9, 184.25, 182.0, 182.0, 184.28, 186.42, 193.02, 195.12, 199.3, 200.7, 197.32, 196.1, 186.06, 183.53, 188.28, 187.31, 183.65, 184.5, 188.68, 187.7, 188.43, 188.17, 192.86, 195.46, 193.26, 194.0, 194.3, 195.06, 194.6], \"name\": \"SBER\", \"open\": [242.0, 242.0, 242.48, 241.8, 241.3, 246.2, 244.6, 244.71, 248.8, 248.99, 248.2, 248.55, 252.1, 255.99, 254.75, 253.57, 259.4, 257.86, 258.3, 262.5, 258.49, 257.11, 258.2, 263.2, 265.5, 268.72, 264.64, 264.5, 261.0, 257.0, 258.4, 258.0, 258.5, 251.8, 255.3, 255.89, 256.5, 253.1, 254.55, 253.75, 255.4, 253.62, 254.4, 252.5, 250.07, 250.37, 250.03, 248.35, 247.98, 244.75, 247.5, 235.0, 238.93, 233.0, 234.13, 237.0, 228.0, 197.99, 202.0, 185.15, 175.0, 194.0, 195.0, 179.0, 178.5, 198.62, 188.0, 193.3, 196.38, 187.69, 188.05, 177.0, 186.0, 183.2, 188.3, 186.6, 187.52, 193.02, 196.02, 202.4, 201.85, 202.0, 199.99, 196.0, 187.22, 192.5, 190.6, 185.54, 185.01, 191.99, 189.73, 189.98, 188.5, 194.46, 196.51, 195.68, 195.51, 195.0, 196.0, 196.0], \"type\": \"candlestick\", \"x\": [\"2019-12-12T00:00:00\", \"2019-12-13T00:00:00\", \"2019-12-16T00:00:00\", \"2019-12-17T00:00:00\", \"2019-12-18T00:00:00\", \"2019-12-19T00:00:00\", \"2019-12-20T00:00:00\", \"2019-12-23T00:00:00\", \"2019-12-24T00:00:00\", \"2019-12-25T00:00:00\", \"2019-12-26T00:00:00\", \"2019-12-27T00:00:00\", \"2019-12-30T00:00:00\", \"2020-01-03T00:00:00\", \"2020-01-06T00:00:00\", \"2020-01-08T00:00:00\", \"2020-01-09T00:00:00\", \"2020-01-10T00:00:00\", \"2020-01-13T00:00:00\", \"2020-01-14T00:00:00\", \"2020-01-15T00:00:00\", \"2020-01-16T00:00:00\", \"2020-01-17T00:00:00\", \"2020-01-20T00:00:00\", \"2020-01-21T00:00:00\", \"2020-01-22T00:00:00\", \"2020-01-23T00:00:00\", \"2020-01-24T00:00:00\", \"2020-01-27T00:00:00\", \"2020-01-28T00:00:00\", \"2020-01-29T00:00:00\", \"2020-01-30T00:00:00\", \"2020-01-31T00:00:00\", \"2020-02-03T00:00:00\", \"2020-02-04T00:00:00\", \"2020-02-05T00:00:00\", \"2020-02-06T00:00:00\", \"2020-02-07T00:00:00\", \"2020-02-10T00:00:00\", \"2020-02-11T00:00:00\", \"2020-02-12T00:00:00\", \"2020-02-13T00:00:00\", \"2020-02-14T00:00:00\", \"2020-02-17T00:00:00\", \"2020-02-18T00:00:00\", \"2020-02-19T00:00:00\", \"2020-02-20T00:00:00\", \"2020-02-21T00:00:00\", \"2020-02-25T00:00:00\", \"2020-02-26T00:00:00\", \"2020-02-27T00:00:00\", \"2020-02-28T00:00:00\", \"2020-03-02T00:00:00\", \"2020-03-03T00:00:00\", \"2020-03-04T00:00:00\", \"2020-03-05T00:00:00\", \"2020-03-06T00:00:00\", \"2020-03-10T00:00:00\", \"2020-03-11T00:00:00\", \"2020-03-12T00:00:00\", \"2020-03-13T00:00:00\", \"2020-03-16T00:00:00\", \"2020-03-17T00:00:00\", \"2020-03-18T00:00:00\", \"2020-03-19T00:00:00\", \"2020-03-20T00:00:00\", \"2020-03-23T00:00:00\", \"2020-03-24T00:00:00\", \"2020-03-25T00:00:00\", \"2020-03-26T00:00:00\", \"2020-03-27T00:00:00\", \"2020-03-30T00:00:00\", \"2020-03-31T00:00:00\", \"2020-04-01T00:00:00\", \"2020-04-02T00:00:00\", \"2020-04-03T00:00:00\", \"2020-04-06T00:00:00\", \"2020-04-07T00:00:00\", \"2020-04-08T00:00:00\", \"2020-04-09T00:00:00\", \"2020-04-10T00:00:00\", \"2020-04-13T00:00:00\", \"2020-04-14T00:00:00\", \"2020-04-15T00:00:00\", \"2020-04-16T00:00:00\", \"2020-04-17T00:00:00\", \"2020-04-20T00:00:00\", \"2020-04-21T00:00:00\", \"2020-04-22T00:00:00\", \"2020-04-23T00:00:00\", \"2020-04-24T00:00:00\", \"2020-04-27T00:00:00\", \"2020-04-28T00:00:00\", \"2020-04-29T00:00:00\", \"2020-04-30T00:00:00\", \"2020-05-04T00:00:00\", \"2020-05-05T00:00:00\", \"2020-05-06T00:00:00\", \"2020-05-07T00:00:00\", \"2020-05-08T00:00:00\"], \"xaxis\": \"x\", \"yaxis\": \"y\"}, {\"line\": {\"color\": \"black\"}, \"name\": \"%Willams\", \"opacity\": 1, \"type\": \"scatter\", \"x\": [\"2019-12-12T00:00:00\", \"2019-12-13T00:00:00\", \"2019-12-16T00:00:00\", \"2019-12-17T00:00:00\", \"2019-12-18T00:00:00\", \"2019-12-19T00:00:00\", \"2019-12-20T00:00:00\", \"2019-12-23T00:00:00\", \"2019-12-24T00:00:00\", \"2019-12-25T00:00:00\", \"2019-12-26T00:00:00\", \"2019-12-27T00:00:00\", \"2019-12-30T00:00:00\", \"2020-01-03T00:00:00\", \"2020-01-06T00:00:00\", \"2020-01-08T00:00:00\", \"2020-01-09T00:00:00\", \"2020-01-10T00:00:00\", \"2020-01-13T00:00:00\", \"2020-01-14T00:00:00\", \"2020-01-15T00:00:00\", \"2020-01-16T00:00:00\", \"2020-01-17T00:00:00\", \"2020-01-20T00:00:00\", \"2020-01-21T00:00:00\", \"2020-01-22T00:00:00\", \"2020-01-23T00:00:00\", \"2020-01-24T00:00:00\", \"2020-01-27T00:00:00\", \"2020-01-28T00:00:00\", \"2020-01-29T00:00:00\", \"2020-01-30T00:00:00\", \"2020-01-31T00:00:00\", \"2020-02-03T00:00:00\", \"2020-02-04T00:00:00\", \"2020-02-05T00:00:00\", \"2020-02-06T00:00:00\", \"2020-02-07T00:00:00\", \"2020-02-10T00:00:00\", \"2020-02-11T00:00:00\", \"2020-02-12T00:00:00\", \"2020-02-13T00:00:00\", \"2020-02-14T00:00:00\", \"2020-02-17T00:00:00\", \"2020-02-18T00:00:00\", \"2020-02-19T00:00:00\", \"2020-02-20T00:00:00\", \"2020-02-21T00:00:00\", \"2020-02-25T00:00:00\", \"2020-02-26T00:00:00\", \"2020-02-27T00:00:00\", \"2020-02-28T00:00:00\", \"2020-03-02T00:00:00\", \"2020-03-03T00:00:00\", \"2020-03-04T00:00:00\", \"2020-03-05T00:00:00\", \"2020-03-06T00:00:00\", \"2020-03-10T00:00:00\", \"2020-03-11T00:00:00\", \"2020-03-12T00:00:00\", \"2020-03-13T00:00:00\", \"2020-03-16T00:00:00\", \"2020-03-17T00:00:00\", \"2020-03-18T00:00:00\", \"2020-03-19T00:00:00\", \"2020-03-20T00:00:00\", \"2020-03-23T00:00:00\", \"2020-03-24T00:00:00\", \"2020-03-25T00:00:00\", \"2020-03-26T00:00:00\", \"2020-03-27T00:00:00\", \"2020-03-30T00:00:00\", \"2020-03-31T00:00:00\", \"2020-04-01T00:00:00\", \"2020-04-02T00:00:00\", \"2020-04-03T00:00:00\", \"2020-04-06T00:00:00\", \"2020-04-07T00:00:00\", \"2020-04-08T00:00:00\", \"2020-04-09T00:00:00\", \"2020-04-10T00:00:00\", \"2020-04-13T00:00:00\", \"2020-04-14T00:00:00\", \"2020-04-15T00:00:00\", \"2020-04-16T00:00:00\", \"2020-04-17T00:00:00\", \"2020-04-20T00:00:00\", \"2020-04-21T00:00:00\", \"2020-04-22T00:00:00\", \"2020-04-23T00:00:00\", \"2020-04-24T00:00:00\", \"2020-04-27T00:00:00\", \"2020-04-28T00:00:00\", \"2020-04-29T00:00:00\", \"2020-04-30T00:00:00\", \"2020-05-04T00:00:00\", \"2020-05-05T00:00:00\", \"2020-05-06T00:00:00\", \"2020-05-07T00:00:00\", \"2020-05-08T00:00:00\"], \"xaxis\": \"x2\", \"y\": [-9.419743782969096, -14.34599156118138, -12.658227848101346, -14.102564102564166, -0.4184100418410997, -35.483870967741964, -34.48598130841114, -4.285714285714138, -12.5, -18.954918032786846, -17.313746065057522, -7.069102462271549, -9.689922480620151, -22.045611610228043, -30.382436260623162, -0.0, -25.049833887043096, -23.72093023255812, -0.0, -33.38670936749402, -58.46023688663293, -48.30795262267365, -7.065750736015951, -5.407523510972207, -5.718175629679896, -25.678119349005364, -42.61603375527421, -32.00723327305606, -100.0, -78.44311377245515, -65.0299401197605, -80.77844311377243, -99.83896940418678, -82.37804878048772, -73.78048780487799, -62.727272727272876, -90.3533906399234, -56.61993769470389, -66.28462273161412, -47.735507246376685, -47.735507246376685, -53.26086956521739, -72.64492753623178, -76.17753623188383, -86.63934426229511, -82.5409836065574, -78.85245901639333, -56.848484848484816, -99.8001998001997, -32.20035778175306, -92.0720720720721, -88.85214926783176, -72.05043530471336, -46.65265685980187, -49.70885688017162, -58.361669242658415, -90.38795599305148, -74.5165315034311, -82.77520484503029, -95.91806660772177, -61.34224111752201, -65.37053979871911, -83.42482464165903, -96.28396143733566, -57.23084503572312, -27.857799570946995, -65.61446521605883, -37.205026049647614, -51.179895801409714, -51.210542445602236, -72.2988892628745, -65.48611111111114, -54.33976261127597, -62.145593869731805, -53.83141762452112, -58.85057471264374, -7.7102803738319, -11.34945397815912, -0.975039001560063, -7.807167235494814, -14.718430034129646, -30.631399317406178, -38.13799621928164, -99.94840041279674, -77.31629392971246, -62.25467822911907, -73.57371063441354, -86.95652173913038, -65.47619047619052, -61.64596273291926, -57.70440251572331, -41.43947655398024, -13.434247871333854, -0.0, -15.264797507788106, -39.5394736842105, -41.24999999999991, -33.333333333333336, -36.3399826539462, -31.91673894189053], \"yaxis\": \"y2\"}],\n",
       "                        {\"height\": 800, \"template\": {\"data\": {\"bar\": [{\"error_x\": {\"color\": \"#2a3f5f\"}, \"error_y\": {\"color\": \"#2a3f5f\"}, \"marker\": {\"line\": {\"color\": \"#E5ECF6\", \"width\": 0.5}}, \"type\": \"bar\"}], \"barpolar\": [{\"marker\": {\"line\": {\"color\": \"#E5ECF6\", \"width\": 0.5}}, \"type\": \"barpolar\"}], \"carpet\": [{\"aaxis\": {\"endlinecolor\": \"#2a3f5f\", \"gridcolor\": \"white\", \"linecolor\": \"white\", \"minorgridcolor\": \"white\", \"startlinecolor\": \"#2a3f5f\"}, \"baxis\": {\"endlinecolor\": \"#2a3f5f\", \"gridcolor\": \"white\", \"linecolor\": \"white\", \"minorgridcolor\": \"white\", \"startlinecolor\": \"#2a3f5f\"}, \"type\": \"carpet\"}], \"choropleth\": [{\"colorbar\": {\"outlinewidth\": 0, \"ticks\": \"\"}, \"type\": \"choropleth\"}], \"contour\": [{\"colorbar\": {\"outlinewidth\": 0, \"ticks\": \"\"}, \"colorscale\": [[0.0, \"#0d0887\"], [0.1111111111111111, \"#46039f\"], [0.2222222222222222, \"#7201a8\"], [0.3333333333333333, \"#9c179e\"], [0.4444444444444444, \"#bd3786\"], [0.5555555555555556, \"#d8576b\"], [0.6666666666666666, \"#ed7953\"], [0.7777777777777778, \"#fb9f3a\"], [0.8888888888888888, \"#fdca26\"], [1.0, \"#f0f921\"]], \"type\": \"contour\"}], \"contourcarpet\": [{\"colorbar\": {\"outlinewidth\": 0, \"ticks\": \"\"}, \"type\": \"contourcarpet\"}], \"heatmap\": [{\"colorbar\": {\"outlinewidth\": 0, \"ticks\": \"\"}, \"colorscale\": [[0.0, \"#0d0887\"], [0.1111111111111111, \"#46039f\"], [0.2222222222222222, \"#7201a8\"], [0.3333333333333333, \"#9c179e\"], [0.4444444444444444, \"#bd3786\"], [0.5555555555555556, \"#d8576b\"], [0.6666666666666666, \"#ed7953\"], [0.7777777777777778, \"#fb9f3a\"], [0.8888888888888888, \"#fdca26\"], [1.0, \"#f0f921\"]], \"type\": \"heatmap\"}], \"heatmapgl\": [{\"colorbar\": {\"outlinewidth\": 0, \"ticks\": \"\"}, \"colorscale\": [[0.0, \"#0d0887\"], [0.1111111111111111, \"#46039f\"], [0.2222222222222222, \"#7201a8\"], [0.3333333333333333, \"#9c179e\"], [0.4444444444444444, \"#bd3786\"], [0.5555555555555556, \"#d8576b\"], [0.6666666666666666, \"#ed7953\"], [0.7777777777777778, \"#fb9f3a\"], [0.8888888888888888, \"#fdca26\"], [1.0, \"#f0f921\"]], \"type\": \"heatmapgl\"}], \"histogram\": [{\"marker\": {\"colorbar\": {\"outlinewidth\": 0, \"ticks\": \"\"}}, \"type\": \"histogram\"}], \"histogram2d\": [{\"colorbar\": {\"outlinewidth\": 0, \"ticks\": \"\"}, \"colorscale\": [[0.0, \"#0d0887\"], [0.1111111111111111, \"#46039f\"], [0.2222222222222222, \"#7201a8\"], [0.3333333333333333, \"#9c179e\"], [0.4444444444444444, \"#bd3786\"], [0.5555555555555556, \"#d8576b\"], [0.6666666666666666, \"#ed7953\"], [0.7777777777777778, \"#fb9f3a\"], [0.8888888888888888, \"#fdca26\"], [1.0, \"#f0f921\"]], \"type\": \"histogram2d\"}], \"histogram2dcontour\": [{\"colorbar\": {\"outlinewidth\": 0, \"ticks\": \"\"}, \"colorscale\": [[0.0, \"#0d0887\"], [0.1111111111111111, \"#46039f\"], [0.2222222222222222, \"#7201a8\"], [0.3333333333333333, \"#9c179e\"], [0.4444444444444444, \"#bd3786\"], [0.5555555555555556, \"#d8576b\"], [0.6666666666666666, \"#ed7953\"], [0.7777777777777778, \"#fb9f3a\"], [0.8888888888888888, \"#fdca26\"], [1.0, \"#f0f921\"]], \"type\": \"histogram2dcontour\"}], \"mesh3d\": [{\"colorbar\": {\"outlinewidth\": 0, \"ticks\": \"\"}, \"type\": \"mesh3d\"}], \"parcoords\": [{\"line\": {\"colorbar\": {\"outlinewidth\": 0, \"ticks\": \"\"}}, \"type\": \"parcoords\"}], \"pie\": [{\"automargin\": true, \"type\": \"pie\"}], \"scatter\": [{\"marker\": {\"colorbar\": {\"outlinewidth\": 0, \"ticks\": \"\"}}, \"type\": \"scatter\"}], \"scatter3d\": [{\"line\": {\"colorbar\": {\"outlinewidth\": 0, \"ticks\": \"\"}}, \"marker\": {\"colorbar\": {\"outlinewidth\": 0, \"ticks\": \"\"}}, \"type\": \"scatter3d\"}], \"scattercarpet\": [{\"marker\": {\"colorbar\": {\"outlinewidth\": 0, \"ticks\": \"\"}}, \"type\": \"scattercarpet\"}], \"scattergeo\": [{\"marker\": {\"colorbar\": {\"outlinewidth\": 0, \"ticks\": \"\"}}, \"type\": \"scattergeo\"}], \"scattergl\": [{\"marker\": {\"colorbar\": {\"outlinewidth\": 0, \"ticks\": \"\"}}, \"type\": \"scattergl\"}], \"scattermapbox\": [{\"marker\": {\"colorbar\": {\"outlinewidth\": 0, \"ticks\": \"\"}}, \"type\": \"scattermapbox\"}], \"scatterpolar\": [{\"marker\": {\"colorbar\": {\"outlinewidth\": 0, \"ticks\": \"\"}}, \"type\": \"scatterpolar\"}], \"scatterpolargl\": [{\"marker\": {\"colorbar\": {\"outlinewidth\": 0, \"ticks\": \"\"}}, \"type\": \"scatterpolargl\"}], \"scatterternary\": [{\"marker\": {\"colorbar\": {\"outlinewidth\": 0, \"ticks\": \"\"}}, \"type\": \"scatterternary\"}], \"surface\": [{\"colorbar\": {\"outlinewidth\": 0, \"ticks\": \"\"}, \"colorscale\": [[0.0, \"#0d0887\"], [0.1111111111111111, \"#46039f\"], [0.2222222222222222, \"#7201a8\"], [0.3333333333333333, \"#9c179e\"], [0.4444444444444444, \"#bd3786\"], [0.5555555555555556, \"#d8576b\"], [0.6666666666666666, \"#ed7953\"], [0.7777777777777778, \"#fb9f3a\"], [0.8888888888888888, \"#fdca26\"], [1.0, \"#f0f921\"]], \"type\": \"surface\"}], \"table\": [{\"cells\": {\"fill\": {\"color\": \"#EBF0F8\"}, \"line\": {\"color\": \"white\"}}, \"header\": {\"fill\": {\"color\": \"#C8D4E3\"}, \"line\": {\"color\": \"white\"}}, \"type\": \"table\"}]}, \"layout\": {\"annotationdefaults\": {\"arrowcolor\": \"#2a3f5f\", \"arrowhead\": 0, \"arrowwidth\": 1}, \"coloraxis\": {\"colorbar\": {\"outlinewidth\": 0, \"ticks\": \"\"}}, \"colorscale\": {\"diverging\": [[0, \"#8e0152\"], [0.1, \"#c51b7d\"], [0.2, \"#de77ae\"], [0.3, \"#f1b6da\"], [0.4, \"#fde0ef\"], [0.5, \"#f7f7f7\"], [0.6, \"#e6f5d0\"], [0.7, \"#b8e186\"], [0.8, \"#7fbc41\"], [0.9, \"#4d9221\"], [1, \"#276419\"]], \"sequential\": [[0.0, \"#0d0887\"], [0.1111111111111111, \"#46039f\"], [0.2222222222222222, \"#7201a8\"], [0.3333333333333333, \"#9c179e\"], [0.4444444444444444, \"#bd3786\"], [0.5555555555555556, \"#d8576b\"], [0.6666666666666666, \"#ed7953\"], [0.7777777777777778, \"#fb9f3a\"], [0.8888888888888888, \"#fdca26\"], [1.0, \"#f0f921\"]], \"sequentialminus\": [[0.0, \"#0d0887\"], [0.1111111111111111, \"#46039f\"], [0.2222222222222222, \"#7201a8\"], [0.3333333333333333, \"#9c179e\"], [0.4444444444444444, \"#bd3786\"], [0.5555555555555556, \"#d8576b\"], [0.6666666666666666, \"#ed7953\"], [0.7777777777777778, \"#fb9f3a\"], [0.8888888888888888, \"#fdca26\"], [1.0, \"#f0f921\"]]}, \"colorway\": [\"#636efa\", \"#EF553B\", \"#00cc96\", \"#ab63fa\", \"#FFA15A\", \"#19d3f3\", \"#FF6692\", \"#B6E880\", \"#FF97FF\", \"#FECB52\"], \"font\": {\"color\": \"#2a3f5f\"}, \"geo\": {\"bgcolor\": \"white\", \"lakecolor\": \"white\", \"landcolor\": \"#E5ECF6\", \"showlakes\": true, \"showland\": true, \"subunitcolor\": \"white\"}, \"hoverlabel\": {\"align\": \"left\"}, \"hovermode\": \"closest\", \"mapbox\": {\"style\": \"light\"}, \"paper_bgcolor\": \"white\", \"plot_bgcolor\": \"#E5ECF6\", \"polar\": {\"angularaxis\": {\"gridcolor\": \"white\", \"linecolor\": \"white\", \"ticks\": \"\"}, \"bgcolor\": \"#E5ECF6\", \"radialaxis\": {\"gridcolor\": \"white\", \"linecolor\": \"white\", \"ticks\": \"\"}}, \"scene\": {\"xaxis\": {\"backgroundcolor\": \"#E5ECF6\", \"gridcolor\": \"white\", \"gridwidth\": 2, \"linecolor\": \"white\", \"showbackground\": true, \"ticks\": \"\", \"zerolinecolor\": \"white\"}, \"yaxis\": {\"backgroundcolor\": \"#E5ECF6\", \"gridcolor\": \"white\", \"gridwidth\": 2, \"linecolor\": \"white\", \"showbackground\": true, \"ticks\": \"\", \"zerolinecolor\": \"white\"}, \"zaxis\": {\"backgroundcolor\": \"#E5ECF6\", \"gridcolor\": \"white\", \"gridwidth\": 2, \"linecolor\": \"white\", \"showbackground\": true, \"ticks\": \"\", \"zerolinecolor\": \"white\"}}, \"shapedefaults\": {\"line\": {\"color\": \"#2a3f5f\"}}, \"ternary\": {\"aaxis\": {\"gridcolor\": \"white\", \"linecolor\": \"white\", \"ticks\": \"\"}, \"baxis\": {\"gridcolor\": \"white\", \"linecolor\": \"white\", \"ticks\": \"\"}, \"bgcolor\": \"#E5ECF6\", \"caxis\": {\"gridcolor\": \"white\", \"linecolor\": \"white\", \"ticks\": \"\"}}, \"title\": {\"x\": 0.05}, \"xaxis\": {\"automargin\": true, \"gridcolor\": \"white\", \"linecolor\": \"white\", \"ticks\": \"\", \"title\": {\"standoff\": 15}, \"zerolinecolor\": \"white\", \"zerolinewidth\": 2}, \"yaxis\": {\"automargin\": true, \"gridcolor\": \"white\", \"linecolor\": \"white\", \"ticks\": \"\", \"title\": {\"standoff\": 15}, \"zerolinecolor\": \"white\", \"zerolinewidth\": 2}}}, \"title\": {\"text\": \"\\u0413\\u0440\\u0430\\u0444\\u0438\\u043a \\u0442\\u0438\\u043a\\u0435\\u0440\\u0430 SBER\"}, \"width\": 1000, \"xaxis\": {\"anchor\": \"y\", \"domain\": [0.0, 1.0], \"matches\": \"x2\", \"rangeslider\": {\"visible\": false}, \"showticklabels\": false}, \"xaxis2\": {\"anchor\": \"y2\", \"domain\": [0.0, 1.0]}, \"yaxis\": {\"anchor\": \"x\", \"domain\": [0.41200000000000003, 1.0], \"title\": {\"text\": \"\\u0426\\u0435\\u043d\\u0430\"}}, \"yaxis2\": {\"anchor\": \"x2\", \"domain\": [0.0, 0.392], \"title\": {\"text\": \"%Williams\"}}},\n",
       "                        {\"responsive\": true}\n",
       "                    ).then(function(){\n",
       "                            \n",
       "var gd = document.getElementById('78d68fa0-7b02-400b-91f0-9f714a836541');\n",
       "var x = new MutationObserver(function (mutations, observer) {{\n",
       "        var display = window.getComputedStyle(gd).display;\n",
       "        if (!display || display === 'none') {{\n",
       "            console.log([gd, 'removed!']);\n",
       "            Plotly.purge(gd);\n",
       "            observer.disconnect();\n",
       "        }}\n",
       "}});\n",
       "\n",
       "// Listen for the removal of the full notebook cells\n",
       "var notebookContainer = gd.closest('#notebook-container');\n",
       "if (notebookContainer) {{\n",
       "    x.observe(notebookContainer, {childList: true});\n",
       "}}\n",
       "\n",
       "// Listen for the clearing of the current output cell\n",
       "var outputEl = gd.closest('.output');\n",
       "if (outputEl) {{\n",
       "    x.observe(outputEl, {childList: true});\n",
       "}}\n",
       "\n",
       "                        })\n",
       "                };\n",
       "                });\n",
       "            </script>\n",
       "        </div>"
      ]
     },
     "metadata": {},
     "output_type": "display_data"
    }
   ],
   "source": [
    "fig = make_subplots(rows=2, cols=1, shared_xaxes=True, vertical_spacing=0.02, row_heights=[0.6, 0.4])\n",
    "\n",
    "fig.add_trace(go.Candlestick(x=df_short.index,\n",
    "                             open=df_short['open'],\n",
    "                             high=df_short['high'],\n",
    "                             low=df_short['low'],\n",
    "                             close=df_short['close'],\n",
    "                             name=ticker),\n",
    "              row=1, col=1)\n",
    "\n",
    "fig.add_trace(go.Scatter(\n",
    "                x=df_short.index,\n",
    "                y=df_short['WILLR'],\n",
    "                name=\"%Willams\",\n",
    "                line_color='black',\n",
    "                opacity=1),\n",
    "             row=2, col=1)\n",
    "\n",
    "\n",
    "# ********************************\n",
    "# финальная настройка layout\n",
    "fig.update_yaxes(title_text=\"Цена\", row=1, col=1)\n",
    "fig.update_yaxes(title_text=\"%Williams\", row=2, col=1)\n",
    "fig.update_layout(height = 800, width=1000, title_text=\"График тикера \" + ticker, xaxis_rangeslider_visible=False)\n",
    "fig.show()"
   ]
  },
  {
   "cell_type": "code",
   "execution_count": 46,
   "metadata": {},
   "outputs": [],
   "source": [
    "def sig_elder(w1_UpperTimeFrameCondition, WILLRoverZones):\n",
    "    d = pd.DataFrame()\n",
    "    d['w1_UpperTimeFrameCondition'] = w1_UpperTimeFrameCondition\n",
    "    d['WILLRoverZones'] = WILLRoverZones\n",
    "    d['sig_elder'] = 0\n",
    "    \n",
    "    i = 0\n",
    "    for index, row in d.iterrows():\n",
    "        if d.iloc[i, 0] < 0 and d.iloc[i, 1] < 0:\n",
    "            d.iloc[i, 2] = -1\n",
    "        if d.iloc[i, 0] > 0 and d.iloc[i, 1] > 0:\n",
    "            d.iloc[i, 2] = 1\n",
    "        i += 1\n",
    "        \n",
    "    return d.sig_elder\n",
    "\n",
    "df['sig_elder'] = sig_elder(df.w1_UpperTimeFrameCondition, df.WILLRoverZones)"
   ]
  },
  {
   "cell_type": "code",
   "execution_count": 47,
   "metadata": {},
   "outputs": [
    {
     "name": "stdout",
     "output_type": "stream",
     "text": [
      "Три экрана Элдера:\n",
      "Вне рынка, т.к. на большем таймфрейме флет.\n"
     ]
    }
   ],
   "source": [
    "print('Три экрана Элдера:')\n",
    "if df.sig_elder[-1] < 0:\n",
    "    print('Значения инидикатора MACD снижаются. Рассматриваем только сделки на продажу, либо вне рынка')\n",
    "    print('Значения инидикатора %Williams в зоне перекупленности. Выставляем стоп приказ на продажу по цене: ' + str(df_short['low'][-2]) + ' со стопом ' + str(df_short['high'][-2:].max()))        \n",
    "elif df.sig_elder[-1] > 0:\n",
    "    print('Значения инидикатора MACD повышаются. Рассматриваем только сделки на покупку, либо вне рынка')\n",
    "    print('Значения инидикатора %Williams в зоне перепроданности. Выставляем стоп приказ на покупку по цене: ' + str(df_short['high'][-2]) + ' со стопом ' + str(df_short['low'][-2:].min()))\n",
    "else:\n",
    "    print('Вне рынка, т.к. на большем таймфрейме флет.')"
   ]
  },
  {
   "cell_type": "markdown",
   "metadata": {},
   "source": [
    "## Система канала\n",
    "\n",
    "Сигнал к продаже поступает, когда цены достигают потолка канала, а индикатор MACD или стохастический осциллятор достигает более низкого пика, образуя расхождение пиков (дает дивергенцию).\n",
    "Сигнал к покупке поступает, когда цены достигают пока канала, а индикатор опускается на более мелкую впадину, образуя расхождение впадин."
   ]
  },
  {
   "cell_type": "code",
   "execution_count": 61,
   "metadata": {},
   "outputs": [
    {
     "data": {
      "application/vnd.plotly.v1+json": {
       "config": {
        "plotlyServerURL": "https://plot.ly"
       },
       "data": [
        {
         "close": [
          241.05,
          241.21,
          241.45,
          241.6,
          246.2,
          244,
          244.71,
          248.8,
          248.67,
          248.04,
          248.24,
          252.06,
          254.75,
          255,
          253.9,
          259.15,
          257.99,
          258.19,
          262.4,
          259.05,
          256.31,
          257.51,
          262.5,
          266.28,
          268.06,
          266.54,
          263.73,
          265.49,
          255.32,
          257.7,
          259.94,
          257.31,
          252.2,
          253.99,
          255.4,
          255.2,
          252.11,
          254.3,
          252.26,
          254.5,
          254.5,
          253.89,
          251.75,
          251.36,
          249.2,
          249.7,
          250.15,
          250.8,
          245.19,
          250.8,
          242.88,
          233.36,
          228.17,
          236.63,
          235.27,
          232.33,
          219.99,
          201.2,
          194.53,
          175.91,
          198.6,
          195.85,
          184.01,
          174.27,
          189.51,
          195.69,
          183.37,
          192.64,
          188.08,
          188.07,
          180.38,
          183,
          187.21,
          184.78,
          186.95,
          185.64,
          190.7,
          197.63,
          200.29,
          203.61,
          201.99,
          198.26,
          197.37,
          186.07,
          188.5,
          191.8,
          189.32,
          186.05,
          190.2,
          190.94,
          188.91,
          188.9,
          192.8,
          195.8,
          197.25,
          193.69,
          194.75,
          195.7,
          195.51,
          196.02
         ],
         "high": [
          242.3,
          243.25,
          242.48,
          242.96,
          246.25,
          248.4,
          245.4,
          249.19,
          249.89,
          249.3,
          249.24,
          252.95,
          256,
          258.19,
          254.84,
          259.15,
          261.76,
          259.25,
          262.4,
          263.22,
          258.91,
          259.51,
          262.82,
          266.97,
          268.9,
          270.8,
          266.89,
          267.5,
          262.1,
          258.84,
          261.57,
          258.69,
          259.2,
          254.96,
          257.38,
          257.66,
          258,
          254.3,
          255.73,
          259.77,
          255.49,
          255.18,
          254.4,
          253.1,
          250.44,
          250.68,
          252.17,
          251.49,
          249,
          251.21,
          248.98,
          239,
          241,
          239,
          236.7,
          238.72,
          229.2,
          212.74,
          204.33,
          187.87,
          199.52,
          196.7,
          204.78,
          182.2,
          190.15,
          201.86,
          190.99,
          195,
          201,
          191.2,
          188.97,
          183.2,
          188.77,
          185.47,
          189.9,
          187.49,
          192.02,
          200.54,
          200.29,
          205.44,
          202.75,
          202.16,
          202.85,
          196.25,
          191.67,
          192.7,
          192.23,
          187.5,
          191.94,
          192.5,
          191.65,
          190.5,
          194.22,
          195.8,
          199.7,
          195.68,
          196.46,
          197.23,
          198.15,
          196.25
         ],
         "low": [
          240.09,
          241.1,
          240.13,
          241,
          240.36,
          243.1,
          243.72,
          244.07,
          247.27,
          247.11,
          246.71,
          248.55,
          250.73,
          253.7,
          251.4,
          253.03,
          257.01,
          256.88,
          257.15,
          258.62,
          254.21,
          256.1,
          257.75,
          261.8,
          263.02,
          265.5,
          262.24,
          264.21,
          255.32,
          254.1,
          257.61,
          255.27,
          252.17,
          251.1,
          252.9,
          253.14,
          251.86,
          248.73,
          252.07,
          253,
          252.31,
          252.5,
          251.4,
          250.13,
          247.57,
          247.95,
          249.13,
          247.24,
          245.17,
          243.22,
          242,
          231,
          218.86,
          232.28,
          232.62,
          230.64,
          216.67,
          184.86,
          192.05,
          173.14,
          174.3,
          186,
          183.8,
          172.15,
          173.06,
          192.05,
          182.1,
          189.1,
          182.32,
          182.8,
          180.17,
          174.9,
          184.25,
          182,
          182,
          184.28,
          186.42,
          193.02,
          195.12,
          199.3,
          200.7,
          197.32,
          196.1,
          186.06,
          183.53,
          188.28,
          187.31,
          183.65,
          184.5,
          188.68,
          187.7,
          188.43,
          188.17,
          192.86,
          195.46,
          193.26,
          194,
          194.3,
          195.06,
          194.6
         ],
         "name": "SBER",
         "open": [
          242,
          242,
          242.48,
          241.8,
          241.3,
          246.2,
          244.6,
          244.71,
          248.8,
          248.99,
          248.2,
          248.55,
          252.1,
          255.99,
          254.75,
          253.57,
          259.4,
          257.86,
          258.3,
          262.5,
          258.49,
          257.11,
          258.2,
          263.2,
          265.5,
          268.72,
          264.64,
          264.5,
          261,
          257,
          258.4,
          258,
          258.5,
          251.8,
          255.3,
          255.89,
          256.5,
          253.1,
          254.55,
          253.75,
          255.4,
          253.62,
          254.4,
          252.5,
          250.07,
          250.37,
          250.03,
          248.35,
          247.98,
          244.75,
          247.5,
          235,
          238.93,
          233,
          234.13,
          237,
          228,
          197.99,
          202,
          185.15,
          175,
          194,
          195,
          179,
          178.5,
          198.62,
          188,
          193.3,
          196.38,
          187.69,
          188.05,
          177,
          186,
          183.2,
          188.3,
          186.6,
          187.52,
          193.02,
          196.02,
          202.4,
          201.85,
          202,
          199.99,
          196,
          187.22,
          192.5,
          190.6,
          185.54,
          185.01,
          191.99,
          189.73,
          189.98,
          188.5,
          194.46,
          196.51,
          195.68,
          195.51,
          195,
          196,
          196
         ],
         "type": "candlestick",
         "x": [
          "2019-12-12T00:00:00",
          "2019-12-13T00:00:00",
          "2019-12-16T00:00:00",
          "2019-12-17T00:00:00",
          "2019-12-18T00:00:00",
          "2019-12-19T00:00:00",
          "2019-12-20T00:00:00",
          "2019-12-23T00:00:00",
          "2019-12-24T00:00:00",
          "2019-12-25T00:00:00",
          "2019-12-26T00:00:00",
          "2019-12-27T00:00:00",
          "2019-12-30T00:00:00",
          "2020-01-03T00:00:00",
          "2020-01-06T00:00:00",
          "2020-01-08T00:00:00",
          "2020-01-09T00:00:00",
          "2020-01-10T00:00:00",
          "2020-01-13T00:00:00",
          "2020-01-14T00:00:00",
          "2020-01-15T00:00:00",
          "2020-01-16T00:00:00",
          "2020-01-17T00:00:00",
          "2020-01-20T00:00:00",
          "2020-01-21T00:00:00",
          "2020-01-22T00:00:00",
          "2020-01-23T00:00:00",
          "2020-01-24T00:00:00",
          "2020-01-27T00:00:00",
          "2020-01-28T00:00:00",
          "2020-01-29T00:00:00",
          "2020-01-30T00:00:00",
          "2020-01-31T00:00:00",
          "2020-02-03T00:00:00",
          "2020-02-04T00:00:00",
          "2020-02-05T00:00:00",
          "2020-02-06T00:00:00",
          "2020-02-07T00:00:00",
          "2020-02-10T00:00:00",
          "2020-02-11T00:00:00",
          "2020-02-12T00:00:00",
          "2020-02-13T00:00:00",
          "2020-02-14T00:00:00",
          "2020-02-17T00:00:00",
          "2020-02-18T00:00:00",
          "2020-02-19T00:00:00",
          "2020-02-20T00:00:00",
          "2020-02-21T00:00:00",
          "2020-02-25T00:00:00",
          "2020-02-26T00:00:00",
          "2020-02-27T00:00:00",
          "2020-02-28T00:00:00",
          "2020-03-02T00:00:00",
          "2020-03-03T00:00:00",
          "2020-03-04T00:00:00",
          "2020-03-05T00:00:00",
          "2020-03-06T00:00:00",
          "2020-03-10T00:00:00",
          "2020-03-11T00:00:00",
          "2020-03-12T00:00:00",
          "2020-03-13T00:00:00",
          "2020-03-16T00:00:00",
          "2020-03-17T00:00:00",
          "2020-03-18T00:00:00",
          "2020-03-19T00:00:00",
          "2020-03-20T00:00:00",
          "2020-03-23T00:00:00",
          "2020-03-24T00:00:00",
          "2020-03-25T00:00:00",
          "2020-03-26T00:00:00",
          "2020-03-27T00:00:00",
          "2020-03-30T00:00:00",
          "2020-03-31T00:00:00",
          "2020-04-01T00:00:00",
          "2020-04-02T00:00:00",
          "2020-04-03T00:00:00",
          "2020-04-06T00:00:00",
          "2020-04-07T00:00:00",
          "2020-04-08T00:00:00",
          "2020-04-09T00:00:00",
          "2020-04-10T00:00:00",
          "2020-04-13T00:00:00",
          "2020-04-14T00:00:00",
          "2020-04-15T00:00:00",
          "2020-04-16T00:00:00",
          "2020-04-17T00:00:00",
          "2020-04-20T00:00:00",
          "2020-04-21T00:00:00",
          "2020-04-22T00:00:00",
          "2020-04-23T00:00:00",
          "2020-04-24T00:00:00",
          "2020-04-27T00:00:00",
          "2020-04-28T00:00:00",
          "2020-04-29T00:00:00",
          "2020-04-30T00:00:00",
          "2020-05-04T00:00:00",
          "2020-05-05T00:00:00",
          "2020-05-06T00:00:00",
          "2020-05-07T00:00:00",
          "2020-05-08T00:00:00"
         ],
         "xaxis": "x",
         "yaxis": "y"
        },
        {
         "line": {
          "color": "blue"
         },
         "name": "upBB",
         "opacity": 0.5,
         "type": "scatter",
         "x": [
          "2019-12-12T00:00:00",
          "2019-12-13T00:00:00",
          "2019-12-16T00:00:00",
          "2019-12-17T00:00:00",
          "2019-12-18T00:00:00",
          "2019-12-19T00:00:00",
          "2019-12-20T00:00:00",
          "2019-12-23T00:00:00",
          "2019-12-24T00:00:00",
          "2019-12-25T00:00:00",
          "2019-12-26T00:00:00",
          "2019-12-27T00:00:00",
          "2019-12-30T00:00:00",
          "2020-01-03T00:00:00",
          "2020-01-06T00:00:00",
          "2020-01-08T00:00:00",
          "2020-01-09T00:00:00",
          "2020-01-10T00:00:00",
          "2020-01-13T00:00:00",
          "2020-01-14T00:00:00",
          "2020-01-15T00:00:00",
          "2020-01-16T00:00:00",
          "2020-01-17T00:00:00",
          "2020-01-20T00:00:00",
          "2020-01-21T00:00:00",
          "2020-01-22T00:00:00",
          "2020-01-23T00:00:00",
          "2020-01-24T00:00:00",
          "2020-01-27T00:00:00",
          "2020-01-28T00:00:00",
          "2020-01-29T00:00:00",
          "2020-01-30T00:00:00",
          "2020-01-31T00:00:00",
          "2020-02-03T00:00:00",
          "2020-02-04T00:00:00",
          "2020-02-05T00:00:00",
          "2020-02-06T00:00:00",
          "2020-02-07T00:00:00",
          "2020-02-10T00:00:00",
          "2020-02-11T00:00:00",
          "2020-02-12T00:00:00",
          "2020-02-13T00:00:00",
          "2020-02-14T00:00:00",
          "2020-02-17T00:00:00",
          "2020-02-18T00:00:00",
          "2020-02-19T00:00:00",
          "2020-02-20T00:00:00",
          "2020-02-21T00:00:00",
          "2020-02-25T00:00:00",
          "2020-02-26T00:00:00",
          "2020-02-27T00:00:00",
          "2020-02-28T00:00:00",
          "2020-03-02T00:00:00",
          "2020-03-03T00:00:00",
          "2020-03-04T00:00:00",
          "2020-03-05T00:00:00",
          "2020-03-06T00:00:00",
          "2020-03-10T00:00:00",
          "2020-03-11T00:00:00",
          "2020-03-12T00:00:00",
          "2020-03-13T00:00:00",
          "2020-03-16T00:00:00",
          "2020-03-17T00:00:00",
          "2020-03-18T00:00:00",
          "2020-03-19T00:00:00",
          "2020-03-20T00:00:00",
          "2020-03-23T00:00:00",
          "2020-03-24T00:00:00",
          "2020-03-25T00:00:00",
          "2020-03-26T00:00:00",
          "2020-03-27T00:00:00",
          "2020-03-30T00:00:00",
          "2020-03-31T00:00:00",
          "2020-04-01T00:00:00",
          "2020-04-02T00:00:00",
          "2020-04-03T00:00:00",
          "2020-04-06T00:00:00",
          "2020-04-07T00:00:00",
          "2020-04-08T00:00:00",
          "2020-04-09T00:00:00",
          "2020-04-10T00:00:00",
          "2020-04-13T00:00:00",
          "2020-04-14T00:00:00",
          "2020-04-15T00:00:00",
          "2020-04-16T00:00:00",
          "2020-04-17T00:00:00",
          "2020-04-20T00:00:00",
          "2020-04-21T00:00:00",
          "2020-04-22T00:00:00",
          "2020-04-23T00:00:00",
          "2020-04-24T00:00:00",
          "2020-04-27T00:00:00",
          "2020-04-28T00:00:00",
          "2020-04-29T00:00:00",
          "2020-04-30T00:00:00",
          "2020-05-04T00:00:00",
          "2020-05-05T00:00:00",
          "2020-05-06T00:00:00",
          "2020-05-07T00:00:00",
          "2020-05-08T00:00:00"
         ],
         "xaxis": "x",
         "y": [
          242.6156910158149,
          242.92108652895638,
          242.9782710283351,
          242.01689617813295,
          246.2184351137378,
          246.76480570131613,
          247.25525319902124,
          249.8373433384572,
          250.4297445542375,
          250.9654482891584,
          250.72487058744122,
          252.1123193047899,
          255.63553518017483,
          257.66155392134385,
          257.7854539333467,
          259.6311570053165,
          260.2303732638629,
          260.8966908053076,
          263.76639116242956,
          262.53436687628295,
          262.8129303099889,
          262.8102986778849,
          264.59258075259095,
          267.5887932881738,
          271.41601120208236,
          271.78564247322487,
          269.456459567323,
          268.85190395324,
          272.7911548017642,
          270.63741069877346,
          267.93525436295045,
          266.1363642516834,
          261.6949168422731,
          261.7669443037636,
          261.1204334652782,
          258.1945162616715,
          256.6042096239928,
          256.5430236875218,
          256.6800389240577,
          256.1797246457522,
          255.74378188977943,
          255.57978105102242,
          255.69174393053953,
          255.93411045869254,
          255.93854709070985,
          254.50411792815572,
          252.3775549337804,
          251.7780416662231,
          252.96863429268262,
          253.54896481866862,
          254.56136432225054,
          257.4597596056744,
          256.472120058138,
          254.03995405814067,
          244.80430496266248,
          238.9569413434093,
          242.46350057362523,
          251.70674997066257,
          249.30407745089437,
          244.20470536261575,
          226.24753924877754,
          211.12652043024087,
          206.81806561791538,
          205.70345854293117,
          205.8765301732639,
          204.0494957904761,
          199.58834308210177,
          202.29625052426266,
          198.2068097355443,
          198.04534778049424,
          194.98912634031294,
          195.0290460150237,
          191.57916554107965,
          190.28907703932052,
          189.57421878204053,
          188.5901919263965,
          191.105584670097,
          198.5450794786812,
          203.8271725925998,
          208.6425980885592,
          207.89945228027116,
          204.8359214279205,
          204.91344421815862,
          209.7473463367943,
          206.62061975111948,
          201.97828377113098,
          198.29790814415117,
          192.67043264844105,
          192.98802884103927,
          193.62757990718706,
          192.4284066738823,
          192.33756797688406,
          193.25505765869943,
          196.6820782803391,
          199.60929481703195,
          199.40547356796583,
          197.98469538017054,
          197.8064391485534,
          197.72421841993238,
          196.80236926377978
         ],
         "yaxis": "y"
        },
        {
         "line": {
          "color": "blue"
         },
         "name": "lowBB",
         "opacity": 0.5,
         "type": "scatter",
         "x": [
          "2019-12-12T00:00:00",
          "2019-12-13T00:00:00",
          "2019-12-16T00:00:00",
          "2019-12-17T00:00:00",
          "2019-12-18T00:00:00",
          "2019-12-19T00:00:00",
          "2019-12-20T00:00:00",
          "2019-12-23T00:00:00",
          "2019-12-24T00:00:00",
          "2019-12-25T00:00:00",
          "2019-12-26T00:00:00",
          "2019-12-27T00:00:00",
          "2019-12-30T00:00:00",
          "2020-01-03T00:00:00",
          "2020-01-06T00:00:00",
          "2020-01-08T00:00:00",
          "2020-01-09T00:00:00",
          "2020-01-10T00:00:00",
          "2020-01-13T00:00:00",
          "2020-01-14T00:00:00",
          "2020-01-15T00:00:00",
          "2020-01-16T00:00:00",
          "2020-01-17T00:00:00",
          "2020-01-20T00:00:00",
          "2020-01-21T00:00:00",
          "2020-01-22T00:00:00",
          "2020-01-23T00:00:00",
          "2020-01-24T00:00:00",
          "2020-01-27T00:00:00",
          "2020-01-28T00:00:00",
          "2020-01-29T00:00:00",
          "2020-01-30T00:00:00",
          "2020-01-31T00:00:00",
          "2020-02-03T00:00:00",
          "2020-02-04T00:00:00",
          "2020-02-05T00:00:00",
          "2020-02-06T00:00:00",
          "2020-02-07T00:00:00",
          "2020-02-10T00:00:00",
          "2020-02-11T00:00:00",
          "2020-02-12T00:00:00",
          "2020-02-13T00:00:00",
          "2020-02-14T00:00:00",
          "2020-02-17T00:00:00",
          "2020-02-18T00:00:00",
          "2020-02-19T00:00:00",
          "2020-02-20T00:00:00",
          "2020-02-21T00:00:00",
          "2020-02-25T00:00:00",
          "2020-02-26T00:00:00",
          "2020-02-27T00:00:00",
          "2020-02-28T00:00:00",
          "2020-03-02T00:00:00",
          "2020-03-03T00:00:00",
          "2020-03-04T00:00:00",
          "2020-03-05T00:00:00",
          "2020-03-06T00:00:00",
          "2020-03-10T00:00:00",
          "2020-03-11T00:00:00",
          "2020-03-12T00:00:00",
          "2020-03-13T00:00:00",
          "2020-03-16T00:00:00",
          "2020-03-17T00:00:00",
          "2020-03-18T00:00:00",
          "2020-03-19T00:00:00",
          "2020-03-20T00:00:00",
          "2020-03-23T00:00:00",
          "2020-03-24T00:00:00",
          "2020-03-25T00:00:00",
          "2020-03-26T00:00:00",
          "2020-03-27T00:00:00",
          "2020-03-30T00:00:00",
          "2020-03-31T00:00:00",
          "2020-04-01T00:00:00",
          "2020-04-02T00:00:00",
          "2020-04-03T00:00:00",
          "2020-04-06T00:00:00",
          "2020-04-07T00:00:00",
          "2020-04-08T00:00:00",
          "2020-04-09T00:00:00",
          "2020-04-10T00:00:00",
          "2020-04-13T00:00:00",
          "2020-04-14T00:00:00",
          "2020-04-15T00:00:00",
          "2020-04-16T00:00:00",
          "2020-04-17T00:00:00",
          "2020-04-20T00:00:00",
          "2020-04-21T00:00:00",
          "2020-04-22T00:00:00",
          "2020-04-23T00:00:00",
          "2020-04-24T00:00:00",
          "2020-04-27T00:00:00",
          "2020-04-28T00:00:00",
          "2020-04-29T00:00:00",
          "2020-04-30T00:00:00",
          "2020-05-04T00:00:00",
          "2020-05-05T00:00:00",
          "2020-05-06T00:00:00",
          "2020-05-07T00:00:00",
          "2020-05-08T00:00:00"
         ],
         "xaxis": "x",
         "y": [
          233.9683089841854,
          236.0909134710439,
          237.7977289716652,
          240.23510382186734,
          238.38556488626259,
          239.01919429868425,
          239.92874680097913,
          240.28665666154316,
          242.52225544576285,
          242.72255171084188,
          244.65912941255908,
          246.21168069521033,
          245.06846481982546,
          245.5744460786564,
          247.7945460666536,
          250.31284299468376,
          252.0856267361374,
          252.79530919469258,
          252.8856088375707,
          256.17763312371727,
          254.76306969001138,
          254.57370132211537,
          254.51541924740923,
          253.07120671182625,
          252.84798879791776,
          256.57035752677524,
          261.38754043267716,
          263.18809604676017,
          254.864845198236,
          252.8745893012267,
          252.9367456370497,
          252.16763574831677,
          251.2930831577271,
          250.6890556962367,
          250.41556653472202,
          251.44548373832876,
          250.9557903760074,
          251.8569763124784,
          251.02796107594247,
          251.16827535424792,
          251.32421811022067,
          252.20021894897766,
          251.06825606946057,
          250.46588954130766,
          248.34145290929035,
          247.85588207184452,
          248.4864450662198,
          248.70595833377712,
          245.04736570731757,
          245.1070351813315,
          241.3666356777495,
          231.75224039432572,
          223.68787994186215,
          222.69604594185938,
          225.71969503733757,
          227.34705865659078,
          218.4924994263749,
          198.46125002933755,
          184.02392254910578,
          165.37929463738442,
          169.8444607512226,
          175.30947956975928,
          172.74193438208474,
          165.75254145706896,
          171.01946982673624,
          171.68250420952404,
          171.15165691789835,
          171.89574947573746,
          181.50919026445587,
          181.09465221950592,
          178.0268736596872,
          177.8389539849764,
          179.1168344589205,
          179.08692296067957,
          179.35378121795964,
          182.44180807360365,
          183.0064153299032,
          179.73492052131894,
          180.65682740740036,
          182.505401911441,
          189.78854771972905,
          195.87607857207965,
          195.69455578184156,
          185.1726536632059,
          182.25538024888067,
          182.8217162288692,
          182.926091855849,
          184.02556735155915,
          185.35997115896097,
          185.69642009281318,
          185.73959332611793,
          185.66243202311617,
          187.44494234130073,
          186.25792171966106,
          185.85470518296816,
          187.97052643203426,
          191.7313046198296,
          193.06956085144668,
          193.03578158006772,
          193.46563073622036
         ],
         "yaxis": "y"
        },
        {
         "line": {
          "color": "blue"
         },
         "name": "CCI",
         "opacity": 1,
         "type": "scatter",
         "x": [
          "2019-12-12T00:00:00",
          "2019-12-13T00:00:00",
          "2019-12-16T00:00:00",
          "2019-12-17T00:00:00",
          "2019-12-18T00:00:00",
          "2019-12-19T00:00:00",
          "2019-12-20T00:00:00",
          "2019-12-23T00:00:00",
          "2019-12-24T00:00:00",
          "2019-12-25T00:00:00",
          "2019-12-26T00:00:00",
          "2019-12-27T00:00:00",
          "2019-12-30T00:00:00",
          "2020-01-03T00:00:00",
          "2020-01-06T00:00:00",
          "2020-01-08T00:00:00",
          "2020-01-09T00:00:00",
          "2020-01-10T00:00:00",
          "2020-01-13T00:00:00",
          "2020-01-14T00:00:00",
          "2020-01-15T00:00:00",
          "2020-01-16T00:00:00",
          "2020-01-17T00:00:00",
          "2020-01-20T00:00:00",
          "2020-01-21T00:00:00",
          "2020-01-22T00:00:00",
          "2020-01-23T00:00:00",
          "2020-01-24T00:00:00",
          "2020-01-27T00:00:00",
          "2020-01-28T00:00:00",
          "2020-01-29T00:00:00",
          "2020-01-30T00:00:00",
          "2020-01-31T00:00:00",
          "2020-02-03T00:00:00",
          "2020-02-04T00:00:00",
          "2020-02-05T00:00:00",
          "2020-02-06T00:00:00",
          "2020-02-07T00:00:00",
          "2020-02-10T00:00:00",
          "2020-02-11T00:00:00",
          "2020-02-12T00:00:00",
          "2020-02-13T00:00:00",
          "2020-02-14T00:00:00",
          "2020-02-17T00:00:00",
          "2020-02-18T00:00:00",
          "2020-02-19T00:00:00",
          "2020-02-20T00:00:00",
          "2020-02-21T00:00:00",
          "2020-02-25T00:00:00",
          "2020-02-26T00:00:00",
          "2020-02-27T00:00:00",
          "2020-02-28T00:00:00",
          "2020-03-02T00:00:00",
          "2020-03-03T00:00:00",
          "2020-03-04T00:00:00",
          "2020-03-05T00:00:00",
          "2020-03-06T00:00:00",
          "2020-03-10T00:00:00",
          "2020-03-11T00:00:00",
          "2020-03-12T00:00:00",
          "2020-03-13T00:00:00",
          "2020-03-16T00:00:00",
          "2020-03-17T00:00:00",
          "2020-03-18T00:00:00",
          "2020-03-19T00:00:00",
          "2020-03-20T00:00:00",
          "2020-03-23T00:00:00",
          "2020-03-24T00:00:00",
          "2020-03-25T00:00:00",
          "2020-03-26T00:00:00",
          "2020-03-27T00:00:00",
          "2020-03-30T00:00:00",
          "2020-03-31T00:00:00",
          "2020-04-01T00:00:00",
          "2020-04-02T00:00:00",
          "2020-04-03T00:00:00",
          "2020-04-06T00:00:00",
          "2020-04-07T00:00:00",
          "2020-04-08T00:00:00",
          "2020-04-09T00:00:00",
          "2020-04-10T00:00:00",
          "2020-04-13T00:00:00",
          "2020-04-14T00:00:00",
          "2020-04-15T00:00:00",
          "2020-04-16T00:00:00",
          "2020-04-17T00:00:00",
          "2020-04-20T00:00:00",
          "2020-04-21T00:00:00",
          "2020-04-22T00:00:00",
          "2020-04-23T00:00:00",
          "2020-04-24T00:00:00",
          "2020-04-27T00:00:00",
          "2020-04-28T00:00:00",
          "2020-04-29T00:00:00",
          "2020-04-30T00:00:00",
          "2020-05-04T00:00:00",
          "2020-05-05T00:00:00",
          "2020-05-06T00:00:00",
          "2020-05-07T00:00:00",
          "2020-05-08T00:00:00"
         ],
         "xaxis": "x2",
         "y": [
          164.82322292519498,
          133.1601169210788,
          98.11874443221674,
          88.48912059133049,
          108.57025603611355,
          106.81762702407376,
          90.02700437657168,
          138.6921930964524,
          139.54904385881358,
          108.21003771395357,
          93.67514183652038,
          139.6569055583925,
          156.88986141502542,
          159.05803012998217,
          96.98880132724966,
          131.87082266225096,
          131.71633171633152,
          98.41269841269796,
          121.84327485380092,
          97.73317425784346,
          25.105438110129306,
          39.913095500488105,
          109.28422251756213,
          182.18283409498838,
          170.3269872173362,
          148.97202561509957,
          66.07655782871379,
          77.41881556400739,
          -81.61970972069761,
          -91.01558884584355,
          -35.04399968849671,
          -74.31587177482382,
          -112.57518930012077,
          -116.2207321571952,
          -73.12430011198191,
          -62.85564579512624,
          -75.57043183103819,
          -101.87653140500855,
          -74.4715966565522,
          13.040284761851058,
          -45.898842169410344,
          -48.01851316170165,
          -110.19881229021324,
          -154.34478904722047,
          -215.36111111111003,
          -140.744352348448,
          -83.16589592303148,
          -88.68437565362909,
          -162.4388308424824,
          -82.44355263691261,
          -154.6623852876247,
          -272.0978243608074,
          -217.89756847400736,
          -101.39479399259827,
          -88.00099507988323,
          -78.20600472720862,
          -145.98632109431242,
          -238.17977589655095,
          -177.31015422507977,
          -178.20989297694476,
          -102.67096148912485,
          -76.68195195400713,
          -69.37492778740598,
          -100.71397441192372,
          -66.00814723353777,
          -14.373057972470047,
          -57.97005463963862,
          0.16385851173735053,
          10.302748947176351,
          -16.00695954762968,
          -58.430005524125285,
          -100.92695587689958,
          -6.917231464366278,
          -37.86084057207977,
          3.202623836395972,
          -23.047696983867567,
          48.27517589368212,
          194.3144373080152,
          157.39013491822493,
          168.9795418565392,
          118.02787992816233,
          73.96601226041705,
          57.89802940256477,
          -40.97805788982224,
          -59.277365450424156,
          -36.398017736045695,
          -57.82897104951954,
          -105.60920484898324,
          -65.12492815363257,
          -36.649241361723575,
          -45.60411866359451,
          -41.59008870517803,
          17.995181041025642,
          121.00290987363816,
          211.7250247696918,
          90.30307610913572,
          90.34247175264979,
          86.28475461839703,
          80.37383177569994,
          57.796618826293134
         ],
         "yaxis": "y2"
        }
       ],
       "layout": {
        "annotations": [
         {
          "showarrow": true,
          "text": "DivBar",
          "x": "2020-02-11T00:00:00",
          "xanchor": "left",
          "xref": "x",
          "y": 259.77,
          "yref": "y"
         },
         {
          "showarrow": true,
          "text": "DivBar",
          "x": "2020-03-17T00:00:00",
          "xanchor": "left",
          "xref": "x",
          "y": 204.78,
          "yref": "y"
         },
         {
          "showarrow": true,
          "text": "DivBar",
          "x": "2020-03-25T00:00:00",
          "xanchor": "left",
          "xref": "x",
          "y": 201,
          "yref": "y"
         },
         {
          "showarrow": true,
          "text": "DivBar",
          "x": "2020-04-14T00:00:00",
          "xanchor": "left",
          "xref": "x",
          "y": 202.85,
          "yref": "y"
         },
         {
          "showarrow": true,
          "text": "DivBar",
          "x": "2020-05-07T00:00:00",
          "xanchor": "left",
          "xref": "x",
          "y": 198.15,
          "yref": "y"
         }
        ],
        "height": 800,
        "template": {
         "data": {
          "bar": [
           {
            "error_x": {
             "color": "#2a3f5f"
            },
            "error_y": {
             "color": "#2a3f5f"
            },
            "marker": {
             "line": {
              "color": "#E5ECF6",
              "width": 0.5
             }
            },
            "type": "bar"
           }
          ],
          "barpolar": [
           {
            "marker": {
             "line": {
              "color": "#E5ECF6",
              "width": 0.5
             }
            },
            "type": "barpolar"
           }
          ],
          "carpet": [
           {
            "aaxis": {
             "endlinecolor": "#2a3f5f",
             "gridcolor": "white",
             "linecolor": "white",
             "minorgridcolor": "white",
             "startlinecolor": "#2a3f5f"
            },
            "baxis": {
             "endlinecolor": "#2a3f5f",
             "gridcolor": "white",
             "linecolor": "white",
             "minorgridcolor": "white",
             "startlinecolor": "#2a3f5f"
            },
            "type": "carpet"
           }
          ],
          "choropleth": [
           {
            "colorbar": {
             "outlinewidth": 0,
             "ticks": ""
            },
            "type": "choropleth"
           }
          ],
          "contour": [
           {
            "colorbar": {
             "outlinewidth": 0,
             "ticks": ""
            },
            "colorscale": [
             [
              0,
              "#0d0887"
             ],
             [
              0.1111111111111111,
              "#46039f"
             ],
             [
              0.2222222222222222,
              "#7201a8"
             ],
             [
              0.3333333333333333,
              "#9c179e"
             ],
             [
              0.4444444444444444,
              "#bd3786"
             ],
             [
              0.5555555555555556,
              "#d8576b"
             ],
             [
              0.6666666666666666,
              "#ed7953"
             ],
             [
              0.7777777777777778,
              "#fb9f3a"
             ],
             [
              0.8888888888888888,
              "#fdca26"
             ],
             [
              1,
              "#f0f921"
             ]
            ],
            "type": "contour"
           }
          ],
          "contourcarpet": [
           {
            "colorbar": {
             "outlinewidth": 0,
             "ticks": ""
            },
            "type": "contourcarpet"
           }
          ],
          "heatmap": [
           {
            "colorbar": {
             "outlinewidth": 0,
             "ticks": ""
            },
            "colorscale": [
             [
              0,
              "#0d0887"
             ],
             [
              0.1111111111111111,
              "#46039f"
             ],
             [
              0.2222222222222222,
              "#7201a8"
             ],
             [
              0.3333333333333333,
              "#9c179e"
             ],
             [
              0.4444444444444444,
              "#bd3786"
             ],
             [
              0.5555555555555556,
              "#d8576b"
             ],
             [
              0.6666666666666666,
              "#ed7953"
             ],
             [
              0.7777777777777778,
              "#fb9f3a"
             ],
             [
              0.8888888888888888,
              "#fdca26"
             ],
             [
              1,
              "#f0f921"
             ]
            ],
            "type": "heatmap"
           }
          ],
          "heatmapgl": [
           {
            "colorbar": {
             "outlinewidth": 0,
             "ticks": ""
            },
            "colorscale": [
             [
              0,
              "#0d0887"
             ],
             [
              0.1111111111111111,
              "#46039f"
             ],
             [
              0.2222222222222222,
              "#7201a8"
             ],
             [
              0.3333333333333333,
              "#9c179e"
             ],
             [
              0.4444444444444444,
              "#bd3786"
             ],
             [
              0.5555555555555556,
              "#d8576b"
             ],
             [
              0.6666666666666666,
              "#ed7953"
             ],
             [
              0.7777777777777778,
              "#fb9f3a"
             ],
             [
              0.8888888888888888,
              "#fdca26"
             ],
             [
              1,
              "#f0f921"
             ]
            ],
            "type": "heatmapgl"
           }
          ],
          "histogram": [
           {
            "marker": {
             "colorbar": {
              "outlinewidth": 0,
              "ticks": ""
             }
            },
            "type": "histogram"
           }
          ],
          "histogram2d": [
           {
            "colorbar": {
             "outlinewidth": 0,
             "ticks": ""
            },
            "colorscale": [
             [
              0,
              "#0d0887"
             ],
             [
              0.1111111111111111,
              "#46039f"
             ],
             [
              0.2222222222222222,
              "#7201a8"
             ],
             [
              0.3333333333333333,
              "#9c179e"
             ],
             [
              0.4444444444444444,
              "#bd3786"
             ],
             [
              0.5555555555555556,
              "#d8576b"
             ],
             [
              0.6666666666666666,
              "#ed7953"
             ],
             [
              0.7777777777777778,
              "#fb9f3a"
             ],
             [
              0.8888888888888888,
              "#fdca26"
             ],
             [
              1,
              "#f0f921"
             ]
            ],
            "type": "histogram2d"
           }
          ],
          "histogram2dcontour": [
           {
            "colorbar": {
             "outlinewidth": 0,
             "ticks": ""
            },
            "colorscale": [
             [
              0,
              "#0d0887"
             ],
             [
              0.1111111111111111,
              "#46039f"
             ],
             [
              0.2222222222222222,
              "#7201a8"
             ],
             [
              0.3333333333333333,
              "#9c179e"
             ],
             [
              0.4444444444444444,
              "#bd3786"
             ],
             [
              0.5555555555555556,
              "#d8576b"
             ],
             [
              0.6666666666666666,
              "#ed7953"
             ],
             [
              0.7777777777777778,
              "#fb9f3a"
             ],
             [
              0.8888888888888888,
              "#fdca26"
             ],
             [
              1,
              "#f0f921"
             ]
            ],
            "type": "histogram2dcontour"
           }
          ],
          "mesh3d": [
           {
            "colorbar": {
             "outlinewidth": 0,
             "ticks": ""
            },
            "type": "mesh3d"
           }
          ],
          "parcoords": [
           {
            "line": {
             "colorbar": {
              "outlinewidth": 0,
              "ticks": ""
             }
            },
            "type": "parcoords"
           }
          ],
          "pie": [
           {
            "automargin": true,
            "type": "pie"
           }
          ],
          "scatter": [
           {
            "marker": {
             "colorbar": {
              "outlinewidth": 0,
              "ticks": ""
             }
            },
            "type": "scatter"
           }
          ],
          "scatter3d": [
           {
            "line": {
             "colorbar": {
              "outlinewidth": 0,
              "ticks": ""
             }
            },
            "marker": {
             "colorbar": {
              "outlinewidth": 0,
              "ticks": ""
             }
            },
            "type": "scatter3d"
           }
          ],
          "scattercarpet": [
           {
            "marker": {
             "colorbar": {
              "outlinewidth": 0,
              "ticks": ""
             }
            },
            "type": "scattercarpet"
           }
          ],
          "scattergeo": [
           {
            "marker": {
             "colorbar": {
              "outlinewidth": 0,
              "ticks": ""
             }
            },
            "type": "scattergeo"
           }
          ],
          "scattergl": [
           {
            "marker": {
             "colorbar": {
              "outlinewidth": 0,
              "ticks": ""
             }
            },
            "type": "scattergl"
           }
          ],
          "scattermapbox": [
           {
            "marker": {
             "colorbar": {
              "outlinewidth": 0,
              "ticks": ""
             }
            },
            "type": "scattermapbox"
           }
          ],
          "scatterpolar": [
           {
            "marker": {
             "colorbar": {
              "outlinewidth": 0,
              "ticks": ""
             }
            },
            "type": "scatterpolar"
           }
          ],
          "scatterpolargl": [
           {
            "marker": {
             "colorbar": {
              "outlinewidth": 0,
              "ticks": ""
             }
            },
            "type": "scatterpolargl"
           }
          ],
          "scatterternary": [
           {
            "marker": {
             "colorbar": {
              "outlinewidth": 0,
              "ticks": ""
             }
            },
            "type": "scatterternary"
           }
          ],
          "surface": [
           {
            "colorbar": {
             "outlinewidth": 0,
             "ticks": ""
            },
            "colorscale": [
             [
              0,
              "#0d0887"
             ],
             [
              0.1111111111111111,
              "#46039f"
             ],
             [
              0.2222222222222222,
              "#7201a8"
             ],
             [
              0.3333333333333333,
              "#9c179e"
             ],
             [
              0.4444444444444444,
              "#bd3786"
             ],
             [
              0.5555555555555556,
              "#d8576b"
             ],
             [
              0.6666666666666666,
              "#ed7953"
             ],
             [
              0.7777777777777778,
              "#fb9f3a"
             ],
             [
              0.8888888888888888,
              "#fdca26"
             ],
             [
              1,
              "#f0f921"
             ]
            ],
            "type": "surface"
           }
          ],
          "table": [
           {
            "cells": {
             "fill": {
              "color": "#EBF0F8"
             },
             "line": {
              "color": "white"
             }
            },
            "header": {
             "fill": {
              "color": "#C8D4E3"
             },
             "line": {
              "color": "white"
             }
            },
            "type": "table"
           }
          ]
         },
         "layout": {
          "annotationdefaults": {
           "arrowcolor": "#2a3f5f",
           "arrowhead": 0,
           "arrowwidth": 1
          },
          "coloraxis": {
           "colorbar": {
            "outlinewidth": 0,
            "ticks": ""
           }
          },
          "colorscale": {
           "diverging": [
            [
             0,
             "#8e0152"
            ],
            [
             0.1,
             "#c51b7d"
            ],
            [
             0.2,
             "#de77ae"
            ],
            [
             0.3,
             "#f1b6da"
            ],
            [
             0.4,
             "#fde0ef"
            ],
            [
             0.5,
             "#f7f7f7"
            ],
            [
             0.6,
             "#e6f5d0"
            ],
            [
             0.7,
             "#b8e186"
            ],
            [
             0.8,
             "#7fbc41"
            ],
            [
             0.9,
             "#4d9221"
            ],
            [
             1,
             "#276419"
            ]
           ],
           "sequential": [
            [
             0,
             "#0d0887"
            ],
            [
             0.1111111111111111,
             "#46039f"
            ],
            [
             0.2222222222222222,
             "#7201a8"
            ],
            [
             0.3333333333333333,
             "#9c179e"
            ],
            [
             0.4444444444444444,
             "#bd3786"
            ],
            [
             0.5555555555555556,
             "#d8576b"
            ],
            [
             0.6666666666666666,
             "#ed7953"
            ],
            [
             0.7777777777777778,
             "#fb9f3a"
            ],
            [
             0.8888888888888888,
             "#fdca26"
            ],
            [
             1,
             "#f0f921"
            ]
           ],
           "sequentialminus": [
            [
             0,
             "#0d0887"
            ],
            [
             0.1111111111111111,
             "#46039f"
            ],
            [
             0.2222222222222222,
             "#7201a8"
            ],
            [
             0.3333333333333333,
             "#9c179e"
            ],
            [
             0.4444444444444444,
             "#bd3786"
            ],
            [
             0.5555555555555556,
             "#d8576b"
            ],
            [
             0.6666666666666666,
             "#ed7953"
            ],
            [
             0.7777777777777778,
             "#fb9f3a"
            ],
            [
             0.8888888888888888,
             "#fdca26"
            ],
            [
             1,
             "#f0f921"
            ]
           ]
          },
          "colorway": [
           "#636efa",
           "#EF553B",
           "#00cc96",
           "#ab63fa",
           "#FFA15A",
           "#19d3f3",
           "#FF6692",
           "#B6E880",
           "#FF97FF",
           "#FECB52"
          ],
          "font": {
           "color": "#2a3f5f"
          },
          "geo": {
           "bgcolor": "white",
           "lakecolor": "white",
           "landcolor": "#E5ECF6",
           "showlakes": true,
           "showland": true,
           "subunitcolor": "white"
          },
          "hoverlabel": {
           "align": "left"
          },
          "hovermode": "closest",
          "mapbox": {
           "style": "light"
          },
          "paper_bgcolor": "white",
          "plot_bgcolor": "#E5ECF6",
          "polar": {
           "angularaxis": {
            "gridcolor": "white",
            "linecolor": "white",
            "ticks": ""
           },
           "bgcolor": "#E5ECF6",
           "radialaxis": {
            "gridcolor": "white",
            "linecolor": "white",
            "ticks": ""
           }
          },
          "scene": {
           "xaxis": {
            "backgroundcolor": "#E5ECF6",
            "gridcolor": "white",
            "gridwidth": 2,
            "linecolor": "white",
            "showbackground": true,
            "ticks": "",
            "zerolinecolor": "white"
           },
           "yaxis": {
            "backgroundcolor": "#E5ECF6",
            "gridcolor": "white",
            "gridwidth": 2,
            "linecolor": "white",
            "showbackground": true,
            "ticks": "",
            "zerolinecolor": "white"
           },
           "zaxis": {
            "backgroundcolor": "#E5ECF6",
            "gridcolor": "white",
            "gridwidth": 2,
            "linecolor": "white",
            "showbackground": true,
            "ticks": "",
            "zerolinecolor": "white"
           }
          },
          "shapedefaults": {
           "line": {
            "color": "#2a3f5f"
           }
          },
          "ternary": {
           "aaxis": {
            "gridcolor": "white",
            "linecolor": "white",
            "ticks": ""
           },
           "baxis": {
            "gridcolor": "white",
            "linecolor": "white",
            "ticks": ""
           },
           "bgcolor": "#E5ECF6",
           "caxis": {
            "gridcolor": "white",
            "linecolor": "white",
            "ticks": ""
           }
          },
          "title": {
           "x": 0.05
          },
          "xaxis": {
           "automargin": true,
           "gridcolor": "white",
           "linecolor": "white",
           "ticks": "",
           "title": {
            "standoff": 15
           },
           "zerolinecolor": "white",
           "zerolinewidth": 2
          },
          "yaxis": {
           "automargin": true,
           "gridcolor": "white",
           "linecolor": "white",
           "ticks": "",
           "title": {
            "standoff": 15
           },
           "zerolinecolor": "white",
           "zerolinewidth": 2
          }
         }
        },
        "title": {
         "text": "График тикера SBER"
        },
        "width": 1000,
        "xaxis": {
         "anchor": "y",
         "domain": [
          0,
          1
         ],
         "matches": "x2",
         "rangeslider": {
          "visible": false
         },
         "showticklabels": false
        },
        "xaxis2": {
         "anchor": "y2",
         "domain": [
          0,
          1
         ]
        },
        "yaxis": {
         "anchor": "x",
         "domain": [
          0.41200000000000003,
          1
         ],
         "title": {
          "text": "Цена"
         }
        },
        "yaxis2": {
         "anchor": "x2",
         "domain": [
          0,
          0.392
         ],
         "title": {
          "text": "CCI"
         }
        }
       }
      },
      "text/html": [
       "<div>\n",
       "        \n",
       "        \n",
       "            <div id=\"a6162429-217f-478f-99ef-6acd740607b7\" class=\"plotly-graph-div\" style=\"height:800px; width:1000px;\"></div>\n",
       "            <script type=\"text/javascript\">\n",
       "                require([\"plotly\"], function(Plotly) {\n",
       "                    window.PLOTLYENV=window.PLOTLYENV || {};\n",
       "                    \n",
       "                if (document.getElementById(\"a6162429-217f-478f-99ef-6acd740607b7\")) {\n",
       "                    Plotly.newPlot(\n",
       "                        'a6162429-217f-478f-99ef-6acd740607b7',\n",
       "                        [{\"close\": [241.05, 241.21, 241.45, 241.6, 246.2, 244.0, 244.71, 248.8, 248.67, 248.04, 248.24, 252.06, 254.75, 255.0, 253.9, 259.15, 257.99, 258.19, 262.4, 259.05, 256.31, 257.51, 262.5, 266.28, 268.06, 266.54, 263.73, 265.49, 255.32, 257.7, 259.94, 257.31, 252.2, 253.99, 255.4, 255.2, 252.11, 254.3, 252.26, 254.5, 254.5, 253.89, 251.75, 251.36, 249.2, 249.7, 250.15, 250.8, 245.19, 250.8, 242.88, 233.36, 228.17, 236.63, 235.27, 232.33, 219.99, 201.2, 194.53, 175.91, 198.6, 195.85, 184.01, 174.27, 189.51, 195.69, 183.37, 192.64, 188.08, 188.07, 180.38, 183.0, 187.21, 184.78, 186.95, 185.64, 190.7, 197.63, 200.29, 203.61, 201.99, 198.26, 197.37, 186.07, 188.5, 191.8, 189.32, 186.05, 190.2, 190.94, 188.91, 188.9, 192.8, 195.8, 197.25, 193.69, 194.75, 195.7, 195.51, 196.02], \"high\": [242.3, 243.25, 242.48, 242.96, 246.25, 248.4, 245.4, 249.19, 249.89, 249.3, 249.24, 252.95, 256.0, 258.19, 254.84, 259.15, 261.76, 259.25, 262.4, 263.22, 258.91, 259.51, 262.82, 266.97, 268.9, 270.8, 266.89, 267.5, 262.1, 258.84, 261.57, 258.69, 259.2, 254.96, 257.38, 257.66, 258.0, 254.3, 255.73, 259.77, 255.49, 255.18, 254.4, 253.1, 250.44, 250.68, 252.17, 251.49, 249.0, 251.21, 248.98, 239.0, 241.0, 239.0, 236.7, 238.72, 229.2, 212.74, 204.33, 187.87, 199.52, 196.7, 204.78, 182.2, 190.15, 201.86, 190.99, 195.0, 201.0, 191.2, 188.97, 183.2, 188.77, 185.47, 189.9, 187.49, 192.02, 200.54, 200.29, 205.44, 202.75, 202.16, 202.85, 196.25, 191.67, 192.7, 192.23, 187.5, 191.94, 192.5, 191.65, 190.5, 194.22, 195.8, 199.7, 195.68, 196.46, 197.23, 198.15, 196.25], \"low\": [240.09, 241.1, 240.13, 241.0, 240.36, 243.1, 243.72, 244.07, 247.27, 247.11, 246.71, 248.55, 250.73, 253.7, 251.4, 253.03, 257.01, 256.88, 257.15, 258.62, 254.21, 256.1, 257.75, 261.8, 263.02, 265.5, 262.24, 264.21, 255.32, 254.1, 257.61, 255.27, 252.17, 251.1, 252.9, 253.14, 251.86, 248.73, 252.07, 253.0, 252.31, 252.5, 251.4, 250.13, 247.57, 247.95, 249.13, 247.24, 245.17, 243.22, 242.0, 231.0, 218.86, 232.28, 232.62, 230.64, 216.67, 184.86, 192.05, 173.14, 174.3, 186.0, 183.8, 172.15, 173.06, 192.05, 182.1, 189.1, 182.32, 182.8, 180.17, 174.9, 184.25, 182.0, 182.0, 184.28, 186.42, 193.02, 195.12, 199.3, 200.7, 197.32, 196.1, 186.06, 183.53, 188.28, 187.31, 183.65, 184.5, 188.68, 187.7, 188.43, 188.17, 192.86, 195.46, 193.26, 194.0, 194.3, 195.06, 194.6], \"name\": \"SBER\", \"open\": [242.0, 242.0, 242.48, 241.8, 241.3, 246.2, 244.6, 244.71, 248.8, 248.99, 248.2, 248.55, 252.1, 255.99, 254.75, 253.57, 259.4, 257.86, 258.3, 262.5, 258.49, 257.11, 258.2, 263.2, 265.5, 268.72, 264.64, 264.5, 261.0, 257.0, 258.4, 258.0, 258.5, 251.8, 255.3, 255.89, 256.5, 253.1, 254.55, 253.75, 255.4, 253.62, 254.4, 252.5, 250.07, 250.37, 250.03, 248.35, 247.98, 244.75, 247.5, 235.0, 238.93, 233.0, 234.13, 237.0, 228.0, 197.99, 202.0, 185.15, 175.0, 194.0, 195.0, 179.0, 178.5, 198.62, 188.0, 193.3, 196.38, 187.69, 188.05, 177.0, 186.0, 183.2, 188.3, 186.6, 187.52, 193.02, 196.02, 202.4, 201.85, 202.0, 199.99, 196.0, 187.22, 192.5, 190.6, 185.54, 185.01, 191.99, 189.73, 189.98, 188.5, 194.46, 196.51, 195.68, 195.51, 195.0, 196.0, 196.0], \"type\": \"candlestick\", \"x\": [\"2019-12-12T00:00:00\", \"2019-12-13T00:00:00\", \"2019-12-16T00:00:00\", \"2019-12-17T00:00:00\", \"2019-12-18T00:00:00\", \"2019-12-19T00:00:00\", \"2019-12-20T00:00:00\", \"2019-12-23T00:00:00\", \"2019-12-24T00:00:00\", \"2019-12-25T00:00:00\", \"2019-12-26T00:00:00\", \"2019-12-27T00:00:00\", \"2019-12-30T00:00:00\", \"2020-01-03T00:00:00\", \"2020-01-06T00:00:00\", \"2020-01-08T00:00:00\", \"2020-01-09T00:00:00\", \"2020-01-10T00:00:00\", \"2020-01-13T00:00:00\", \"2020-01-14T00:00:00\", \"2020-01-15T00:00:00\", \"2020-01-16T00:00:00\", \"2020-01-17T00:00:00\", \"2020-01-20T00:00:00\", \"2020-01-21T00:00:00\", \"2020-01-22T00:00:00\", \"2020-01-23T00:00:00\", \"2020-01-24T00:00:00\", \"2020-01-27T00:00:00\", \"2020-01-28T00:00:00\", \"2020-01-29T00:00:00\", \"2020-01-30T00:00:00\", \"2020-01-31T00:00:00\", \"2020-02-03T00:00:00\", \"2020-02-04T00:00:00\", \"2020-02-05T00:00:00\", \"2020-02-06T00:00:00\", \"2020-02-07T00:00:00\", \"2020-02-10T00:00:00\", \"2020-02-11T00:00:00\", \"2020-02-12T00:00:00\", \"2020-02-13T00:00:00\", \"2020-02-14T00:00:00\", \"2020-02-17T00:00:00\", \"2020-02-18T00:00:00\", \"2020-02-19T00:00:00\", \"2020-02-20T00:00:00\", \"2020-02-21T00:00:00\", \"2020-02-25T00:00:00\", \"2020-02-26T00:00:00\", \"2020-02-27T00:00:00\", \"2020-02-28T00:00:00\", \"2020-03-02T00:00:00\", \"2020-03-03T00:00:00\", \"2020-03-04T00:00:00\", \"2020-03-05T00:00:00\", \"2020-03-06T00:00:00\", \"2020-03-10T00:00:00\", \"2020-03-11T00:00:00\", \"2020-03-12T00:00:00\", \"2020-03-13T00:00:00\", \"2020-03-16T00:00:00\", \"2020-03-17T00:00:00\", \"2020-03-18T00:00:00\", \"2020-03-19T00:00:00\", \"2020-03-20T00:00:00\", \"2020-03-23T00:00:00\", \"2020-03-24T00:00:00\", \"2020-03-25T00:00:00\", \"2020-03-26T00:00:00\", \"2020-03-27T00:00:00\", \"2020-03-30T00:00:00\", \"2020-03-31T00:00:00\", \"2020-04-01T00:00:00\", \"2020-04-02T00:00:00\", \"2020-04-03T00:00:00\", \"2020-04-06T00:00:00\", \"2020-04-07T00:00:00\", \"2020-04-08T00:00:00\", \"2020-04-09T00:00:00\", \"2020-04-10T00:00:00\", \"2020-04-13T00:00:00\", \"2020-04-14T00:00:00\", \"2020-04-15T00:00:00\", \"2020-04-16T00:00:00\", \"2020-04-17T00:00:00\", \"2020-04-20T00:00:00\", \"2020-04-21T00:00:00\", \"2020-04-22T00:00:00\", \"2020-04-23T00:00:00\", \"2020-04-24T00:00:00\", \"2020-04-27T00:00:00\", \"2020-04-28T00:00:00\", \"2020-04-29T00:00:00\", \"2020-04-30T00:00:00\", \"2020-05-04T00:00:00\", \"2020-05-05T00:00:00\", \"2020-05-06T00:00:00\", \"2020-05-07T00:00:00\", \"2020-05-08T00:00:00\"], \"xaxis\": \"x\", \"yaxis\": \"y\"}, {\"line\": {\"color\": \"blue\"}, \"name\": \"upBB\", \"opacity\": 0.5, \"type\": \"scatter\", \"x\": [\"2019-12-12T00:00:00\", \"2019-12-13T00:00:00\", \"2019-12-16T00:00:00\", \"2019-12-17T00:00:00\", \"2019-12-18T00:00:00\", \"2019-12-19T00:00:00\", \"2019-12-20T00:00:00\", \"2019-12-23T00:00:00\", \"2019-12-24T00:00:00\", \"2019-12-25T00:00:00\", \"2019-12-26T00:00:00\", \"2019-12-27T00:00:00\", \"2019-12-30T00:00:00\", \"2020-01-03T00:00:00\", \"2020-01-06T00:00:00\", \"2020-01-08T00:00:00\", \"2020-01-09T00:00:00\", \"2020-01-10T00:00:00\", \"2020-01-13T00:00:00\", \"2020-01-14T00:00:00\", \"2020-01-15T00:00:00\", \"2020-01-16T00:00:00\", \"2020-01-17T00:00:00\", \"2020-01-20T00:00:00\", \"2020-01-21T00:00:00\", \"2020-01-22T00:00:00\", \"2020-01-23T00:00:00\", \"2020-01-24T00:00:00\", \"2020-01-27T00:00:00\", \"2020-01-28T00:00:00\", \"2020-01-29T00:00:00\", \"2020-01-30T00:00:00\", \"2020-01-31T00:00:00\", \"2020-02-03T00:00:00\", \"2020-02-04T00:00:00\", \"2020-02-05T00:00:00\", \"2020-02-06T00:00:00\", \"2020-02-07T00:00:00\", \"2020-02-10T00:00:00\", \"2020-02-11T00:00:00\", \"2020-02-12T00:00:00\", \"2020-02-13T00:00:00\", \"2020-02-14T00:00:00\", \"2020-02-17T00:00:00\", \"2020-02-18T00:00:00\", \"2020-02-19T00:00:00\", \"2020-02-20T00:00:00\", \"2020-02-21T00:00:00\", \"2020-02-25T00:00:00\", \"2020-02-26T00:00:00\", \"2020-02-27T00:00:00\", \"2020-02-28T00:00:00\", \"2020-03-02T00:00:00\", \"2020-03-03T00:00:00\", \"2020-03-04T00:00:00\", \"2020-03-05T00:00:00\", \"2020-03-06T00:00:00\", \"2020-03-10T00:00:00\", \"2020-03-11T00:00:00\", \"2020-03-12T00:00:00\", \"2020-03-13T00:00:00\", \"2020-03-16T00:00:00\", \"2020-03-17T00:00:00\", \"2020-03-18T00:00:00\", \"2020-03-19T00:00:00\", \"2020-03-20T00:00:00\", \"2020-03-23T00:00:00\", \"2020-03-24T00:00:00\", \"2020-03-25T00:00:00\", \"2020-03-26T00:00:00\", \"2020-03-27T00:00:00\", \"2020-03-30T00:00:00\", \"2020-03-31T00:00:00\", \"2020-04-01T00:00:00\", \"2020-04-02T00:00:00\", \"2020-04-03T00:00:00\", \"2020-04-06T00:00:00\", \"2020-04-07T00:00:00\", \"2020-04-08T00:00:00\", \"2020-04-09T00:00:00\", \"2020-04-10T00:00:00\", \"2020-04-13T00:00:00\", \"2020-04-14T00:00:00\", \"2020-04-15T00:00:00\", \"2020-04-16T00:00:00\", \"2020-04-17T00:00:00\", \"2020-04-20T00:00:00\", \"2020-04-21T00:00:00\", \"2020-04-22T00:00:00\", \"2020-04-23T00:00:00\", \"2020-04-24T00:00:00\", \"2020-04-27T00:00:00\", \"2020-04-28T00:00:00\", \"2020-04-29T00:00:00\", \"2020-04-30T00:00:00\", \"2020-05-04T00:00:00\", \"2020-05-05T00:00:00\", \"2020-05-06T00:00:00\", \"2020-05-07T00:00:00\", \"2020-05-08T00:00:00\"], \"xaxis\": \"x\", \"y\": [242.6156910158149, 242.92108652895638, 242.9782710283351, 242.01689617813295, 246.2184351137378, 246.76480570131613, 247.25525319902124, 249.8373433384572, 250.4297445542375, 250.9654482891584, 250.72487058744122, 252.1123193047899, 255.63553518017483, 257.66155392134385, 257.7854539333467, 259.6311570053165, 260.2303732638629, 260.8966908053076, 263.76639116242956, 262.53436687628295, 262.8129303099889, 262.8102986778849, 264.59258075259095, 267.5887932881738, 271.41601120208236, 271.78564247322487, 269.456459567323, 268.85190395324, 272.7911548017642, 270.63741069877346, 267.93525436295045, 266.1363642516834, 261.6949168422731, 261.7669443037636, 261.1204334652782, 258.1945162616715, 256.6042096239928, 256.5430236875218, 256.6800389240577, 256.1797246457522, 255.74378188977943, 255.57978105102242, 255.69174393053953, 255.93411045869254, 255.93854709070985, 254.50411792815572, 252.3775549337804, 251.7780416662231, 252.96863429268262, 253.54896481866862, 254.56136432225054, 257.4597596056744, 256.472120058138, 254.03995405814067, 244.80430496266248, 238.9569413434093, 242.46350057362523, 251.70674997066257, 249.30407745089437, 244.20470536261575, 226.24753924877754, 211.12652043024087, 206.81806561791538, 205.70345854293117, 205.8765301732639, 204.0494957904761, 199.58834308210177, 202.29625052426266, 198.2068097355443, 198.04534778049424, 194.98912634031294, 195.0290460150237, 191.57916554107965, 190.28907703932052, 189.57421878204053, 188.5901919263965, 191.105584670097, 198.5450794786812, 203.8271725925998, 208.6425980885592, 207.89945228027116, 204.8359214279205, 204.91344421815862, 209.7473463367943, 206.62061975111948, 201.97828377113098, 198.29790814415117, 192.67043264844105, 192.98802884103927, 193.62757990718706, 192.4284066738823, 192.33756797688406, 193.25505765869943, 196.6820782803391, 199.60929481703195, 199.40547356796583, 197.98469538017054, 197.8064391485534, 197.72421841993238, 196.80236926377978], \"yaxis\": \"y\"}, {\"line\": {\"color\": \"blue\"}, \"name\": \"lowBB\", \"opacity\": 0.5, \"type\": \"scatter\", \"x\": [\"2019-12-12T00:00:00\", \"2019-12-13T00:00:00\", \"2019-12-16T00:00:00\", \"2019-12-17T00:00:00\", \"2019-12-18T00:00:00\", \"2019-12-19T00:00:00\", \"2019-12-20T00:00:00\", \"2019-12-23T00:00:00\", \"2019-12-24T00:00:00\", \"2019-12-25T00:00:00\", \"2019-12-26T00:00:00\", \"2019-12-27T00:00:00\", \"2019-12-30T00:00:00\", \"2020-01-03T00:00:00\", \"2020-01-06T00:00:00\", \"2020-01-08T00:00:00\", \"2020-01-09T00:00:00\", \"2020-01-10T00:00:00\", \"2020-01-13T00:00:00\", \"2020-01-14T00:00:00\", \"2020-01-15T00:00:00\", \"2020-01-16T00:00:00\", \"2020-01-17T00:00:00\", \"2020-01-20T00:00:00\", \"2020-01-21T00:00:00\", \"2020-01-22T00:00:00\", \"2020-01-23T00:00:00\", \"2020-01-24T00:00:00\", \"2020-01-27T00:00:00\", \"2020-01-28T00:00:00\", \"2020-01-29T00:00:00\", \"2020-01-30T00:00:00\", \"2020-01-31T00:00:00\", \"2020-02-03T00:00:00\", \"2020-02-04T00:00:00\", \"2020-02-05T00:00:00\", \"2020-02-06T00:00:00\", \"2020-02-07T00:00:00\", \"2020-02-10T00:00:00\", \"2020-02-11T00:00:00\", \"2020-02-12T00:00:00\", \"2020-02-13T00:00:00\", \"2020-02-14T00:00:00\", \"2020-02-17T00:00:00\", \"2020-02-18T00:00:00\", \"2020-02-19T00:00:00\", \"2020-02-20T00:00:00\", \"2020-02-21T00:00:00\", \"2020-02-25T00:00:00\", \"2020-02-26T00:00:00\", \"2020-02-27T00:00:00\", \"2020-02-28T00:00:00\", \"2020-03-02T00:00:00\", \"2020-03-03T00:00:00\", \"2020-03-04T00:00:00\", \"2020-03-05T00:00:00\", \"2020-03-06T00:00:00\", \"2020-03-10T00:00:00\", \"2020-03-11T00:00:00\", \"2020-03-12T00:00:00\", \"2020-03-13T00:00:00\", \"2020-03-16T00:00:00\", \"2020-03-17T00:00:00\", \"2020-03-18T00:00:00\", \"2020-03-19T00:00:00\", \"2020-03-20T00:00:00\", \"2020-03-23T00:00:00\", \"2020-03-24T00:00:00\", \"2020-03-25T00:00:00\", \"2020-03-26T00:00:00\", \"2020-03-27T00:00:00\", \"2020-03-30T00:00:00\", \"2020-03-31T00:00:00\", \"2020-04-01T00:00:00\", \"2020-04-02T00:00:00\", \"2020-04-03T00:00:00\", \"2020-04-06T00:00:00\", \"2020-04-07T00:00:00\", \"2020-04-08T00:00:00\", \"2020-04-09T00:00:00\", \"2020-04-10T00:00:00\", \"2020-04-13T00:00:00\", \"2020-04-14T00:00:00\", \"2020-04-15T00:00:00\", \"2020-04-16T00:00:00\", \"2020-04-17T00:00:00\", \"2020-04-20T00:00:00\", \"2020-04-21T00:00:00\", \"2020-04-22T00:00:00\", \"2020-04-23T00:00:00\", \"2020-04-24T00:00:00\", \"2020-04-27T00:00:00\", \"2020-04-28T00:00:00\", \"2020-04-29T00:00:00\", \"2020-04-30T00:00:00\", \"2020-05-04T00:00:00\", \"2020-05-05T00:00:00\", \"2020-05-06T00:00:00\", \"2020-05-07T00:00:00\", \"2020-05-08T00:00:00\"], \"xaxis\": \"x\", \"y\": [233.9683089841854, 236.0909134710439, 237.7977289716652, 240.23510382186734, 238.38556488626259, 239.01919429868425, 239.92874680097913, 240.28665666154316, 242.52225544576285, 242.72255171084188, 244.65912941255908, 246.21168069521033, 245.06846481982546, 245.5744460786564, 247.7945460666536, 250.31284299468376, 252.0856267361374, 252.79530919469258, 252.8856088375707, 256.17763312371727, 254.76306969001138, 254.57370132211537, 254.51541924740923, 253.07120671182625, 252.84798879791776, 256.57035752677524, 261.38754043267716, 263.18809604676017, 254.864845198236, 252.8745893012267, 252.9367456370497, 252.16763574831677, 251.2930831577271, 250.6890556962367, 250.41556653472202, 251.44548373832876, 250.9557903760074, 251.8569763124784, 251.02796107594247, 251.16827535424792, 251.32421811022067, 252.20021894897766, 251.06825606946057, 250.46588954130766, 248.34145290929035, 247.85588207184452, 248.4864450662198, 248.70595833377712, 245.04736570731757, 245.1070351813315, 241.3666356777495, 231.75224039432572, 223.68787994186215, 222.69604594185938, 225.71969503733757, 227.34705865659078, 218.4924994263749, 198.46125002933755, 184.02392254910578, 165.37929463738442, 169.8444607512226, 175.30947956975928, 172.74193438208474, 165.75254145706896, 171.01946982673624, 171.68250420952404, 171.15165691789835, 171.89574947573746, 181.50919026445587, 181.09465221950592, 178.0268736596872, 177.8389539849764, 179.1168344589205, 179.08692296067957, 179.35378121795964, 182.44180807360365, 183.0064153299032, 179.73492052131894, 180.65682740740036, 182.505401911441, 189.78854771972905, 195.87607857207965, 195.69455578184156, 185.1726536632059, 182.25538024888067, 182.8217162288692, 182.926091855849, 184.02556735155915, 185.35997115896097, 185.69642009281318, 185.73959332611793, 185.66243202311617, 187.44494234130073, 186.25792171966106, 185.85470518296816, 187.97052643203426, 191.7313046198296, 193.06956085144668, 193.03578158006772, 193.46563073622036], \"yaxis\": \"y\"}, {\"line\": {\"color\": \"blue\"}, \"name\": \"CCI\", \"opacity\": 1, \"type\": \"scatter\", \"x\": [\"2019-12-12T00:00:00\", \"2019-12-13T00:00:00\", \"2019-12-16T00:00:00\", \"2019-12-17T00:00:00\", \"2019-12-18T00:00:00\", \"2019-12-19T00:00:00\", \"2019-12-20T00:00:00\", \"2019-12-23T00:00:00\", \"2019-12-24T00:00:00\", \"2019-12-25T00:00:00\", \"2019-12-26T00:00:00\", \"2019-12-27T00:00:00\", \"2019-12-30T00:00:00\", \"2020-01-03T00:00:00\", \"2020-01-06T00:00:00\", \"2020-01-08T00:00:00\", \"2020-01-09T00:00:00\", \"2020-01-10T00:00:00\", \"2020-01-13T00:00:00\", \"2020-01-14T00:00:00\", \"2020-01-15T00:00:00\", \"2020-01-16T00:00:00\", \"2020-01-17T00:00:00\", \"2020-01-20T00:00:00\", \"2020-01-21T00:00:00\", \"2020-01-22T00:00:00\", \"2020-01-23T00:00:00\", \"2020-01-24T00:00:00\", \"2020-01-27T00:00:00\", \"2020-01-28T00:00:00\", \"2020-01-29T00:00:00\", \"2020-01-30T00:00:00\", \"2020-01-31T00:00:00\", \"2020-02-03T00:00:00\", \"2020-02-04T00:00:00\", \"2020-02-05T00:00:00\", \"2020-02-06T00:00:00\", \"2020-02-07T00:00:00\", \"2020-02-10T00:00:00\", \"2020-02-11T00:00:00\", \"2020-02-12T00:00:00\", \"2020-02-13T00:00:00\", \"2020-02-14T00:00:00\", \"2020-02-17T00:00:00\", \"2020-02-18T00:00:00\", \"2020-02-19T00:00:00\", \"2020-02-20T00:00:00\", \"2020-02-21T00:00:00\", \"2020-02-25T00:00:00\", \"2020-02-26T00:00:00\", \"2020-02-27T00:00:00\", \"2020-02-28T00:00:00\", \"2020-03-02T00:00:00\", \"2020-03-03T00:00:00\", \"2020-03-04T00:00:00\", \"2020-03-05T00:00:00\", \"2020-03-06T00:00:00\", \"2020-03-10T00:00:00\", \"2020-03-11T00:00:00\", \"2020-03-12T00:00:00\", \"2020-03-13T00:00:00\", \"2020-03-16T00:00:00\", \"2020-03-17T00:00:00\", \"2020-03-18T00:00:00\", \"2020-03-19T00:00:00\", \"2020-03-20T00:00:00\", \"2020-03-23T00:00:00\", \"2020-03-24T00:00:00\", \"2020-03-25T00:00:00\", \"2020-03-26T00:00:00\", \"2020-03-27T00:00:00\", \"2020-03-30T00:00:00\", \"2020-03-31T00:00:00\", \"2020-04-01T00:00:00\", \"2020-04-02T00:00:00\", \"2020-04-03T00:00:00\", \"2020-04-06T00:00:00\", \"2020-04-07T00:00:00\", \"2020-04-08T00:00:00\", \"2020-04-09T00:00:00\", \"2020-04-10T00:00:00\", \"2020-04-13T00:00:00\", \"2020-04-14T00:00:00\", \"2020-04-15T00:00:00\", \"2020-04-16T00:00:00\", \"2020-04-17T00:00:00\", \"2020-04-20T00:00:00\", \"2020-04-21T00:00:00\", \"2020-04-22T00:00:00\", \"2020-04-23T00:00:00\", \"2020-04-24T00:00:00\", \"2020-04-27T00:00:00\", \"2020-04-28T00:00:00\", \"2020-04-29T00:00:00\", \"2020-04-30T00:00:00\", \"2020-05-04T00:00:00\", \"2020-05-05T00:00:00\", \"2020-05-06T00:00:00\", \"2020-05-07T00:00:00\", \"2020-05-08T00:00:00\"], \"xaxis\": \"x2\", \"y\": [164.82322292519498, 133.1601169210788, 98.11874443221674, 88.48912059133049, 108.57025603611355, 106.81762702407376, 90.02700437657168, 138.6921930964524, 139.54904385881358, 108.21003771395357, 93.67514183652038, 139.6569055583925, 156.88986141502542, 159.05803012998217, 96.98880132724966, 131.87082266225096, 131.71633171633152, 98.41269841269796, 121.84327485380092, 97.73317425784346, 25.105438110129306, 39.913095500488105, 109.28422251756213, 182.18283409498838, 170.3269872173362, 148.97202561509957, 66.07655782871379, 77.41881556400739, -81.61970972069761, -91.01558884584355, -35.04399968849671, -74.31587177482382, -112.57518930012077, -116.2207321571952, -73.12430011198191, -62.85564579512624, -75.57043183103819, -101.87653140500855, -74.4715966565522, 13.040284761851058, -45.898842169410344, -48.01851316170165, -110.19881229021324, -154.34478904722047, -215.36111111111003, -140.744352348448, -83.16589592303148, -88.68437565362909, -162.4388308424824, -82.44355263691261, -154.6623852876247, -272.0978243608074, -217.89756847400736, -101.39479399259827, -88.00099507988323, -78.20600472720862, -145.98632109431242, -238.17977589655095, -177.31015422507977, -178.20989297694476, -102.67096148912485, -76.68195195400713, -69.37492778740598, -100.71397441192372, -66.00814723353777, -14.373057972470047, -57.97005463963862, 0.16385851173735053, 10.302748947176351, -16.00695954762968, -58.430005524125285, -100.92695587689958, -6.917231464366278, -37.86084057207977, 3.202623836395972, -23.047696983867567, 48.27517589368212, 194.3144373080152, 157.39013491822493, 168.9795418565392, 118.02787992816233, 73.96601226041705, 57.89802940256477, -40.97805788982224, -59.277365450424156, -36.398017736045695, -57.82897104951954, -105.60920484898324, -65.12492815363257, -36.649241361723575, -45.60411866359451, -41.59008870517803, 17.995181041025642, 121.00290987363816, 211.7250247696918, 90.30307610913572, 90.34247175264979, 86.28475461839703, 80.37383177569994, 57.796618826293134], \"yaxis\": \"y2\"}],\n",
       "                        {\"annotations\": [{\"showarrow\": true, \"text\": \"DivBar\", \"x\": \"2020-02-11T00:00:00\", \"xanchor\": \"left\", \"xref\": \"x\", \"y\": 259.77, \"yref\": \"y\"}, {\"showarrow\": true, \"text\": \"DivBar\", \"x\": \"2020-03-17T00:00:00\", \"xanchor\": \"left\", \"xref\": \"x\", \"y\": 204.78, \"yref\": \"y\"}, {\"showarrow\": true, \"text\": \"DivBar\", \"x\": \"2020-03-25T00:00:00\", \"xanchor\": \"left\", \"xref\": \"x\", \"y\": 201.0, \"yref\": \"y\"}, {\"showarrow\": true, \"text\": \"DivBar\", \"x\": \"2020-04-14T00:00:00\", \"xanchor\": \"left\", \"xref\": \"x\", \"y\": 202.85, \"yref\": \"y\"}, {\"showarrow\": true, \"text\": \"DivBar\", \"x\": \"2020-05-07T00:00:00\", \"xanchor\": \"left\", \"xref\": \"x\", \"y\": 198.15, \"yref\": \"y\"}], \"height\": 800, \"template\": {\"data\": {\"bar\": [{\"error_x\": {\"color\": \"#2a3f5f\"}, \"error_y\": {\"color\": \"#2a3f5f\"}, \"marker\": {\"line\": {\"color\": \"#E5ECF6\", \"width\": 0.5}}, \"type\": \"bar\"}], \"barpolar\": [{\"marker\": {\"line\": {\"color\": \"#E5ECF6\", \"width\": 0.5}}, \"type\": \"barpolar\"}], \"carpet\": [{\"aaxis\": {\"endlinecolor\": \"#2a3f5f\", \"gridcolor\": \"white\", \"linecolor\": \"white\", \"minorgridcolor\": \"white\", \"startlinecolor\": \"#2a3f5f\"}, \"baxis\": {\"endlinecolor\": \"#2a3f5f\", \"gridcolor\": \"white\", \"linecolor\": \"white\", \"minorgridcolor\": \"white\", \"startlinecolor\": \"#2a3f5f\"}, \"type\": \"carpet\"}], \"choropleth\": [{\"colorbar\": {\"outlinewidth\": 0, \"ticks\": \"\"}, \"type\": \"choropleth\"}], \"contour\": [{\"colorbar\": {\"outlinewidth\": 0, \"ticks\": \"\"}, \"colorscale\": [[0.0, \"#0d0887\"], [0.1111111111111111, \"#46039f\"], [0.2222222222222222, \"#7201a8\"], [0.3333333333333333, \"#9c179e\"], [0.4444444444444444, \"#bd3786\"], [0.5555555555555556, \"#d8576b\"], [0.6666666666666666, \"#ed7953\"], [0.7777777777777778, \"#fb9f3a\"], [0.8888888888888888, \"#fdca26\"], [1.0, \"#f0f921\"]], \"type\": \"contour\"}], \"contourcarpet\": [{\"colorbar\": {\"outlinewidth\": 0, \"ticks\": \"\"}, \"type\": \"contourcarpet\"}], \"heatmap\": [{\"colorbar\": {\"outlinewidth\": 0, \"ticks\": \"\"}, \"colorscale\": [[0.0, \"#0d0887\"], [0.1111111111111111, \"#46039f\"], [0.2222222222222222, \"#7201a8\"], [0.3333333333333333, \"#9c179e\"], [0.4444444444444444, \"#bd3786\"], [0.5555555555555556, \"#d8576b\"], [0.6666666666666666, \"#ed7953\"], [0.7777777777777778, \"#fb9f3a\"], [0.8888888888888888, \"#fdca26\"], [1.0, \"#f0f921\"]], \"type\": \"heatmap\"}], \"heatmapgl\": [{\"colorbar\": {\"outlinewidth\": 0, \"ticks\": \"\"}, \"colorscale\": [[0.0, \"#0d0887\"], [0.1111111111111111, \"#46039f\"], [0.2222222222222222, \"#7201a8\"], [0.3333333333333333, \"#9c179e\"], [0.4444444444444444, \"#bd3786\"], [0.5555555555555556, \"#d8576b\"], [0.6666666666666666, \"#ed7953\"], [0.7777777777777778, \"#fb9f3a\"], [0.8888888888888888, \"#fdca26\"], [1.0, \"#f0f921\"]], \"type\": \"heatmapgl\"}], \"histogram\": [{\"marker\": {\"colorbar\": {\"outlinewidth\": 0, \"ticks\": \"\"}}, \"type\": \"histogram\"}], \"histogram2d\": [{\"colorbar\": {\"outlinewidth\": 0, \"ticks\": \"\"}, \"colorscale\": [[0.0, \"#0d0887\"], [0.1111111111111111, \"#46039f\"], [0.2222222222222222, \"#7201a8\"], [0.3333333333333333, \"#9c179e\"], [0.4444444444444444, \"#bd3786\"], [0.5555555555555556, \"#d8576b\"], [0.6666666666666666, \"#ed7953\"], [0.7777777777777778, \"#fb9f3a\"], [0.8888888888888888, \"#fdca26\"], [1.0, \"#f0f921\"]], \"type\": \"histogram2d\"}], \"histogram2dcontour\": [{\"colorbar\": {\"outlinewidth\": 0, \"ticks\": \"\"}, \"colorscale\": [[0.0, \"#0d0887\"], [0.1111111111111111, \"#46039f\"], [0.2222222222222222, \"#7201a8\"], [0.3333333333333333, \"#9c179e\"], [0.4444444444444444, \"#bd3786\"], [0.5555555555555556, \"#d8576b\"], [0.6666666666666666, \"#ed7953\"], [0.7777777777777778, \"#fb9f3a\"], [0.8888888888888888, \"#fdca26\"], [1.0, \"#f0f921\"]], \"type\": \"histogram2dcontour\"}], \"mesh3d\": [{\"colorbar\": {\"outlinewidth\": 0, \"ticks\": \"\"}, \"type\": \"mesh3d\"}], \"parcoords\": [{\"line\": {\"colorbar\": {\"outlinewidth\": 0, \"ticks\": \"\"}}, \"type\": \"parcoords\"}], \"pie\": [{\"automargin\": true, \"type\": \"pie\"}], \"scatter\": [{\"marker\": {\"colorbar\": {\"outlinewidth\": 0, \"ticks\": \"\"}}, \"type\": \"scatter\"}], \"scatter3d\": [{\"line\": {\"colorbar\": {\"outlinewidth\": 0, \"ticks\": \"\"}}, \"marker\": {\"colorbar\": {\"outlinewidth\": 0, \"ticks\": \"\"}}, \"type\": \"scatter3d\"}], \"scattercarpet\": [{\"marker\": {\"colorbar\": {\"outlinewidth\": 0, \"ticks\": \"\"}}, \"type\": \"scattercarpet\"}], \"scattergeo\": [{\"marker\": {\"colorbar\": {\"outlinewidth\": 0, \"ticks\": \"\"}}, \"type\": \"scattergeo\"}], \"scattergl\": [{\"marker\": {\"colorbar\": {\"outlinewidth\": 0, \"ticks\": \"\"}}, \"type\": \"scattergl\"}], \"scattermapbox\": [{\"marker\": {\"colorbar\": {\"outlinewidth\": 0, \"ticks\": \"\"}}, \"type\": \"scattermapbox\"}], \"scatterpolar\": [{\"marker\": {\"colorbar\": {\"outlinewidth\": 0, \"ticks\": \"\"}}, \"type\": \"scatterpolar\"}], \"scatterpolargl\": [{\"marker\": {\"colorbar\": {\"outlinewidth\": 0, \"ticks\": \"\"}}, \"type\": \"scatterpolargl\"}], \"scatterternary\": [{\"marker\": {\"colorbar\": {\"outlinewidth\": 0, \"ticks\": \"\"}}, \"type\": \"scatterternary\"}], \"surface\": [{\"colorbar\": {\"outlinewidth\": 0, \"ticks\": \"\"}, \"colorscale\": [[0.0, \"#0d0887\"], [0.1111111111111111, \"#46039f\"], [0.2222222222222222, \"#7201a8\"], [0.3333333333333333, \"#9c179e\"], [0.4444444444444444, \"#bd3786\"], [0.5555555555555556, \"#d8576b\"], [0.6666666666666666, \"#ed7953\"], [0.7777777777777778, \"#fb9f3a\"], [0.8888888888888888, \"#fdca26\"], [1.0, \"#f0f921\"]], \"type\": \"surface\"}], \"table\": [{\"cells\": {\"fill\": {\"color\": \"#EBF0F8\"}, \"line\": {\"color\": \"white\"}}, \"header\": {\"fill\": {\"color\": \"#C8D4E3\"}, \"line\": {\"color\": \"white\"}}, \"type\": \"table\"}]}, \"layout\": {\"annotationdefaults\": {\"arrowcolor\": \"#2a3f5f\", \"arrowhead\": 0, \"arrowwidth\": 1}, \"coloraxis\": {\"colorbar\": {\"outlinewidth\": 0, \"ticks\": \"\"}}, \"colorscale\": {\"diverging\": [[0, \"#8e0152\"], [0.1, \"#c51b7d\"], [0.2, \"#de77ae\"], [0.3, \"#f1b6da\"], [0.4, \"#fde0ef\"], [0.5, \"#f7f7f7\"], [0.6, \"#e6f5d0\"], [0.7, \"#b8e186\"], [0.8, \"#7fbc41\"], [0.9, \"#4d9221\"], [1, \"#276419\"]], \"sequential\": [[0.0, \"#0d0887\"], [0.1111111111111111, \"#46039f\"], [0.2222222222222222, \"#7201a8\"], [0.3333333333333333, \"#9c179e\"], [0.4444444444444444, \"#bd3786\"], [0.5555555555555556, \"#d8576b\"], [0.6666666666666666, \"#ed7953\"], [0.7777777777777778, \"#fb9f3a\"], [0.8888888888888888, \"#fdca26\"], [1.0, \"#f0f921\"]], \"sequentialminus\": [[0.0, \"#0d0887\"], [0.1111111111111111, \"#46039f\"], [0.2222222222222222, \"#7201a8\"], [0.3333333333333333, \"#9c179e\"], [0.4444444444444444, \"#bd3786\"], [0.5555555555555556, \"#d8576b\"], [0.6666666666666666, \"#ed7953\"], [0.7777777777777778, \"#fb9f3a\"], [0.8888888888888888, \"#fdca26\"], [1.0, \"#f0f921\"]]}, \"colorway\": [\"#636efa\", \"#EF553B\", \"#00cc96\", \"#ab63fa\", \"#FFA15A\", \"#19d3f3\", \"#FF6692\", \"#B6E880\", \"#FF97FF\", \"#FECB52\"], \"font\": {\"color\": \"#2a3f5f\"}, \"geo\": {\"bgcolor\": \"white\", \"lakecolor\": \"white\", \"landcolor\": \"#E5ECF6\", \"showlakes\": true, \"showland\": true, \"subunitcolor\": \"white\"}, \"hoverlabel\": {\"align\": \"left\"}, \"hovermode\": \"closest\", \"mapbox\": {\"style\": \"light\"}, \"paper_bgcolor\": \"white\", \"plot_bgcolor\": \"#E5ECF6\", \"polar\": {\"angularaxis\": {\"gridcolor\": \"white\", \"linecolor\": \"white\", \"ticks\": \"\"}, \"bgcolor\": \"#E5ECF6\", \"radialaxis\": {\"gridcolor\": \"white\", \"linecolor\": \"white\", \"ticks\": \"\"}}, \"scene\": {\"xaxis\": {\"backgroundcolor\": \"#E5ECF6\", \"gridcolor\": \"white\", \"gridwidth\": 2, \"linecolor\": \"white\", \"showbackground\": true, \"ticks\": \"\", \"zerolinecolor\": \"white\"}, \"yaxis\": {\"backgroundcolor\": \"#E5ECF6\", \"gridcolor\": \"white\", \"gridwidth\": 2, \"linecolor\": \"white\", \"showbackground\": true, \"ticks\": \"\", \"zerolinecolor\": \"white\"}, \"zaxis\": {\"backgroundcolor\": \"#E5ECF6\", \"gridcolor\": \"white\", \"gridwidth\": 2, \"linecolor\": \"white\", \"showbackground\": true, \"ticks\": \"\", \"zerolinecolor\": \"white\"}}, \"shapedefaults\": {\"line\": {\"color\": \"#2a3f5f\"}}, \"ternary\": {\"aaxis\": {\"gridcolor\": \"white\", \"linecolor\": \"white\", \"ticks\": \"\"}, \"baxis\": {\"gridcolor\": \"white\", \"linecolor\": \"white\", \"ticks\": \"\"}, \"bgcolor\": \"#E5ECF6\", \"caxis\": {\"gridcolor\": \"white\", \"linecolor\": \"white\", \"ticks\": \"\"}}, \"title\": {\"x\": 0.05}, \"xaxis\": {\"automargin\": true, \"gridcolor\": \"white\", \"linecolor\": \"white\", \"ticks\": \"\", \"title\": {\"standoff\": 15}, \"zerolinecolor\": \"white\", \"zerolinewidth\": 2}, \"yaxis\": {\"automargin\": true, \"gridcolor\": \"white\", \"linecolor\": \"white\", \"ticks\": \"\", \"title\": {\"standoff\": 15}, \"zerolinecolor\": \"white\", \"zerolinewidth\": 2}}}, \"title\": {\"text\": \"\\u0413\\u0440\\u0430\\u0444\\u0438\\u043a \\u0442\\u0438\\u043a\\u0435\\u0440\\u0430 SBER\"}, \"width\": 1000, \"xaxis\": {\"anchor\": \"y\", \"domain\": [0.0, 1.0], \"matches\": \"x2\", \"rangeslider\": {\"visible\": false}, \"showticklabels\": false}, \"xaxis2\": {\"anchor\": \"y2\", \"domain\": [0.0, 1.0]}, \"yaxis\": {\"anchor\": \"x\", \"domain\": [0.41200000000000003, 1.0], \"title\": {\"text\": \"\\u0426\\u0435\\u043d\\u0430\"}}, \"yaxis2\": {\"anchor\": \"x2\", \"domain\": [0.0, 0.392], \"title\": {\"text\": \"CCI\"}}},\n",
       "                        {\"responsive\": true}\n",
       "                    ).then(function(){\n",
       "                            \n",
       "var gd = document.getElementById('a6162429-217f-478f-99ef-6acd740607b7');\n",
       "var x = new MutationObserver(function (mutations, observer) {{\n",
       "        var display = window.getComputedStyle(gd).display;\n",
       "        if (!display || display === 'none') {{\n",
       "            console.log([gd, 'removed!']);\n",
       "            Plotly.purge(gd);\n",
       "            observer.disconnect();\n",
       "        }}\n",
       "}});\n",
       "\n",
       "// Listen for the removal of the full notebook cells\n",
       "var notebookContainer = gd.closest('#notebook-container');\n",
       "if (notebookContainer) {{\n",
       "    x.observe(notebookContainer, {childList: true});\n",
       "}}\n",
       "\n",
       "// Listen for the clearing of the current output cell\n",
       "var outputEl = gd.closest('.output');\n",
       "if (outputEl) {{\n",
       "    x.observe(outputEl, {childList: true});\n",
       "}}\n",
       "\n",
       "                        })\n",
       "                };\n",
       "                });\n",
       "            </script>\n",
       "        </div>"
      ]
     },
     "metadata": {},
     "output_type": "display_data"
    }
   ],
   "source": [
    "fig = make_subplots(rows=2, cols=1, shared_xaxes=True, vertical_spacing=0.02, row_heights=[0.6, 0.4])\n",
    "\n",
    "fig.add_trace(go.Candlestick(x=df_short.index,\n",
    "                             open=df_short['open'],\n",
    "                             high=df_short['high'],\n",
    "                             low=df_short['low'],\n",
    "                             close=df_short['close'],\n",
    "                             name=ticker),\n",
    "              row=1, col=1)\n",
    "\n",
    "fig.add_trace(go.Scatter(\n",
    "                x=df_short.index,\n",
    "                y=df_short['upBB'],\n",
    "                name=\"upBB\",\n",
    "                line_color='blue',\n",
    "                opacity=0.5),\n",
    "             row=1, col=1)\n",
    "\n",
    "fig.add_trace(go.Scatter(\n",
    "                x=df_short.index,\n",
    "                y=df_short['lowBB'],\n",
    "                name=\"lowBB\",\n",
    "                line_color='blue',\n",
    "                opacity=0.5),\n",
    "             row=1, col=1)\n",
    "\n",
    "fig.add_trace(go.Scatter(\n",
    "                x=df_short.index,\n",
    "                y=df_short['CCI'],\n",
    "                name=\"CCI\",\n",
    "                line_color='blue',\n",
    "                opacity=1),\n",
    "             row=2, col=1)\n",
    "\n",
    "# ********************************\n",
    "# отмечаем интересные зоны на графике\n",
    "annotations = []\n",
    "for index, row in df_short[df_short['DivBar']<0].iterrows():\n",
    "    annotations.append(dict(x=index, y=row['high'], xref='x', yref='y',showarrow=True, xanchor='left', text='DivBar'))\n",
    "fig.update_layout(annotations=annotations[-5:])\n",
    "\n",
    "# ********************************\n",
    "# финальная настройка layout\n",
    "fig.update_yaxes(title_text=\"Цена\", row=1, col=1)\n",
    "fig.update_yaxes(title_text=\"CCI\", row=2, col=1)\n",
    "fig.update_layout(height = 800, width=1000, title_text=\"График тикера \" + ticker, xaxis_rangeslider_visible=False)\n",
    "fig.show()"
   ]
  },
  {
   "cell_type": "code",
   "execution_count": 68,
   "metadata": {},
   "outputs": [
    {
     "data": {
      "text/plain": [
       " 0    1742\n",
       "-1      52\n",
       "Name: sig_channel, dtype: int64"
      ]
     },
     "execution_count": 68,
     "metadata": {},
     "output_type": "execute_result"
    }
   ],
   "source": [
    "def sig_channel(BBTouch, CCIDiv_short, CCIDiv_long):\n",
    "    d = pd.DataFrame()\n",
    "    d['BBTouch'] = BBTouch\n",
    "    d['CCIDiv_short'] = CCIDiv_short\n",
    "    d['CCIDiv_long'] = CCIDiv_long\n",
    "    d['sig_channel'] = 0\n",
    "    \n",
    "    i = 0\n",
    "    for index, row in d.iterrows():\n",
    "        if d.iloc[i, 0] < 0 and (d.iloc[i, 1] < 0 or d.iloc[i, 2] < 0):\n",
    "            d.iloc[i, 3] = -1\n",
    "        if d.iloc[i, 0] > 0 and (d.iloc[i, 1] > 0 or d.iloc[i, 2] > 0):\n",
    "            d.iloc[i, 2] = 1\n",
    "        i += 1\n",
    "        \n",
    "    return d.sig_channel\n",
    "\n",
    "df['sig_channel'] = sig_channel(df.BBTouch, df.CCIdiv_short, df.CCIdiv_long)"
   ]
  },
  {
   "cell_type": "code",
   "execution_count": 65,
   "metadata": {},
   "outputs": [
    {
     "name": "stdout",
     "output_type": "stream",
     "text": [
      "Система канала:\n",
      "Сигналов нет\n"
     ]
    }
   ],
   "source": [
    "print('Система канала:')\n",
    "if df['sig_channel'][-1] < 0:\n",
    "    print('Имеет место дивергенция CCI и касание бара верхней границы канала. Выставляем стоп приказ на продажу по цене: ' + str(df_short['low'][-2]) + ' со стопом ' + str(df_short['high'][-2:].max()))\n",
    "elif df['sig_channel'][-1] > 0:\n",
    "    print('Имеет место дивергенция CCI и касание бара нижней границы канала. Выставляем стоп приказ на покупку по цене: ' + str(df_short['high'][-2]) + ' со стопом ' + str(df_short['low'][-2:].min()))\n",
    "else:\n",
    "    print('Сигналов нет')"
   ]
  },
  {
   "cell_type": "markdown",
   "metadata": {},
   "source": [
    "## Дивергентный бар"
   ]
  },
  {
   "cell_type": "code",
   "execution_count": 78,
   "metadata": {},
   "outputs": [
    {
     "data": {
      "application/vnd.plotly.v1+json": {
       "config": {
        "plotlyServerURL": "https://plot.ly"
       },
       "data": [
        {
         "close": [
          241.05,
          241.21,
          241.45,
          241.6,
          246.2,
          244,
          244.71,
          248.8,
          248.67,
          248.04,
          248.24,
          252.06,
          254.75,
          255,
          253.9,
          259.15,
          257.99,
          258.19,
          262.4,
          259.05,
          256.31,
          257.51,
          262.5,
          266.28,
          268.06,
          266.54,
          263.73,
          265.49,
          255.32,
          257.7,
          259.94,
          257.31,
          252.2,
          253.99,
          255.4,
          255.2,
          252.11,
          254.3,
          252.26,
          254.5,
          254.5,
          253.89,
          251.75,
          251.36,
          249.2,
          249.7,
          250.15,
          250.8,
          245.19,
          250.8,
          242.88,
          233.36,
          228.17,
          236.63,
          235.27,
          232.33,
          219.99,
          201.2,
          194.53,
          175.91,
          198.6,
          195.85,
          184.01,
          174.27,
          189.51,
          195.69,
          183.37,
          192.64,
          188.08,
          188.07,
          180.38,
          183,
          187.21,
          184.78,
          186.95,
          185.64,
          190.7,
          197.63,
          200.29,
          203.61,
          201.99,
          198.26,
          197.37,
          186.07,
          188.5,
          191.8,
          189.32,
          186.05,
          190.2,
          190.94,
          188.91,
          188.9,
          192.8,
          195.8,
          197.25,
          193.69,
          194.75,
          195.7,
          195.51,
          196.02
         ],
         "high": [
          242.3,
          243.25,
          242.48,
          242.96,
          246.25,
          248.4,
          245.4,
          249.19,
          249.89,
          249.3,
          249.24,
          252.95,
          256,
          258.19,
          254.84,
          259.15,
          261.76,
          259.25,
          262.4,
          263.22,
          258.91,
          259.51,
          262.82,
          266.97,
          268.9,
          270.8,
          266.89,
          267.5,
          262.1,
          258.84,
          261.57,
          258.69,
          259.2,
          254.96,
          257.38,
          257.66,
          258,
          254.3,
          255.73,
          259.77,
          255.49,
          255.18,
          254.4,
          253.1,
          250.44,
          250.68,
          252.17,
          251.49,
          249,
          251.21,
          248.98,
          239,
          241,
          239,
          236.7,
          238.72,
          229.2,
          212.74,
          204.33,
          187.87,
          199.52,
          196.7,
          204.78,
          182.2,
          190.15,
          201.86,
          190.99,
          195,
          201,
          191.2,
          188.97,
          183.2,
          188.77,
          185.47,
          189.9,
          187.49,
          192.02,
          200.54,
          200.29,
          205.44,
          202.75,
          202.16,
          202.85,
          196.25,
          191.67,
          192.7,
          192.23,
          187.5,
          191.94,
          192.5,
          191.65,
          190.5,
          194.22,
          195.8,
          199.7,
          195.68,
          196.46,
          197.23,
          198.15,
          196.25
         ],
         "low": [
          240.09,
          241.1,
          240.13,
          241,
          240.36,
          243.1,
          243.72,
          244.07,
          247.27,
          247.11,
          246.71,
          248.55,
          250.73,
          253.7,
          251.4,
          253.03,
          257.01,
          256.88,
          257.15,
          258.62,
          254.21,
          256.1,
          257.75,
          261.8,
          263.02,
          265.5,
          262.24,
          264.21,
          255.32,
          254.1,
          257.61,
          255.27,
          252.17,
          251.1,
          252.9,
          253.14,
          251.86,
          248.73,
          252.07,
          253,
          252.31,
          252.5,
          251.4,
          250.13,
          247.57,
          247.95,
          249.13,
          247.24,
          245.17,
          243.22,
          242,
          231,
          218.86,
          232.28,
          232.62,
          230.64,
          216.67,
          184.86,
          192.05,
          173.14,
          174.3,
          186,
          183.8,
          172.15,
          173.06,
          192.05,
          182.1,
          189.1,
          182.32,
          182.8,
          180.17,
          174.9,
          184.25,
          182,
          182,
          184.28,
          186.42,
          193.02,
          195.12,
          199.3,
          200.7,
          197.32,
          196.1,
          186.06,
          183.53,
          188.28,
          187.31,
          183.65,
          184.5,
          188.68,
          187.7,
          188.43,
          188.17,
          192.86,
          195.46,
          193.26,
          194,
          194.3,
          195.06,
          194.6
         ],
         "name": "SBER",
         "open": [
          242,
          242,
          242.48,
          241.8,
          241.3,
          246.2,
          244.6,
          244.71,
          248.8,
          248.99,
          248.2,
          248.55,
          252.1,
          255.99,
          254.75,
          253.57,
          259.4,
          257.86,
          258.3,
          262.5,
          258.49,
          257.11,
          258.2,
          263.2,
          265.5,
          268.72,
          264.64,
          264.5,
          261,
          257,
          258.4,
          258,
          258.5,
          251.8,
          255.3,
          255.89,
          256.5,
          253.1,
          254.55,
          253.75,
          255.4,
          253.62,
          254.4,
          252.5,
          250.07,
          250.37,
          250.03,
          248.35,
          247.98,
          244.75,
          247.5,
          235,
          238.93,
          233,
          234.13,
          237,
          228,
          197.99,
          202,
          185.15,
          175,
          194,
          195,
          179,
          178.5,
          198.62,
          188,
          193.3,
          196.38,
          187.69,
          188.05,
          177,
          186,
          183.2,
          188.3,
          186.6,
          187.52,
          193.02,
          196.02,
          202.4,
          201.85,
          202,
          199.99,
          196,
          187.22,
          192.5,
          190.6,
          185.54,
          185.01,
          191.99,
          189.73,
          189.98,
          188.5,
          194.46,
          196.51,
          195.68,
          195.51,
          195,
          196,
          196
         ],
         "type": "candlestick",
         "x": [
          "2019-12-12T00:00:00",
          "2019-12-13T00:00:00",
          "2019-12-16T00:00:00",
          "2019-12-17T00:00:00",
          "2019-12-18T00:00:00",
          "2019-12-19T00:00:00",
          "2019-12-20T00:00:00",
          "2019-12-23T00:00:00",
          "2019-12-24T00:00:00",
          "2019-12-25T00:00:00",
          "2019-12-26T00:00:00",
          "2019-12-27T00:00:00",
          "2019-12-30T00:00:00",
          "2020-01-03T00:00:00",
          "2020-01-06T00:00:00",
          "2020-01-08T00:00:00",
          "2020-01-09T00:00:00",
          "2020-01-10T00:00:00",
          "2020-01-13T00:00:00",
          "2020-01-14T00:00:00",
          "2020-01-15T00:00:00",
          "2020-01-16T00:00:00",
          "2020-01-17T00:00:00",
          "2020-01-20T00:00:00",
          "2020-01-21T00:00:00",
          "2020-01-22T00:00:00",
          "2020-01-23T00:00:00",
          "2020-01-24T00:00:00",
          "2020-01-27T00:00:00",
          "2020-01-28T00:00:00",
          "2020-01-29T00:00:00",
          "2020-01-30T00:00:00",
          "2020-01-31T00:00:00",
          "2020-02-03T00:00:00",
          "2020-02-04T00:00:00",
          "2020-02-05T00:00:00",
          "2020-02-06T00:00:00",
          "2020-02-07T00:00:00",
          "2020-02-10T00:00:00",
          "2020-02-11T00:00:00",
          "2020-02-12T00:00:00",
          "2020-02-13T00:00:00",
          "2020-02-14T00:00:00",
          "2020-02-17T00:00:00",
          "2020-02-18T00:00:00",
          "2020-02-19T00:00:00",
          "2020-02-20T00:00:00",
          "2020-02-21T00:00:00",
          "2020-02-25T00:00:00",
          "2020-02-26T00:00:00",
          "2020-02-27T00:00:00",
          "2020-02-28T00:00:00",
          "2020-03-02T00:00:00",
          "2020-03-03T00:00:00",
          "2020-03-04T00:00:00",
          "2020-03-05T00:00:00",
          "2020-03-06T00:00:00",
          "2020-03-10T00:00:00",
          "2020-03-11T00:00:00",
          "2020-03-12T00:00:00",
          "2020-03-13T00:00:00",
          "2020-03-16T00:00:00",
          "2020-03-17T00:00:00",
          "2020-03-18T00:00:00",
          "2020-03-19T00:00:00",
          "2020-03-20T00:00:00",
          "2020-03-23T00:00:00",
          "2020-03-24T00:00:00",
          "2020-03-25T00:00:00",
          "2020-03-26T00:00:00",
          "2020-03-27T00:00:00",
          "2020-03-30T00:00:00",
          "2020-03-31T00:00:00",
          "2020-04-01T00:00:00",
          "2020-04-02T00:00:00",
          "2020-04-03T00:00:00",
          "2020-04-06T00:00:00",
          "2020-04-07T00:00:00",
          "2020-04-08T00:00:00",
          "2020-04-09T00:00:00",
          "2020-04-10T00:00:00",
          "2020-04-13T00:00:00",
          "2020-04-14T00:00:00",
          "2020-04-15T00:00:00",
          "2020-04-16T00:00:00",
          "2020-04-17T00:00:00",
          "2020-04-20T00:00:00",
          "2020-04-21T00:00:00",
          "2020-04-22T00:00:00",
          "2020-04-23T00:00:00",
          "2020-04-24T00:00:00",
          "2020-04-27T00:00:00",
          "2020-04-28T00:00:00",
          "2020-04-29T00:00:00",
          "2020-04-30T00:00:00",
          "2020-05-04T00:00:00",
          "2020-05-05T00:00:00",
          "2020-05-06T00:00:00",
          "2020-05-07T00:00:00",
          "2020-05-08T00:00:00"
         ],
         "xaxis": "x",
         "yaxis": "y"
        },
        {
         "line": {
          "color": "red"
         },
         "name": "MA_fast",
         "opacity": 1,
         "type": "scatter",
         "x": [
          "2019-12-12T00:00:00",
          "2019-12-13T00:00:00",
          "2019-12-16T00:00:00",
          "2019-12-17T00:00:00",
          "2019-12-18T00:00:00",
          "2019-12-19T00:00:00",
          "2019-12-20T00:00:00",
          "2019-12-23T00:00:00",
          "2019-12-24T00:00:00",
          "2019-12-25T00:00:00",
          "2019-12-26T00:00:00",
          "2019-12-27T00:00:00",
          "2019-12-30T00:00:00",
          "2020-01-03T00:00:00",
          "2020-01-06T00:00:00",
          "2020-01-08T00:00:00",
          "2020-01-09T00:00:00",
          "2020-01-10T00:00:00",
          "2020-01-13T00:00:00",
          "2020-01-14T00:00:00",
          "2020-01-15T00:00:00",
          "2020-01-16T00:00:00",
          "2020-01-17T00:00:00",
          "2020-01-20T00:00:00",
          "2020-01-21T00:00:00",
          "2020-01-22T00:00:00",
          "2020-01-23T00:00:00",
          "2020-01-24T00:00:00",
          "2020-01-27T00:00:00",
          "2020-01-28T00:00:00",
          "2020-01-29T00:00:00",
          "2020-01-30T00:00:00",
          "2020-01-31T00:00:00",
          "2020-02-03T00:00:00",
          "2020-02-04T00:00:00",
          "2020-02-05T00:00:00",
          "2020-02-06T00:00:00",
          "2020-02-07T00:00:00",
          "2020-02-10T00:00:00",
          "2020-02-11T00:00:00",
          "2020-02-12T00:00:00",
          "2020-02-13T00:00:00",
          "2020-02-14T00:00:00",
          "2020-02-17T00:00:00",
          "2020-02-18T00:00:00",
          "2020-02-19T00:00:00",
          "2020-02-20T00:00:00",
          "2020-02-21T00:00:00",
          "2020-02-25T00:00:00",
          "2020-02-26T00:00:00",
          "2020-02-27T00:00:00",
          "2020-02-28T00:00:00",
          "2020-03-02T00:00:00",
          "2020-03-03T00:00:00",
          "2020-03-04T00:00:00",
          "2020-03-05T00:00:00",
          "2020-03-06T00:00:00",
          "2020-03-10T00:00:00",
          "2020-03-11T00:00:00",
          "2020-03-12T00:00:00",
          "2020-03-13T00:00:00",
          "2020-03-16T00:00:00",
          "2020-03-17T00:00:00",
          "2020-03-18T00:00:00",
          "2020-03-19T00:00:00",
          "2020-03-20T00:00:00",
          "2020-03-23T00:00:00",
          "2020-03-24T00:00:00",
          "2020-03-25T00:00:00",
          "2020-03-26T00:00:00",
          "2020-03-27T00:00:00",
          "2020-03-30T00:00:00",
          "2020-03-31T00:00:00",
          "2020-04-01T00:00:00",
          "2020-04-02T00:00:00",
          "2020-04-03T00:00:00",
          "2020-04-06T00:00:00",
          "2020-04-07T00:00:00",
          "2020-04-08T00:00:00",
          "2020-04-09T00:00:00",
          "2020-04-10T00:00:00",
          "2020-04-13T00:00:00",
          "2020-04-14T00:00:00",
          "2020-04-15T00:00:00",
          "2020-04-16T00:00:00",
          "2020-04-17T00:00:00",
          "2020-04-20T00:00:00",
          "2020-04-21T00:00:00",
          "2020-04-22T00:00:00",
          "2020-04-23T00:00:00",
          "2020-04-24T00:00:00",
          "2020-04-27T00:00:00",
          "2020-04-28T00:00:00",
          "2020-04-29T00:00:00",
          "2020-04-30T00:00:00",
          "2020-05-04T00:00:00",
          "2020-05-05T00:00:00",
          "2020-05-06T00:00:00",
          "2020-05-07T00:00:00",
          "2020-05-08T00:00:00"
         ],
         "xaxis": "x",
         "y": [
          237.39178475313165,
          238.2402770302135,
          238.95354880127715,
          239.54164906766002,
          241.02128260818,
          241.68321980636222,
          242.35583762717062,
          243.7878737100216,
          244.87279066335012,
          245.5766149603834,
          246.16847830252044,
          247.47770534640478,
          249.0937708249815,
          250.40626619720783,
          251.1826514867172,
          252.9531733785578,
          254.07246818332274,
          254.98747525369546,
          256.63470297509645,
          257.17143564729724,
          256.9800055034534,
          257.09778205824153,
          258.2982749341879,
          260.0719916154795,
          261.8471045898174,
          262.8899702365246,
          263.07664351729693,
          263.61294495789764,
          261.77006830058707,
          260.86560867823437,
          260.65991786084896,
          259.91549166954917,
          258.2009379652049,
          257.26517397293713,
          256.85069086784,
          256.4838706749867,
          255.51189941387855,
          255.24258843301666,
          254.57979100345742,
          254.56205966935576,
          254.54826863172116,
          254.4019867135609,
          253.8126563327696,
          253.26762159215414,
          252.36370568278656,
          251.77177108661178,
          251.41137751180915,
          251.27551584251822,
          249.92317898862527,
          250.1180281022641,
          248.5095774128721,
          245.14300465445606,
          241.3712258423547,
          240.3176200996092,
          239.19592674414048,
          237.6701652454426,
          233.74123963534424,
          226.50985304971218,
          219.40321903866501,
          209.73805925229502,
          207.26293497400724,
          204.72672720200563,
          200.12301004600437,
          194.37789670244786,
          193.29614187968167,
          193.8281103508635,
          191.5040858284494,
          191.75651119990508,
          190.9395087110373,
          190.30184010858457,
          188.09698675112134,
          186.96432302864991,
          187.01891791117217,
          186.52138059757834,
          186.61662935367204,
          186.3996006084116,
          187.35524491765347,
          189.63852382484157,
          192.00551853043234,
          194.58429219033627,
          196.23000503692822,
          196.68111502872193,
          196.83420057789485,
          194.44215600502932,
          193.1216768928006,
          192.8279709166227,
          192.04842182403988,
          190.71543919647547,
          190.60089715281424,
          190.67625334107774,
          190.28375259861602,
          189.9762520211458,
          190.6037515720023,
          191.75847344489068,
          192.9788126793594,
          193.13685430616843,
          193.49533112701988,
          193.98525754323768,
          194.32408920029596,
          194.70095826689686
         ],
         "yaxis": "y"
        },
        {
         "line": {
          "color": "black"
         },
         "name": "%Willams",
         "opacity": 1,
         "type": "scatter",
         "x": [
          "2019-12-12T00:00:00",
          "2019-12-13T00:00:00",
          "2019-12-16T00:00:00",
          "2019-12-17T00:00:00",
          "2019-12-18T00:00:00",
          "2019-12-19T00:00:00",
          "2019-12-20T00:00:00",
          "2019-12-23T00:00:00",
          "2019-12-24T00:00:00",
          "2019-12-25T00:00:00",
          "2019-12-26T00:00:00",
          "2019-12-27T00:00:00",
          "2019-12-30T00:00:00",
          "2020-01-03T00:00:00",
          "2020-01-06T00:00:00",
          "2020-01-08T00:00:00",
          "2020-01-09T00:00:00",
          "2020-01-10T00:00:00",
          "2020-01-13T00:00:00",
          "2020-01-14T00:00:00",
          "2020-01-15T00:00:00",
          "2020-01-16T00:00:00",
          "2020-01-17T00:00:00",
          "2020-01-20T00:00:00",
          "2020-01-21T00:00:00",
          "2020-01-22T00:00:00",
          "2020-01-23T00:00:00",
          "2020-01-24T00:00:00",
          "2020-01-27T00:00:00",
          "2020-01-28T00:00:00",
          "2020-01-29T00:00:00",
          "2020-01-30T00:00:00",
          "2020-01-31T00:00:00",
          "2020-02-03T00:00:00",
          "2020-02-04T00:00:00",
          "2020-02-05T00:00:00",
          "2020-02-06T00:00:00",
          "2020-02-07T00:00:00",
          "2020-02-10T00:00:00",
          "2020-02-11T00:00:00",
          "2020-02-12T00:00:00",
          "2020-02-13T00:00:00",
          "2020-02-14T00:00:00",
          "2020-02-17T00:00:00",
          "2020-02-18T00:00:00",
          "2020-02-19T00:00:00",
          "2020-02-20T00:00:00",
          "2020-02-21T00:00:00",
          "2020-02-25T00:00:00",
          "2020-02-26T00:00:00",
          "2020-02-27T00:00:00",
          "2020-02-28T00:00:00",
          "2020-03-02T00:00:00",
          "2020-03-03T00:00:00",
          "2020-03-04T00:00:00",
          "2020-03-05T00:00:00",
          "2020-03-06T00:00:00",
          "2020-03-10T00:00:00",
          "2020-03-11T00:00:00",
          "2020-03-12T00:00:00",
          "2020-03-13T00:00:00",
          "2020-03-16T00:00:00",
          "2020-03-17T00:00:00",
          "2020-03-18T00:00:00",
          "2020-03-19T00:00:00",
          "2020-03-20T00:00:00",
          "2020-03-23T00:00:00",
          "2020-03-24T00:00:00",
          "2020-03-25T00:00:00",
          "2020-03-26T00:00:00",
          "2020-03-27T00:00:00",
          "2020-03-30T00:00:00",
          "2020-03-31T00:00:00",
          "2020-04-01T00:00:00",
          "2020-04-02T00:00:00",
          "2020-04-03T00:00:00",
          "2020-04-06T00:00:00",
          "2020-04-07T00:00:00",
          "2020-04-08T00:00:00",
          "2020-04-09T00:00:00",
          "2020-04-10T00:00:00",
          "2020-04-13T00:00:00",
          "2020-04-14T00:00:00",
          "2020-04-15T00:00:00",
          "2020-04-16T00:00:00",
          "2020-04-17T00:00:00",
          "2020-04-20T00:00:00",
          "2020-04-21T00:00:00",
          "2020-04-22T00:00:00",
          "2020-04-23T00:00:00",
          "2020-04-24T00:00:00",
          "2020-04-27T00:00:00",
          "2020-04-28T00:00:00",
          "2020-04-29T00:00:00",
          "2020-04-30T00:00:00",
          "2020-05-04T00:00:00",
          "2020-05-05T00:00:00",
          "2020-05-06T00:00:00",
          "2020-05-07T00:00:00",
          "2020-05-08T00:00:00"
         ],
         "xaxis": "x2",
         "y": [
          -9.419743782969096,
          -14.34599156118138,
          -12.658227848101346,
          -14.102564102564166,
          -0.4184100418410997,
          -35.483870967741964,
          -34.48598130841114,
          -4.285714285714138,
          -12.5,
          -18.954918032786846,
          -17.313746065057522,
          -7.069102462271549,
          -9.689922480620151,
          -22.045611610228043,
          -30.382436260623162,
          0,
          -25.049833887043096,
          -23.72093023255812,
          0,
          -33.38670936749402,
          -58.46023688663293,
          -48.30795262267365,
          -7.065750736015951,
          -5.407523510972207,
          -5.718175629679896,
          -25.678119349005364,
          -42.61603375527421,
          -32.00723327305606,
          -100,
          -78.44311377245515,
          -65.0299401197605,
          -80.77844311377243,
          -99.83896940418678,
          -82.37804878048772,
          -73.78048780487799,
          -62.727272727272876,
          -90.3533906399234,
          -56.61993769470389,
          -66.28462273161412,
          -47.735507246376685,
          -47.735507246376685,
          -53.26086956521739,
          -72.64492753623178,
          -76.17753623188383,
          -86.63934426229511,
          -82.5409836065574,
          -78.85245901639333,
          -56.848484848484816,
          -99.8001998001997,
          -32.20035778175306,
          -92.0720720720721,
          -88.85214926783176,
          -72.05043530471336,
          -46.65265685980187,
          -49.70885688017162,
          -58.361669242658415,
          -90.38795599305148,
          -74.5165315034311,
          -82.77520484503029,
          -95.91806660772177,
          -61.34224111752201,
          -65.37053979871911,
          -83.42482464165903,
          -96.28396143733566,
          -57.23084503572312,
          -27.857799570946995,
          -65.61446521605883,
          -37.205026049647614,
          -51.179895801409714,
          -51.210542445602236,
          -72.2988892628745,
          -65.48611111111114,
          -54.33976261127597,
          -62.145593869731805,
          -53.83141762452112,
          -58.85057471264374,
          -7.7102803738319,
          -11.34945397815912,
          -0.975039001560063,
          -7.807167235494814,
          -14.718430034129646,
          -30.631399317406178,
          -38.13799621928164,
          -99.94840041279674,
          -77.31629392971246,
          -62.25467822911907,
          -73.57371063441354,
          -86.95652173913038,
          -65.47619047619052,
          -61.64596273291926,
          -57.70440251572331,
          -41.43947655398024,
          -13.434247871333854,
          0,
          -15.264797507788106,
          -39.5394736842105,
          -41.24999999999991,
          -33.333333333333336,
          -36.3399826539462,
          -31.91673894189053
         ],
         "yaxis": "y2"
        },
        {
         "line": {
          "color": "green"
         },
         "name": "Reg_line_8: 10.0 deg",
         "opacity": 1,
         "type": "scatter",
         "x": [
          "2020-04-28T00:00:00",
          "2020-04-29T00:00:00",
          "2020-04-30T00:00:00",
          "2020-05-04T00:00:00",
          "2020-05-05T00:00:00",
          "2020-05-06T00:00:00",
          "2020-05-07T00:00:00",
          "2020-05-08T00:00:00"
         ],
         "xaxis": "x",
         "y": [
          194.46083333333323,
          194.66916666666657,
          194.8774999999999,
          195.08583333333323,
          195.29416666666657,
          195.5024999999999,
          195.71083333333326,
          195.91916666666657
         ],
         "yaxis": "y"
        }
       ],
       "layout": {
        "annotations": [
         {
          "showarrow": true,
          "text": "DivBar",
          "x": "2020-02-11T00:00:00",
          "xanchor": "left",
          "xref": "x",
          "y": 259.77,
          "yref": "y"
         },
         {
          "showarrow": true,
          "text": "DivBar",
          "x": "2020-03-17T00:00:00",
          "xanchor": "left",
          "xref": "x",
          "y": 204.78,
          "yref": "y"
         },
         {
          "showarrow": true,
          "text": "DivBar",
          "x": "2020-03-25T00:00:00",
          "xanchor": "left",
          "xref": "x",
          "y": 201,
          "yref": "y"
         },
         {
          "showarrow": true,
          "text": "DivBar",
          "x": "2020-04-14T00:00:00",
          "xanchor": "left",
          "xref": "x",
          "y": 202.85,
          "yref": "y"
         },
         {
          "showarrow": true,
          "text": "DivBar",
          "x": "2020-05-07T00:00:00",
          "xanchor": "left",
          "xref": "x",
          "y": 198.15,
          "yref": "y"
         }
        ],
        "height": 800,
        "template": {
         "data": {
          "bar": [
           {
            "error_x": {
             "color": "#2a3f5f"
            },
            "error_y": {
             "color": "#2a3f5f"
            },
            "marker": {
             "line": {
              "color": "#E5ECF6",
              "width": 0.5
             }
            },
            "type": "bar"
           }
          ],
          "barpolar": [
           {
            "marker": {
             "line": {
              "color": "#E5ECF6",
              "width": 0.5
             }
            },
            "type": "barpolar"
           }
          ],
          "carpet": [
           {
            "aaxis": {
             "endlinecolor": "#2a3f5f",
             "gridcolor": "white",
             "linecolor": "white",
             "minorgridcolor": "white",
             "startlinecolor": "#2a3f5f"
            },
            "baxis": {
             "endlinecolor": "#2a3f5f",
             "gridcolor": "white",
             "linecolor": "white",
             "minorgridcolor": "white",
             "startlinecolor": "#2a3f5f"
            },
            "type": "carpet"
           }
          ],
          "choropleth": [
           {
            "colorbar": {
             "outlinewidth": 0,
             "ticks": ""
            },
            "type": "choropleth"
           }
          ],
          "contour": [
           {
            "colorbar": {
             "outlinewidth": 0,
             "ticks": ""
            },
            "colorscale": [
             [
              0,
              "#0d0887"
             ],
             [
              0.1111111111111111,
              "#46039f"
             ],
             [
              0.2222222222222222,
              "#7201a8"
             ],
             [
              0.3333333333333333,
              "#9c179e"
             ],
             [
              0.4444444444444444,
              "#bd3786"
             ],
             [
              0.5555555555555556,
              "#d8576b"
             ],
             [
              0.6666666666666666,
              "#ed7953"
             ],
             [
              0.7777777777777778,
              "#fb9f3a"
             ],
             [
              0.8888888888888888,
              "#fdca26"
             ],
             [
              1,
              "#f0f921"
             ]
            ],
            "type": "contour"
           }
          ],
          "contourcarpet": [
           {
            "colorbar": {
             "outlinewidth": 0,
             "ticks": ""
            },
            "type": "contourcarpet"
           }
          ],
          "heatmap": [
           {
            "colorbar": {
             "outlinewidth": 0,
             "ticks": ""
            },
            "colorscale": [
             [
              0,
              "#0d0887"
             ],
             [
              0.1111111111111111,
              "#46039f"
             ],
             [
              0.2222222222222222,
              "#7201a8"
             ],
             [
              0.3333333333333333,
              "#9c179e"
             ],
             [
              0.4444444444444444,
              "#bd3786"
             ],
             [
              0.5555555555555556,
              "#d8576b"
             ],
             [
              0.6666666666666666,
              "#ed7953"
             ],
             [
              0.7777777777777778,
              "#fb9f3a"
             ],
             [
              0.8888888888888888,
              "#fdca26"
             ],
             [
              1,
              "#f0f921"
             ]
            ],
            "type": "heatmap"
           }
          ],
          "heatmapgl": [
           {
            "colorbar": {
             "outlinewidth": 0,
             "ticks": ""
            },
            "colorscale": [
             [
              0,
              "#0d0887"
             ],
             [
              0.1111111111111111,
              "#46039f"
             ],
             [
              0.2222222222222222,
              "#7201a8"
             ],
             [
              0.3333333333333333,
              "#9c179e"
             ],
             [
              0.4444444444444444,
              "#bd3786"
             ],
             [
              0.5555555555555556,
              "#d8576b"
             ],
             [
              0.6666666666666666,
              "#ed7953"
             ],
             [
              0.7777777777777778,
              "#fb9f3a"
             ],
             [
              0.8888888888888888,
              "#fdca26"
             ],
             [
              1,
              "#f0f921"
             ]
            ],
            "type": "heatmapgl"
           }
          ],
          "histogram": [
           {
            "marker": {
             "colorbar": {
              "outlinewidth": 0,
              "ticks": ""
             }
            },
            "type": "histogram"
           }
          ],
          "histogram2d": [
           {
            "colorbar": {
             "outlinewidth": 0,
             "ticks": ""
            },
            "colorscale": [
             [
              0,
              "#0d0887"
             ],
             [
              0.1111111111111111,
              "#46039f"
             ],
             [
              0.2222222222222222,
              "#7201a8"
             ],
             [
              0.3333333333333333,
              "#9c179e"
             ],
             [
              0.4444444444444444,
              "#bd3786"
             ],
             [
              0.5555555555555556,
              "#d8576b"
             ],
             [
              0.6666666666666666,
              "#ed7953"
             ],
             [
              0.7777777777777778,
              "#fb9f3a"
             ],
             [
              0.8888888888888888,
              "#fdca26"
             ],
             [
              1,
              "#f0f921"
             ]
            ],
            "type": "histogram2d"
           }
          ],
          "histogram2dcontour": [
           {
            "colorbar": {
             "outlinewidth": 0,
             "ticks": ""
            },
            "colorscale": [
             [
              0,
              "#0d0887"
             ],
             [
              0.1111111111111111,
              "#46039f"
             ],
             [
              0.2222222222222222,
              "#7201a8"
             ],
             [
              0.3333333333333333,
              "#9c179e"
             ],
             [
              0.4444444444444444,
              "#bd3786"
             ],
             [
              0.5555555555555556,
              "#d8576b"
             ],
             [
              0.6666666666666666,
              "#ed7953"
             ],
             [
              0.7777777777777778,
              "#fb9f3a"
             ],
             [
              0.8888888888888888,
              "#fdca26"
             ],
             [
              1,
              "#f0f921"
             ]
            ],
            "type": "histogram2dcontour"
           }
          ],
          "mesh3d": [
           {
            "colorbar": {
             "outlinewidth": 0,
             "ticks": ""
            },
            "type": "mesh3d"
           }
          ],
          "parcoords": [
           {
            "line": {
             "colorbar": {
              "outlinewidth": 0,
              "ticks": ""
             }
            },
            "type": "parcoords"
           }
          ],
          "pie": [
           {
            "automargin": true,
            "type": "pie"
           }
          ],
          "scatter": [
           {
            "marker": {
             "colorbar": {
              "outlinewidth": 0,
              "ticks": ""
             }
            },
            "type": "scatter"
           }
          ],
          "scatter3d": [
           {
            "line": {
             "colorbar": {
              "outlinewidth": 0,
              "ticks": ""
             }
            },
            "marker": {
             "colorbar": {
              "outlinewidth": 0,
              "ticks": ""
             }
            },
            "type": "scatter3d"
           }
          ],
          "scattercarpet": [
           {
            "marker": {
             "colorbar": {
              "outlinewidth": 0,
              "ticks": ""
             }
            },
            "type": "scattercarpet"
           }
          ],
          "scattergeo": [
           {
            "marker": {
             "colorbar": {
              "outlinewidth": 0,
              "ticks": ""
             }
            },
            "type": "scattergeo"
           }
          ],
          "scattergl": [
           {
            "marker": {
             "colorbar": {
              "outlinewidth": 0,
              "ticks": ""
             }
            },
            "type": "scattergl"
           }
          ],
          "scattermapbox": [
           {
            "marker": {
             "colorbar": {
              "outlinewidth": 0,
              "ticks": ""
             }
            },
            "type": "scattermapbox"
           }
          ],
          "scatterpolar": [
           {
            "marker": {
             "colorbar": {
              "outlinewidth": 0,
              "ticks": ""
             }
            },
            "type": "scatterpolar"
           }
          ],
          "scatterpolargl": [
           {
            "marker": {
             "colorbar": {
              "outlinewidth": 0,
              "ticks": ""
             }
            },
            "type": "scatterpolargl"
           }
          ],
          "scatterternary": [
           {
            "marker": {
             "colorbar": {
              "outlinewidth": 0,
              "ticks": ""
             }
            },
            "type": "scatterternary"
           }
          ],
          "surface": [
           {
            "colorbar": {
             "outlinewidth": 0,
             "ticks": ""
            },
            "colorscale": [
             [
              0,
              "#0d0887"
             ],
             [
              0.1111111111111111,
              "#46039f"
             ],
             [
              0.2222222222222222,
              "#7201a8"
             ],
             [
              0.3333333333333333,
              "#9c179e"
             ],
             [
              0.4444444444444444,
              "#bd3786"
             ],
             [
              0.5555555555555556,
              "#d8576b"
             ],
             [
              0.6666666666666666,
              "#ed7953"
             ],
             [
              0.7777777777777778,
              "#fb9f3a"
             ],
             [
              0.8888888888888888,
              "#fdca26"
             ],
             [
              1,
              "#f0f921"
             ]
            ],
            "type": "surface"
           }
          ],
          "table": [
           {
            "cells": {
             "fill": {
              "color": "#EBF0F8"
             },
             "line": {
              "color": "white"
             }
            },
            "header": {
             "fill": {
              "color": "#C8D4E3"
             },
             "line": {
              "color": "white"
             }
            },
            "type": "table"
           }
          ]
         },
         "layout": {
          "annotationdefaults": {
           "arrowcolor": "#2a3f5f",
           "arrowhead": 0,
           "arrowwidth": 1
          },
          "coloraxis": {
           "colorbar": {
            "outlinewidth": 0,
            "ticks": ""
           }
          },
          "colorscale": {
           "diverging": [
            [
             0,
             "#8e0152"
            ],
            [
             0.1,
             "#c51b7d"
            ],
            [
             0.2,
             "#de77ae"
            ],
            [
             0.3,
             "#f1b6da"
            ],
            [
             0.4,
             "#fde0ef"
            ],
            [
             0.5,
             "#f7f7f7"
            ],
            [
             0.6,
             "#e6f5d0"
            ],
            [
             0.7,
             "#b8e186"
            ],
            [
             0.8,
             "#7fbc41"
            ],
            [
             0.9,
             "#4d9221"
            ],
            [
             1,
             "#276419"
            ]
           ],
           "sequential": [
            [
             0,
             "#0d0887"
            ],
            [
             0.1111111111111111,
             "#46039f"
            ],
            [
             0.2222222222222222,
             "#7201a8"
            ],
            [
             0.3333333333333333,
             "#9c179e"
            ],
            [
             0.4444444444444444,
             "#bd3786"
            ],
            [
             0.5555555555555556,
             "#d8576b"
            ],
            [
             0.6666666666666666,
             "#ed7953"
            ],
            [
             0.7777777777777778,
             "#fb9f3a"
            ],
            [
             0.8888888888888888,
             "#fdca26"
            ],
            [
             1,
             "#f0f921"
            ]
           ],
           "sequentialminus": [
            [
             0,
             "#0d0887"
            ],
            [
             0.1111111111111111,
             "#46039f"
            ],
            [
             0.2222222222222222,
             "#7201a8"
            ],
            [
             0.3333333333333333,
             "#9c179e"
            ],
            [
             0.4444444444444444,
             "#bd3786"
            ],
            [
             0.5555555555555556,
             "#d8576b"
            ],
            [
             0.6666666666666666,
             "#ed7953"
            ],
            [
             0.7777777777777778,
             "#fb9f3a"
            ],
            [
             0.8888888888888888,
             "#fdca26"
            ],
            [
             1,
             "#f0f921"
            ]
           ]
          },
          "colorway": [
           "#636efa",
           "#EF553B",
           "#00cc96",
           "#ab63fa",
           "#FFA15A",
           "#19d3f3",
           "#FF6692",
           "#B6E880",
           "#FF97FF",
           "#FECB52"
          ],
          "font": {
           "color": "#2a3f5f"
          },
          "geo": {
           "bgcolor": "white",
           "lakecolor": "white",
           "landcolor": "#E5ECF6",
           "showlakes": true,
           "showland": true,
           "subunitcolor": "white"
          },
          "hoverlabel": {
           "align": "left"
          },
          "hovermode": "closest",
          "mapbox": {
           "style": "light"
          },
          "paper_bgcolor": "white",
          "plot_bgcolor": "#E5ECF6",
          "polar": {
           "angularaxis": {
            "gridcolor": "white",
            "linecolor": "white",
            "ticks": ""
           },
           "bgcolor": "#E5ECF6",
           "radialaxis": {
            "gridcolor": "white",
            "linecolor": "white",
            "ticks": ""
           }
          },
          "scene": {
           "xaxis": {
            "backgroundcolor": "#E5ECF6",
            "gridcolor": "white",
            "gridwidth": 2,
            "linecolor": "white",
            "showbackground": true,
            "ticks": "",
            "zerolinecolor": "white"
           },
           "yaxis": {
            "backgroundcolor": "#E5ECF6",
            "gridcolor": "white",
            "gridwidth": 2,
            "linecolor": "white",
            "showbackground": true,
            "ticks": "",
            "zerolinecolor": "white"
           },
           "zaxis": {
            "backgroundcolor": "#E5ECF6",
            "gridcolor": "white",
            "gridwidth": 2,
            "linecolor": "white",
            "showbackground": true,
            "ticks": "",
            "zerolinecolor": "white"
           }
          },
          "shapedefaults": {
           "line": {
            "color": "#2a3f5f"
           }
          },
          "ternary": {
           "aaxis": {
            "gridcolor": "white",
            "linecolor": "white",
            "ticks": ""
           },
           "baxis": {
            "gridcolor": "white",
            "linecolor": "white",
            "ticks": ""
           },
           "bgcolor": "#E5ECF6",
           "caxis": {
            "gridcolor": "white",
            "linecolor": "white",
            "ticks": ""
           }
          },
          "title": {
           "x": 0.05
          },
          "xaxis": {
           "automargin": true,
           "gridcolor": "white",
           "linecolor": "white",
           "ticks": "",
           "title": {
            "standoff": 15
           },
           "zerolinecolor": "white",
           "zerolinewidth": 2
          },
          "yaxis": {
           "automargin": true,
           "gridcolor": "white",
           "linecolor": "white",
           "ticks": "",
           "title": {
            "standoff": 15
           },
           "zerolinecolor": "white",
           "zerolinewidth": 2
          }
         }
        },
        "title": {
         "text": "График тикера SBER"
        },
        "width": 1000,
        "xaxis": {
         "anchor": "y",
         "domain": [
          0,
          1
         ],
         "matches": "x2",
         "rangeslider": {
          "visible": false
         },
         "showticklabels": false
        },
        "xaxis2": {
         "anchor": "y2",
         "domain": [
          0,
          1
         ]
        },
        "yaxis": {
         "anchor": "x",
         "domain": [
          0.41200000000000003,
          1
         ],
         "title": {
          "text": "Цена"
         }
        },
        "yaxis2": {
         "anchor": "x2",
         "domain": [
          0,
          0.392
         ],
         "title": {
          "text": "%Williams"
         }
        }
       }
      },
      "text/html": [
       "<div>\n",
       "        \n",
       "        \n",
       "            <div id=\"0c8383af-9b71-4f43-a6a9-a433f8c48e3b\" class=\"plotly-graph-div\" style=\"height:800px; width:1000px;\"></div>\n",
       "            <script type=\"text/javascript\">\n",
       "                require([\"plotly\"], function(Plotly) {\n",
       "                    window.PLOTLYENV=window.PLOTLYENV || {};\n",
       "                    \n",
       "                if (document.getElementById(\"0c8383af-9b71-4f43-a6a9-a433f8c48e3b\")) {\n",
       "                    Plotly.newPlot(\n",
       "                        '0c8383af-9b71-4f43-a6a9-a433f8c48e3b',\n",
       "                        [{\"close\": [241.05, 241.21, 241.45, 241.6, 246.2, 244.0, 244.71, 248.8, 248.67, 248.04, 248.24, 252.06, 254.75, 255.0, 253.9, 259.15, 257.99, 258.19, 262.4, 259.05, 256.31, 257.51, 262.5, 266.28, 268.06, 266.54, 263.73, 265.49, 255.32, 257.7, 259.94, 257.31, 252.2, 253.99, 255.4, 255.2, 252.11, 254.3, 252.26, 254.5, 254.5, 253.89, 251.75, 251.36, 249.2, 249.7, 250.15, 250.8, 245.19, 250.8, 242.88, 233.36, 228.17, 236.63, 235.27, 232.33, 219.99, 201.2, 194.53, 175.91, 198.6, 195.85, 184.01, 174.27, 189.51, 195.69, 183.37, 192.64, 188.08, 188.07, 180.38, 183.0, 187.21, 184.78, 186.95, 185.64, 190.7, 197.63, 200.29, 203.61, 201.99, 198.26, 197.37, 186.07, 188.5, 191.8, 189.32, 186.05, 190.2, 190.94, 188.91, 188.9, 192.8, 195.8, 197.25, 193.69, 194.75, 195.7, 195.51, 196.02], \"high\": [242.3, 243.25, 242.48, 242.96, 246.25, 248.4, 245.4, 249.19, 249.89, 249.3, 249.24, 252.95, 256.0, 258.19, 254.84, 259.15, 261.76, 259.25, 262.4, 263.22, 258.91, 259.51, 262.82, 266.97, 268.9, 270.8, 266.89, 267.5, 262.1, 258.84, 261.57, 258.69, 259.2, 254.96, 257.38, 257.66, 258.0, 254.3, 255.73, 259.77, 255.49, 255.18, 254.4, 253.1, 250.44, 250.68, 252.17, 251.49, 249.0, 251.21, 248.98, 239.0, 241.0, 239.0, 236.7, 238.72, 229.2, 212.74, 204.33, 187.87, 199.52, 196.7, 204.78, 182.2, 190.15, 201.86, 190.99, 195.0, 201.0, 191.2, 188.97, 183.2, 188.77, 185.47, 189.9, 187.49, 192.02, 200.54, 200.29, 205.44, 202.75, 202.16, 202.85, 196.25, 191.67, 192.7, 192.23, 187.5, 191.94, 192.5, 191.65, 190.5, 194.22, 195.8, 199.7, 195.68, 196.46, 197.23, 198.15, 196.25], \"low\": [240.09, 241.1, 240.13, 241.0, 240.36, 243.1, 243.72, 244.07, 247.27, 247.11, 246.71, 248.55, 250.73, 253.7, 251.4, 253.03, 257.01, 256.88, 257.15, 258.62, 254.21, 256.1, 257.75, 261.8, 263.02, 265.5, 262.24, 264.21, 255.32, 254.1, 257.61, 255.27, 252.17, 251.1, 252.9, 253.14, 251.86, 248.73, 252.07, 253.0, 252.31, 252.5, 251.4, 250.13, 247.57, 247.95, 249.13, 247.24, 245.17, 243.22, 242.0, 231.0, 218.86, 232.28, 232.62, 230.64, 216.67, 184.86, 192.05, 173.14, 174.3, 186.0, 183.8, 172.15, 173.06, 192.05, 182.1, 189.1, 182.32, 182.8, 180.17, 174.9, 184.25, 182.0, 182.0, 184.28, 186.42, 193.02, 195.12, 199.3, 200.7, 197.32, 196.1, 186.06, 183.53, 188.28, 187.31, 183.65, 184.5, 188.68, 187.7, 188.43, 188.17, 192.86, 195.46, 193.26, 194.0, 194.3, 195.06, 194.6], \"name\": \"SBER\", \"open\": [242.0, 242.0, 242.48, 241.8, 241.3, 246.2, 244.6, 244.71, 248.8, 248.99, 248.2, 248.55, 252.1, 255.99, 254.75, 253.57, 259.4, 257.86, 258.3, 262.5, 258.49, 257.11, 258.2, 263.2, 265.5, 268.72, 264.64, 264.5, 261.0, 257.0, 258.4, 258.0, 258.5, 251.8, 255.3, 255.89, 256.5, 253.1, 254.55, 253.75, 255.4, 253.62, 254.4, 252.5, 250.07, 250.37, 250.03, 248.35, 247.98, 244.75, 247.5, 235.0, 238.93, 233.0, 234.13, 237.0, 228.0, 197.99, 202.0, 185.15, 175.0, 194.0, 195.0, 179.0, 178.5, 198.62, 188.0, 193.3, 196.38, 187.69, 188.05, 177.0, 186.0, 183.2, 188.3, 186.6, 187.52, 193.02, 196.02, 202.4, 201.85, 202.0, 199.99, 196.0, 187.22, 192.5, 190.6, 185.54, 185.01, 191.99, 189.73, 189.98, 188.5, 194.46, 196.51, 195.68, 195.51, 195.0, 196.0, 196.0], \"type\": \"candlestick\", \"x\": [\"2019-12-12T00:00:00\", \"2019-12-13T00:00:00\", \"2019-12-16T00:00:00\", \"2019-12-17T00:00:00\", \"2019-12-18T00:00:00\", \"2019-12-19T00:00:00\", \"2019-12-20T00:00:00\", \"2019-12-23T00:00:00\", \"2019-12-24T00:00:00\", \"2019-12-25T00:00:00\", \"2019-12-26T00:00:00\", \"2019-12-27T00:00:00\", \"2019-12-30T00:00:00\", \"2020-01-03T00:00:00\", \"2020-01-06T00:00:00\", \"2020-01-08T00:00:00\", \"2020-01-09T00:00:00\", \"2020-01-10T00:00:00\", \"2020-01-13T00:00:00\", \"2020-01-14T00:00:00\", \"2020-01-15T00:00:00\", \"2020-01-16T00:00:00\", \"2020-01-17T00:00:00\", \"2020-01-20T00:00:00\", \"2020-01-21T00:00:00\", \"2020-01-22T00:00:00\", \"2020-01-23T00:00:00\", \"2020-01-24T00:00:00\", \"2020-01-27T00:00:00\", \"2020-01-28T00:00:00\", \"2020-01-29T00:00:00\", \"2020-01-30T00:00:00\", \"2020-01-31T00:00:00\", \"2020-02-03T00:00:00\", \"2020-02-04T00:00:00\", \"2020-02-05T00:00:00\", \"2020-02-06T00:00:00\", \"2020-02-07T00:00:00\", \"2020-02-10T00:00:00\", \"2020-02-11T00:00:00\", \"2020-02-12T00:00:00\", \"2020-02-13T00:00:00\", \"2020-02-14T00:00:00\", \"2020-02-17T00:00:00\", \"2020-02-18T00:00:00\", \"2020-02-19T00:00:00\", \"2020-02-20T00:00:00\", \"2020-02-21T00:00:00\", \"2020-02-25T00:00:00\", \"2020-02-26T00:00:00\", \"2020-02-27T00:00:00\", \"2020-02-28T00:00:00\", \"2020-03-02T00:00:00\", \"2020-03-03T00:00:00\", \"2020-03-04T00:00:00\", \"2020-03-05T00:00:00\", \"2020-03-06T00:00:00\", \"2020-03-10T00:00:00\", \"2020-03-11T00:00:00\", \"2020-03-12T00:00:00\", \"2020-03-13T00:00:00\", \"2020-03-16T00:00:00\", \"2020-03-17T00:00:00\", \"2020-03-18T00:00:00\", \"2020-03-19T00:00:00\", \"2020-03-20T00:00:00\", \"2020-03-23T00:00:00\", \"2020-03-24T00:00:00\", \"2020-03-25T00:00:00\", \"2020-03-26T00:00:00\", \"2020-03-27T00:00:00\", \"2020-03-30T00:00:00\", \"2020-03-31T00:00:00\", \"2020-04-01T00:00:00\", \"2020-04-02T00:00:00\", \"2020-04-03T00:00:00\", \"2020-04-06T00:00:00\", \"2020-04-07T00:00:00\", \"2020-04-08T00:00:00\", \"2020-04-09T00:00:00\", \"2020-04-10T00:00:00\", \"2020-04-13T00:00:00\", \"2020-04-14T00:00:00\", \"2020-04-15T00:00:00\", \"2020-04-16T00:00:00\", \"2020-04-17T00:00:00\", \"2020-04-20T00:00:00\", \"2020-04-21T00:00:00\", \"2020-04-22T00:00:00\", \"2020-04-23T00:00:00\", \"2020-04-24T00:00:00\", \"2020-04-27T00:00:00\", \"2020-04-28T00:00:00\", \"2020-04-29T00:00:00\", \"2020-04-30T00:00:00\", \"2020-05-04T00:00:00\", \"2020-05-05T00:00:00\", \"2020-05-06T00:00:00\", \"2020-05-07T00:00:00\", \"2020-05-08T00:00:00\"], \"xaxis\": \"x\", \"yaxis\": \"y\"}, {\"line\": {\"color\": \"red\"}, \"name\": \"MA_fast\", \"opacity\": 1, \"type\": \"scatter\", \"x\": [\"2019-12-12T00:00:00\", \"2019-12-13T00:00:00\", \"2019-12-16T00:00:00\", \"2019-12-17T00:00:00\", \"2019-12-18T00:00:00\", \"2019-12-19T00:00:00\", \"2019-12-20T00:00:00\", \"2019-12-23T00:00:00\", \"2019-12-24T00:00:00\", \"2019-12-25T00:00:00\", \"2019-12-26T00:00:00\", \"2019-12-27T00:00:00\", \"2019-12-30T00:00:00\", \"2020-01-03T00:00:00\", \"2020-01-06T00:00:00\", \"2020-01-08T00:00:00\", \"2020-01-09T00:00:00\", \"2020-01-10T00:00:00\", \"2020-01-13T00:00:00\", \"2020-01-14T00:00:00\", \"2020-01-15T00:00:00\", \"2020-01-16T00:00:00\", \"2020-01-17T00:00:00\", \"2020-01-20T00:00:00\", \"2020-01-21T00:00:00\", \"2020-01-22T00:00:00\", \"2020-01-23T00:00:00\", \"2020-01-24T00:00:00\", \"2020-01-27T00:00:00\", \"2020-01-28T00:00:00\", \"2020-01-29T00:00:00\", \"2020-01-30T00:00:00\", \"2020-01-31T00:00:00\", \"2020-02-03T00:00:00\", \"2020-02-04T00:00:00\", \"2020-02-05T00:00:00\", \"2020-02-06T00:00:00\", \"2020-02-07T00:00:00\", \"2020-02-10T00:00:00\", \"2020-02-11T00:00:00\", \"2020-02-12T00:00:00\", \"2020-02-13T00:00:00\", \"2020-02-14T00:00:00\", \"2020-02-17T00:00:00\", \"2020-02-18T00:00:00\", \"2020-02-19T00:00:00\", \"2020-02-20T00:00:00\", \"2020-02-21T00:00:00\", \"2020-02-25T00:00:00\", \"2020-02-26T00:00:00\", \"2020-02-27T00:00:00\", \"2020-02-28T00:00:00\", \"2020-03-02T00:00:00\", \"2020-03-03T00:00:00\", \"2020-03-04T00:00:00\", \"2020-03-05T00:00:00\", \"2020-03-06T00:00:00\", \"2020-03-10T00:00:00\", \"2020-03-11T00:00:00\", \"2020-03-12T00:00:00\", \"2020-03-13T00:00:00\", \"2020-03-16T00:00:00\", \"2020-03-17T00:00:00\", \"2020-03-18T00:00:00\", \"2020-03-19T00:00:00\", \"2020-03-20T00:00:00\", \"2020-03-23T00:00:00\", \"2020-03-24T00:00:00\", \"2020-03-25T00:00:00\", \"2020-03-26T00:00:00\", \"2020-03-27T00:00:00\", \"2020-03-30T00:00:00\", \"2020-03-31T00:00:00\", \"2020-04-01T00:00:00\", \"2020-04-02T00:00:00\", \"2020-04-03T00:00:00\", \"2020-04-06T00:00:00\", \"2020-04-07T00:00:00\", \"2020-04-08T00:00:00\", \"2020-04-09T00:00:00\", \"2020-04-10T00:00:00\", \"2020-04-13T00:00:00\", \"2020-04-14T00:00:00\", \"2020-04-15T00:00:00\", \"2020-04-16T00:00:00\", \"2020-04-17T00:00:00\", \"2020-04-20T00:00:00\", \"2020-04-21T00:00:00\", \"2020-04-22T00:00:00\", \"2020-04-23T00:00:00\", \"2020-04-24T00:00:00\", \"2020-04-27T00:00:00\", \"2020-04-28T00:00:00\", \"2020-04-29T00:00:00\", \"2020-04-30T00:00:00\", \"2020-05-04T00:00:00\", \"2020-05-05T00:00:00\", \"2020-05-06T00:00:00\", \"2020-05-07T00:00:00\", \"2020-05-08T00:00:00\"], \"xaxis\": \"x\", \"y\": [237.39178475313165, 238.2402770302135, 238.95354880127715, 239.54164906766002, 241.02128260818, 241.68321980636222, 242.35583762717062, 243.7878737100216, 244.87279066335012, 245.5766149603834, 246.16847830252044, 247.47770534640478, 249.0937708249815, 250.40626619720783, 251.1826514867172, 252.9531733785578, 254.07246818332274, 254.98747525369546, 256.63470297509645, 257.17143564729724, 256.9800055034534, 257.09778205824153, 258.2982749341879, 260.0719916154795, 261.8471045898174, 262.8899702365246, 263.07664351729693, 263.61294495789764, 261.77006830058707, 260.86560867823437, 260.65991786084896, 259.91549166954917, 258.2009379652049, 257.26517397293713, 256.85069086784, 256.4838706749867, 255.51189941387855, 255.24258843301666, 254.57979100345742, 254.56205966935576, 254.54826863172116, 254.4019867135609, 253.8126563327696, 253.26762159215414, 252.36370568278656, 251.77177108661178, 251.41137751180915, 251.27551584251822, 249.92317898862527, 250.1180281022641, 248.5095774128721, 245.14300465445606, 241.3712258423547, 240.3176200996092, 239.19592674414048, 237.6701652454426, 233.74123963534424, 226.50985304971218, 219.40321903866501, 209.73805925229502, 207.26293497400724, 204.72672720200563, 200.12301004600437, 194.37789670244786, 193.29614187968167, 193.8281103508635, 191.5040858284494, 191.75651119990508, 190.9395087110373, 190.30184010858457, 188.09698675112134, 186.96432302864991, 187.01891791117217, 186.52138059757834, 186.61662935367204, 186.3996006084116, 187.35524491765347, 189.63852382484157, 192.00551853043234, 194.58429219033627, 196.23000503692822, 196.68111502872193, 196.83420057789485, 194.44215600502932, 193.1216768928006, 192.8279709166227, 192.04842182403988, 190.71543919647547, 190.60089715281424, 190.67625334107774, 190.28375259861602, 189.9762520211458, 190.6037515720023, 191.75847344489068, 192.9788126793594, 193.13685430616843, 193.49533112701988, 193.98525754323768, 194.32408920029596, 194.70095826689686], \"yaxis\": \"y\"}, {\"line\": {\"color\": \"black\"}, \"name\": \"%Willams\", \"opacity\": 1, \"type\": \"scatter\", \"x\": [\"2019-12-12T00:00:00\", \"2019-12-13T00:00:00\", \"2019-12-16T00:00:00\", \"2019-12-17T00:00:00\", \"2019-12-18T00:00:00\", \"2019-12-19T00:00:00\", \"2019-12-20T00:00:00\", \"2019-12-23T00:00:00\", \"2019-12-24T00:00:00\", \"2019-12-25T00:00:00\", \"2019-12-26T00:00:00\", \"2019-12-27T00:00:00\", \"2019-12-30T00:00:00\", \"2020-01-03T00:00:00\", \"2020-01-06T00:00:00\", \"2020-01-08T00:00:00\", \"2020-01-09T00:00:00\", \"2020-01-10T00:00:00\", \"2020-01-13T00:00:00\", \"2020-01-14T00:00:00\", \"2020-01-15T00:00:00\", \"2020-01-16T00:00:00\", \"2020-01-17T00:00:00\", \"2020-01-20T00:00:00\", \"2020-01-21T00:00:00\", \"2020-01-22T00:00:00\", \"2020-01-23T00:00:00\", \"2020-01-24T00:00:00\", \"2020-01-27T00:00:00\", \"2020-01-28T00:00:00\", \"2020-01-29T00:00:00\", \"2020-01-30T00:00:00\", \"2020-01-31T00:00:00\", \"2020-02-03T00:00:00\", \"2020-02-04T00:00:00\", \"2020-02-05T00:00:00\", \"2020-02-06T00:00:00\", \"2020-02-07T00:00:00\", \"2020-02-10T00:00:00\", \"2020-02-11T00:00:00\", \"2020-02-12T00:00:00\", \"2020-02-13T00:00:00\", \"2020-02-14T00:00:00\", \"2020-02-17T00:00:00\", \"2020-02-18T00:00:00\", \"2020-02-19T00:00:00\", \"2020-02-20T00:00:00\", \"2020-02-21T00:00:00\", \"2020-02-25T00:00:00\", \"2020-02-26T00:00:00\", \"2020-02-27T00:00:00\", \"2020-02-28T00:00:00\", \"2020-03-02T00:00:00\", \"2020-03-03T00:00:00\", \"2020-03-04T00:00:00\", \"2020-03-05T00:00:00\", \"2020-03-06T00:00:00\", \"2020-03-10T00:00:00\", \"2020-03-11T00:00:00\", \"2020-03-12T00:00:00\", \"2020-03-13T00:00:00\", \"2020-03-16T00:00:00\", \"2020-03-17T00:00:00\", \"2020-03-18T00:00:00\", \"2020-03-19T00:00:00\", \"2020-03-20T00:00:00\", \"2020-03-23T00:00:00\", \"2020-03-24T00:00:00\", \"2020-03-25T00:00:00\", \"2020-03-26T00:00:00\", \"2020-03-27T00:00:00\", \"2020-03-30T00:00:00\", \"2020-03-31T00:00:00\", \"2020-04-01T00:00:00\", \"2020-04-02T00:00:00\", \"2020-04-03T00:00:00\", \"2020-04-06T00:00:00\", \"2020-04-07T00:00:00\", \"2020-04-08T00:00:00\", \"2020-04-09T00:00:00\", \"2020-04-10T00:00:00\", \"2020-04-13T00:00:00\", \"2020-04-14T00:00:00\", \"2020-04-15T00:00:00\", \"2020-04-16T00:00:00\", \"2020-04-17T00:00:00\", \"2020-04-20T00:00:00\", \"2020-04-21T00:00:00\", \"2020-04-22T00:00:00\", \"2020-04-23T00:00:00\", \"2020-04-24T00:00:00\", \"2020-04-27T00:00:00\", \"2020-04-28T00:00:00\", \"2020-04-29T00:00:00\", \"2020-04-30T00:00:00\", \"2020-05-04T00:00:00\", \"2020-05-05T00:00:00\", \"2020-05-06T00:00:00\", \"2020-05-07T00:00:00\", \"2020-05-08T00:00:00\"], \"xaxis\": \"x2\", \"y\": [-9.419743782969096, -14.34599156118138, -12.658227848101346, -14.102564102564166, -0.4184100418410997, -35.483870967741964, -34.48598130841114, -4.285714285714138, -12.5, -18.954918032786846, -17.313746065057522, -7.069102462271549, -9.689922480620151, -22.045611610228043, -30.382436260623162, -0.0, -25.049833887043096, -23.72093023255812, -0.0, -33.38670936749402, -58.46023688663293, -48.30795262267365, -7.065750736015951, -5.407523510972207, -5.718175629679896, -25.678119349005364, -42.61603375527421, -32.00723327305606, -100.0, -78.44311377245515, -65.0299401197605, -80.77844311377243, -99.83896940418678, -82.37804878048772, -73.78048780487799, -62.727272727272876, -90.3533906399234, -56.61993769470389, -66.28462273161412, -47.735507246376685, -47.735507246376685, -53.26086956521739, -72.64492753623178, -76.17753623188383, -86.63934426229511, -82.5409836065574, -78.85245901639333, -56.848484848484816, -99.8001998001997, -32.20035778175306, -92.0720720720721, -88.85214926783176, -72.05043530471336, -46.65265685980187, -49.70885688017162, -58.361669242658415, -90.38795599305148, -74.5165315034311, -82.77520484503029, -95.91806660772177, -61.34224111752201, -65.37053979871911, -83.42482464165903, -96.28396143733566, -57.23084503572312, -27.857799570946995, -65.61446521605883, -37.205026049647614, -51.179895801409714, -51.210542445602236, -72.2988892628745, -65.48611111111114, -54.33976261127597, -62.145593869731805, -53.83141762452112, -58.85057471264374, -7.7102803738319, -11.34945397815912, -0.975039001560063, -7.807167235494814, -14.718430034129646, -30.631399317406178, -38.13799621928164, -99.94840041279674, -77.31629392971246, -62.25467822911907, -73.57371063441354, -86.95652173913038, -65.47619047619052, -61.64596273291926, -57.70440251572331, -41.43947655398024, -13.434247871333854, -0.0, -15.264797507788106, -39.5394736842105, -41.24999999999991, -33.333333333333336, -36.3399826539462, -31.91673894189053], \"yaxis\": \"y2\"}, {\"line\": {\"color\": \"green\"}, \"name\": \"Reg_line_8: 10.0 deg\", \"opacity\": 1, \"type\": \"scatter\", \"x\": [\"2020-04-28T00:00:00\", \"2020-04-29T00:00:00\", \"2020-04-30T00:00:00\", \"2020-05-04T00:00:00\", \"2020-05-05T00:00:00\", \"2020-05-06T00:00:00\", \"2020-05-07T00:00:00\", \"2020-05-08T00:00:00\"], \"xaxis\": \"x\", \"y\": [194.46083333333323, 194.66916666666657, 194.8774999999999, 195.08583333333323, 195.29416666666657, 195.5024999999999, 195.71083333333326, 195.91916666666657], \"yaxis\": \"y\"}],\n",
       "                        {\"annotations\": [{\"showarrow\": true, \"text\": \"DivBar\", \"x\": \"2020-02-11T00:00:00\", \"xanchor\": \"left\", \"xref\": \"x\", \"y\": 259.77, \"yref\": \"y\"}, {\"showarrow\": true, \"text\": \"DivBar\", \"x\": \"2020-03-17T00:00:00\", \"xanchor\": \"left\", \"xref\": \"x\", \"y\": 204.78, \"yref\": \"y\"}, {\"showarrow\": true, \"text\": \"DivBar\", \"x\": \"2020-03-25T00:00:00\", \"xanchor\": \"left\", \"xref\": \"x\", \"y\": 201.0, \"yref\": \"y\"}, {\"showarrow\": true, \"text\": \"DivBar\", \"x\": \"2020-04-14T00:00:00\", \"xanchor\": \"left\", \"xref\": \"x\", \"y\": 202.85, \"yref\": \"y\"}, {\"showarrow\": true, \"text\": \"DivBar\", \"x\": \"2020-05-07T00:00:00\", \"xanchor\": \"left\", \"xref\": \"x\", \"y\": 198.15, \"yref\": \"y\"}], \"height\": 800, \"template\": {\"data\": {\"bar\": [{\"error_x\": {\"color\": \"#2a3f5f\"}, \"error_y\": {\"color\": \"#2a3f5f\"}, \"marker\": {\"line\": {\"color\": \"#E5ECF6\", \"width\": 0.5}}, \"type\": \"bar\"}], \"barpolar\": [{\"marker\": {\"line\": {\"color\": \"#E5ECF6\", \"width\": 0.5}}, \"type\": \"barpolar\"}], \"carpet\": [{\"aaxis\": {\"endlinecolor\": \"#2a3f5f\", \"gridcolor\": \"white\", \"linecolor\": \"white\", \"minorgridcolor\": \"white\", \"startlinecolor\": \"#2a3f5f\"}, \"baxis\": {\"endlinecolor\": \"#2a3f5f\", \"gridcolor\": \"white\", \"linecolor\": \"white\", \"minorgridcolor\": \"white\", \"startlinecolor\": \"#2a3f5f\"}, \"type\": \"carpet\"}], \"choropleth\": [{\"colorbar\": {\"outlinewidth\": 0, \"ticks\": \"\"}, \"type\": \"choropleth\"}], \"contour\": [{\"colorbar\": {\"outlinewidth\": 0, \"ticks\": \"\"}, \"colorscale\": [[0.0, \"#0d0887\"], [0.1111111111111111, \"#46039f\"], [0.2222222222222222, \"#7201a8\"], [0.3333333333333333, \"#9c179e\"], [0.4444444444444444, \"#bd3786\"], [0.5555555555555556, \"#d8576b\"], [0.6666666666666666, \"#ed7953\"], [0.7777777777777778, \"#fb9f3a\"], [0.8888888888888888, \"#fdca26\"], [1.0, \"#f0f921\"]], \"type\": \"contour\"}], \"contourcarpet\": [{\"colorbar\": {\"outlinewidth\": 0, \"ticks\": \"\"}, \"type\": \"contourcarpet\"}], \"heatmap\": [{\"colorbar\": {\"outlinewidth\": 0, \"ticks\": \"\"}, \"colorscale\": [[0.0, \"#0d0887\"], [0.1111111111111111, \"#46039f\"], [0.2222222222222222, \"#7201a8\"], [0.3333333333333333, \"#9c179e\"], [0.4444444444444444, \"#bd3786\"], [0.5555555555555556, \"#d8576b\"], [0.6666666666666666, \"#ed7953\"], [0.7777777777777778, \"#fb9f3a\"], [0.8888888888888888, \"#fdca26\"], [1.0, \"#f0f921\"]], \"type\": \"heatmap\"}], \"heatmapgl\": [{\"colorbar\": {\"outlinewidth\": 0, \"ticks\": \"\"}, \"colorscale\": [[0.0, \"#0d0887\"], [0.1111111111111111, \"#46039f\"], [0.2222222222222222, \"#7201a8\"], [0.3333333333333333, \"#9c179e\"], [0.4444444444444444, \"#bd3786\"], [0.5555555555555556, \"#d8576b\"], [0.6666666666666666, \"#ed7953\"], [0.7777777777777778, \"#fb9f3a\"], [0.8888888888888888, \"#fdca26\"], [1.0, \"#f0f921\"]], \"type\": \"heatmapgl\"}], \"histogram\": [{\"marker\": {\"colorbar\": {\"outlinewidth\": 0, \"ticks\": \"\"}}, \"type\": \"histogram\"}], \"histogram2d\": [{\"colorbar\": {\"outlinewidth\": 0, \"ticks\": \"\"}, \"colorscale\": [[0.0, \"#0d0887\"], [0.1111111111111111, \"#46039f\"], [0.2222222222222222, \"#7201a8\"], [0.3333333333333333, \"#9c179e\"], [0.4444444444444444, \"#bd3786\"], [0.5555555555555556, \"#d8576b\"], [0.6666666666666666, \"#ed7953\"], [0.7777777777777778, \"#fb9f3a\"], [0.8888888888888888, \"#fdca26\"], [1.0, \"#f0f921\"]], \"type\": \"histogram2d\"}], \"histogram2dcontour\": [{\"colorbar\": {\"outlinewidth\": 0, \"ticks\": \"\"}, \"colorscale\": [[0.0, \"#0d0887\"], [0.1111111111111111, \"#46039f\"], [0.2222222222222222, \"#7201a8\"], [0.3333333333333333, \"#9c179e\"], [0.4444444444444444, \"#bd3786\"], [0.5555555555555556, \"#d8576b\"], [0.6666666666666666, \"#ed7953\"], [0.7777777777777778, \"#fb9f3a\"], [0.8888888888888888, \"#fdca26\"], [1.0, \"#f0f921\"]], \"type\": \"histogram2dcontour\"}], \"mesh3d\": [{\"colorbar\": {\"outlinewidth\": 0, \"ticks\": \"\"}, \"type\": \"mesh3d\"}], \"parcoords\": [{\"line\": {\"colorbar\": {\"outlinewidth\": 0, \"ticks\": \"\"}}, \"type\": \"parcoords\"}], \"pie\": [{\"automargin\": true, \"type\": \"pie\"}], \"scatter\": [{\"marker\": {\"colorbar\": {\"outlinewidth\": 0, \"ticks\": \"\"}}, \"type\": \"scatter\"}], \"scatter3d\": [{\"line\": {\"colorbar\": {\"outlinewidth\": 0, \"ticks\": \"\"}}, \"marker\": {\"colorbar\": {\"outlinewidth\": 0, \"ticks\": \"\"}}, \"type\": \"scatter3d\"}], \"scattercarpet\": [{\"marker\": {\"colorbar\": {\"outlinewidth\": 0, \"ticks\": \"\"}}, \"type\": \"scattercarpet\"}], \"scattergeo\": [{\"marker\": {\"colorbar\": {\"outlinewidth\": 0, \"ticks\": \"\"}}, \"type\": \"scattergeo\"}], \"scattergl\": [{\"marker\": {\"colorbar\": {\"outlinewidth\": 0, \"ticks\": \"\"}}, \"type\": \"scattergl\"}], \"scattermapbox\": [{\"marker\": {\"colorbar\": {\"outlinewidth\": 0, \"ticks\": \"\"}}, \"type\": \"scattermapbox\"}], \"scatterpolar\": [{\"marker\": {\"colorbar\": {\"outlinewidth\": 0, \"ticks\": \"\"}}, \"type\": \"scatterpolar\"}], \"scatterpolargl\": [{\"marker\": {\"colorbar\": {\"outlinewidth\": 0, \"ticks\": \"\"}}, \"type\": \"scatterpolargl\"}], \"scatterternary\": [{\"marker\": {\"colorbar\": {\"outlinewidth\": 0, \"ticks\": \"\"}}, \"type\": \"scatterternary\"}], \"surface\": [{\"colorbar\": {\"outlinewidth\": 0, \"ticks\": \"\"}, \"colorscale\": [[0.0, \"#0d0887\"], [0.1111111111111111, \"#46039f\"], [0.2222222222222222, \"#7201a8\"], [0.3333333333333333, \"#9c179e\"], [0.4444444444444444, \"#bd3786\"], [0.5555555555555556, \"#d8576b\"], [0.6666666666666666, \"#ed7953\"], [0.7777777777777778, \"#fb9f3a\"], [0.8888888888888888, \"#fdca26\"], [1.0, \"#f0f921\"]], \"type\": \"surface\"}], \"table\": [{\"cells\": {\"fill\": {\"color\": \"#EBF0F8\"}, \"line\": {\"color\": \"white\"}}, \"header\": {\"fill\": {\"color\": \"#C8D4E3\"}, \"line\": {\"color\": \"white\"}}, \"type\": \"table\"}]}, \"layout\": {\"annotationdefaults\": {\"arrowcolor\": \"#2a3f5f\", \"arrowhead\": 0, \"arrowwidth\": 1}, \"coloraxis\": {\"colorbar\": {\"outlinewidth\": 0, \"ticks\": \"\"}}, \"colorscale\": {\"diverging\": [[0, \"#8e0152\"], [0.1, \"#c51b7d\"], [0.2, \"#de77ae\"], [0.3, \"#f1b6da\"], [0.4, \"#fde0ef\"], [0.5, \"#f7f7f7\"], [0.6, \"#e6f5d0\"], [0.7, \"#b8e186\"], [0.8, \"#7fbc41\"], [0.9, \"#4d9221\"], [1, \"#276419\"]], \"sequential\": [[0.0, \"#0d0887\"], [0.1111111111111111, \"#46039f\"], [0.2222222222222222, \"#7201a8\"], [0.3333333333333333, \"#9c179e\"], [0.4444444444444444, \"#bd3786\"], [0.5555555555555556, \"#d8576b\"], [0.6666666666666666, \"#ed7953\"], [0.7777777777777778, \"#fb9f3a\"], [0.8888888888888888, \"#fdca26\"], [1.0, \"#f0f921\"]], \"sequentialminus\": [[0.0, \"#0d0887\"], [0.1111111111111111, \"#46039f\"], [0.2222222222222222, \"#7201a8\"], [0.3333333333333333, \"#9c179e\"], [0.4444444444444444, \"#bd3786\"], [0.5555555555555556, \"#d8576b\"], [0.6666666666666666, \"#ed7953\"], [0.7777777777777778, \"#fb9f3a\"], [0.8888888888888888, \"#fdca26\"], [1.0, \"#f0f921\"]]}, \"colorway\": [\"#636efa\", \"#EF553B\", \"#00cc96\", \"#ab63fa\", \"#FFA15A\", \"#19d3f3\", \"#FF6692\", \"#B6E880\", \"#FF97FF\", \"#FECB52\"], \"font\": {\"color\": \"#2a3f5f\"}, \"geo\": {\"bgcolor\": \"white\", \"lakecolor\": \"white\", \"landcolor\": \"#E5ECF6\", \"showlakes\": true, \"showland\": true, \"subunitcolor\": \"white\"}, \"hoverlabel\": {\"align\": \"left\"}, \"hovermode\": \"closest\", \"mapbox\": {\"style\": \"light\"}, \"paper_bgcolor\": \"white\", \"plot_bgcolor\": \"#E5ECF6\", \"polar\": {\"angularaxis\": {\"gridcolor\": \"white\", \"linecolor\": \"white\", \"ticks\": \"\"}, \"bgcolor\": \"#E5ECF6\", \"radialaxis\": {\"gridcolor\": \"white\", \"linecolor\": \"white\", \"ticks\": \"\"}}, \"scene\": {\"xaxis\": {\"backgroundcolor\": \"#E5ECF6\", \"gridcolor\": \"white\", \"gridwidth\": 2, \"linecolor\": \"white\", \"showbackground\": true, \"ticks\": \"\", \"zerolinecolor\": \"white\"}, \"yaxis\": {\"backgroundcolor\": \"#E5ECF6\", \"gridcolor\": \"white\", \"gridwidth\": 2, \"linecolor\": \"white\", \"showbackground\": true, \"ticks\": \"\", \"zerolinecolor\": \"white\"}, \"zaxis\": {\"backgroundcolor\": \"#E5ECF6\", \"gridcolor\": \"white\", \"gridwidth\": 2, \"linecolor\": \"white\", \"showbackground\": true, \"ticks\": \"\", \"zerolinecolor\": \"white\"}}, \"shapedefaults\": {\"line\": {\"color\": \"#2a3f5f\"}}, \"ternary\": {\"aaxis\": {\"gridcolor\": \"white\", \"linecolor\": \"white\", \"ticks\": \"\"}, \"baxis\": {\"gridcolor\": \"white\", \"linecolor\": \"white\", \"ticks\": \"\"}, \"bgcolor\": \"#E5ECF6\", \"caxis\": {\"gridcolor\": \"white\", \"linecolor\": \"white\", \"ticks\": \"\"}}, \"title\": {\"x\": 0.05}, \"xaxis\": {\"automargin\": true, \"gridcolor\": \"white\", \"linecolor\": \"white\", \"ticks\": \"\", \"title\": {\"standoff\": 15}, \"zerolinecolor\": \"white\", \"zerolinewidth\": 2}, \"yaxis\": {\"automargin\": true, \"gridcolor\": \"white\", \"linecolor\": \"white\", \"ticks\": \"\", \"title\": {\"standoff\": 15}, \"zerolinecolor\": \"white\", \"zerolinewidth\": 2}}}, \"title\": {\"text\": \"\\u0413\\u0440\\u0430\\u0444\\u0438\\u043a \\u0442\\u0438\\u043a\\u0435\\u0440\\u0430 SBER\"}, \"width\": 1000, \"xaxis\": {\"anchor\": \"y\", \"domain\": [0.0, 1.0], \"matches\": \"x2\", \"rangeslider\": {\"visible\": false}, \"showticklabels\": false}, \"xaxis2\": {\"anchor\": \"y2\", \"domain\": [0.0, 1.0]}, \"yaxis\": {\"anchor\": \"x\", \"domain\": [0.41200000000000003, 1.0], \"title\": {\"text\": \"\\u0426\\u0435\\u043d\\u0430\"}}, \"yaxis2\": {\"anchor\": \"x2\", \"domain\": [0.0, 0.392], \"title\": {\"text\": \"%Williams\"}}},\n",
       "                        {\"responsive\": true}\n",
       "                    ).then(function(){\n",
       "                            \n",
       "var gd = document.getElementById('0c8383af-9b71-4f43-a6a9-a433f8c48e3b');\n",
       "var x = new MutationObserver(function (mutations, observer) {{\n",
       "        var display = window.getComputedStyle(gd).display;\n",
       "        if (!display || display === 'none') {{\n",
       "            console.log([gd, 'removed!']);\n",
       "            Plotly.purge(gd);\n",
       "            observer.disconnect();\n",
       "        }}\n",
       "}});\n",
       "\n",
       "// Listen for the removal of the full notebook cells\n",
       "var notebookContainer = gd.closest('#notebook-container');\n",
       "if (notebookContainer) {{\n",
       "    x.observe(notebookContainer, {childList: true});\n",
       "}}\n",
       "\n",
       "// Listen for the clearing of the current output cell\n",
       "var outputEl = gd.closest('.output');\n",
       "if (outputEl) {{\n",
       "    x.observe(outputEl, {childList: true});\n",
       "}}\n",
       "\n",
       "                        })\n",
       "                };\n",
       "                });\n",
       "            </script>\n",
       "        </div>"
      ]
     },
     "metadata": {},
     "output_type": "display_data"
    }
   ],
   "source": [
    "df_short_reg_8, df_short_ugol_8 = RegAngleLine(df_short.close, 8)\n",
    "fig = make_subplots(rows=2, cols=1, shared_xaxes=True, vertical_spacing=0.02, row_heights=[0.6, 0.4])\n",
    "\n",
    "fig.add_trace(go.Candlestick(x=df_short.index,\n",
    "                             open=df_short['open'],\n",
    "                             high=df_short['high'],\n",
    "                             low=df_short['low'],\n",
    "                             close=df_short['close'],\n",
    "                             name=ticker),\n",
    "              row=1, col=1)\n",
    "\n",
    "fig.add_trace(go.Scatter(\n",
    "                x=df_short.index,\n",
    "                y=df_short['MA_fast'],\n",
    "                name=\"MA_fast\",\n",
    "                line_color='red',\n",
    "                opacity=1),\n",
    "             row=1, col=1)\n",
    "\n",
    "fig.add_trace(go.Scatter(\n",
    "                x=df_short.index,\n",
    "                y=df_short['WILLR'],\n",
    "                name=\"%Willams\",\n",
    "                line_color='black',\n",
    "                opacity=1),\n",
    "             row=2, col=1)\n",
    "\n",
    "# ******************************\n",
    "if df_short_reg_8[-1] < df_short_reg_8[-2]:\n",
    "    reg_col = 'red'\n",
    "else:\n",
    "    reg_col = 'green'    \n",
    "fig.add_trace(go.Scatter(\n",
    "                x=df_short.index[-8:],\n",
    "                y=df_short_reg_8,\n",
    "                name=\"Reg_line_8: \" + str(round(df_short_ugol_8,0)) + ' deg',\n",
    "                line_color=reg_col,\n",
    "                opacity=1),\n",
    "             row=1, col=1)\n",
    "\n",
    "# ********************************\n",
    "# отмечаем интересные зоны на графике\n",
    "annotations = []\n",
    "for index, row in df_short[df_short['DivBar']<0].iterrows():\n",
    "    annotations.append(dict(x=index, y=row['high'], xref='x', yref='y',showarrow=True, xanchor='left', text='DivBar'))\n",
    "fig.update_layout(annotations=annotations[-5:])\n",
    "\n",
    "# ********************************\n",
    "# финальная настройка layout\n",
    "fig.update_yaxes(title_text=\"Цена\", row=1, col=1)\n",
    "fig.update_yaxes(title_text=\"%Williams\", row=2, col=1)\n",
    "fig.update_layout(height = 800, width=1000, title_text=\"График тикера \" + ticker, xaxis_rangeslider_visible=False)\n",
    "fig.show()"
   ]
  },
  {
   "cell_type": "code",
   "execution_count": 100,
   "metadata": {},
   "outputs": [],
   "source": [
    "def sig_DivBar(close, MA_slow, divbar):\n",
    "    d = pd.DataFrame()\n",
    "    d['close'] = close\n",
    "    d['MA_slow'] = MA_slow\n",
    "    d['divbar'] = divbar\n",
    "    d['sig_DivBar'] = 0\n",
    "    \n",
    "    i = 0\n",
    "    for index, row in d.iterrows():\n",
    "        if i < 26:\n",
    "            d.iloc[i, 3] = np.nan\n",
    "            i += 1\n",
    "            continue\n",
    "        # Расчет линии регрессии за последние 8 баров\n",
    "        z = np.polyfit(range(8), d.iloc[i-8:i, 0].values, 1)\n",
    "        p = np.poly1d(z)\n",
    "        df_short_reg_8 = p(range(8))\n",
    "\n",
    "        # Расчет линии регрессии за последние 8 баров\n",
    "        z = np.polyfit(range(8), d.iloc[i-8:i, 1], 1)\n",
    "        p = np.poly1d(z)\n",
    "        df_shortma_reg_8 = p(range(8))\n",
    "        \n",
    "        df_short_ugol_8 = np.rad2deg(np.arctan2(df_short_reg_8[-1] - df_short_reg_8[1], len(df_short_reg_8) - 1))\n",
    "        df_shortma_ugol_8 = np.rad2deg(np.arctan2(df_shortma_reg_8[-1] - df_shortma_reg_8[1], len(df_shortma_reg_8) - 1))\n",
    "        \n",
    "        if df_short_ugol_8 > 0 and df_short_ugol_8 > (df_shortma_ugol_8+3) and d.iloc[i, 2] < 0:\n",
    "            d.iloc[i, 3] = -1\n",
    "\n",
    "        if df_short_ugol_8 < 0 and df_short_ugol_8 < (df_shortma_ugol_8-3) and d.iloc[i, 2] > 0:\n",
    "            d.iloc[i, 3] = 1\n",
    "        i += 1\n",
    "        \n",
    "    return d.sig_DivBar\n",
    "\n",
    "df['sig_DivBar'] = sig_DivBar(df.close, df.MA_slow, df.DivBar)"
   ]
  },
  {
   "cell_type": "code",
   "execution_count": 101,
   "metadata": {},
   "outputs": [
    {
     "name": "stdout",
     "output_type": "stream",
     "text": [
      "df_short_ugol_8: 10.124671655397817\n",
      "df_shortma_ugol_8: 18.829562417172074\n"
     ]
    }
   ],
   "source": [
    "# Расчет линии регрессии за последние 8 баров\n",
    "z = np.polyfit(range(8), df_short.close[-8:], 1)\n",
    "p = np.poly1d(z)\n",
    "df_short_reg_8 = p(range(8))\n",
    "\n",
    "# Расчет линии регрессии за последние 8 баров\n",
    "z = np.polyfit(range(8), df_short.MA_slow[-8:], 1)\n",
    "p = np.poly1d(z)\n",
    "df_shortma_reg_8 = p(range(8))\n",
    "\n",
    "df_short_ugol_8 = np.rad2deg(np.arctan2(df_short_reg_8[-1] - df_short_reg_8[1], len(df_short_reg_8) - 1))\n",
    "df_shortma_ugol_8 = np.rad2deg(np.arctan2(df_shortma_reg_8[-1] - df_shortma_reg_8[1], len(df_shortma_reg_8) - 1))\n",
    "\n",
    "print('df_short_ugol_8: ' + str(df_short_ugol_8))\n",
    "print('df_shortma_ugol_8: ' + str(df_shortma_ugol_8))\n",
    "if df.sig_DivBar[-1] < 0:\n",
    "    print('!Есть дивергенция между ma и ценой. Нужен дивергентный бар')\n",
    "    print('!А вот и дергентный бар на продажу. Срочно стоп ордер по цене ' + str(df_short.low[-1]) + ' и стоп лоссом на ' + str(df_short.high[-1]))\n",
    "\n",
    "if df.sig_DivBar[-1] < 0:\n",
    "    print('!Есть дивергенция между ma и ценой. Нужен дивергентный бар')\n",
    "    print('!А вот и дергентный бар на покупку. Срочно стоп ордер по цене ' + str(df_short.high[-1]) + ' и стоп лоссом на ' + str(df_short.low[-1]))"
   ]
  },
  {
   "cell_type": "markdown",
   "metadata": {},
   "source": [
    "## Прорыв волатильности\n",
    "\n",
    "NR4/ID\n",
    "\n",
    "Спящий аллигатор"
   ]
  },
  {
   "cell_type": "code",
   "execution_count": null,
   "metadata": {},
   "outputs": [],
   "source": [
    "df_short_reg_35, df_short_ugol_35 = RegAngleLine(df_short.close, 35)\n",
    "\n",
    "fig = make_subplots(rows=2, cols=1, shared_xaxes=True, vertical_spacing=0.02, row_heights=[0.6, 0.4])\n",
    "\n",
    "fig.add_trace(go.Candlestick(x=df_short.index,\n",
    "                             open=df_short['open'],\n",
    "                             high=df_short['high'],\n",
    "                             low=df_short['low'],\n",
    "                             close=df_short['close'],\n",
    "                             name=ticker),\n",
    "              row=1, col=1)\n",
    "\n",
    "fig.add_trace(go.Scatter(\n",
    "                x=df_short.index,\n",
    "                y=df_short['MA_fast'],\n",
    "                name=\"MA_fast\",\n",
    "                line_color='red',\n",
    "                opacity=1),\n",
    "             row=1, col=1)\n",
    "\n",
    "fig.add_trace(go.Scatter(\n",
    "                x=df_short.index,\n",
    "                y=df_short['MA_slow'],\n",
    "                name=\"MA_slow\",\n",
    "                line_color='green',\n",
    "                opacity=1),\n",
    "             row=1, col=1)\n",
    "\n",
    "fig.add_trace(go.Scatter(\n",
    "                x=df_short.index,\n",
    "                y=df_short['upBB'],\n",
    "                name=\"upBB\",\n",
    "                line_color='blue',\n",
    "                opacity=0.5),\n",
    "             row=1, col=1)\n",
    "\n",
    "fig.add_trace(go.Scatter(\n",
    "                x=df_short.index,\n",
    "                y=df_short['lowBB'],\n",
    "                name=\"lowBB\",\n",
    "                line_color='blue',\n",
    "                opacity=0.5),\n",
    "             row=1, col=1)\n",
    "\n",
    "fig.add_trace(go.Bar(x=df_short.index,\n",
    "                         y=df_short.MACD,\n",
    "                         name=\"MACD\"), \n",
    "              row=2, col=1)\n",
    "\n",
    "# ******************************\n",
    "if df_short_reg_35[-1] < df_short_reg_35[-2]:\n",
    "    reg_col = 'red'\n",
    "else:\n",
    "    reg_col = 'green'    \n",
    "fig.add_trace(go.Scatter(\n",
    "                x=df_short.index[-35:],\n",
    "                y=df_short_reg_35,\n",
    "                name=\"Reg_line_35: \" + str(round(df_short_ugol_35,0)) + ' deg',\n",
    "                line_color=reg_col,\n",
    "                opacity=1),\n",
    "             row=1, col=1)\n",
    "\n",
    "\n",
    "# ********************************\n",
    "# финальная настройка layout\n",
    "fig.update_yaxes(title_text=\"Цена\", row=1, col=1)\n",
    "fig.update_yaxes(title_text=\"MACD\", row=2, col=1)\n",
    "fig.update_layout(height = 800, width=1000, title_text=\"График тикера \" + ticker, xaxis_rangeslider_visible=False)\n",
    "fig.show()"
   ]
  },
  {
   "cell_type": "code",
   "execution_count": 75,
   "metadata": {},
   "outputs": [],
   "source": [
    "def sig_NR4ID(high, low):\n",
    "    d = pd.DataFrame()\n",
    "    d['high'] = high\n",
    "    d['low'] = low\n",
    "    d['sig_NR4ID'] = 0\n",
    "    \n",
    "    i = 0\n",
    "    for index, row in d.iterrows():\n",
    "        if (d.iloc[i, 0] < d.iloc[i-1, 0] and d.iloc[i, 1] > d.iloc[i-1, 1]) and ((d.iloc[i, 0]-d.iloc[i, 1]) <= (d.iloc[i-4:i, 0]-d.iloc[i-4:i, 1]).min()):\n",
    "            d.iloc[i, 2] = 1\n",
    "        i += 1\n",
    "        \n",
    "    return d.sig_NR4ID\n",
    "\n",
    "def sig_breakVolatility(df_short_ugol_35, close, perc_var=0.1):\n",
    "    d = pd.DataFrame()\n",
    "    d['df_short_ugol_35'] = df_short_ugol_35\n",
    "    d['close'] = close\n",
    "    d['sig_breakVolatility'] = 0\n",
    "    \n",
    "    i = 0\n",
    "    for index, row in d.iterrows():\n",
    "        if (d.iloc[i, 0] > -12 and d.iloc[i, 0] < 12) and (np.var(d.iloc[i-15:i, 1]) < (d.iloc[i, 1] * perc_var)):\n",
    "            d.iloc[i, 2] = 1\n",
    "        i += 1\n",
    "        \n",
    "    return d.sig_breakVolatility   \n",
    "    \n",
    "df['sig_NR4ID'] = sig_NR4ID(df.high, df.low)\n",
    "df['sig_breakVolatility'] = sig_breakVolatility(df.regAngle_35, df.close)"
   ]
  },
  {
   "cell_type": "code",
   "execution_count": 77,
   "metadata": {},
   "outputs": [
    {
     "name": "stdout",
     "output_type": "stream",
     "text": [
      "Угол наклона линии регрессии: 11.102691206083486\n",
      "Направление линии регрессии почти горизонтальное.\n",
      "Дисперсия: 10.49912622222222\n",
      "Дисперсия меньше 10% текущей стоимости акции последние 15 баров\n",
      "!Ожидаем прорыв волатильности. Выставляем ордера на покупку и продажу по ценам 199.7 и 187.7 соответственно\n"
     ]
    }
   ],
   "source": [
    "print('Угол наклона линии регрессии: ' + str(df_short_ugol_35))\n",
    "if df_short_ugol_35 > -12 and df_short_ugol_35 < 12:\n",
    "    print('Направление линии регрессии почти горизонтальное.')\n",
    "\n",
    "print('Дисперсия: ' + str(np.var(df_short.close[-15:])))\n",
    "if np.var(df_short.close[-15:]) < (df_short.close[-1]*0.1):\n",
    "    print('Дисперсия меньше 10% текущей стоимости акции последние 15 баров')\n",
    "\n",
    "if df.sig_breakVolatility[-1]:\n",
    "    print('!Ожидаем прорыв волатильности. Выставляем ордера на покупку и продажу по ценам ' + str(df_short.high[-10:-1].max()) + ' и ' + str(df_short.low[-10:-1].min()) +' соответственно')\n",
    "    \n",
    "if df.sig_NR4ID[-1]:\n",
    "    print('!Текущий бар NR4/ID')"
   ]
  },
  {
   "cell_type": "markdown",
   "metadata": {},
   "source": [
    "## Сопровождение открытых позиций"
   ]
  }
 ],
 "metadata": {
  "kernelspec": {
   "display_name": "Python 3",
   "language": "python",
   "name": "python3"
  },
  "language_info": {
   "codemirror_mode": {
    "name": "ipython",
    "version": 3
   },
   "file_extension": ".py",
   "mimetype": "text/x-python",
   "name": "python",
   "nbconvert_exporter": "python",
   "pygments_lexer": "ipython3",
   "version": "3.7.4"
  }
 },
 "nbformat": 4,
 "nbformat_minor": 2
}
