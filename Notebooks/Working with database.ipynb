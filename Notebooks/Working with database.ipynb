{
 "cells": [
  {
   "cell_type": "markdown",
   "metadata": {},
   "source": [
    "## Database\n",
    "\n",
    "Цели для этого ноутбука:\n",
    "\n",
    "1. Выбрать СУБД и развернуть ее\n",
    "1. Выбрать необходимый инструментарий, для работы с СУБД\n",
    "1. Придумать базовую концепцию архитектуры данных и создать ее\n",
    "1. Научиться записывать информацию о тикерах и котировках в базу данных\n",
    "1. Получить данные селектом из СУБД в df"
   ]
  },
  {
   "cell_type": "code",
   "execution_count": 36,
   "outputs": [
    {
     "name": "stdout",
     "output_type": "stream",
     "text": [
      "['ЭТО', 'МАЛЕНЬКИЙ', 'ТЕКСТ', 'ОБИДНО']\n"
     ]
    }
   ],
   "source": [
    "a = [\"это\", \"маленький\", \"текст\", \"обидно\"]\n",
    "\n",
    "print( list(map(lambda x: x.upper(), a)) )"
   ],
   "metadata": {
    "collapsed": false,
    "pycharm": {
     "name": "#%%\n"
    }
   }
  }
 ],
 "metadata": {
  "kernelspec": {
   "display_name": "Python 3",
   "language": "python",
   "name": "python3"
  },
  "language_info": {
   "codemirror_mode": {
    "name": "ipython",
    "version": 3
   },
   "file_extension": ".py",
   "mimetype": "text/x-python",
   "name": "python",
   "nbconvert_exporter": "python",
   "pygments_lexer": "ipython3",
   "version": "3.7.4"
  }
 },
 "nbformat": 4,
 "nbformat_minor": 2
}