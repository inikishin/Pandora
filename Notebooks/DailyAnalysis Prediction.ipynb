{
 "cells": [
  {
   "cell_type": "markdown",
   "metadata": {},
   "source": [
    "Цель: предсказывать успешность сигналов, выдаваемых торговыми стратегиями.\n",
    "\n",
    "Задача: фильтруем со всех тикеров строки с успешными сигналами и предсказываем вероятность успеха. Используем для этого классификатор. Строится общая модель для всех тикеров, но отдельная для каждого из сигналов. Из фичей удаляются все, которые могут имень значения цены или их не нормализованные производные (MA, MACD, AO, AC)"
   ]
  },
  {
   "cell_type": "code",
   "execution_count": null,
   "metadata": {},
   "outputs": [],
   "source": []
  }
 ],
 "metadata": {
  "kernelspec": {
   "display_name": "Python 3",
   "language": "python",
   "name": "python3"
  },
  "language_info": {
   "codemirror_mode": {
    "name": "ipython",
    "version": 3
   },
   "file_extension": ".py",
   "mimetype": "text/x-python",
   "name": "python",
   "nbconvert_exporter": "python",
   "pygments_lexer": "ipython3",
   "version": "3.7.6"
  }
 },
 "nbformat": 4,
 "nbformat_minor": 4
}
